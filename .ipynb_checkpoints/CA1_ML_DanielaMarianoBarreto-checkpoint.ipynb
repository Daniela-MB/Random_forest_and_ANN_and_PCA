{
 "cells": [
  {
   "cell_type": "markdown",
   "id": "fe779a85",
   "metadata": {},
   "source": [
    "To start the EDA, I will import all the libraries I will use, such as Pandas, for functions and methods to manipulate the data in this library and Numpy to solve mathematical problems."
   ]
  },
  {
   "cell_type": "code",
   "execution_count": 1,
   "id": "bfd63721",
   "metadata": {},
   "outputs": [],
   "source": [
    "import pandas as pd\n",
    "import numpy as np\n",
    "import statistics as stats\n",
    "import matplotlib.pyplot as plt\n",
    "import seaborn as sns"
   ]
  },
  {
   "cell_type": "markdown",
   "id": "c69150c0",
   "metadata": {},
   "source": [
    "## Import dataset"
   ]
  },
  {
   "cell_type": "markdown",
   "id": "9e1c31c8",
   "metadata": {},
   "source": [
    "I used the 'pd.read_csv' method to access the file that I want to work with.\n",
    "The warning indicates that Pandas has encountered columns in the DataFrame where the data types are inconsistent throughout, meaning that both strings and numbers are within the same column. I will handle it during the cleaning process."
   ]
  },
  {
   "cell_type": "code",
   "execution_count": 2,
   "id": "eb98434a",
   "metadata": {},
   "outputs": [
    {
     "name": "stderr",
     "output_type": "stream",
     "text": [
      "C:\\Users\\danie\\AppData\\Local\\Temp\\ipykernel_46892\\1116616066.py:1: DtypeWarning: Columns (2,3,5,7,12,23,31,34) have mixed types. Specify dtype option on import or set low_memory=False.\n",
      "  df = pd.read_csv('2021VAERSDATA_.csv', encoding='ISO-8859-1')\n"
     ]
    }
   ],
   "source": [
    "df = pd.read_csv('2021VAERSDATA_.csv', encoding='ISO-8859-1')\n",
    "orig_df = df.copy()"
   ]
  },
  {
   "cell_type": "code",
   "execution_count": 3,
   "id": "c4dcccd7",
   "metadata": {
    "scrolled": true
   },
   "outputs": [
    {
     "data": {
      "text/html": [
       "<div>\n",
       "<style scoped>\n",
       "    .dataframe tbody tr th:only-of-type {\n",
       "        vertical-align: middle;\n",
       "    }\n",
       "\n",
       "    .dataframe tbody tr th {\n",
       "        vertical-align: top;\n",
       "    }\n",
       "\n",
       "    .dataframe thead th {\n",
       "        text-align: right;\n",
       "    }\n",
       "</style>\n",
       "<table border=\"1\" class=\"dataframe\">\n",
       "  <thead>\n",
       "    <tr style=\"text-align: right;\">\n",
       "      <th></th>\n",
       "      <th>VAERS_ID</th>\n",
       "      <th>RECVDATE</th>\n",
       "      <th>STATE</th>\n",
       "      <th>AGE_YRS</th>\n",
       "      <th>CAGE_YR</th>\n",
       "      <th>CAGE_MO</th>\n",
       "      <th>SEX</th>\n",
       "      <th>RPT_DATE</th>\n",
       "      <th>SYMPTOM_TEXT</th>\n",
       "      <th>DIED</th>\n",
       "      <th>...</th>\n",
       "      <th>CUR_ILL</th>\n",
       "      <th>HISTORY</th>\n",
       "      <th>PRIOR_VAX</th>\n",
       "      <th>SPLTTYPE</th>\n",
       "      <th>FORM_VERS</th>\n",
       "      <th>TODAYS_DATE</th>\n",
       "      <th>BIRTH_DEFECT</th>\n",
       "      <th>OFC_VISIT</th>\n",
       "      <th>ER_ED_VISIT</th>\n",
       "      <th>ALLERGIES</th>\n",
       "    </tr>\n",
       "  </thead>\n",
       "  <tbody>\n",
       "    <tr>\n",
       "      <th>0</th>\n",
       "      <td>916767</td>\n",
       "      <td>1/1/221</td>\n",
       "      <td>AK</td>\n",
       "      <td>54</td>\n",
       "      <td>54.0</td>\n",
       "      <td>NaN</td>\n",
       "      <td>F</td>\n",
       "      <td>NaN</td>\n",
       "      <td>Hypotension ticed 24 hours post injectionU  Ef...</td>\n",
       "      <td>NaN</td>\n",
       "      <td>...</td>\n",
       "      <td>NaN</td>\n",
       "      <td>HTN</td>\n",
       "      <td>NaN</td>\n",
       "      <td>NaN</td>\n",
       "      <td>2</td>\n",
       "      <td>1/1/221</td>\n",
       "      <td>NaN</td>\n",
       "      <td>NaN</td>\n",
       "      <td>NaN</td>\n",
       "      <td>ADVAIR, ASMAX, FORADIL, TRAMADOL</td>\n",
       "    </tr>\n",
       "    <tr>\n",
       "      <th>1</th>\n",
       "      <td>918694</td>\n",
       "      <td>1/1/221</td>\n",
       "      <td>AK</td>\n",
       "      <td>23</td>\n",
       "      <td>25.0</td>\n",
       "      <td>NaN</td>\n",
       "      <td>F</td>\n",
       "      <td>NaN</td>\n",
       "      <td>12/24/22  chills body aches headache, fever of...</td>\n",
       "      <td>NaN</td>\n",
       "      <td>...</td>\n",
       "      <td>NaN</td>\n",
       "      <td>NaN</td>\n",
       "      <td>NaN</td>\n",
       "      <td>NaN</td>\n",
       "      <td>2</td>\n",
       "      <td>NaN</td>\n",
       "      <td>NaN</td>\n",
       "      <td>NaN</td>\n",
       "      <td>Y</td>\n",
       "      <td>Altace</td>\n",
       "    </tr>\n",
       "    <tr>\n",
       "      <th>2</th>\n",
       "      <td>917613</td>\n",
       "      <td>1/2/221</td>\n",
       "      <td>AK</td>\n",
       "      <td>31</td>\n",
       "      <td>31.0</td>\n",
       "      <td>NaN</td>\n",
       "      <td>F</td>\n",
       "      <td>NaN</td>\n",
       "      <td>Fatigue, chills, pain at injection site radiat...</td>\n",
       "      <td>NaN</td>\n",
       "      <td>...</td>\n",
       "      <td>NaN</td>\n",
       "      <td>Asthma, adhd</td>\n",
       "      <td>Tetanus</td>\n",
       "      <td>NaN</td>\n",
       "      <td>2</td>\n",
       "      <td>1/2/221</td>\n",
       "      <td>NaN</td>\n",
       "      <td>NaN</td>\n",
       "      <td>NaN</td>\n",
       "      <td>Aspergillus</td>\n",
       "    </tr>\n",
       "    <tr>\n",
       "      <th>3</th>\n",
       "      <td>918693</td>\n",
       "      <td>1/2/221</td>\n",
       "      <td>AK</td>\n",
       "      <td>6</td>\n",
       "      <td>6.0</td>\n",
       "      <td>NaN</td>\n",
       "      <td>F</td>\n",
       "      <td>NaN</td>\n",
       "      <td>Starting at 1 am I ticed chills, body aches, v...</td>\n",
       "      <td>NaN</td>\n",
       "      <td>...</td>\n",
       "      <td>NaN</td>\n",
       "      <td>NaN</td>\n",
       "      <td>NaN</td>\n",
       "      <td>NaN</td>\n",
       "      <td>2</td>\n",
       "      <td>1/2/221</td>\n",
       "      <td>NaN</td>\n",
       "      <td>NaN</td>\n",
       "      <td>Y</td>\n",
       "      <td>Aspirin</td>\n",
       "    </tr>\n",
       "    <tr>\n",
       "      <th>4</th>\n",
       "      <td>91887</td>\n",
       "      <td>1/4/221</td>\n",
       "      <td>AK</td>\n",
       "      <td>49</td>\n",
       "      <td>49.0</td>\n",
       "      <td>NaN</td>\n",
       "      <td>M</td>\n",
       "      <td>NaN</td>\n",
       "      <td>Patient got his Covid vaccine this past Thursd...</td>\n",
       "      <td>NaN</td>\n",
       "      <td>...</td>\n",
       "      <td>NaN</td>\n",
       "      <td>Obesity, pre-diabetes</td>\n",
       "      <td>NaN</td>\n",
       "      <td>NaN</td>\n",
       "      <td>2</td>\n",
       "      <td>1/4/221</td>\n",
       "      <td>NaN</td>\n",
       "      <td>NaN</td>\n",
       "      <td>Y</td>\n",
       "      <td>Cephalosporin</td>\n",
       "    </tr>\n",
       "  </tbody>\n",
       "</table>\n",
       "<p>5 rows × 35 columns</p>\n",
       "</div>"
      ],
      "text/plain": [
       "   VAERS_ID RECVDATE STATE AGE_YRS  CAGE_YR CAGE_MO SEX RPT_DATE  \\\n",
       "0    916767  1/1/221    AK      54     54.0     NaN   F      NaN   \n",
       "1    918694  1/1/221    AK      23     25.0     NaN   F      NaN   \n",
       "2    917613  1/2/221    AK      31     31.0     NaN   F      NaN   \n",
       "3    918693  1/2/221    AK       6      6.0     NaN   F      NaN   \n",
       "4     91887  1/4/221    AK      49     49.0     NaN   M      NaN   \n",
       "\n",
       "                                        SYMPTOM_TEXT DIED  ... CUR_ILL  \\\n",
       "0  Hypotension ticed 24 hours post injectionU  Ef...  NaN  ...     NaN   \n",
       "1  12/24/22  chills body aches headache, fever of...  NaN  ...     NaN   \n",
       "2  Fatigue, chills, pain at injection site radiat...  NaN  ...     NaN   \n",
       "3  Starting at 1 am I ticed chills, body aches, v...  NaN  ...     NaN   \n",
       "4  Patient got his Covid vaccine this past Thursd...  NaN  ...     NaN   \n",
       "\n",
       "                 HISTORY PRIOR_VAX SPLTTYPE  FORM_VERS TODAYS_DATE  \\\n",
       "0                    HTN       NaN      NaN          2     1/1/221   \n",
       "1                    NaN       NaN      NaN          2         NaN   \n",
       "2           Asthma, adhd   Tetanus      NaN          2     1/2/221   \n",
       "3                    NaN       NaN      NaN          2     1/2/221   \n",
       "4  Obesity, pre-diabetes       NaN      NaN          2     1/4/221   \n",
       "\n",
       "  BIRTH_DEFECT OFC_VISIT ER_ED_VISIT                         ALLERGIES  \n",
       "0          NaN       NaN         NaN  ADVAIR, ASMAX, FORADIL, TRAMADOL  \n",
       "1          NaN       NaN           Y                            Altace  \n",
       "2          NaN       NaN         NaN                       Aspergillus  \n",
       "3          NaN       NaN           Y                           Aspirin  \n",
       "4          NaN       NaN           Y                     Cephalosporin  \n",
       "\n",
       "[5 rows x 35 columns]"
      ]
     },
     "execution_count": 3,
     "metadata": {},
     "output_type": "execute_result"
    }
   ],
   "source": [
    "df.head()"
   ]
  },
  {
   "cell_type": "markdown",
   "id": "5cb95373",
   "metadata": {},
   "source": [
    "I used the method df.shape to have an idea of the dataset size. And I found that this dataset has 34121 rows and 35 columns."
   ]
  },
  {
   "cell_type": "code",
   "execution_count": 4,
   "id": "611f99da",
   "metadata": {},
   "outputs": [
    {
     "data": {
      "text/plain": [
       "(34121, 35)"
      ]
     },
     "execution_count": 4,
     "metadata": {},
     "output_type": "execute_result"
    }
   ],
   "source": [
    "df.shape"
   ]
  },
  {
   "cell_type": "markdown",
   "id": "f5c4f5d4",
   "metadata": {},
   "source": [
    "With the describe() method, I can see that in this dataset, there is only a skewed distribution in two columns ('HOSPDAYS' and 'NUMDAYS') by comparing the values of mean and median (50% value). The other columns are normally distributed. Thus, I will start the cleaning process, but first, I will select the principal features that can be useful to anwser the project questions. "
   ]
  },
  {
   "cell_type": "code",
   "execution_count": 5,
   "id": "284ec2c6",
   "metadata": {},
   "outputs": [
    {
     "data": {
      "text/html": [
       "<div>\n",
       "<style scoped>\n",
       "    .dataframe tbody tr th:only-of-type {\n",
       "        vertical-align: middle;\n",
       "    }\n",
       "\n",
       "    .dataframe tbody tr th {\n",
       "        vertical-align: top;\n",
       "    }\n",
       "\n",
       "    .dataframe thead th {\n",
       "        text-align: right;\n",
       "    }\n",
       "</style>\n",
       "<table border=\"1\" class=\"dataframe\">\n",
       "  <thead>\n",
       "    <tr style=\"text-align: right;\">\n",
       "      <th></th>\n",
       "      <th>VAERS_ID</th>\n",
       "      <th>CAGE_YR</th>\n",
       "      <th>HOSPDAYS</th>\n",
       "      <th>NUMDAYS</th>\n",
       "      <th>FORM_VERS</th>\n",
       "    </tr>\n",
       "  </thead>\n",
       "  <tbody>\n",
       "    <tr>\n",
       "      <th>count</th>\n",
       "      <td>3.412100e+04</td>\n",
       "      <td>26716.000000</td>\n",
       "      <td>2857.000000</td>\n",
       "      <td>17738.000000</td>\n",
       "      <td>34121.000000</td>\n",
       "    </tr>\n",
       "    <tr>\n",
       "      <th>mean</th>\n",
       "      <td>4.236210e+05</td>\n",
       "      <td>46.290800</td>\n",
       "      <td>3.554428</td>\n",
       "      <td>29.728267</td>\n",
       "      <td>1.998124</td>\n",
       "    </tr>\n",
       "    <tr>\n",
       "      <th>std</th>\n",
       "      <td>4.146203e+05</td>\n",
       "      <td>22.466735</td>\n",
       "      <td>3.671364</td>\n",
       "      <td>768.794004</td>\n",
       "      <td>0.043269</td>\n",
       "    </tr>\n",
       "    <tr>\n",
       "      <th>min</th>\n",
       "      <td>1.000000e+00</td>\n",
       "      <td>1.000000</td>\n",
       "      <td>1.000000</td>\n",
       "      <td>1.000000</td>\n",
       "      <td>1.000000</td>\n",
       "    </tr>\n",
       "    <tr>\n",
       "      <th>25%</th>\n",
       "      <td>9.265500e+04</td>\n",
       "      <td>32.000000</td>\n",
       "      <td>1.000000</td>\n",
       "      <td>1.000000</td>\n",
       "      <td>2.000000</td>\n",
       "    </tr>\n",
       "    <tr>\n",
       "      <th>50%</th>\n",
       "      <td>1.517760e+05</td>\n",
       "      <td>46.000000</td>\n",
       "      <td>2.000000</td>\n",
       "      <td>2.000000</td>\n",
       "      <td>2.000000</td>\n",
       "    </tr>\n",
       "    <tr>\n",
       "      <th>75%</th>\n",
       "      <td>9.253510e+05</td>\n",
       "      <td>62.000000</td>\n",
       "      <td>4.000000</td>\n",
       "      <td>7.000000</td>\n",
       "      <td>2.000000</td>\n",
       "    </tr>\n",
       "    <tr>\n",
       "      <th>max</th>\n",
       "      <td>1.115348e+06</td>\n",
       "      <td>99.000000</td>\n",
       "      <td>39.000000</td>\n",
       "      <td>36896.000000</td>\n",
       "      <td>2.000000</td>\n",
       "    </tr>\n",
       "  </tbody>\n",
       "</table>\n",
       "</div>"
      ],
      "text/plain": [
       "           VAERS_ID       CAGE_YR     HOSPDAYS       NUMDAYS     FORM_VERS\n",
       "count  3.412100e+04  26716.000000  2857.000000  17738.000000  34121.000000\n",
       "mean   4.236210e+05     46.290800     3.554428     29.728267      1.998124\n",
       "std    4.146203e+05     22.466735     3.671364    768.794004      0.043269\n",
       "min    1.000000e+00      1.000000     1.000000      1.000000      1.000000\n",
       "25%    9.265500e+04     32.000000     1.000000      1.000000      2.000000\n",
       "50%    1.517760e+05     46.000000     2.000000      2.000000      2.000000\n",
       "75%    9.253510e+05     62.000000     4.000000      7.000000      2.000000\n",
       "max    1.115348e+06     99.000000    39.000000  36896.000000      2.000000"
      ]
     },
     "execution_count": 5,
     "metadata": {},
     "output_type": "execute_result"
    }
   ],
   "source": [
    "df.describe()"
   ]
  },
  {
   "cell_type": "markdown",
   "id": "f1a96f5a",
   "metadata": {},
   "source": [
    "## Cleaning data"
   ]
  },
  {
   "cell_type": "markdown",
   "id": "927d2c7d",
   "metadata": {},
   "source": [
    "To start the cleaning process, I will use the method df.info() because it provides a quick overview of the structure and some basic information about the DataFrame, like data type and if there are missing values. In this case, the dataset presents all the values (no missing values). "
   ]
  },
  {
   "cell_type": "code",
   "execution_count": 6,
   "id": "9700b663",
   "metadata": {},
   "outputs": [
    {
     "name": "stdout",
     "output_type": "stream",
     "text": [
      "<class 'pandas.core.frame.DataFrame'>\n",
      "RangeIndex: 34121 entries, 0 to 34120\n",
      "Data columns (total 35 columns):\n",
      " #   Column        Non-Null Count  Dtype  \n",
      "---  ------        --------------  -----  \n",
      " 0   VAERS_ID      34121 non-null  int64  \n",
      " 1   RECVDATE      34121 non-null  object \n",
      " 2   STATE         28550 non-null  object \n",
      " 3   AGE_YRS       30932 non-null  object \n",
      " 4   CAGE_YR       26716 non-null  float64\n",
      " 5   CAGE_MO       18 non-null     object \n",
      " 6   SEX           34121 non-null  object \n",
      " 7   RPT_DATE      63 non-null     object \n",
      " 8   SYMPTOM_TEXT  34107 non-null  object \n",
      " 9   DIED          1957 non-null   object \n",
      " 10  DATEDIED      1798 non-null   object \n",
      " 11  L_THREAT      1259 non-null   object \n",
      " 12  ER_VISIT      11 non-null     object \n",
      " 13  HOSPITAL      4387 non-null   object \n",
      " 14  HOSPDAYS      2857 non-null   float64\n",
      " 15  X_STAY        52 non-null     object \n",
      " 16  DISABLE       870 non-null    object \n",
      " 17  RECOVD        31264 non-null  object \n",
      " 18  VAX_DATE      32622 non-null  object \n",
      " 19  ONSET_DATE    32258 non-null  object \n",
      " 20  NUMDAYS       17738 non-null  float64\n",
      " 21  LAB_DATA      9972 non-null   object \n",
      " 22  V_ADMINBY     34121 non-null  object \n",
      " 23  V_FUNDBY      64 non-null     object \n",
      " 24  OTHER_MEDS    17441 non-null  object \n",
      " 25  CUR_ILL       5923 non-null   object \n",
      " 26  HISTORY       17283 non-null  object \n",
      " 27  PRIOR_VAX     1434 non-null   object \n",
      " 28  SPLTTYPE      8220 non-null   object \n",
      " 29  FORM_VERS     34121 non-null  int64  \n",
      " 30  TODAYS_DATE   33922 non-null  object \n",
      " 31  BIRTH_DEFECT  51 non-null     object \n",
      " 32  OFC_VISIT     5404 non-null   object \n",
      " 33  ER_ED_VISIT   5529 non-null   object \n",
      " 34  ALLERGIES     13076 non-null  object \n",
      "dtypes: float64(3), int64(2), object(30)\n",
      "memory usage: 9.1+ MB\n"
     ]
    }
   ],
   "source": [
    "df.info()"
   ]
  },
  {
   "cell_type": "markdown",
   "id": "b3908ebb",
   "metadata": {},
   "source": [
    "The method below returns True where there is a NaN (Not a Number) value and False otherwise to indicate the presence of missing values. \n",
    "\n",
    "The data use guide (Vaccine Adverse Event Reporting System - VAERS) contains essential information about this dataset, like how it was created and filled, for example, in the 'DIED' column, where they used the letter \"Y\" to indicate that the patient dies and otherwise the field will be blank. Thus, that is the reason why there is NaN in this dataset. In this case, I will transform the NaN in zeros to represent the absence of occurrence.\n",
    "\n",
    "Example of data use guide: DIED - If the vaccine recipient died a \"Y\" is used; otherwise the field will be blank."
   ]
  },
  {
   "cell_type": "code",
   "execution_count": 7,
   "id": "33abacc2",
   "metadata": {},
   "outputs": [
    {
     "data": {
      "text/plain": [
       "VAERS_ID            0\n",
       "RECVDATE            0\n",
       "STATE            5571\n",
       "AGE_YRS          3189\n",
       "CAGE_YR          7405\n",
       "CAGE_MO         34103\n",
       "SEX                 0\n",
       "RPT_DATE        34058\n",
       "SYMPTOM_TEXT       14\n",
       "DIED            32164\n",
       "DATEDIED        32323\n",
       "L_THREAT        32862\n",
       "ER_VISIT        34110\n",
       "HOSPITAL        29734\n",
       "HOSPDAYS        31264\n",
       "X_STAY          34069\n",
       "DISABLE         33251\n",
       "RECOVD           2857\n",
       "VAX_DATE         1499\n",
       "ONSET_DATE       1863\n",
       "NUMDAYS         16383\n",
       "LAB_DATA        24149\n",
       "V_ADMINBY           0\n",
       "V_FUNDBY        34057\n",
       "OTHER_MEDS      16680\n",
       "CUR_ILL         28198\n",
       "HISTORY         16838\n",
       "PRIOR_VAX       32687\n",
       "SPLTTYPE        25901\n",
       "FORM_VERS           0\n",
       "TODAYS_DATE       199\n",
       "BIRTH_DEFECT    34070\n",
       "OFC_VISIT       28717\n",
       "ER_ED_VISIT     28592\n",
       "ALLERGIES       21045\n",
       "dtype: int64"
      ]
     },
     "execution_count": 7,
     "metadata": {},
     "output_type": "execute_result"
    }
   ],
   "source": [
    "df.isnull().sum()"
   ]
  },
  {
   "cell_type": "markdown",
   "id": "6ee041bf",
   "metadata": {},
   "source": [
    "As this dataset is vast, I will use the .value_counts() function in the 'STATE' column to know how many records are in each category and focus on one State that satisfies the minimum requirement of the project. Then, I will create a subset with this category. \n",
    "\n",
    "This code showed me that I can use the CA State alone or enjoy more than one. I prefer to work with the CA because it is a cosmopolitan place with people from different ethnicities, which may reduce the probability of bias."
   ]
  },
  {
   "cell_type": "code",
   "execution_count": 8,
   "id": "060a63d0",
   "metadata": {},
   "outputs": [
    {
     "name": "stdout",
     "output_type": "stream",
     "text": [
      "CA    2577\n",
      "TX    1807\n",
      "NY    1783\n",
      "FL    1654\n",
      "IN    1142\n",
      "IL    1135\n",
      "OH    1072\n",
      "PA    1012\n",
      "MI     921\n",
      "MA     842\n",
      "NJ     836\n",
      "NC     752\n",
      "VA     727\n",
      "MD     693\n",
      "AZ     659\n",
      "WI     649\n",
      "WA     630\n",
      "GA     628\n",
      "CO     617\n",
      "MN     604\n",
      "MO     556\n",
      "TN     526\n",
      "CT     524\n",
      "KY     443\n",
      "OR     363\n",
      "IA     336\n",
      "OK     333\n",
      "LA     317\n",
      "AL     295\n",
      "KS     295\n",
      "SC     286\n",
      "AR     266\n",
      "NE     263\n",
      "MT     262\n",
      "ME     235\n",
      "NM     229\n",
      "UT     229\n",
      "WV     220\n",
      "NH     203\n",
      "NV     197\n",
      "PR     195\n",
      "AK     167\n",
      "ID     157\n",
      "MS     150\n",
      "HI     134\n",
      "SD     116\n",
      "RI     112\n",
      "VT     105\n",
      "ND     101\n",
      "DE      66\n",
      "DC      55\n",
      "WY      53\n",
      "GU       7\n",
      "VI       4\n",
      "MP       3\n",
      "AS       3\n",
      "MH       1\n",
      "FM       1\n",
      "Ca       1\n",
      "XB       1\n",
      "Name: STATE, dtype: int64\n"
     ]
    }
   ],
   "source": [
    "category_counts = df['STATE'].value_counts()\n",
    "print(category_counts)"
   ]
  },
  {
   "cell_type": "markdown",
   "id": "1642f1e3",
   "metadata": {},
   "source": [
    "Below, I will create the subset with the CA category and work with it from now on. This subset will be named as 'df1'."
   ]
  },
  {
   "cell_type": "code",
   "execution_count": 9,
   "id": "b00af18a",
   "metadata": {},
   "outputs": [
    {
     "data": {
      "text/html": [
       "<div>\n",
       "<style scoped>\n",
       "    .dataframe tbody tr th:only-of-type {\n",
       "        vertical-align: middle;\n",
       "    }\n",
       "\n",
       "    .dataframe tbody tr th {\n",
       "        vertical-align: top;\n",
       "    }\n",
       "\n",
       "    .dataframe thead th {\n",
       "        text-align: right;\n",
       "    }\n",
       "</style>\n",
       "<table border=\"1\" class=\"dataframe\">\n",
       "  <thead>\n",
       "    <tr style=\"text-align: right;\">\n",
       "      <th></th>\n",
       "      <th>VAERS_ID</th>\n",
       "      <th>RECVDATE</th>\n",
       "      <th>STATE</th>\n",
       "      <th>AGE_YRS</th>\n",
       "      <th>CAGE_YR</th>\n",
       "      <th>CAGE_MO</th>\n",
       "      <th>SEX</th>\n",
       "      <th>RPT_DATE</th>\n",
       "      <th>SYMPTOM_TEXT</th>\n",
       "      <th>DIED</th>\n",
       "      <th>...</th>\n",
       "      <th>CUR_ILL</th>\n",
       "      <th>HISTORY</th>\n",
       "      <th>PRIOR_VAX</th>\n",
       "      <th>SPLTTYPE</th>\n",
       "      <th>FORM_VERS</th>\n",
       "      <th>TODAYS_DATE</th>\n",
       "      <th>BIRTH_DEFECT</th>\n",
       "      <th>OFC_VISIT</th>\n",
       "      <th>ER_ED_VISIT</th>\n",
       "      <th>ALLERGIES</th>\n",
       "    </tr>\n",
       "  </thead>\n",
       "  <tbody>\n",
       "    <tr>\n",
       "      <th>1390</th>\n",
       "      <td>91661</td>\n",
       "      <td>1/1/221</td>\n",
       "      <td>CA</td>\n",
       "      <td>73</td>\n",
       "      <td>73.0</td>\n",
       "      <td>NaN</td>\n",
       "      <td>F</td>\n",
       "      <td>NaN</td>\n",
       "      <td>Approximately 3 min post vaccition administrat...</td>\n",
       "      <td>NaN</td>\n",
       "      <td>...</td>\n",
       "      <td>U</td>\n",
       "      <td>U</td>\n",
       "      <td>NaN</td>\n",
       "      <td>NaN</td>\n",
       "      <td>2</td>\n",
       "      <td>1/1/221</td>\n",
       "      <td>NaN</td>\n",
       "      <td>Y</td>\n",
       "      <td>NaN</td>\n",
       "      <td>NaN</td>\n",
       "    </tr>\n",
       "    <tr>\n",
       "      <th>1391</th>\n",
       "      <td>916613</td>\n",
       "      <td>1/1/221</td>\n",
       "      <td>CA</td>\n",
       "      <td>4</td>\n",
       "      <td>4.0</td>\n",
       "      <td>NaN</td>\n",
       "      <td>F</td>\n",
       "      <td>NaN</td>\n",
       "      <td>On 12/3/22 I got a pain in the stomach as if s...</td>\n",
       "      <td>NaN</td>\n",
       "      <td>...</td>\n",
       "      <td>NaN</td>\n",
       "      <td>NaN</td>\n",
       "      <td>NaN</td>\n",
       "      <td>NaN</td>\n",
       "      <td>2</td>\n",
       "      <td>1/1/221</td>\n",
       "      <td>NaN</td>\n",
       "      <td>NaN</td>\n",
       "      <td>NaN</td>\n",
       "      <td>Y</td>\n",
       "    </tr>\n",
       "    <tr>\n",
       "      <th>1392</th>\n",
       "      <td>916617</td>\n",
       "      <td>1/1/221</td>\n",
       "      <td>CA</td>\n",
       "      <td>35</td>\n",
       "      <td>35.0</td>\n",
       "      <td>NaN</td>\n",
       "      <td>F</td>\n",
       "      <td>NaN</td>\n",
       "      <td>Dizziness, chills, fever, muscle aches, pain a...</td>\n",
       "      <td>NaN</td>\n",
       "      <td>...</td>\n",
       "      <td>NaN</td>\n",
       "      <td>Y</td>\n",
       "      <td>NaN</td>\n",
       "      <td>NaN</td>\n",
       "      <td>2</td>\n",
       "      <td>1/1/221</td>\n",
       "      <td>NaN</td>\n",
       "      <td>NaN</td>\n",
       "      <td>NaN</td>\n",
       "      <td>Y</td>\n",
       "    </tr>\n",
       "    <tr>\n",
       "      <th>1393</th>\n",
       "      <td>916621</td>\n",
       "      <td>1/1/221</td>\n",
       "      <td>CA</td>\n",
       "      <td>25</td>\n",
       "      <td>25.0</td>\n",
       "      <td>NaN</td>\n",
       "      <td>F</td>\n",
       "      <td>NaN</td>\n",
       "      <td>Fatigue - 2 hours priorU Muscle aches/pain - 3...</td>\n",
       "      <td>NaN</td>\n",
       "      <td>...</td>\n",
       "      <td>NaN</td>\n",
       "      <td>U</td>\n",
       "      <td>NaN</td>\n",
       "      <td>NaN</td>\n",
       "      <td>2</td>\n",
       "      <td>1/1/221</td>\n",
       "      <td>NaN</td>\n",
       "      <td>NaN</td>\n",
       "      <td>NaN</td>\n",
       "      <td>Y</td>\n",
       "    </tr>\n",
       "    <tr>\n",
       "      <th>1394</th>\n",
       "      <td>91669</td>\n",
       "      <td>1/1/221</td>\n",
       "      <td>CA</td>\n",
       "      <td>37</td>\n",
       "      <td>37.0</td>\n",
       "      <td>NaN</td>\n",
       "      <td>M</td>\n",
       "      <td>NaN</td>\n",
       "      <td>Typical sore arm similar to flu shotU Followin...</td>\n",
       "      <td>NaN</td>\n",
       "      <td>...</td>\n",
       "      <td>NaN</td>\n",
       "      <td>NaN</td>\n",
       "      <td>NaN</td>\n",
       "      <td>NaN</td>\n",
       "      <td>2</td>\n",
       "      <td>1/1/221</td>\n",
       "      <td>NaN</td>\n",
       "      <td>NaN</td>\n",
       "      <td>NaN</td>\n",
       "      <td>Y</td>\n",
       "    </tr>\n",
       "  </tbody>\n",
       "</table>\n",
       "<p>5 rows × 35 columns</p>\n",
       "</div>"
      ],
      "text/plain": [
       "      VAERS_ID RECVDATE STATE AGE_YRS  CAGE_YR CAGE_MO SEX RPT_DATE  \\\n",
       "1390     91661  1/1/221    CA      73     73.0     NaN   F      NaN   \n",
       "1391    916613  1/1/221    CA       4      4.0     NaN   F      NaN   \n",
       "1392    916617  1/1/221    CA      35     35.0     NaN   F      NaN   \n",
       "1393    916621  1/1/221    CA      25     25.0     NaN   F      NaN   \n",
       "1394     91669  1/1/221    CA      37     37.0     NaN   M      NaN   \n",
       "\n",
       "                                           SYMPTOM_TEXT DIED  ... CUR_ILL  \\\n",
       "1390  Approximately 3 min post vaccition administrat...  NaN  ...       U   \n",
       "1391  On 12/3/22 I got a pain in the stomach as if s...  NaN  ...     NaN   \n",
       "1392  Dizziness, chills, fever, muscle aches, pain a...  NaN  ...     NaN   \n",
       "1393  Fatigue - 2 hours priorU Muscle aches/pain - 3...  NaN  ...     NaN   \n",
       "1394  Typical sore arm similar to flu shotU Followin...  NaN  ...     NaN   \n",
       "\n",
       "     HISTORY PRIOR_VAX SPLTTYPE  FORM_VERS TODAYS_DATE BIRTH_DEFECT OFC_VISIT  \\\n",
       "1390       U       NaN      NaN          2     1/1/221          NaN         Y   \n",
       "1391     NaN       NaN      NaN          2     1/1/221          NaN       NaN   \n",
       "1392       Y       NaN      NaN          2     1/1/221          NaN       NaN   \n",
       "1393       U       NaN      NaN          2     1/1/221          NaN       NaN   \n",
       "1394     NaN       NaN      NaN          2     1/1/221          NaN       NaN   \n",
       "\n",
       "     ER_ED_VISIT ALLERGIES  \n",
       "1390         NaN       NaN  \n",
       "1391         NaN         Y  \n",
       "1392         NaN         Y  \n",
       "1393         NaN         Y  \n",
       "1394         NaN         Y  \n",
       "\n",
       "[5 rows x 35 columns]"
      ]
     },
     "execution_count": 9,
     "metadata": {},
     "output_type": "execute_result"
    }
   ],
   "source": [
    "by_category = df.groupby('STATE')\n",
    "df1 = by_category.get_group('CA')\n",
    "df1.head()"
   ]
  },
  {
   "cell_type": "code",
   "execution_count": 10,
   "id": "54713b12",
   "metadata": {},
   "outputs": [
    {
     "data": {
      "text/plain": [
       "(2577, 35)"
      ]
     },
     "execution_count": 10,
     "metadata": {},
     "output_type": "execute_result"
    }
   ],
   "source": [
    "df1.shape"
   ]
  },
  {
   "cell_type": "markdown",
   "id": "c4d466a2",
   "metadata": {},
   "source": [
    " I will use the duplicated() method to eliminate records that may be repeated because it can generate misunderstanding conclusions. However in this dataset there is no duplicates as we can see below."
   ]
  },
  {
   "cell_type": "code",
   "execution_count": 11,
   "id": "40330209",
   "metadata": {},
   "outputs": [
    {
     "data": {
      "text/plain": [
       "0"
      ]
     },
     "execution_count": 11,
     "metadata": {},
     "output_type": "execute_result"
    }
   ],
   "source": [
    "df1.duplicated().sum()"
   ]
  },
  {
   "cell_type": "markdown",
   "id": "b809c9d9",
   "metadata": {},
   "source": [
    "I will drop some columns that may not be necessary to answer my question and it could waste time and memory. After dropping, I will nominate the dataset as 'df2'."
   ]
  },
  {
   "cell_type": "code",
   "execution_count": 12,
   "id": "70a6a6c5",
   "metadata": {},
   "outputs": [
    {
     "data": {
      "text/plain": [
       "Index(['VAERS_ID', 'RECVDATE', 'STATE', 'AGE_YRS', 'CAGE_YR', 'CAGE_MO', 'SEX',\n",
       "       'RPT_DATE', 'SYMPTOM_TEXT', 'DIED', 'DATEDIED', 'L_THREAT', 'ER_VISIT',\n",
       "       'HOSPITAL', 'HOSPDAYS', 'X_STAY', 'DISABLE', 'RECOVD', 'VAX_DATE',\n",
       "       'ONSET_DATE', 'NUMDAYS', 'LAB_DATA', 'V_ADMINBY', 'V_FUNDBY',\n",
       "       'OTHER_MEDS', 'CUR_ILL', 'HISTORY', 'PRIOR_VAX', 'SPLTTYPE',\n",
       "       'FORM_VERS', 'TODAYS_DATE', 'BIRTH_DEFECT', 'OFC_VISIT', 'ER_ED_VISIT',\n",
       "       'ALLERGIES'],\n",
       "      dtype='object')"
      ]
     },
     "execution_count": 12,
     "metadata": {},
     "output_type": "execute_result"
    }
   ],
   "source": [
    "df1.columns"
   ]
  },
  {
   "cell_type": "code",
   "execution_count": 13,
   "id": "7541178b",
   "metadata": {
    "scrolled": true
   },
   "outputs": [
    {
     "data": {
      "text/html": [
       "<div>\n",
       "<style scoped>\n",
       "    .dataframe tbody tr th:only-of-type {\n",
       "        vertical-align: middle;\n",
       "    }\n",
       "\n",
       "    .dataframe tbody tr th {\n",
       "        vertical-align: top;\n",
       "    }\n",
       "\n",
       "    .dataframe thead th {\n",
       "        text-align: right;\n",
       "    }\n",
       "</style>\n",
       "<table border=\"1\" class=\"dataframe\">\n",
       "  <thead>\n",
       "    <tr style=\"text-align: right;\">\n",
       "      <th></th>\n",
       "      <th>AGE_YRS</th>\n",
       "      <th>SEX</th>\n",
       "      <th>DIED</th>\n",
       "      <th>DISABLE</th>\n",
       "      <th>NUMDAYS</th>\n",
       "      <th>CUR_ILL</th>\n",
       "      <th>HISTORY</th>\n",
       "      <th>ALLERGIES</th>\n",
       "    </tr>\n",
       "  </thead>\n",
       "  <tbody>\n",
       "    <tr>\n",
       "      <th>1390</th>\n",
       "      <td>73</td>\n",
       "      <td>F</td>\n",
       "      <td>NaN</td>\n",
       "      <td>NaN</td>\n",
       "      <td>NaN</td>\n",
       "      <td>U</td>\n",
       "      <td>U</td>\n",
       "      <td>NaN</td>\n",
       "    </tr>\n",
       "    <tr>\n",
       "      <th>1391</th>\n",
       "      <td>4</td>\n",
       "      <td>F</td>\n",
       "      <td>NaN</td>\n",
       "      <td>NaN</td>\n",
       "      <td>NaN</td>\n",
       "      <td>NaN</td>\n",
       "      <td>NaN</td>\n",
       "      <td>Y</td>\n",
       "    </tr>\n",
       "    <tr>\n",
       "      <th>1392</th>\n",
       "      <td>35</td>\n",
       "      <td>F</td>\n",
       "      <td>NaN</td>\n",
       "      <td>NaN</td>\n",
       "      <td>NaN</td>\n",
       "      <td>NaN</td>\n",
       "      <td>Y</td>\n",
       "      <td>Y</td>\n",
       "    </tr>\n",
       "    <tr>\n",
       "      <th>1393</th>\n",
       "      <td>25</td>\n",
       "      <td>F</td>\n",
       "      <td>NaN</td>\n",
       "      <td>NaN</td>\n",
       "      <td>NaN</td>\n",
       "      <td>NaN</td>\n",
       "      <td>U</td>\n",
       "      <td>Y</td>\n",
       "    </tr>\n",
       "    <tr>\n",
       "      <th>1394</th>\n",
       "      <td>37</td>\n",
       "      <td>M</td>\n",
       "      <td>NaN</td>\n",
       "      <td>NaN</td>\n",
       "      <td>1.0</td>\n",
       "      <td>NaN</td>\n",
       "      <td>NaN</td>\n",
       "      <td>Y</td>\n",
       "    </tr>\n",
       "  </tbody>\n",
       "</table>\n",
       "</div>"
      ],
      "text/plain": [
       "     AGE_YRS SEX DIED DISABLE  NUMDAYS CUR_ILL HISTORY ALLERGIES\n",
       "1390      73   F  NaN     NaN      NaN       U       U       NaN\n",
       "1391       4   F  NaN     NaN      NaN     NaN     NaN         Y\n",
       "1392      35   F  NaN     NaN      NaN     NaN       Y         Y\n",
       "1393      25   F  NaN     NaN      NaN     NaN       U         Y\n",
       "1394      37   M  NaN     NaN      1.0     NaN     NaN         Y"
      ]
     },
     "execution_count": 13,
     "metadata": {},
     "output_type": "execute_result"
    }
   ],
   "source": [
    "df2 = df1.drop(columns=['VAERS_ID', 'RECVDATE', 'STATE', 'CAGE_YR', 'CAGE_MO', 'RPT_DATE', 'SYMPTOM_TEXT', 'DATEDIED', 'L_THREAT', 'ER_VISIT',\n",
    "       'HOSPITAL', 'HOSPDAYS', 'X_STAY', 'RECOVD', 'VAX_DATE',\n",
    "       'ONSET_DATE', 'LAB_DATA', 'V_ADMINBY', 'V_FUNDBY',\n",
    "       'OTHER_MEDS', 'PRIOR_VAX', 'SPLTTYPE',\n",
    "       'FORM_VERS', 'TODAYS_DATE', 'BIRTH_DEFECT', 'OFC_VISIT', 'ER_ED_VISIT'])\n",
    "df2.head()"
   ]
  },
  {
   "cell_type": "code",
   "execution_count": 14,
   "id": "37e87e0d",
   "metadata": {},
   "outputs": [
    {
     "data": {
      "text/plain": [
       "(2577, 8)"
      ]
     },
     "execution_count": 14,
     "metadata": {},
     "output_type": "execute_result"
    }
   ],
   "source": [
    "df2.shape"
   ]
  },
  {
   "cell_type": "code",
   "execution_count": 15,
   "id": "b9716e8d",
   "metadata": {},
   "outputs": [
    {
     "data": {
      "text/plain": [
       "AGE_YRS       object\n",
       "SEX           object\n",
       "DIED          object\n",
       "DISABLE       object\n",
       "NUMDAYS      float64\n",
       "CUR_ILL       object\n",
       "HISTORY       object\n",
       "ALLERGIES     object\n",
       "dtype: object"
      ]
     },
     "execution_count": 15,
     "metadata": {},
     "output_type": "execute_result"
    }
   ],
   "source": [
    "df2.dtypes"
   ]
  },
  {
   "cell_type": "code",
   "execution_count": 16,
   "id": "752f22cb",
   "metadata": {
    "scrolled": true
   },
   "outputs": [
    {
     "data": {
      "text/html": [
       "<div>\n",
       "<style scoped>\n",
       "    .dataframe tbody tr th:only-of-type {\n",
       "        vertical-align: middle;\n",
       "    }\n",
       "\n",
       "    .dataframe tbody tr th {\n",
       "        vertical-align: top;\n",
       "    }\n",
       "\n",
       "    .dataframe thead th {\n",
       "        text-align: right;\n",
       "    }\n",
       "</style>\n",
       "<table border=\"1\" class=\"dataframe\">\n",
       "  <thead>\n",
       "    <tr style=\"text-align: right;\">\n",
       "      <th></th>\n",
       "      <th>NUMDAYS</th>\n",
       "    </tr>\n",
       "  </thead>\n",
       "  <tbody>\n",
       "    <tr>\n",
       "      <th>count</th>\n",
       "      <td>1318.000000</td>\n",
       "    </tr>\n",
       "    <tr>\n",
       "      <th>mean</th>\n",
       "      <td>8.770865</td>\n",
       "    </tr>\n",
       "    <tr>\n",
       "      <th>std</th>\n",
       "      <td>83.141858</td>\n",
       "    </tr>\n",
       "    <tr>\n",
       "      <th>min</th>\n",
       "      <td>1.000000</td>\n",
       "    </tr>\n",
       "    <tr>\n",
       "      <th>25%</th>\n",
       "      <td>1.000000</td>\n",
       "    </tr>\n",
       "    <tr>\n",
       "      <th>50%</th>\n",
       "      <td>2.000000</td>\n",
       "    </tr>\n",
       "    <tr>\n",
       "      <th>75%</th>\n",
       "      <td>7.000000</td>\n",
       "    </tr>\n",
       "    <tr>\n",
       "      <th>max</th>\n",
       "      <td>2399.000000</td>\n",
       "    </tr>\n",
       "  </tbody>\n",
       "</table>\n",
       "</div>"
      ],
      "text/plain": [
       "           NUMDAYS\n",
       "count  1318.000000\n",
       "mean      8.770865\n",
       "std      83.141858\n",
       "min       1.000000\n",
       "25%       1.000000\n",
       "50%       2.000000\n",
       "75%       7.000000\n",
       "max    2399.000000"
      ]
     },
     "execution_count": 16,
     "metadata": {},
     "output_type": "execute_result"
    }
   ],
   "source": [
    "df2.describe()"
   ]
  },
  {
   "cell_type": "markdown",
   "id": "3bde3637",
   "metadata": {},
   "source": [
    "I am using the function .isnull().sum() to calculate the numbers of missing (null and NaN) values in all columns of the dataset. "
   ]
  },
  {
   "cell_type": "code",
   "execution_count": 17,
   "id": "34671456",
   "metadata": {
    "scrolled": true
   },
   "outputs": [
    {
     "data": {
      "text/plain": [
       "AGE_YRS       187\n",
       "SEX             0\n",
       "DIED         2422\n",
       "DISABLE      2471\n",
       "NUMDAYS      1259\n",
       "CUR_ILL      2096\n",
       "HISTORY      1148\n",
       "ALLERGIES    1768\n",
       "dtype: int64"
      ]
     },
     "execution_count": 17,
     "metadata": {},
     "output_type": "execute_result"
    }
   ],
   "source": [
    "df2.isnull().sum()"
   ]
  },
  {
   "cell_type": "markdown",
   "id": "efa6e626",
   "metadata": {},
   "source": [
    "Below, I am using the method .fillna() to replace the NaN with zero values."
   ]
  },
  {
   "cell_type": "code",
   "execution_count": 18,
   "id": "a8a1507e",
   "metadata": {},
   "outputs": [],
   "source": [
    "df2.fillna(0, inplace=True)"
   ]
  },
  {
   "cell_type": "code",
   "execution_count": 19,
   "id": "97b28ee0",
   "metadata": {},
   "outputs": [
    {
     "data": {
      "text/html": [
       "<div>\n",
       "<style scoped>\n",
       "    .dataframe tbody tr th:only-of-type {\n",
       "        vertical-align: middle;\n",
       "    }\n",
       "\n",
       "    .dataframe tbody tr th {\n",
       "        vertical-align: top;\n",
       "    }\n",
       "\n",
       "    .dataframe thead th {\n",
       "        text-align: right;\n",
       "    }\n",
       "</style>\n",
       "<table border=\"1\" class=\"dataframe\">\n",
       "  <thead>\n",
       "    <tr style=\"text-align: right;\">\n",
       "      <th></th>\n",
       "      <th>AGE_YRS</th>\n",
       "      <th>SEX</th>\n",
       "      <th>DIED</th>\n",
       "      <th>DISABLE</th>\n",
       "      <th>NUMDAYS</th>\n",
       "      <th>CUR_ILL</th>\n",
       "      <th>HISTORY</th>\n",
       "      <th>ALLERGIES</th>\n",
       "    </tr>\n",
       "  </thead>\n",
       "  <tbody>\n",
       "    <tr>\n",
       "      <th>1390</th>\n",
       "      <td>73</td>\n",
       "      <td>F</td>\n",
       "      <td>0</td>\n",
       "      <td>0</td>\n",
       "      <td>0.0</td>\n",
       "      <td>U</td>\n",
       "      <td>U</td>\n",
       "      <td>0</td>\n",
       "    </tr>\n",
       "    <tr>\n",
       "      <th>1391</th>\n",
       "      <td>4</td>\n",
       "      <td>F</td>\n",
       "      <td>0</td>\n",
       "      <td>0</td>\n",
       "      <td>0.0</td>\n",
       "      <td>0</td>\n",
       "      <td>0</td>\n",
       "      <td>Y</td>\n",
       "    </tr>\n",
       "    <tr>\n",
       "      <th>1392</th>\n",
       "      <td>35</td>\n",
       "      <td>F</td>\n",
       "      <td>0</td>\n",
       "      <td>0</td>\n",
       "      <td>0.0</td>\n",
       "      <td>0</td>\n",
       "      <td>Y</td>\n",
       "      <td>Y</td>\n",
       "    </tr>\n",
       "    <tr>\n",
       "      <th>1393</th>\n",
       "      <td>25</td>\n",
       "      <td>F</td>\n",
       "      <td>0</td>\n",
       "      <td>0</td>\n",
       "      <td>0.0</td>\n",
       "      <td>0</td>\n",
       "      <td>U</td>\n",
       "      <td>Y</td>\n",
       "    </tr>\n",
       "    <tr>\n",
       "      <th>1394</th>\n",
       "      <td>37</td>\n",
       "      <td>M</td>\n",
       "      <td>0</td>\n",
       "      <td>0</td>\n",
       "      <td>1.0</td>\n",
       "      <td>0</td>\n",
       "      <td>0</td>\n",
       "      <td>Y</td>\n",
       "    </tr>\n",
       "  </tbody>\n",
       "</table>\n",
       "</div>"
      ],
      "text/plain": [
       "     AGE_YRS SEX DIED DISABLE  NUMDAYS CUR_ILL HISTORY ALLERGIES\n",
       "1390      73   F    0       0      0.0       U       U         0\n",
       "1391       4   F    0       0      0.0       0       0         Y\n",
       "1392      35   F    0       0      0.0       0       Y         Y\n",
       "1393      25   F    0       0      0.0       0       U         Y\n",
       "1394      37   M    0       0      1.0       0       0         Y"
      ]
     },
     "execution_count": 19,
     "metadata": {},
     "output_type": "execute_result"
    }
   ],
   "source": [
    "df2.head()"
   ]
  },
  {
   "cell_type": "markdown",
   "id": "d95f349d",
   "metadata": {},
   "source": [
    "I replaced all sentences reported in 'CUR_ILL', 'HISTORY', and 'ALLERGIES' with blank space, meaning the absence of the occurrence, 'U' when it was not informed, and 'Y' in the case in which the patient related any occurrence (from mild to several), thus, in this study, I will not make distinguish of the degree of illnesses or allergies. Below, I will present a dictionary with the replacement numbers to make possible the recognition by the models."
   ]
  },
  {
   "cell_type": "markdown",
   "id": "6cdad552",
   "metadata": {},
   "source": [
    "# Random Forest model"
   ]
  },
  {
   "cell_type": "markdown",
   "id": "6e0382ff",
   "metadata": {},
   "source": [
    "## Pre-processing"
   ]
  },
  {
   "cell_type": "code",
   "execution_count": 20,
   "id": "9925d207",
   "metadata": {},
   "outputs": [
    {
     "data": {
      "text/html": [
       "<div>\n",
       "<style scoped>\n",
       "    .dataframe tbody tr th:only-of-type {\n",
       "        vertical-align: middle;\n",
       "    }\n",
       "\n",
       "    .dataframe tbody tr th {\n",
       "        vertical-align: top;\n",
       "    }\n",
       "\n",
       "    .dataframe thead th {\n",
       "        text-align: right;\n",
       "    }\n",
       "</style>\n",
       "<table border=\"1\" class=\"dataframe\">\n",
       "  <thead>\n",
       "    <tr style=\"text-align: right;\">\n",
       "      <th></th>\n",
       "      <th>AGE_YRS</th>\n",
       "      <th>SEX</th>\n",
       "      <th>DIED</th>\n",
       "      <th>DISABLE</th>\n",
       "      <th>NUMDAYS</th>\n",
       "      <th>CUR_ILL</th>\n",
       "      <th>HISTORY</th>\n",
       "      <th>ALLERGIES</th>\n",
       "    </tr>\n",
       "  </thead>\n",
       "  <tbody>\n",
       "    <tr>\n",
       "      <th>1390</th>\n",
       "      <td>73</td>\n",
       "      <td>F</td>\n",
       "      <td>0</td>\n",
       "      <td>0</td>\n",
       "      <td>0.0</td>\n",
       "      <td>U</td>\n",
       "      <td>U</td>\n",
       "      <td>0</td>\n",
       "    </tr>\n",
       "    <tr>\n",
       "      <th>1391</th>\n",
       "      <td>4</td>\n",
       "      <td>F</td>\n",
       "      <td>0</td>\n",
       "      <td>0</td>\n",
       "      <td>0.0</td>\n",
       "      <td>0</td>\n",
       "      <td>0</td>\n",
       "      <td>Y</td>\n",
       "    </tr>\n",
       "    <tr>\n",
       "      <th>1392</th>\n",
       "      <td>35</td>\n",
       "      <td>F</td>\n",
       "      <td>0</td>\n",
       "      <td>0</td>\n",
       "      <td>0.0</td>\n",
       "      <td>0</td>\n",
       "      <td>Y</td>\n",
       "      <td>Y</td>\n",
       "    </tr>\n",
       "    <tr>\n",
       "      <th>1393</th>\n",
       "      <td>25</td>\n",
       "      <td>F</td>\n",
       "      <td>0</td>\n",
       "      <td>0</td>\n",
       "      <td>0.0</td>\n",
       "      <td>0</td>\n",
       "      <td>U</td>\n",
       "      <td>Y</td>\n",
       "    </tr>\n",
       "    <tr>\n",
       "      <th>1394</th>\n",
       "      <td>37</td>\n",
       "      <td>M</td>\n",
       "      <td>0</td>\n",
       "      <td>0</td>\n",
       "      <td>1.0</td>\n",
       "      <td>0</td>\n",
       "      <td>0</td>\n",
       "      <td>Y</td>\n",
       "    </tr>\n",
       "  </tbody>\n",
       "</table>\n",
       "</div>"
      ],
      "text/plain": [
       "     AGE_YRS SEX DIED DISABLE  NUMDAYS CUR_ILL HISTORY ALLERGIES\n",
       "1390      73   F    0       0      0.0       U       U         0\n",
       "1391       4   F    0       0      0.0       0       0         Y\n",
       "1392      35   F    0       0      0.0       0       Y         Y\n",
       "1393      25   F    0       0      0.0       0       U         Y\n",
       "1394      37   M    0       0      1.0       0       0         Y"
      ]
     },
     "execution_count": 20,
     "metadata": {},
     "output_type": "execute_result"
    }
   ],
   "source": [
    "df_rf = df2.copy()\n",
    "df_rf.head()"
   ]
  },
  {
   "cell_type": "code",
   "execution_count": 21,
   "id": "1e1c0f3f",
   "metadata": {},
   "outputs": [],
   "source": [
    "df_rf[\"DIED\"].replace('0', 0, inplace=True)\n",
    "df_rf[\"DIED\"].replace('Y', 1, inplace=True)"
   ]
  },
  {
   "cell_type": "code",
   "execution_count": 22,
   "id": "b4c6f97a",
   "metadata": {
    "scrolled": true
   },
   "outputs": [
    {
     "data": {
      "text/plain": [
       "0    2422\n",
       "1     155\n",
       "Name: DIED, dtype: int64"
      ]
     },
     "execution_count": 22,
     "metadata": {},
     "output_type": "execute_result"
    }
   ],
   "source": [
    "df_rf[\"DIED\"].value_counts()"
   ]
  },
  {
   "cell_type": "code",
   "execution_count": 23,
   "id": "cb4b65f6",
   "metadata": {},
   "outputs": [],
   "source": [
    "df_rf[\"SEX\"].replace('F', 0, inplace=True)\n",
    "df_rf[\"SEX\"].replace('M', 1, inplace=True)\n",
    "df_rf[\"SEX\"].replace('U', 2, inplace=True)"
   ]
  },
  {
   "cell_type": "code",
   "execution_count": 24,
   "id": "c225b992",
   "metadata": {},
   "outputs": [
    {
     "data": {
      "text/plain": [
       "0    1837\n",
       "1     677\n",
       "2      63\n",
       "Name: SEX, dtype: int64"
      ]
     },
     "execution_count": 24,
     "metadata": {},
     "output_type": "execute_result"
    }
   ],
   "source": [
    "df_rf[\"SEX\"].value_counts()"
   ]
  },
  {
   "cell_type": "code",
   "execution_count": 25,
   "id": "c1d0da5c",
   "metadata": {},
   "outputs": [],
   "source": [
    "df_rf[\"DISABLE\"].replace('0', 0, inplace=True)\n",
    "df_rf[\"DISABLE\"].replace('Y', 1, inplace=True)"
   ]
  },
  {
   "cell_type": "code",
   "execution_count": 26,
   "id": "7c533114",
   "metadata": {},
   "outputs": [
    {
     "data": {
      "text/plain": [
       "0    2471\n",
       "1     106\n",
       "Name: DISABLE, dtype: int64"
      ]
     },
     "execution_count": 26,
     "metadata": {},
     "output_type": "execute_result"
    }
   ],
   "source": [
    "df_rf[\"DISABLE\"].value_counts()"
   ]
  },
  {
   "cell_type": "code",
   "execution_count": 27,
   "id": "0f09e78a",
   "metadata": {},
   "outputs": [],
   "source": [
    "df_rf[\"CUR_ILL\"].replace('0', 0, inplace=True)\n",
    "df_rf[\"CUR_ILL\"].replace('Y', 1, inplace=True)\n",
    "df_rf[\"CUR_ILL\"].replace('U', 2, inplace=True)"
   ]
  },
  {
   "cell_type": "code",
   "execution_count": 28,
   "id": "404c0b7c",
   "metadata": {},
   "outputs": [
    {
     "data": {
      "text/plain": [
       "0    2096\n",
       "1     349\n",
       "2     132\n",
       "Name: CUR_ILL, dtype: int64"
      ]
     },
     "execution_count": 28,
     "metadata": {},
     "output_type": "execute_result"
    }
   ],
   "source": [
    "df_rf[\"CUR_ILL\"].value_counts()"
   ]
  },
  {
   "cell_type": "code",
   "execution_count": 29,
   "id": "18c8c5b2",
   "metadata": {},
   "outputs": [],
   "source": [
    "df_rf[\"HISTORY\"].replace('0', 0, inplace=True)\n",
    "df_rf[\"HISTORY\"].replace('Y', 1, inplace=True)\n",
    "df_rf[\"HISTORY\"].replace('U', 2, inplace=True)"
   ]
  },
  {
   "cell_type": "code",
   "execution_count": 30,
   "id": "5b4180c5",
   "metadata": {},
   "outputs": [
    {
     "data": {
      "text/plain": [
       "1    1321\n",
       "0    1148\n",
       "2     108\n",
       "Name: HISTORY, dtype: int64"
      ]
     },
     "execution_count": 30,
     "metadata": {},
     "output_type": "execute_result"
    }
   ],
   "source": [
    "df_rf[\"HISTORY\"].value_counts()"
   ]
  },
  {
   "cell_type": "code",
   "execution_count": 31,
   "id": "0c79c605",
   "metadata": {},
   "outputs": [],
   "source": [
    "df_rf[\"ALLERGIES\"].replace('0', 0, inplace=True)\n",
    "df_rf[\"ALLERGIES\"].replace('Y', 1, inplace=True)\n",
    "df_rf[\"ALLERGIES\"].replace('U', 2, inplace=True)"
   ]
  },
  {
   "cell_type": "code",
   "execution_count": 32,
   "id": "08345931",
   "metadata": {},
   "outputs": [
    {
     "data": {
      "text/plain": [
       "0    1768\n",
       "1     717\n",
       "2      92\n",
       "Name: ALLERGIES, dtype: int64"
      ]
     },
     "execution_count": 32,
     "metadata": {},
     "output_type": "execute_result"
    }
   ],
   "source": [
    "df_rf[\"ALLERGIES\"].value_counts()"
   ]
  },
  {
   "cell_type": "code",
   "execution_count": 33,
   "id": "afac10aa",
   "metadata": {},
   "outputs": [],
   "source": [
    "df_rf['AGE_YRS'] = df_rf['AGE_YRS'].astype(float)"
   ]
  },
  {
   "cell_type": "code",
   "execution_count": 34,
   "id": "df31f3a2",
   "metadata": {},
   "outputs": [
    {
     "data": {
      "text/plain": [
       "AGE_YRS      float64\n",
       "SEX            int64\n",
       "DIED           int64\n",
       "DISABLE        int64\n",
       "NUMDAYS      float64\n",
       "CUR_ILL        int64\n",
       "HISTORY        int64\n",
       "ALLERGIES      int64\n",
       "dtype: object"
      ]
     },
     "execution_count": 34,
     "metadata": {},
     "output_type": "execute_result"
    }
   ],
   "source": [
    "df_rf.dtypes"
   ]
  },
  {
   "cell_type": "code",
   "execution_count": 35,
   "id": "75829ffb",
   "metadata": {
    "scrolled": true
   },
   "outputs": [
    {
     "data": {
      "text/html": [
       "<div>\n",
       "<style scoped>\n",
       "    .dataframe tbody tr th:only-of-type {\n",
       "        vertical-align: middle;\n",
       "    }\n",
       "\n",
       "    .dataframe tbody tr th {\n",
       "        vertical-align: top;\n",
       "    }\n",
       "\n",
       "    .dataframe thead th {\n",
       "        text-align: right;\n",
       "    }\n",
       "</style>\n",
       "<table border=\"1\" class=\"dataframe\">\n",
       "  <thead>\n",
       "    <tr style=\"text-align: right;\">\n",
       "      <th></th>\n",
       "      <th>AGE_YRS</th>\n",
       "      <th>SEX</th>\n",
       "      <th>DIED</th>\n",
       "      <th>DISABLE</th>\n",
       "      <th>NUMDAYS</th>\n",
       "      <th>CUR_ILL</th>\n",
       "      <th>HISTORY</th>\n",
       "      <th>ALLERGIES</th>\n",
       "    </tr>\n",
       "  </thead>\n",
       "  <tbody>\n",
       "    <tr>\n",
       "      <th>1390</th>\n",
       "      <td>73.0</td>\n",
       "      <td>0</td>\n",
       "      <td>0</td>\n",
       "      <td>0</td>\n",
       "      <td>0.0</td>\n",
       "      <td>2</td>\n",
       "      <td>2</td>\n",
       "      <td>0</td>\n",
       "    </tr>\n",
       "    <tr>\n",
       "      <th>1391</th>\n",
       "      <td>4.0</td>\n",
       "      <td>0</td>\n",
       "      <td>0</td>\n",
       "      <td>0</td>\n",
       "      <td>0.0</td>\n",
       "      <td>0</td>\n",
       "      <td>0</td>\n",
       "      <td>1</td>\n",
       "    </tr>\n",
       "    <tr>\n",
       "      <th>1392</th>\n",
       "      <td>35.0</td>\n",
       "      <td>0</td>\n",
       "      <td>0</td>\n",
       "      <td>0</td>\n",
       "      <td>0.0</td>\n",
       "      <td>0</td>\n",
       "      <td>1</td>\n",
       "      <td>1</td>\n",
       "    </tr>\n",
       "    <tr>\n",
       "      <th>1393</th>\n",
       "      <td>25.0</td>\n",
       "      <td>0</td>\n",
       "      <td>0</td>\n",
       "      <td>0</td>\n",
       "      <td>0.0</td>\n",
       "      <td>0</td>\n",
       "      <td>2</td>\n",
       "      <td>1</td>\n",
       "    </tr>\n",
       "    <tr>\n",
       "      <th>1394</th>\n",
       "      <td>37.0</td>\n",
       "      <td>1</td>\n",
       "      <td>0</td>\n",
       "      <td>0</td>\n",
       "      <td>1.0</td>\n",
       "      <td>0</td>\n",
       "      <td>0</td>\n",
       "      <td>1</td>\n",
       "    </tr>\n",
       "  </tbody>\n",
       "</table>\n",
       "</div>"
      ],
      "text/plain": [
       "      AGE_YRS  SEX  DIED  DISABLE  NUMDAYS  CUR_ILL  HISTORY  ALLERGIES\n",
       "1390     73.0    0     0        0      0.0        2        2          0\n",
       "1391      4.0    0     0        0      0.0        0        0          1\n",
       "1392     35.0    0     0        0      0.0        0        1          1\n",
       "1393     25.0    0     0        0      0.0        0        2          1\n",
       "1394     37.0    1     0        0      1.0        0        0          1"
      ]
     },
     "execution_count": 35,
     "metadata": {},
     "output_type": "execute_result"
    }
   ],
   "source": [
    "df_rf.head()"
   ]
  },
  {
   "cell_type": "markdown",
   "id": "ad2b2853",
   "metadata": {},
   "source": [
    "#### Data Dictionary - dataset (df_rf):\n",
    "\n",
    "1. AGE_YRS: The recorded vaccine recipient's age in years.\n",
    "\n",
    "2. SEX: Sex of the vaccine recipient (M = Male, F = Female, Unknown = Blank). (1 = Male, 0 = Female, 2 = Unknown).\n",
    "\n",
    "3. DIED: If the vaccine recipient died a \"Y\" is used; otherwise the field will be blank. (0 = Alive, 1 = Died)\n",
    "\n",
    "4. DISABLE: If the vaccine recipient was disabled as a result of the vaccination a \"Y\" is placed in this field; otherwise the field will be blank. (0 = not disabled, 1 = disabled)\n",
    "\n",
    "5. NUMDAYS: The calculated interval (in days) from the vaccination date to the onset date.\n",
    "\n",
    "6. CUR_ILL: presence of any illnesses at the vaccination time is represented by the letter 'Y', otherwise, blank space for not occurrence, and 'U' for unknown. (0 = Not occurrence, 1 = Occurrence, 2 = Unknown)\n",
    "\n",
    "7. HISTORY: presence of any pre-existing physician-diagnosed congenital disabilities or medical condition at the vaccination time is represented by the letter 'Y', otherwise, blank space for not occurrence, and 'U' for unknown. (0 = Not occurrence, 1 = Occurrence, 2 = Unknown)\n",
    "\n",
    "8. ALLERGIES: presence of any pre-existing physician-diagnosed allergies at the vaccination time is represented by the letter 'Y', otherwise, blank space for not occurrence, and 'U' for unknown. (0 = Not occurrence, 1 = Occurrence, 2 = Unknown)"
   ]
  },
  {
   "cell_type": "markdown",
   "id": "ac966e72",
   "metadata": {},
   "source": [
    "## Model implementation - Random Forest"
   ]
  },
  {
   "cell_type": "markdown",
   "id": "4600b2b0",
   "metadata": {},
   "source": [
    "I will split dataset into training set and test set."
   ]
  },
  {
   "cell_type": "code",
   "execution_count": 36,
   "id": "42a8cc58",
   "metadata": {},
   "outputs": [],
   "source": [
    "from sklearn.ensemble import RandomForestClassifier    \n",
    "from sklearn.model_selection import train_test_split \n",
    "from sklearn import metrics                         "
   ]
  },
  {
   "cell_type": "code",
   "execution_count": 37,
   "id": "3e40a860",
   "metadata": {},
   "outputs": [
    {
     "data": {
      "text/plain": [
       "((2577, 7), (2577, 7), (2061, 7), (516, 7), (2061,), (516,))"
      ]
     },
     "execution_count": 37,
     "metadata": {},
     "output_type": "execute_result"
    }
   ],
   "source": [
    "X = df_rf.drop('DIED', axis=1) \n",
    "y = df_rf['DIED']\n",
    "\n",
    "X_train, X_test, y_train, y_test = train_test_split(X, y, test_size = 0.2,  random_state = 51)\n",
    "X.shape, X.shape,X_train.shape, X_test.shape, y_train.shape, y_test.shape"
   ]
  },
  {
   "cell_type": "markdown",
   "id": "bf511380",
   "metadata": {},
   "source": [
    "### Hyperparameters\n",
    "As mentioned above, this model performs well without heavy tunning of the parameters. The principal parameters are n_estimatores, max_features, and max_depth (Müller and Guido, 2017, p.88). The first is the number of trees; the more significant this number is, the smaller the overfitting. I chose to experiment with the 100 (default) and 1000.\n",
    "The second parameter determines how random each tree is; by default, I use the 'sqrt(n_features)', which is suitable for classification. The max_depth parameter is the maximum depth of the tree, and in this case, I am using 'None' (default), which means that the nodes expand until all leaves are pure or until all leaves contain less than min_samples_split samples (Scikit-learn.org, 2012). "
   ]
  },
  {
   "cell_type": "markdown",
   "id": "b0b4e8d2",
   "metadata": {},
   "source": [
    "I will use the code below to call the Random Forest Classifier,  then I will train the model using the training sets, and I will make predictions onthe test set."
   ]
  },
  {
   "cell_type": "code",
   "execution_count": 38,
   "id": "073472b1",
   "metadata": {},
   "outputs": [],
   "source": [
    "clf_RF = RandomForestClassifier(n_estimators = 1000, random_state = 51, class_weight='balanced', max_depth=5)\n",
    "\n",
    "clf_RF.fit(X_train, y_train)\n",
    "\n",
    "y_pred = clf_RF.predict(X_test)"
   ]
  },
  {
   "cell_type": "markdown",
   "id": "c98bd0cb",
   "metadata": {},
   "source": [
    "### Cross-Validation\n",
    "Cross-validation is a statistical method used to assess the performance of a machine learning model by splitting the dataset into multiple subsets (folds), using the most known tool called k-fold cross-validation to specify the number of folds that will be trained and evaluating the model on different combinations of these folds (Müller and Guido, 2017, p.253).\n",
    "\n",
    "**Interpretation: Using the mean cross-validation we can conclude that we expect the model to be around 84% accurate on average.** "
   ]
  },
  {
   "cell_type": "code",
   "execution_count": 39,
   "id": "ab3199c8",
   "metadata": {},
   "outputs": [
    {
     "name": "stdout",
     "output_type": "stream",
     "text": [
      "Cross-validation scores:  [0.95930233 0.93217054 0.88737864 0.74757282 0.70097087]\n",
      "Mean accuracy:  0.8454790396628283\n",
      "Standard deviation: 0.10265960491510269\n"
     ]
    }
   ],
   "source": [
    "from sklearn.model_selection import cross_val_score\n",
    "scores = cross_val_score(clf_RF, X, y, cv=5, scoring='accuracy')\n",
    "print(\"Cross-validation scores: \", scores)\n",
    "print(\"Mean accuracy: \", scores.mean())\n",
    "print(\"Standard deviation:\", scores.std())"
   ]
  },
  {
   "cell_type": "markdown",
   "id": "9c695b0a",
   "metadata": {},
   "source": [
    "I am using the fuction metrics to calculate the metrics of the model's performance."
   ]
  },
  {
   "cell_type": "code",
   "execution_count": 40,
   "id": "89c670b0",
   "metadata": {},
   "outputs": [
    {
     "name": "stdout",
     "output_type": "stream",
     "text": [
      "accuracy: 0.88\n",
      "precision: 0.27\n",
      "recall: 0.72\n",
      "F1 Score: 0.40\n"
     ]
    }
   ],
   "source": [
    "from sklearn import metrics\n",
    "print( \"accuracy: {:.2f}\".format(metrics.accuracy_score(y_test, y_pred)) )\n",
    "print( \"precision: {:.2f}\".format(metrics.precision_score(y_test, y_pred)) )\n",
    "print( \"recall: {:.2f}\".format(metrics.recall_score(y_test, y_pred)) )\n",
    "print( \"F1 Score: {:.2f}\".format(metrics.f1_score(y_test, y_pred)) )"
   ]
  },
  {
   "cell_type": "markdown",
   "id": "11921ecd",
   "metadata": {},
   "source": [
    "###  Accuracy - train and test "
   ]
  },
  {
   "cell_type": "markdown",
   "id": "c98dcd21",
   "metadata": {},
   "source": [
    "That is the accuracy metric for the training and testing set."
   ]
  },
  {
   "cell_type": "code",
   "execution_count": 41,
   "id": "ded6617d",
   "metadata": {
    "scrolled": true
   },
   "outputs": [
    {
     "name": "stdout",
     "output_type": "stream",
     "text": [
      "Training Accuracy : 0.871421639980592\n",
      "Testing Accuracy : 0.875968992248062\n"
     ]
    }
   ],
   "source": [
    "print(\"Training Accuracy :\", clf_RF.score(X_train, y_train))\n",
    "print(\"Testing Accuracy :\", clf_RF.score(X_test, y_test))"
   ]
  },
  {
   "cell_type": "markdown",
   "id": "2cdeafd4",
   "metadata": {},
   "source": [
    "### Important Features\n",
    "The Random Forest provides feature importances calculated by aggregating the feature importances over the trees in the forest, which is more reliable than the presented in a single tree (Müller and Guido, 2017, p.86). \n",
    "\n",
    "The chart below shows which features contribute the most to the model's predictions."
   ]
  },
  {
   "cell_type": "code",
   "execution_count": 42,
   "id": "b6b05c9c",
   "metadata": {},
   "outputs": [
    {
     "data": {
      "image/png": "[encoded data removed]",
      "text/plain": [
       "<Figure size 640x480 with 1 Axes>"
      ]
     },
     "metadata": {},
     "output_type": "display_data"
    }
   ],
   "source": [
    "feature_imp = pd.Series(clf_RF.feature_importances_, index=X.columns).sort_values(ascending=False)\n",
    "bar_color = 'purple'\n",
    "plt.barh(feature_imp.index, feature_imp, color=bar_color)\n",
    "plt.xlabel('Feature Importance')\n",
    "plt.ylabel('Features')\n",
    "plt.title('Random Forest Feature Importance')\n",
    "plt.show()"
   ]
  },
  {
   "cell_type": "markdown",
   "id": "4720445f",
   "metadata": {},
   "source": [
    "That is the confusion matrix to the Random forest model and I choose to use it because it is one of the most comprehensive ways to represent the result of evaluating binary classification (Müller and Guido, 2017, p.279)."
   ]
  },
  {
   "cell_type": "code",
   "execution_count": 43,
   "id": "938703de",
   "metadata": {},
   "outputs": [
    {
     "data": {
      "text/plain": [
       "Text(50.722222222222214, 0.5, 'Actual')"
      ]
     },
     "execution_count": 43,
     "metadata": {},
     "output_type": "execute_result"
    },
    {
     "data": {
      "image/png": "[encoded data removed]",
      "text/plain": [
       "<Figure size 640x480 with 2 Axes>"
      ]
     },
     "metadata": {},
     "output_type": "display_data"
    }
   ],
   "source": [
    "from sklearn.metrics import confusion_matrix, classification_report\n",
    "\n",
    "cm = confusion_matrix(y_test, y_pred)\n",
    "sns.heatmap(cm, annot=True)\n",
    "ax = sns.heatmap(cm, annot=True,                  \n",
    "                 xticklabels=['Alive','Died'],                \n",
    "                 yticklabels=['Alive','Died'],                  \n",
    "                 cbar=False)\n",
    "ax.set_xlabel(\"Prediction\")\n",
    "ax.set_ylabel(\"Actual\")"
   ]
  },
  {
   "cell_type": "markdown",
   "id": "afa38979",
   "metadata": {},
   "source": [
    "## Model Evaluation: all features"
   ]
  },
  {
   "cell_type": "markdown",
   "id": "aeebf709",
   "metadata": {},
   "source": [
    "I chose to combine the data obtained in tables and graphs to better visualize the parameters and facilitate the evaluation of the model's performance."
   ]
  },
  {
   "cell_type": "code",
   "execution_count": 44,
   "id": "158f7bbd",
   "metadata": {},
   "outputs": [
    {
     "name": "stdout",
     "output_type": "stream",
     "text": [
      "+----------------------+-------+-------+-------+\n",
      "| n_estimators = 100   |   10% |   20% |   30% |\n",
      "+======================+=======+=======+=======+\n",
      "| Accuracy             |  0.93 |  0.94 |  0.94 |\n",
      "+----------------------+-------+-------+-------+\n",
      "| CV-Accuracy          |  0.93 |  0.93 |  0.93 |\n",
      "+----------------------+-------+-------+-------+\n",
      "| Precision            |  0.4  |  0.5  |  0.43 |\n",
      "+----------------------+-------+-------+-------+\n",
      "| Recall               |  0.12 |  0.24 |  0.28 |\n",
      "+----------------------+-------+-------+-------+\n",
      "| Training Accuracy    |  0.99 |  0.99 |  0.99 |\n",
      "+----------------------+-------+-------+-------+\n",
      "| Testing Accuracy     |  0.93 |  0.94 |  0.93 |\n",
      "+----------------------+-------+-------+-------+\n",
      "+-----------------------+-------+-------+-------+\n",
      "| n_estimators = 1000   |   10% |   20% |   30% |\n",
      "+=======================+=======+=======+=======+\n",
      "| Accuracy              |  0.93 |  0.95 |  0.94 |\n",
      "+-----------------------+-------+-------+-------+\n",
      "| CV-Accuracy           |  0.93 |  0.93 |  0.93 |\n",
      "+-----------------------+-------+-------+-------+\n",
      "| Precision             |  0.4  |  0.56 |  0.44 |\n",
      "+-----------------------+-------+-------+-------+\n",
      "| Recall                |  0.12 |  0.31 |  0.26 |\n",
      "+-----------------------+-------+-------+-------+\n",
      "| Training Accuracy     |  0.99 |  0.99 |  0.99 |\n",
      "+-----------------------+-------+-------+-------+\n",
      "| Testing Accuracy      |  0.95 |  0.95 |  0.94 |\n",
      "+-----------------------+-------+-------+-------+\n",
      "CV = Cross-Validation\n"
     ]
    }
   ],
   "source": [
    "from tabulate import tabulate\n",
    "data = [\n",
    "    [\"Accuracy\", 0.93, 0.94, 0.94],\n",
    "    [\"CV-Accuracy\", 0.93, 0.93, 0.93],\n",
    "    [\"Precision\", 0.40, 0.50, 0.43],\n",
    "    [\"Recall\", 0.12, 0.24, 0.28],\n",
    "    [\"Training Accuracy\", 0.99, 0.99, 0.99],\n",
    "    [\"Testing Accuracy\", 0.93, 0.94, 0.93],\n",
    "]   \n",
    "headers = [\"n_estimators = 100\", \"10%\", \"20%\", \"30%\"]\n",
    "\n",
    "data1 = [\n",
    "    [\"Accuracy\", 0.93, 0.95, 0.94],\n",
    "    [\"CV-Accuracy\", 0.93, 0.93, 0.93],\n",
    "    [\"Precision\", 0.40, 0.56, 0.44],\n",
    "    [\"Recall\", 0.12, 0.31, 0.26],\n",
    "    [\"Training Accuracy\", 0.99, 0.99, 0.99],\n",
    "    [\"Testing Accuracy\", 0.95, 0.95, 0.94],\n",
    "]   \n",
    "headers1 = [\"n_estimators = 1000\", \"10%\", \"20%\", \"30%\"]\n",
    "\n",
    "print(tabulate(data, headers=headers, tablefmt=\"grid\"))\n",
    "print(tabulate(data1, headers=headers1, tablefmt=\"grid\"))\n",
    "print(\"CV = Cross-Validation\")"
   ]
  },
  {
   "cell_type": "markdown",
   "id": "8f6e9813",
   "metadata": {},
   "source": [
    "### Adjusting hyperparameters"
   ]
  },
  {
   "cell_type": "code",
   "execution_count": 45,
   "id": "9dd124e4",
   "metadata": {
    "scrolled": true
   },
   "outputs": [
    {
     "name": "stdout",
     "output_type": "stream",
     "text": [
      "+------------------------------------------------+-------+\n",
      "| n_estimators = 1000, class_weight='balanced'   |   20% |\n",
      "+================================================+=======+\n",
      "| Accuracy                                       |  0.94 |\n",
      "+------------------------------------------------+-------+\n",
      "| CV-Accuracy                                    |  0.92 |\n",
      "+------------------------------------------------+-------+\n",
      "| Precision                                      |  0.47 |\n",
      "+------------------------------------------------+-------+\n",
      "| Recall                                         |  0.31 |\n",
      "+------------------------------------------------+-------+\n",
      "| F1 Score                                       |  0.38 |\n",
      "+------------------------------------------------+-------+\n",
      "| Training Accuracy                              |  0.98 |\n",
      "+------------------------------------------------+-------+\n",
      "| Testing Accuracy                               |  0.94 |\n",
      "+------------------------------------------------+-------+\n",
      "+-------------------------------------------------------------+-------+\n",
      "| n_estimators = 1000, class_weight='balanced', max_depth=5   |   20% |\n",
      "+=============================================================+=======+\n",
      "| Accuracy                                                    |  0.88 |\n",
      "+-------------------------------------------------------------+-------+\n",
      "| CV-Accuracy                                                 |  0.84 |\n",
      "+-------------------------------------------------------------+-------+\n",
      "| Precision                                                   |  0.27 |\n",
      "+-------------------------------------------------------------+-------+\n",
      "| Recall                                                      |  0.72 |\n",
      "+-------------------------------------------------------------+-------+\n",
      "| F1 Score                                                    |  0.4  |\n",
      "+-------------------------------------------------------------+-------+\n",
      "| Training Accuracy                                           |  0.87 |\n",
      "+-------------------------------------------------------------+-------+\n",
      "| Testing Accuracy                                            |  0.88 |\n",
      "+-------------------------------------------------------------+-------+\n",
      "+--------------------------------------------------------------+-------+\n",
      "| n_estimators = 1000, class_weight='balanced', max_depth=10   |   20% |\n",
      "+==============================================================+=======+\n",
      "| Accuracy                                                     |  0.94 |\n",
      "+--------------------------------------------------------------+-------+\n",
      "| CV-Accuracy                                                  |  0.91 |\n",
      "+--------------------------------------------------------------+-------+\n",
      "| Precision                                                    |  0.43 |\n",
      "+--------------------------------------------------------------+-------+\n",
      "| Recall                                                       |  0.41 |\n",
      "+--------------------------------------------------------------+-------+\n",
      "| F1 Score                                                     |  0.42 |\n",
      "+--------------------------------------------------------------+-------+\n",
      "| Training Accuracy                                            |  0.97 |\n",
      "+--------------------------------------------------------------+-------+\n",
      "| Testing Accuracy                                             |  0.94 |\n",
      "+--------------------------------------------------------------+-------+\n",
      "CV = Cross-Validation\n"
     ]
    },
    {
     "data": {
      "image/png": "[encoded data removed]",
      "text/plain": [
       "<Figure size 1000x600 with 1 Axes>"
      ]
     },
     "metadata": {},
     "output_type": "display_data"
    },
    {
     "data": {
      "image/png": "[encoded data removed]",
      "text/plain": [
       "<Figure size 1000x600 with 1 Axes>"
      ]
     },
     "metadata": {},
     "output_type": "display_data"
    },
    {
     "data": {
      "image/png": "[encoded data removed]",
      "text/plain": [
       "<Figure size 1000x600 with 1 Axes>"
      ]
     },
     "metadata": {},
     "output_type": "display_data"
    }
   ],
   "source": [
    "import matplotlib.pyplot as plt\n",
    "\n",
    "data = [\n",
    "    [\"Accuracy\", 0.94],\n",
    "    [\"CV-Accuracy\", 0.92],\n",
    "    [\"Precision\", 0.47],\n",
    "    [\"Recall\", 0.31],\n",
    "    [\"F1 Score\", 0.38],\n",
    "    [\"Training Accuracy\", 0.98],\n",
    "    [\"Testing Accuracy\", 0.94],\n",
    "]   \n",
    "headers = [\"n_estimators = 1000, class_weight='balanced'\", \"20%\"]\n",
    "\n",
    "data1 = [\n",
    "    [\"Accuracy\", 0.88],\n",
    "    [\"CV-Accuracy\", 0.84],\n",
    "    [\"Precision\", 0.27],\n",
    "    [\"Recall\", 0.72],\n",
    "    [\"F1 Score\", 0.40],\n",
    "    [\"Training Accuracy\", 0.87],\n",
    "    [\"Testing Accuracy\", 0.88],\n",
    "]   \n",
    "headers1 = [\"n_estimators = 1000, class_weight='balanced', max_depth=5\", \"20%\"]\n",
    "\n",
    "data2 = [\n",
    "    [\"Accuracy\", 0.94],\n",
    "    [\"CV-Accuracy\", 0.91],\n",
    "    [\"Precision\", 0.43],\n",
    "    [\"Recall\", 0.41],\n",
    "    [\"F1 Score\", 0.42],\n",
    "    [\"Training Accuracy\", 0.97],\n",
    "    [\"Testing Accuracy\", 0.94],\n",
    "]   \n",
    "headers2 = [\"n_estimators = 1000, class_weight='balanced', max_depth=10\", \"20%\"]\n",
    "\n",
    "\n",
    "print(tabulate(data, headers=headers, tablefmt=\"grid\"))\n",
    "print(tabulate(data1, headers=headers1, tablefmt=\"grid\"))\n",
    "print(tabulate(data2, headers=headers2, tablefmt=\"grid\"))\n",
    "print(\"CV = Cross-Validation\")\n",
    "\n",
    "def plot_bar_chart(data, headers, title):\n",
    "    labels = [row[0] for row in data]\n",
    "    values = [row[1] for row in data]\n",
    "\n",
    "    plt.figure(figsize=(10, 6))\n",
    "    plt.bar(labels, values, color='lightblue')\n",
    "    plt.xlabel('Metrics')\n",
    "    plt.ylabel('Values')\n",
    "    plt.title(title)\n",
    "    plt.show()\n",
    "\n",
    "plot_bar_chart(data, headers, \"n_estimators = 1000, class_weight='balanced'\")\n",
    "plot_bar_chart(data1, headers1, \"n_estimators = 1000, class_weight='balanced', max_depth=5\")\n",
    "plot_bar_chart(data2, headers2, \"n_estimators = 1000, class_weight='balanced', max_depth=10\")"
   ]
  },
  {
   "cell_type": "markdown",
   "id": "43abf33b",
   "metadata": {},
   "source": [
    "## Model Evaluation: all features four features: DISABLE, CUR_ILL, HISTORY, ALLERGIES\n",
    "#### (n_estimators = 1000, random_state = 51, class_weight='balanced', max_depth=5)"
   ]
  },
  {
   "cell_type": "code",
   "execution_count": 46,
   "id": "1b5de3c7",
   "metadata": {},
   "outputs": [
    {
     "name": "stdout",
     "output_type": "stream",
     "text": [
      "+-------------------------------------------------------------+-------+\n",
      "| n_estimators = 1000, class_weight='balanced', max_depth=5   |   20% |\n",
      "+=============================================================+=======+\n",
      "| Accuracy                                                    |  0.86 |\n",
      "+-------------------------------------------------------------+-------+\n",
      "| CV-Accuracy                                                 |  0.72 |\n",
      "+-------------------------------------------------------------+-------+\n",
      "| Precision                                                   |  0.17 |\n",
      "+-------------------------------------------------------------+-------+\n",
      "| Recall                                                      |  0.38 |\n",
      "+-------------------------------------------------------------+-------+\n",
      "| F1 Score                                                    |  0.23 |\n",
      "+-------------------------------------------------------------+-------+\n",
      "| Training Accuracy                                           |  0.86 |\n",
      "+-------------------------------------------------------------+-------+\n",
      "| Testing Accuracy                                            |  0.86 |\n",
      "+-------------------------------------------------------------+-------+\n",
      "CV = Cross-Validation\n"
     ]
    },
    {
     "data": {
      "image/png": "[encoded data removed]",
      "text/plain": [
       "<Figure size 1000x600 with 1 Axes>"
      ]
     },
     "metadata": {},
     "output_type": "display_data"
    }
   ],
   "source": [
    "data = [\n",
    "    [\"Accuracy\", 0.86],\n",
    "    [\"CV-Accuracy\", 0.72],\n",
    "    [\"Precision\", 0.17],\n",
    "    [\"Recall\", 0.38],\n",
    "    [\"F1 Score\", 0.23],\n",
    "    [\"Training Accuracy\", 0.86],\n",
    "    [\"Testing Accuracy\", 0.86],\n",
    "]   \n",
    "headers = [\"n_estimators = 1000, class_weight='balanced', max_depth=5\", \"20%\"]\n",
    "\n",
    "print(tabulate(data, headers=headers, tablefmt=\"grid\"))\n",
    "print(\"CV = Cross-Validation\")\n",
    "\n",
    "def plot_bar_chart(data, headers, title):\n",
    "    labels = [row[0] for row in data]\n",
    "    values = [row[1] for row in data]\n",
    "\n",
    "    plt.figure(figsize=(10, 6))\n",
    "    plt.bar(labels, values, color='lightblue')\n",
    "    plt.xlabel('Metrics')\n",
    "    plt.ylabel('Values')\n",
    "    plt.title(title)\n",
    "    plt.show()\n",
    "plot_bar_chart(data, headers, \"n_estimators = 1000, class_weight='balanced', max_depth=5\")"
   ]
  },
  {
   "cell_type": "markdown",
   "id": "c7309ae5",
   "metadata": {},
   "source": [
    "## Randon Forest - SMOTE "
   ]
  },
  {
   "cell_type": "code",
   "execution_count": 47,
   "id": "30246a5c",
   "metadata": {},
   "outputs": [],
   "source": [
    "from imblearn.over_sampling import SMOTE"
   ]
  },
  {
   "cell_type": "code",
   "execution_count": 48,
   "id": "eeade651",
   "metadata": {},
   "outputs": [
    {
     "data": {
      "text/plain": [
       "((2061, 7), (516, 7), (2061,), (516,))"
      ]
     },
     "execution_count": 48,
     "metadata": {},
     "output_type": "execute_result"
    }
   ],
   "source": [
    "X_train, X_test, y_train, y_test = train_test_split(X, y, test_size=0.2, random_state=56)\n",
    "X_train.shape, X_test.shape, y_train.shape, y_test.shape"
   ]
  },
  {
   "cell_type": "markdown",
   "id": "8eb3f0c8",
   "metadata": {},
   "source": [
    "I am Applying SMOTE to the training set only. If I apply to the entire dataset will result in a overfit of the negative class (target), that will generate excellent metrics but in accordance with the real dataset."
   ]
  },
  {
   "cell_type": "code",
   "execution_count": 49,
   "id": "1fd2a25c",
   "metadata": {},
   "outputs": [
    {
     "data": {
      "text/plain": [
       "((3888, 7), (3888,))"
      ]
     },
     "execution_count": 49,
     "metadata": {},
     "output_type": "execute_result"
    }
   ],
   "source": [
    "smote = SMOTE(random_state=42)\n",
    "X_train_resampled, y_train_resampled = smote.fit_resample(X_train, y_train)\n",
    "X_train_resampled.shape, y_train_resampled.shape"
   ]
  },
  {
   "cell_type": "markdown",
   "id": "e502a696",
   "metadata": {},
   "source": [
    "I will use the code below to call the Random Forest Classifier with the data balanced (SMOTE),  then I will train the model using the training sets, and I will make predictions onthe test set."
   ]
  },
  {
   "cell_type": "code",
   "execution_count": 50,
   "id": "ec384757",
   "metadata": {},
   "outputs": [
    {
     "data": {
      "text/html": [
       "<style>#sk-container-id-1 {color: black;}#sk-container-id-1 pre{padding: 0;}#sk-container-id-1 div.sk-toggleable {background-color: white;}#sk-container-id-1 label.sk-toggleable__label {cursor: pointer;display: block;width: 100%;margin-bottom: 0;padding: 0.3em;box-sizing: border-box;text-align: center;}#sk-container-id-1 label.sk-toggleable__label-arrow:before {content: \"▸\";float: left;margin-right: 0.25em;color: #696969;}#sk-container-id-1 label.sk-toggleable__label-arrow:hover:before {color: black;}#sk-container-id-1 div.sk-estimator:hover label.sk-toggleable__label-arrow:before {color: black;}#sk-container-id-1 div.sk-toggleable__content {max-height: 0;max-width: 0;overflow: hidden;text-align: left;background-color: #f0f8ff;}#sk-container-id-1 div.sk-toggleable__content pre {margin: 0.2em;color: black;border-radius: 0.25em;background-color: #f0f8ff;}#sk-container-id-1 input.sk-toggleable__control:checked~div.sk-toggleable__content {max-height: 200px;max-width: 100%;overflow: auto;}#sk-container-id-1 input.sk-toggleable__control:checked~label.sk-toggleable__label-arrow:before {content: \"▾\";}#sk-container-id-1 div.sk-estimator input.sk-toggleable__control:checked~label.sk-toggleable__label {background-color: #d4ebff;}#sk-container-id-1 div.sk-label input.sk-toggleable__control:checked~label.sk-toggleable__label {background-color: #d4ebff;}#sk-container-id-1 input.sk-hidden--visually {border: 0;clip: rect(1px 1px 1px 1px);clip: rect(1px, 1px, 1px, 1px);height: 1px;margin: -1px;overflow: hidden;padding: 0;position: absolute;width: 1px;}#sk-container-id-1 div.sk-estimator {font-family: monospace;background-color: #f0f8ff;border: 1px dotted black;border-radius: 0.25em;box-sizing: border-box;margin-bottom: 0.5em;}#sk-container-id-1 div.sk-estimator:hover {background-color: #d4ebff;}#sk-container-id-1 div.sk-parallel-item::after {content: \"\";width: 100%;border-bottom: 1px solid gray;flex-grow: 1;}#sk-container-id-1 div.sk-label:hover label.sk-toggleable__label {background-color: #d4ebff;}#sk-container-id-1 div.sk-serial::before {content: \"\";position: absolute;border-left: 1px solid gray;box-sizing: border-box;top: 0;bottom: 0;left: 50%;z-index: 0;}#sk-container-id-1 div.sk-serial {display: flex;flex-direction: column;align-items: center;background-color: white;padding-right: 0.2em;padding-left: 0.2em;position: relative;}#sk-container-id-1 div.sk-item {position: relative;z-index: 1;}#sk-container-id-1 div.sk-parallel {display: flex;align-items: stretch;justify-content: center;background-color: white;position: relative;}#sk-container-id-1 div.sk-item::before, #sk-container-id-1 div.sk-parallel-item::before {content: \"\";position: absolute;border-left: 1px solid gray;box-sizing: border-box;top: 0;bottom: 0;left: 50%;z-index: -1;}#sk-container-id-1 div.sk-parallel-item {display: flex;flex-direction: column;z-index: 1;position: relative;background-color: white;}#sk-container-id-1 div.sk-parallel-item:first-child::after {align-self: flex-end;width: 50%;}#sk-container-id-1 div.sk-parallel-item:last-child::after {align-self: flex-start;width: 50%;}#sk-container-id-1 div.sk-parallel-item:only-child::after {width: 0;}#sk-container-id-1 div.sk-dashed-wrapped {border: 1px dashed gray;margin: 0 0.4em 0.5em 0.4em;box-sizing: border-box;padding-bottom: 0.4em;background-color: white;}#sk-container-id-1 div.sk-label label {font-family: monospace;font-weight: bold;display: inline-block;line-height: 1.2em;}#sk-container-id-1 div.sk-label-container {text-align: center;}#sk-container-id-1 div.sk-container {/* jupyter's `normalize.less` sets `[hidden] { display: none; }` but bootstrap.min.css set `[hidden] { display: none !important; }` so we also need the `!important` here to be able to override the default hidden behavior on the sphinx rendered scikit-learn.org. See: https://github.com/scikit-learn/scikit-learn/issues/21755 */display: inline-block !important;position: relative;}#sk-container-id-1 div.sk-text-repr-fallback {display: none;}</style><div id=\"sk-container-id-1\" class=\"sk-top-container\"><div class=\"sk-text-repr-fallback\"><pre>RandomForestClassifier(max_depth=5, n_estimators=1000, random_state=67)</pre><b>In a Jupyter environment, please rerun this cell to show the HTML representation or trust the notebook. <br />On GitHub, the HTML representation is unable to render, please try loading this page with nbviewer.org.</b></div><div class=\"sk-container\" hidden><div class=\"sk-item\"><div class=\"sk-estimator sk-toggleable\"><input class=\"sk-toggleable__control sk-hidden--visually\" id=\"sk-estimator-id-1\" type=\"checkbox\" checked><label for=\"sk-estimator-id-1\" class=\"sk-toggleable__label sk-toggleable__label-arrow\">RandomForestClassifier</label><div class=\"sk-toggleable__content\"><pre>RandomForestClassifier(max_depth=5, n_estimators=1000, random_state=67)</pre></div></div></div></div></div>"
      ],
      "text/plain": [
       "RandomForestClassifier(max_depth=5, n_estimators=1000, random_state=67)"
      ]
     },
     "execution_count": 50,
     "metadata": {},
     "output_type": "execute_result"
    }
   ],
   "source": [
    "rf_smote = RandomForestClassifier(n_estimators = 1000, random_state = 67, max_depth = 5)\n",
    "\n",
    "rf_smote.fit(X_train_resampled, y_train_resampled)"
   ]
  },
  {
   "cell_type": "markdown",
   "id": "2300f2c3",
   "metadata": {},
   "source": [
    "Making predictions on the test set."
   ]
  },
  {
   "cell_type": "code",
   "execution_count": 51,
   "id": "de79234d",
   "metadata": {},
   "outputs": [],
   "source": [
    "y_pred_smote = rf_smote.predict(X_test)"
   ]
  },
  {
   "cell_type": "markdown",
   "id": "9e2440e1",
   "metadata": {},
   "source": [
    "### Hyperparameters"
   ]
  },
  {
   "cell_type": "code",
   "execution_count": 52,
   "id": "d9f5f737",
   "metadata": {
    "scrolled": true
   },
   "outputs": [
    {
     "name": "stdout",
     "output_type": "stream",
     "text": [
      "Accuracy: 0.80\n",
      "precision: 0.23\n",
      "recall: 0.68\n",
      "F1 Score: 0.34\n"
     ]
    }
   ],
   "source": [
    "print( \"Accuracy: {:.2f}\".format(metrics.accuracy_score(y_test, y_pred_smote)) )\n",
    "print( \"precision: {:.2f}\".format(metrics.precision_score(y_test, y_pred_smote)) )\n",
    "print( \"recall: {:.2f}\".format(metrics.recall_score(y_test, y_pred_smote)) )\n",
    "print( \"F1 Score: {:.2f}\".format(metrics.f1_score(y_test, y_pred_smote)) )"
   ]
  },
  {
   "cell_type": "markdown",
   "id": "20c20150",
   "metadata": {},
   "source": [
    "### Cross-validation"
   ]
  },
  {
   "cell_type": "code",
   "execution_count": 53,
   "id": "6b488c97",
   "metadata": {},
   "outputs": [
    {
     "name": "stdout",
     "output_type": "stream",
     "text": [
      "Cross-validation scores:  [0.93992248 0.93992248 0.93980583 0.92815534 0.93980583]\n",
      "Mean accuracy:  0.9375223903063145\n",
      "Standard deviation: 0.0046838158017898125\n"
     ]
    }
   ],
   "source": [
    "scores = cross_val_score(rf_smote, X, y, cv=5, scoring='accuracy')\n",
    "\n",
    "print(\"Cross-validation scores: \", scores)\n",
    "print(\"Mean accuracy: \", scores.mean())\n",
    "print(\"Standard deviation:\", scores.std())"
   ]
  },
  {
   "cell_type": "markdown",
   "id": "ebd74bec",
   "metadata": {},
   "source": [
    "###  Accuracy - train and test "
   ]
  },
  {
   "cell_type": "markdown",
   "id": "4c108ff1",
   "metadata": {},
   "source": [
    "That is the accuracy metric for the training and testing set."
   ]
  },
  {
   "cell_type": "code",
   "execution_count": 54,
   "id": "524f5395",
   "metadata": {
    "scrolled": true
   },
   "outputs": [
    {
     "name": "stdout",
     "output_type": "stream",
     "text": [
      "Training Accuracy : 0.8272683163512858\n",
      "Testing Accuracy : 0.8042635658914729\n"
     ]
    }
   ],
   "source": [
    "print(\"Training Accuracy :\", rf_smote.score(X_train, y_train))\n",
    "print(\"Testing Accuracy :\", rf_smote.score(X_test, y_test))"
   ]
  },
  {
   "cell_type": "markdown",
   "id": "ba9ffdd2",
   "metadata": {},
   "source": [
    "### Important Feature"
   ]
  },
  {
   "cell_type": "code",
   "execution_count": 55,
   "id": "0f9bca6a",
   "metadata": {},
   "outputs": [
    {
     "data": {
      "image/png": "[encoded data removed]",
      "text/plain": [
       "<Figure size 640x480 with 1 Axes>"
      ]
     },
     "metadata": {},
     "output_type": "display_data"
    }
   ],
   "source": [
    "feature_imp = pd.Series(rf_smote.feature_importances_, index=X.columns).sort_values(ascending=False)\n",
    "bar_color = 'orange'\n",
    "plt.barh(feature_imp.index, feature_imp, color=bar_color)\n",
    "plt.xlabel('Feature Importance')\n",
    "plt.ylabel('Features')\n",
    "plt.title('Random Forest Feature Importance')\n",
    "plt.show()"
   ]
  },
  {
   "cell_type": "code",
   "execution_count": 56,
   "id": "8545e5a0",
   "metadata": {},
   "outputs": [
    {
     "data": {
      "text/plain": [
       "Text(50.722222222222214, 0.5, 'Actual')"
      ]
     },
     "execution_count": 56,
     "metadata": {},
     "output_type": "execute_result"
    },
    {
     "data": {
      "image/png": "[encoded data removed]",
      "text/plain": [
       "<Figure size 640x480 with 2 Axes>"
      ]
     },
     "metadata": {},
     "output_type": "display_data"
    }
   ],
   "source": [
    "cm = confusion_matrix(y_test, y_pred_smote)\n",
    "sns.heatmap(cm, annot=True)\n",
    "ax = sns.heatmap(cm, annot=True,                  \n",
    "                 xticklabels=['Alive','Died'],                \n",
    "                 yticklabels=['Alive','Died'],                  \n",
    "                 cbar=False)\n",
    "ax.set_xlabel(\"Prediction\")\n",
    "ax.set_ylabel(\"Actual\")"
   ]
  },
  {
   "cell_type": "code",
   "execution_count": 57,
   "id": "643b0f5d",
   "metadata": {},
   "outputs": [
    {
     "name": "stdout",
     "output_type": "stream",
     "text": [
      "+------------------------------------+-------+\n",
      "| n_estimators = 1000, max_depth=5   |   20% |\n",
      "+====================================+=======+\n",
      "| Accuracy                           |  0.8  |\n",
      "+------------------------------------+-------+\n",
      "| CV-Accuracy                        |  0.94 |\n",
      "+------------------------------------+-------+\n",
      "| Precision                          |  0.23 |\n",
      "+------------------------------------+-------+\n",
      "| Recall                             |  0.68 |\n",
      "+------------------------------------+-------+\n",
      "| F1 Score                           |  0.34 |\n",
      "+------------------------------------+-------+\n",
      "| Training Accuracy                  |  0.83 |\n",
      "+------------------------------------+-------+\n",
      "| Testing Accuracy                   |  0.8  |\n",
      "+------------------------------------+-------+\n",
      "+-------------------------------------+-------+\n",
      "| n_estimators = 1000, max_depth=10   |   20% |\n",
      "+=====================================+=======+\n",
      "| Accuracy                            |  0.88 |\n",
      "+-------------------------------------+-------+\n",
      "| CV-Accuracy                         |  0.93 |\n",
      "+-------------------------------------+-------+\n",
      "| Precision                           |  0.31 |\n",
      "+-------------------------------------+-------+\n",
      "| Recall                              |  0.53 |\n",
      "+-------------------------------------+-------+\n",
      "| F1 Score                            |  0.39 |\n",
      "+-------------------------------------+-------+\n",
      "| Training Accuracy                   |  0.94 |\n",
      "+-------------------------------------+-------+\n",
      "| Testing Accuracy                    |  0.87 |\n",
      "+-------------------------------------+-------+\n",
      "CV = Cross-Validation\n"
     ]
    },
    {
     "data": {
      "image/png": "[encoded data removed]",
      "text/plain": [
       "<Figure size 1000x600 with 1 Axes>"
      ]
     },
     "metadata": {},
     "output_type": "display_data"
    },
    {
     "data": {
      "image/png": "[encoded data removed]",
      "text/plain": [
       "<Figure size 1000x600 with 1 Axes>"
      ]
     },
     "metadata": {},
     "output_type": "display_data"
    }
   ],
   "source": [
    "data = [\n",
    "    [\"Accuracy\", 0.80],\n",
    "    [\"CV-Accuracy\",0.94],\n",
    "    [\"Precision\", 0.23],\n",
    "    [\"Recall\", 0.68],\n",
    "    [\"F1 Score\", 0.34],\n",
    "    [\"Training Accuracy\", 0.83],\n",
    "    [\"Testing Accuracy\", 0.80],\n",
    "]   \n",
    "headers = [\"n_estimators = 1000, max_depth=5\", \"20%\"]\n",
    "\n",
    "data1 = [\n",
    "    [\"Accuracy\", 0.88],\n",
    "    [\"CV-Accuracy\", 0.93],\n",
    "    [\"Precision\", 0.31],\n",
    "    [\"Recall\", 0.53],\n",
    "    [\"F1 Score\",0.39],\n",
    "    [\"Training Accuracy\", 0.94],\n",
    "    [\"Testing Accuracy\", 0.87],\n",
    "]   \n",
    "headers1 = [\"n_estimators = 1000, max_depth=10\", \"20%\"]\n",
    "\n",
    "print(tabulate(data, headers=headers, tablefmt=\"grid\"))\n",
    "print(tabulate(data1, headers=headers1, tablefmt=\"grid\"))\n",
    "print(\"CV = Cross-Validation\")\n",
    "\n",
    "def plot_bar_chart(data, headers, title):\n",
    "    labels = [row[0] for row in data]\n",
    "    values = [row[1] for row in data]\n",
    "\n",
    "    plt.figure(figsize=(10, 6))\n",
    "    plt.bar(labels, values, color='lightpink')\n",
    "    plt.xlabel('Metrics')\n",
    "    plt.ylabel('Values')\n",
    "    plt.title(title)\n",
    "    plt.show()\n",
    "\n",
    "plot_bar_chart(data, headers, \"n_estimators = 1000, max_depth=5\")\n",
    "plot_bar_chart(data1, headers1, \"n_estimators = 1000, max_depth=10\")"
   ]
  },
  {
   "cell_type": "markdown",
   "id": "1b9cd88a",
   "metadata": {},
   "source": [
    "## Principal Component Analysis - PCA"
   ]
  },
  {
   "cell_type": "markdown",
   "id": "39e14a09",
   "metadata": {},
   "source": [
    "Before starting the PCA process, I checked that the data was correct. To avoid entering wrong data into the scale function and generating incorrect results.\n",
    "I named the data with another name to avoid accessing the previous data, leading to a misunderstanding. "
   ]
  },
  {
   "cell_type": "code",
   "execution_count": 58,
   "id": "2e749d97",
   "metadata": {
    "scrolled": true
   },
   "outputs": [
    {
     "data": {
      "text/html": [
       "<div>\n",
       "<style scoped>\n",
       "    .dataframe tbody tr th:only-of-type {\n",
       "        vertical-align: middle;\n",
       "    }\n",
       "\n",
       "    .dataframe tbody tr th {\n",
       "        vertical-align: top;\n",
       "    }\n",
       "\n",
       "    .dataframe thead th {\n",
       "        text-align: right;\n",
       "    }\n",
       "</style>\n",
       "<table border=\"1\" class=\"dataframe\">\n",
       "  <thead>\n",
       "    <tr style=\"text-align: right;\">\n",
       "      <th></th>\n",
       "      <th>AGE_YRS</th>\n",
       "      <th>SEX</th>\n",
       "      <th>DISABLE</th>\n",
       "      <th>NUMDAYS</th>\n",
       "      <th>CUR_ILL</th>\n",
       "      <th>HISTORY</th>\n",
       "      <th>ALLERGIES</th>\n",
       "      <th>DIED</th>\n",
       "    </tr>\n",
       "  </thead>\n",
       "  <tbody>\n",
       "    <tr>\n",
       "      <th>1390</th>\n",
       "      <td>73.0</td>\n",
       "      <td>0</td>\n",
       "      <td>0</td>\n",
       "      <td>0.0</td>\n",
       "      <td>2</td>\n",
       "      <td>2</td>\n",
       "      <td>0</td>\n",
       "      <td>0</td>\n",
       "    </tr>\n",
       "    <tr>\n",
       "      <th>1391</th>\n",
       "      <td>4.0</td>\n",
       "      <td>0</td>\n",
       "      <td>0</td>\n",
       "      <td>0.0</td>\n",
       "      <td>0</td>\n",
       "      <td>0</td>\n",
       "      <td>1</td>\n",
       "      <td>0</td>\n",
       "    </tr>\n",
       "    <tr>\n",
       "      <th>1392</th>\n",
       "      <td>35.0</td>\n",
       "      <td>0</td>\n",
       "      <td>0</td>\n",
       "      <td>0.0</td>\n",
       "      <td>0</td>\n",
       "      <td>1</td>\n",
       "      <td>1</td>\n",
       "      <td>0</td>\n",
       "    </tr>\n",
       "    <tr>\n",
       "      <th>1393</th>\n",
       "      <td>25.0</td>\n",
       "      <td>0</td>\n",
       "      <td>0</td>\n",
       "      <td>0.0</td>\n",
       "      <td>0</td>\n",
       "      <td>2</td>\n",
       "      <td>1</td>\n",
       "      <td>0</td>\n",
       "    </tr>\n",
       "    <tr>\n",
       "      <th>1394</th>\n",
       "      <td>37.0</td>\n",
       "      <td>1</td>\n",
       "      <td>0</td>\n",
       "      <td>1.0</td>\n",
       "      <td>0</td>\n",
       "      <td>0</td>\n",
       "      <td>1</td>\n",
       "      <td>0</td>\n",
       "    </tr>\n",
       "  </tbody>\n",
       "</table>\n",
       "</div>"
      ],
      "text/plain": [
       "      AGE_YRS  SEX  DISABLE  NUMDAYS  CUR_ILL  HISTORY  ALLERGIES  DIED\n",
       "1390     73.0    0        0      0.0        2        2          0     0\n",
       "1391      4.0    0        0      0.0        0        0          1     0\n",
       "1392     35.0    0        0      0.0        0        1          1     0\n",
       "1393     25.0    0        0      0.0        0        2          1     0\n",
       "1394     37.0    1        0      1.0        0        0          1     0"
      ]
     },
     "execution_count": 58,
     "metadata": {},
     "output_type": "execute_result"
    }
   ],
   "source": [
    "data = df_rf\n",
    "feature_names = ['AGE_YRS', 'SEX', 'DISABLE', 'NUMDAYS', 'CUR_ILL', 'HISTORY', 'ALLERGIES']\n",
    "\n",
    "df_pca = pd.DataFrame(data=df_rf[feature_names], columns=feature_names)\n",
    "\n",
    "df_pca['DIED'] = pd.Series(df_rf['DIED'])\n",
    "\n",
    "df_pca.head()"
   ]
  },
  {
   "cell_type": "code",
   "execution_count": 59,
   "id": "ac01fa98",
   "metadata": {
    "scrolled": true
   },
   "outputs": [
    {
     "data": {
      "text/plain": [
       "0    2422\n",
       "1     155\n",
       "Name: DIED, dtype: int64"
      ]
     },
     "execution_count": 59,
     "metadata": {},
     "output_type": "execute_result"
    }
   ],
   "source": [
    "df_pca[\"DIED\"].value_counts()"
   ]
  },
  {
   "cell_type": "markdown",
   "id": "6b0cc267",
   "metadata": {},
   "source": [
    "Spliting the data into training and testing."
   ]
  },
  {
   "cell_type": "code",
   "execution_count": 60,
   "id": "665d1b55",
   "metadata": {},
   "outputs": [
    {
     "data": {
      "text/plain": [
       "((2577, 7), (2577,), (1803, 7), (774, 7), (1803,), (774,))"
      ]
     },
     "execution_count": 60,
     "metadata": {},
     "output_type": "execute_result"
    }
   ],
   "source": [
    "X = df_pca.drop('DIED', axis=1)\n",
    "y = df_pca['DIED']\n",
    "\n",
    "X_train, X_test, y_train, y_test = train_test_split(X, y, test_size = 0.3, random_state = 8)\n",
    "\n",
    "X.shape, y.shape, X_train.shape, X_test.shape, y_train.shape, y_test.shape"
   ]
  },
  {
   "cell_type": "markdown",
   "id": "94485f03",
   "metadata": {},
   "source": [
    "### Scaling the data"
   ]
  },
  {
   "cell_type": "markdown",
   "id": "f247af29",
   "metadata": {},
   "source": [
    "I used the StandardScaler function to scale my data to avoid erroneous results, as this model also requires values from all columns in the same range. "
   ]
  },
  {
   "cell_type": "code",
   "execution_count": 61,
   "id": "1ec637ce",
   "metadata": {
    "scrolled": true
   },
   "outputs": [
    {
     "name": "stdout",
     "output_type": "stream",
     "text": [
      "[[-0.65955112 -0.60571733 -0.19797243 ... -0.44413612 -1.04946176\n",
      "   1.22407566]\n",
      " [ 1.26637534 -0.60571733 -0.19797243 ... -0.44413612 -1.04946176\n",
      "  -0.63524061]\n",
      " [-0.29075669 -0.60571733 -0.19797243 ... -0.44413612 -1.04946176\n",
      "   1.22407566]\n",
      " ...\n",
      " [ 0.89758091  1.34447614 -0.19797243 ...  1.46702718  0.72890248\n",
      "  -0.63524061]\n",
      " [-0.45466533 -0.60571733 -0.19797243 ...  1.46702718  2.50726672\n",
      "  -0.63524061]\n",
      " [ 0.24194637 -0.60571733 -0.19797243 ... -0.44413612 -1.04946176\n",
      "  -0.63524061]] \t [[-1.56104861 -0.60571733 -0.19797243 ... -0.44413612 -1.04946176\n",
      "  -0.63524061]\n",
      " [ 1.63516977  1.34447614  5.05120836 ...  1.46702718  0.72890248\n",
      "  -0.63524061]\n",
      " [-0.33173385 -0.60571733 -0.19797243 ... -0.44413612 -1.04946176\n",
      "   1.22407566]\n",
      " ...\n",
      " [ 0.77464944  1.34447614 -0.19797243 ...  1.46702718  0.72890248\n",
      "  -0.63524061]\n",
      " [ 1.22539818 -0.60571733 -0.19797243 ... -0.44413612  0.72890248\n",
      "  -0.63524061]\n",
      " [-1.15127703 -0.60571733 -0.19797243 ...  1.46702718 -1.04946176\n",
      "   1.22407566]] \t [[ 1.22539818 -0.60571733 -0.19797243 ...  3.37819047  2.50726672\n",
      "  -0.63524061]\n",
      " [-1.60202577 -0.60571733 -0.19797243 ... -0.44413612 -1.04946176\n",
      "   1.22407566]\n",
      " [-0.33173385 -0.60571733 -0.19797243 ... -0.44413612  0.72890248\n",
      "   1.22407566]\n",
      " ...\n",
      " [-0.00391658  1.34447614 -0.19797243 ...  1.46702718  0.72890248\n",
      "  -0.63524061]\n",
      " [ 1.88103272  1.34447614 -0.19797243 ...  3.37819047  0.72890248\n",
      "  -0.63524061]\n",
      " [ 0.52878648 -0.60571733 -0.19797243 ...  1.46702718  0.72890248\n",
      "  -0.63524061]]\n"
     ]
    }
   ],
   "source": [
    "from sklearn.preprocessing import StandardScaler\n",
    "\n",
    "scaler = StandardScaler()\n",
    "\n",
    "scaler.fit(X_train)\n",
    "\n",
    "X_train_scaled = scaler.transform(X_train)\n",
    "X_test_scaled  = scaler.transform(X_test)\n",
    "X_scaled = scaler.transform(X)\n",
    "\n",
    "print(X_train_scaled, '\\t', X_test_scaled, '\\t', X_scaled)"
   ]
  },
  {
   "cell_type": "markdown",
   "id": "50bb2603",
   "metadata": {},
   "source": [
    "Here, I am determining that I want to keep the data pattern in the first two principal components using the data scaled."
   ]
  },
  {
   "cell_type": "code",
   "execution_count": 62,
   "id": "2d51dc75",
   "metadata": {},
   "outputs": [
    {
     "name": "stdout",
     "output_type": "stream",
     "text": [
      "Original shape: (2577, 7)\n",
      "Reduced shape: (2577, 2)\n"
     ]
    }
   ],
   "source": [
    "from sklearn.decomposition import PCA\n",
    "\n",
    "pca = PCA(n_components = 2)\n",
    "\n",
    "X_pca = pca.fit_transform(X_scaled)\n",
    "\n",
    "print(\"Original shape: {}\".format(str(X_scaled.shape)))\n",
    "print(\"Reduced shape: {}\".format(str(X_pca.shape)))"
   ]
  },
  {
   "cell_type": "markdown",
   "id": "7312c218",
   "metadata": {},
   "source": [
    "That is sum of the first two principal components."
   ]
  },
  {
   "cell_type": "code",
   "execution_count": 63,
   "id": "839721e9",
   "metadata": {},
   "outputs": [
    {
     "name": "stdout",
     "output_type": "stream",
     "text": [
      "0.38560521000000003\n"
     ]
    }
   ],
   "source": [
    "PCA_sum = 0.2233018 + 0.16230341\n",
    "print(PCA_sum)"
   ]
  },
  {
   "cell_type": "markdown",
   "id": "2c88fca6",
   "metadata": {},
   "source": [
    "Below, the variance in the first two principal components is calculated after redimension the data"
   ]
  },
  {
   "cell_type": "code",
   "execution_count": 64,
   "id": "4c6cab84",
   "metadata": {},
   "outputs": [
    {
     "name": "stdout",
     "output_type": "stream",
     "text": [
      "[0.23072398 0.16442689]\n"
     ]
    }
   ],
   "source": [
    "explained_variance = pca.explained_variance_ratio_\n",
    "print(explained_variance)"
   ]
  },
  {
   "cell_type": "code",
   "execution_count": 65,
   "id": "d1317a98",
   "metadata": {},
   "outputs": [
    {
     "data": {
      "text/plain": [
       "(2577, 2)"
      ]
     },
     "execution_count": 65,
     "metadata": {},
     "output_type": "execute_result"
    }
   ],
   "source": [
    "num_components = 2\n",
    "pca = PCA(n_components=num_components)\n",
    "projected = pca.fit_transform(X_scaled)\n",
    "projected.shape"
   ]
  },
  {
   "cell_type": "code",
   "execution_count": 66,
   "id": "ae8d091b",
   "metadata": {},
   "outputs": [
    {
     "name": "stdout",
     "output_type": "stream",
     "text": [
      "[[ 3.81796455 -1.90203409]\n",
      " [-2.04096953  0.07866547]\n",
      " [-0.4904742  -0.63483936]\n",
      " ...\n",
      " [ 1.54328174  0.12162279]\n",
      " [ 3.36074834 -0.67971157]\n",
      " [ 1.45453158 -0.94741695]] 39.51508712812014\n"
     ]
    }
   ],
   "source": [
    "total_var = pca.explained_variance_ratio_.sum() * 100\n",
    "print(X_pca, total_var)"
   ]
  },
  {
   "cell_type": "code",
   "execution_count": 67,
   "id": "b4987971",
   "metadata": {},
   "outputs": [
    {
     "data": {
      "image/png": "[encoded data removed]",
      "text/plain": [
       "<Figure size 1000x1000 with 1 Axes>"
      ]
     },
     "metadata": {},
     "output_type": "display_data"
    }
   ],
   "source": [
    "import matplotlib.pyplot as plt\n",
    "import mglearn\n",
    "\n",
    "plt.figure(figsize=(10, 10)) \n",
    "scatter = mglearn.discrete_scatter(X_pca[:, 0], X_pca[:, 1], df_pca['DIED'])\n",
    "plt.legend(handles=scatter, labels=['0 - Alive', '1 - Dead'], loc=\"best\")\n",
    "plt.gca().set_aspect(\"equal\")\n",
    "plt.xlabel(\"First principal component\")\n",
    "plt.ylabel(\"Second principal component\")\n",
    "plt.show()"
   ]
  },
  {
   "cell_type": "code",
   "execution_count": 68,
   "id": "bd2a0b0b",
   "metadata": {
    "scrolled": true
   },
   "outputs": [
    {
     "name": "stdout",
     "output_type": "stream",
     "text": [
      "PCA components:\n",
      "[[ 0.40871415  0.15697198  0.29131777  0.02456729  0.54822975  0.57992003\n",
      "  -0.29322318]\n",
      " [-0.22657461  0.48466152  0.74291148  0.22319444 -0.19251869 -0.23937106\n",
      "  -0.13293601]]\n"
     ]
    }
   ],
   "source": [
    "print(\"PCA components:\\n{}\".format(pca.components_))"
   ]
  },
  {
   "cell_type": "markdown",
   "id": "d7262f35",
   "metadata": {},
   "source": [
    "This heatmap shows how each feature contibuted for each class."
   ]
  },
  {
   "cell_type": "code",
   "execution_count": 69,
   "id": "3fcb844f",
   "metadata": {},
   "outputs": [
    {
     "data": {
      "text/plain": [
       "<Axes: >"
      ]
     },
     "execution_count": 69,
     "metadata": {},
     "output_type": "execute_result"
    },
    {
     "data": {
      "image/png": "[encoded data removed]",
      "text/plain": [
       "<Figure size 1400x600 with 2 Axes>"
      ]
     },
     "metadata": {},
     "output_type": "display_data"
    }
   ],
   "source": [
    "df_comp = pd.DataFrame(pca.components_, columns=['AGE_YRS', 'SEX', 'DISABLE', 'NUMDAYS', 'CUR_ILL', 'HISTORY', 'ALLERGIES'])\n",
    "\n",
    "feature_names = df_pca[['AGE_YRS', 'SEX', 'DISABLE', 'NUMDAYS', 'CUR_ILL', 'HISTORY', 'ALLERGIES']].columns\n",
    "\n",
    "df_comp.columns = feature_names\n",
    "\n",
    "plt.figure(figsize =(14, 6))\n",
    "sns.heatmap(df_comp)"
   ]
  },
  {
   "cell_type": "markdown",
   "id": "f007606a",
   "metadata": {},
   "source": [
    "## Random Forest with PCA"
   ]
  },
  {
   "cell_type": "markdown",
   "id": "4a0d2d76",
   "metadata": {},
   "source": [
    "Here, I am applying the Random Forest with PCA data. Starting by calling  the X and Y variable, followed by spliting into training and testing set, and then scaling the dataset"
   ]
  },
  {
   "cell_type": "code",
   "execution_count": 70,
   "id": "c61009a1",
   "metadata": {
    "scrolled": true
   },
   "outputs": [],
   "source": [
    "from sklearn.decomposition import PCA\n",
    "from sklearn.model_selection import train_test_split\n",
    "from sklearn.metrics import accuracy_score, precision_score, recall_score, f1_score\n",
    "from sklearn.ensemble import RandomForestClassifier\n",
    "\n",
    "X = df_pca.drop('DIED', axis=1)\n",
    "y = df_pca['DIED']\n",
    "\n",
    "X_train, X_test, y_train, y_test = train_test_split(X, y, test_size = 0.3, random_state = 8)\n",
    "\n",
    "X.shape, y.shape, X_train.shape, X_test.shape, y_train.shape, y_test.shape\n",
    "\n",
    "scaler = StandardScaler()\n",
    "\n",
    "scaler.fit(X_train)\n",
    "\n",
    "X_train_scaled = scaler.transform(X_train)\n",
    "X_test_scaled  = scaler.transform(X_test)\n",
    "X_scaled = scaler.transform(X)"
   ]
  },
  {
   "cell_type": "markdown",
   "id": "a07d2f66",
   "metadata": {},
   "source": [
    "Applying PCA"
   ]
  },
  {
   "cell_type": "code",
   "execution_count": 71,
   "id": "606983e5",
   "metadata": {},
   "outputs": [],
   "source": [
    "pca = PCA(n_components=2)\n",
    "X_train_pca = pca.fit_transform(X_train)\n",
    "X_test_pca = pca.transform(X_test)"
   ]
  },
  {
   "cell_type": "markdown",
   "id": "946faab5",
   "metadata": {},
   "source": [
    "Training the Random Forest model and making preditions"
   ]
  },
  {
   "cell_type": "code",
   "execution_count": 72,
   "id": "34adab41",
   "metadata": {},
   "outputs": [],
   "source": [
    "rf_model = RandomForestClassifier(n_estimators = 1000, random_state = 42, class_weight='balanced', max_depth=5)\n",
    "rf_model.fit(X_train_pca, y_train)\n",
    "\n",
    "predictions = rf_model.predict(X_test_pca)"
   ]
  },
  {
   "cell_type": "markdown",
   "id": "58e306a9",
   "metadata": {},
   "source": [
    "### Cross-validation and other metrics"
   ]
  },
  {
   "cell_type": "code",
   "execution_count": 73,
   "id": "6a80ed71",
   "metadata": {
    "scrolled": true
   },
   "outputs": [
    {
     "name": "stdout",
     "output_type": "stream",
     "text": [
      "Accuracy:  0.8449612403100775\n",
      "Cross-Validation Scores: [0.86426593 0.81717452 0.86426593 0.86944444 0.85      ]\n",
      "Mean CV Accuracy: 0.853030163127116\n",
      "Precision: 0.2536231884057971\n",
      "Recall: 0.6730769230769231\n",
      "F1 Score: 0.368421052631579\n"
     ]
    }
   ],
   "source": [
    "cv_scores = cross_val_score(rf_model, X_train_pca, y_train, cv=5)\n",
    "\n",
    "accuracy = accuracy_score(y_test, predictions)\n",
    "precision = precision_score(y_test, predictions)\n",
    "recall = recall_score(y_test, predictions)\n",
    "f1 = f1_score(y_test, predictions)\n",
    "\n",
    "print(\"Accuracy: \", accuracy)\n",
    "print(\"Cross-Validation Scores:\", cv_scores)\n",
    "print(\"Mean CV Accuracy:\", cv_scores.mean())\n",
    "print(\"Precision:\", precision)\n",
    "print(\"Recall:\", recall)\n",
    "print(\"F1 Score:\", f1)"
   ]
  },
  {
   "cell_type": "markdown",
   "id": "8cc14e3a",
   "metadata": {},
   "source": [
    "### Accuracy: Train and test"
   ]
  },
  {
   "cell_type": "code",
   "execution_count": 74,
   "id": "c31dab78",
   "metadata": {
    "scrolled": true
   },
   "outputs": [
    {
     "name": "stdout",
     "output_type": "stream",
     "text": [
      "Training Accuracy : 0.8746533555185801\n",
      "Testing Accuracy : 0.8449612403100775\n"
     ]
    }
   ],
   "source": [
    "print(\"Training Accuracy :\", rf_model.score(X_train_pca, y_train))\n",
    "print(\"Testing Accuracy :\", rf_model.score(X_test_pca, y_test))"
   ]
  },
  {
   "cell_type": "code",
   "execution_count": 75,
   "id": "0e785b0e",
   "metadata": {},
   "outputs": [
    {
     "data": {
      "text/plain": [
       "Text(50.722222222222214, 0.5, 'Actual')"
      ]
     },
     "execution_count": 75,
     "metadata": {},
     "output_type": "execute_result"
    },
    {
     "data": {
      "image/png": "[encoded data removed]",
      "text/plain": [
       "<Figure size 640x480 with 2 Axes>"
      ]
     },
     "metadata": {},
     "output_type": "display_data"
    }
   ],
   "source": [
    "cm = confusion_matrix(y_test, predictions)\n",
    "sns.heatmap(cm, annot=True)\n",
    "ax = sns.heatmap(cm, annot=True,                  \n",
    "                 xticklabels=['Alive','Died'],                \n",
    "                 yticklabels=['Alive','Died'],                  \n",
    "                 cbar=False)\n",
    "ax.set_xlabel(\"Prediction\")\n",
    "ax.set_ylabel(\"Actual\")"
   ]
  },
  {
   "cell_type": "markdown",
   "id": "fa10b407",
   "metadata": {},
   "source": [
    "## Model Evaluation: Random Forest with PCA"
   ]
  },
  {
   "cell_type": "code",
   "execution_count": 76,
   "id": "c6fa31c6",
   "metadata": {},
   "outputs": [
    {
     "name": "stdout",
     "output_type": "stream",
     "text": [
      "+----------------------+-------+-------+-------+\n",
      "| n_estimators = 100   |   10% |   20% |   30% |\n",
      "+======================+=======+=======+=======+\n",
      "| Accuracy             |  0.92 |  0.91 |  0.91 |\n",
      "+----------------------+-------+-------+-------+\n",
      "| CV-Accuracy          |  0.92 |  0.93 |  0.92 |\n",
      "+----------------------+-------+-------+-------+\n",
      "| Precision            |  0.22 |  0.21 |  0.34 |\n",
      "+----------------------+-------+-------+-------+\n",
      "| Recall               |  0.13 |  0.12 |  0.19 |\n",
      "+----------------------+-------+-------+-------+\n",
      "| F1 Score             |  0.16 |  0.15 |  0.25 |\n",
      "+----------------------+-------+-------+-------+\n",
      "| Training Accuracy    |  0.99 |  0.99 |  0.99 |\n",
      "+----------------------+-------+-------+-------+\n",
      "| Testing Accuracy     |  0.92 |  0.91 |  0.92 |\n",
      "+----------------------+-------+-------+-------+\n",
      "+------------------------+-------+-------+-------+\n",
      "| n_estimators = 10000   |   10% |   20% |   30% |\n",
      "+========================+=======+=======+=======+\n",
      "| Accuracy               |  0.92 |  0.91 |  0.92 |\n",
      "+------------------------+-------+-------+-------+\n",
      "| CV-Accuracy            |  0.93 |  0.93 |  0.93 |\n",
      "+------------------------+-------+-------+-------+\n",
      "| Precision              |  0.2  |  0.19 |  0.29 |\n",
      "+------------------------+-------+-------+-------+\n",
      "| Recall                 |  0.13 |  0.09 |  0.15 |\n",
      "+------------------------+-------+-------+-------+\n",
      "| F1 Score               |  0.16 |  0.12 |  0.2  |\n",
      "+------------------------+-------+-------+-------+\n",
      "| Training Accuracy      |  0.99 |  0.99 |  0.99 |\n",
      "+------------------------+-------+-------+-------+\n",
      "| Testing Accuracy       |  0.92 |  0.91 |  0.92 |\n",
      "+------------------------+-------+-------+-------+\n",
      "CV = Cross-Validation\n"
     ]
    }
   ],
   "source": [
    "from tabulate import tabulate\n",
    "data = [\n",
    "    [\"Accuracy\", 0.92, 0.91, 0.91],\n",
    "    [\"CV-Accuracy\", 0.92, 0.93, 0.92],\n",
    "    [\"Precision\", 0.22, 0.21, 0.34],\n",
    "    [\"Recall\", 0.13, 0.12, 0.19],\n",
    "    [\"F1 Score\", 0.16, 0.15, 0.25],\n",
    "    [\"Training Accuracy\", 0.99, 0.99, 0.99],\n",
    "    [\"Testing Accuracy\", 0.92, 0.91, 0.92],\n",
    "]   \n",
    "headers = [\"n_estimators = 100\", \"10%\", \"20%\", \"30%\"]\n",
    "\n",
    "\n",
    "data1 = [\n",
    "    [\"Accuracy\", 0.92, 0.91, 0.92],\n",
    "    [\"CV-Accuracy\", 0.93, 0.93, 0.93],\n",
    "    [\"Precision\", 0.20, 0.19, 0.29],\n",
    "    [\"Recall\", 0.13, 0.09, 0.15],\n",
    "    [\"F1 Score\", 0.16, 0.12, 0.20],\n",
    "    [\"Training Accuracy\", 0.99, 0.99, 0.99],\n",
    "    [\"Testing Accuracy\", 0.92, 0.91, 0.92],\n",
    "]   \n",
    "headers1 = [\"n_estimators = 10000\", \"10%\",  \"20%\", \"30%\"]\n",
    "\n",
    "print(tabulate(data, headers=headers, tablefmt=\"grid\"))\n",
    "print(tabulate(data1, headers=headers1, tablefmt=\"grid\"))\n",
    "print(\"CV = Cross-Validation\")"
   ]
  },
  {
   "cell_type": "markdown",
   "id": "87968ac0",
   "metadata": {},
   "source": [
    "### Adjusting hyperparameters"
   ]
  },
  {
   "cell_type": "code",
   "execution_count": 77,
   "id": "901b991b",
   "metadata": {},
   "outputs": [
    {
     "name": "stdout",
     "output_type": "stream",
     "text": [
      "+------------------------------------------------+-------+\n",
      "| n_estimators = 1000, class_weight='balanced'   |   30% |\n",
      "+================================================+=======+\n",
      "| Accuracy                                       |  0.91 |\n",
      "+------------------------------------------------+-------+\n",
      "| CV-Accuracy                                    |  0.92 |\n",
      "+------------------------------------------------+-------+\n",
      "| Precision                                      |  0.29 |\n",
      "+------------------------------------------------+-------+\n",
      "| Recall                                         |  0.23 |\n",
      "+------------------------------------------------+-------+\n",
      "| F1 Score                                       |  0.25 |\n",
      "+------------------------------------------------+-------+\n",
      "| Training Accuracy                              |  0.98 |\n",
      "+------------------------------------------------+-------+\n",
      "| Testing Accuracy                               |  0.91 |\n",
      "+------------------------------------------------+-------+\n",
      "+-------------------------------------------------------------+-------+\n",
      "| n_estimators = 1000, class_weight='balanced', max_depth=5   |   30% |\n",
      "+=============================================================+=======+\n",
      "| Accuracy                                                    |  0.84 |\n",
      "+-------------------------------------------------------------+-------+\n",
      "| CV-Accuracy                                                 |  0.85 |\n",
      "+-------------------------------------------------------------+-------+\n",
      "| Precision                                                   |  0.25 |\n",
      "+-------------------------------------------------------------+-------+\n",
      "| Recall                                                      |  0.67 |\n",
      "+-------------------------------------------------------------+-------+\n",
      "| F1 Score                                                    |  0.36 |\n",
      "+-------------------------------------------------------------+-------+\n",
      "| Training Accuracy                                           |  0.87 |\n",
      "+-------------------------------------------------------------+-------+\n",
      "| Testing Accuracy                                            |  0.84 |\n",
      "+-------------------------------------------------------------+-------+\n",
      "+--------------------------------------------------------------+-------+\n",
      "| n_estimators = 1000, class_weight='balanced', max_depth=10   |   30% |\n",
      "+==============================================================+=======+\n",
      "| Accuracy                                                     |  0.91 |\n",
      "+--------------------------------------------------------------+-------+\n",
      "| CV-Accuracy                                                  |  0.91 |\n",
      "+--------------------------------------------------------------+-------+\n",
      "| Precision                                                    |  0.3  |\n",
      "+--------------------------------------------------------------+-------+\n",
      "| Recall                                                       |  0.27 |\n",
      "+--------------------------------------------------------------+-------+\n",
      "| F1 Score                                                     |  0.29 |\n",
      "+--------------------------------------------------------------+-------+\n",
      "| Training Accuracy                                            |  0.98 |\n",
      "+--------------------------------------------------------------+-------+\n",
      "| Testing Accuracy                                             |  0.91 |\n",
      "+--------------------------------------------------------------+-------+\n",
      "CV = Cross-Validation\n"
     ]
    },
    {
     "data": {
      "image/png": "[encoded data removed]",
      "text/plain": [
       "<Figure size 1000x600 with 1 Axes>"
      ]
     },
     "metadata": {},
     "output_type": "display_data"
    },
    {
     "data": {
      "image/png": "[encoded data removed]",
      "text/plain": [
       "<Figure size 1000x600 with 1 Axes>"
      ]
     },
     "metadata": {},
     "output_type": "display_data"
    },
    {
     "data": {
      "image/png": "[encoded data removed]",
      "text/plain": [
       "<Figure size 1000x600 with 1 Axes>"
      ]
     },
     "metadata": {},
     "output_type": "display_data"
    }
   ],
   "source": [
    "data = [\n",
    "    [\"Accuracy\", 0.91],\n",
    "    [\"CV-Accuracy\", 0.92],\n",
    "    [\"Precision\", 0.29],\n",
    "    [\"Recall\", 0.23],\n",
    "    [\"F1 Score\", 0.25],\n",
    "    [\"Training Accuracy\", 0.98],\n",
    "    [\"Testing Accuracy\", 0.91],\n",
    "]   \n",
    "headers = [\"n_estimators = 1000, class_weight='balanced'\", \"30%\"]\n",
    "\n",
    "data1 = [\n",
    "    [\"Accuracy\", 0.84],\n",
    "    [\"CV-Accuracy\", 0.85],\n",
    "    [\"Precision\", 0.25],\n",
    "    [\"Recall\", 0.67],\n",
    "    [\"F1 Score\", 0.36],\n",
    "    [\"Training Accuracy\", 0.87],\n",
    "    [\"Testing Accuracy\", 0.84],\n",
    "]   \n",
    "headers1 = [\"n_estimators = 1000, class_weight='balanced', max_depth=5\", \"30%\"]\n",
    "\n",
    "data2 = [\n",
    "    [\"Accuracy\", 0.91],\n",
    "    [\"CV-Accuracy\", 0.91],\n",
    "    [\"Precision\", 0.30],\n",
    "    [\"Recall\", 0.27],\n",
    "    [\"F1 Score\", 0.29],\n",
    "    [\"Training Accuracy\", 0.98],\n",
    "    [\"Testing Accuracy\", 0.91],\n",
    "]   \n",
    "headers2 = [\"n_estimators = 1000, class_weight='balanced', max_depth=10\", \"30%\"]\n",
    "\n",
    "\n",
    "print(tabulate(data, headers=headers, tablefmt=\"grid\"))\n",
    "print(tabulate(data1, headers=headers1, tablefmt=\"grid\"))\n",
    "print(tabulate(data2, headers=headers2, tablefmt=\"grid\"))\n",
    "print(\"CV = Cross-Validation\")\n",
    "\n",
    "def plot_bar_chart(data, headers, title):\n",
    "    labels = [row[0] for row in data]\n",
    "    values = [row[1] for row in data]\n",
    "\n",
    "    plt.figure(figsize=(10, 6))\n",
    "    plt.bar(labels, values, color='lightgreen')\n",
    "    plt.xlabel('Metrics')\n",
    "    plt.ylabel('Values')\n",
    "    plt.title(title)\n",
    "    plt.show()\n",
    "\n",
    "plot_bar_chart(data, headers, \"n_estimators = 1000, class_weight='balanced'\")\n",
    "plot_bar_chart(data1, headers1, \"n_estimators = 1000, class_weight='balanced', max_depth=5\")\n",
    "plot_bar_chart(data2, headers2, \"n_estimators = 1000, class_weight='balanced', max_depth=10\")"
   ]
  },
  {
   "cell_type": "markdown",
   "id": "2b33c7c0",
   "metadata": {},
   "source": [
    "## Model Evaluation: four features: DISABLE, CUR_ILL, HISTORY, ALLERGIES\n",
    "#### (n_estimators = 1000, random_state = 42, class_weight='balanced', max_depth=5)"
   ]
  },
  {
   "cell_type": "code",
   "execution_count": 78,
   "id": "74e26e7b",
   "metadata": {},
   "outputs": [
    {
     "name": "stdout",
     "output_type": "stream",
     "text": [
      "+-------------------------------------------------------------+-------+\n",
      "| n_estimators = 1000, class_weight='balanced', max_depth=5   |   30% |\n",
      "+=============================================================+=======+\n",
      "| Accuracy                                                    |  0.62 |\n",
      "+-------------------------------------------------------------+-------+\n",
      "| CV-Accuracy                                                 |  0.74 |\n",
      "+-------------------------------------------------------------+-------+\n",
      "| Precision                                                   |  0.13 |\n",
      "+-------------------------------------------------------------+-------+\n",
      "| Recall                                                      |  0.79 |\n",
      "+-------------------------------------------------------------+-------+\n",
      "| F1 Score                                                    |  0.22 |\n",
      "+-------------------------------------------------------------+-------+\n",
      "| Training Accuracy                                           |  0.64 |\n",
      "+-------------------------------------------------------------+-------+\n",
      "| Testing Accuracy                                            |  0.66 |\n",
      "+-------------------------------------------------------------+-------+\n",
      "CV = Cross-Validation\n"
     ]
    },
    {
     "data": {
      "image/png": "[encoded data removed]",
      "text/plain": [
       "<Figure size 1000x600 with 1 Axes>"
      ]
     },
     "metadata": {},
     "output_type": "display_data"
    }
   ],
   "source": [
    "data = [\n",
    "    [\"Accuracy\", 0.62],\n",
    "    [\"CV-Accuracy\", 0.74],\n",
    "    [\"Precision\", 0.13],\n",
    "    [\"Recall\", 0.79],\n",
    "    [\"F1 Score\", 0.22],\n",
    "    [\"Training Accuracy\", 0.64],\n",
    "    [\"Testing Accuracy\", 0.66],\n",
    "]   \n",
    "headers = [\"n_estimators = 1000, class_weight='balanced', max_depth=5\", \"30%\"]\n",
    "\n",
    "print(tabulate(data, headers=headers, tablefmt=\"grid\"))\n",
    "print(\"CV = Cross-Validation\")\n",
    "\n",
    "def plot_bar_chart(data, headers, title):\n",
    "    labels = [row[0] for row in data]\n",
    "    values = [row[1] for row in data]\n",
    "\n",
    "    plt.figure(figsize=(10, 6))\n",
    "    plt.bar(labels, values, color='lightgreen')\n",
    "    plt.xlabel('Metrics')\n",
    "    plt.ylabel('Values')\n",
    "    plt.title(title)\n",
    "    plt.show()\n",
    "plot_bar_chart(data, headers, \"n_estimators = 1000, class_weight='balanced', max_depth=5\")"
   ]
  },
  {
   "cell_type": "markdown",
   "id": "b4f10ff3",
   "metadata": {},
   "source": [
    "# Artificial Neural Networks - ANN\n",
    "#### With data scaled"
   ]
  },
  {
   "cell_type": "code",
   "execution_count": 79,
   "id": "43ceed82",
   "metadata": {
    "scrolled": true
   },
   "outputs": [
    {
     "data": {
      "text/html": [
       "<div>\n",
       "<style scoped>\n",
       "    .dataframe tbody tr th:only-of-type {\n",
       "        vertical-align: middle;\n",
       "    }\n",
       "\n",
       "    .dataframe tbody tr th {\n",
       "        vertical-align: top;\n",
       "    }\n",
       "\n",
       "    .dataframe thead th {\n",
       "        text-align: right;\n",
       "    }\n",
       "</style>\n",
       "<table border=\"1\" class=\"dataframe\">\n",
       "  <thead>\n",
       "    <tr style=\"text-align: right;\">\n",
       "      <th></th>\n",
       "      <th>AGE_YRS</th>\n",
       "      <th>SEX</th>\n",
       "      <th>DIED</th>\n",
       "      <th>DISABLE</th>\n",
       "      <th>NUMDAYS</th>\n",
       "      <th>CUR_ILL</th>\n",
       "      <th>HISTORY</th>\n",
       "      <th>ALLERGIES</th>\n",
       "    </tr>\n",
       "  </thead>\n",
       "  <tbody>\n",
       "    <tr>\n",
       "      <th>1390</th>\n",
       "      <td>73.0</td>\n",
       "      <td>0</td>\n",
       "      <td>0</td>\n",
       "      <td>0</td>\n",
       "      <td>0.0</td>\n",
       "      <td>2</td>\n",
       "      <td>2</td>\n",
       "      <td>0</td>\n",
       "    </tr>\n",
       "    <tr>\n",
       "      <th>1391</th>\n",
       "      <td>4.0</td>\n",
       "      <td>0</td>\n",
       "      <td>0</td>\n",
       "      <td>0</td>\n",
       "      <td>0.0</td>\n",
       "      <td>0</td>\n",
       "      <td>0</td>\n",
       "      <td>1</td>\n",
       "    </tr>\n",
       "    <tr>\n",
       "      <th>1392</th>\n",
       "      <td>35.0</td>\n",
       "      <td>0</td>\n",
       "      <td>0</td>\n",
       "      <td>0</td>\n",
       "      <td>0.0</td>\n",
       "      <td>0</td>\n",
       "      <td>1</td>\n",
       "      <td>1</td>\n",
       "    </tr>\n",
       "    <tr>\n",
       "      <th>1393</th>\n",
       "      <td>25.0</td>\n",
       "      <td>0</td>\n",
       "      <td>0</td>\n",
       "      <td>0</td>\n",
       "      <td>0.0</td>\n",
       "      <td>0</td>\n",
       "      <td>2</td>\n",
       "      <td>1</td>\n",
       "    </tr>\n",
       "    <tr>\n",
       "      <th>1394</th>\n",
       "      <td>37.0</td>\n",
       "      <td>1</td>\n",
       "      <td>0</td>\n",
       "      <td>0</td>\n",
       "      <td>1.0</td>\n",
       "      <td>0</td>\n",
       "      <td>0</td>\n",
       "      <td>1</td>\n",
       "    </tr>\n",
       "    <tr>\n",
       "      <th>...</th>\n",
       "      <td>...</td>\n",
       "      <td>...</td>\n",
       "      <td>...</td>\n",
       "      <td>...</td>\n",
       "      <td>...</td>\n",
       "      <td>...</td>\n",
       "      <td>...</td>\n",
       "      <td>...</td>\n",
       "    </tr>\n",
       "    <tr>\n",
       "      <th>3963</th>\n",
       "      <td>62.0</td>\n",
       "      <td>1</td>\n",
       "      <td>1</td>\n",
       "      <td>0</td>\n",
       "      <td>2.0</td>\n",
       "      <td>1</td>\n",
       "      <td>1</td>\n",
       "      <td>0</td>\n",
       "    </tr>\n",
       "    <tr>\n",
       "      <th>3964</th>\n",
       "      <td>79.0</td>\n",
       "      <td>1</td>\n",
       "      <td>1</td>\n",
       "      <td>0</td>\n",
       "      <td>3.0</td>\n",
       "      <td>1</td>\n",
       "      <td>1</td>\n",
       "      <td>0</td>\n",
       "    </tr>\n",
       "    <tr>\n",
       "      <th>3965</th>\n",
       "      <td>43.0</td>\n",
       "      <td>1</td>\n",
       "      <td>1</td>\n",
       "      <td>0</td>\n",
       "      <td>2.0</td>\n",
       "      <td>1</td>\n",
       "      <td>1</td>\n",
       "      <td>0</td>\n",
       "    </tr>\n",
       "    <tr>\n",
       "      <th>3966</th>\n",
       "      <td>89.0</td>\n",
       "      <td>1</td>\n",
       "      <td>1</td>\n",
       "      <td>0</td>\n",
       "      <td>0.0</td>\n",
       "      <td>2</td>\n",
       "      <td>1</td>\n",
       "      <td>0</td>\n",
       "    </tr>\n",
       "    <tr>\n",
       "      <th>3967</th>\n",
       "      <td>56.0</td>\n",
       "      <td>0</td>\n",
       "      <td>1</td>\n",
       "      <td>0</td>\n",
       "      <td>1.0</td>\n",
       "      <td>1</td>\n",
       "      <td>1</td>\n",
       "      <td>0</td>\n",
       "    </tr>\n",
       "  </tbody>\n",
       "</table>\n",
       "<p>2577 rows × 8 columns</p>\n",
       "</div>"
      ],
      "text/plain": [
       "      AGE_YRS  SEX  DIED  DISABLE  NUMDAYS  CUR_ILL  HISTORY  ALLERGIES\n",
       "1390     73.0    0     0        0      0.0        2        2          0\n",
       "1391      4.0    0     0        0      0.0        0        0          1\n",
       "1392     35.0    0     0        0      0.0        0        1          1\n",
       "1393     25.0    0     0        0      0.0        0        2          1\n",
       "1394     37.0    1     0        0      1.0        0        0          1\n",
       "...       ...  ...   ...      ...      ...      ...      ...        ...\n",
       "3963     62.0    1     1        0      2.0        1        1          0\n",
       "3964     79.0    1     1        0      3.0        1        1          0\n",
       "3965     43.0    1     1        0      2.0        1        1          0\n",
       "3966     89.0    1     1        0      0.0        2        1          0\n",
       "3967     56.0    0     1        0      1.0        1        1          0\n",
       "\n",
       "[2577 rows x 8 columns]"
      ]
     },
     "execution_count": 79,
     "metadata": {},
     "output_type": "execute_result"
    }
   ],
   "source": [
    "df_ann = df_rf.copy()\n",
    "df_ann"
   ]
  },
  {
   "cell_type": "markdown",
   "id": "c3affabb",
   "metadata": {},
   "source": [
    "I will split the data into training and testing sets and then use the Standardize to scaling the data, as it is an important requirement of ANN model because of the amount of complex calculations that are made in the algorithms. "
   ]
  },
  {
   "cell_type": "code",
   "execution_count": 80,
   "id": "8b8f9e08",
   "metadata": {
    "scrolled": true
   },
   "outputs": [
    {
     "data": {
      "text/plain": [
       "((2319, 7), (258, 7), (2319,), (258,))"
      ]
     },
     "execution_count": 80,
     "metadata": {},
     "output_type": "execute_result"
    }
   ],
   "source": [
    "X_train, X_test, y_train, y_test = train_test_split(X, y, test_size=0.1, random_state=21)\n",
    "\n",
    "scaler = StandardScaler()\n",
    "X_train_scaled = scaler.fit_transform(X_train)\n",
    "X_test_scaled = scaler.transform(X_test)\n",
    "\n",
    "X_train.shape, X_test.shape, y_train.shape, y_test.shape"
   ]
  },
  {
   "cell_type": "markdown",
   "id": "aa9f6585",
   "metadata": {},
   "source": [
    "### Cross-Validation and other metrics"
   ]
  },
  {
   "cell_type": "code",
   "execution_count": 81,
   "id": "79ed492c",
   "metadata": {},
   "outputs": [],
   "source": [
    "from sklearn.model_selection import KFold\n",
    "\n",
    "kfold = KFold(n_splits=5, shuffle=True, random_state=21)"
   ]
  },
  {
   "cell_type": "code",
   "execution_count": 82,
   "id": "d9e596a6",
   "metadata": {},
   "outputs": [],
   "source": [
    "accuracy_scores = []\n",
    "precision_scores = []\n",
    "recall_scores = []\n",
    "f1_scores = []"
   ]
  },
  {
   "cell_type": "markdown",
   "id": "0e15d866",
   "metadata": {},
   "source": [
    "Spliting the data into training and validation sets with cross-validation"
   ]
  },
  {
   "cell_type": "code",
   "execution_count": 83,
   "id": "6d45ed6d",
   "metadata": {},
   "outputs": [],
   "source": [
    "X_train_fold, X_val_fold = X_train_scaled, X_train_scaled\n",
    "y_train_fold, y_val_fold = y_train, y_train"
   ]
  },
  {
   "cell_type": "markdown",
   "id": "fa0dd183",
   "metadata": {},
   "source": [
    "I am using the function Sequential and Dense to call the model and set up the layes and number of neurons.\n",
    "I used the 'sigmoid' activation as it recomended for binary classification what is in accordance with the dataset."
   ]
  },
  {
   "cell_type": "code",
   "execution_count": 84,
   "id": "d4975ffb",
   "metadata": {},
   "outputs": [],
   "source": [
    "from keras.models import Sequential \n",
    "from keras.layers import Dense\n",
    "\n",
    "model_ann_scaled = Sequential()\n",
    "\n",
    "model_ann_scaled.add(Dense(8, activation = 'relu', input_dim = 7))\n",
    "model_ann_scaled.add(Dense(16, activation = 'relu'))\n",
    "model_ann_scaled.add(Dense(1, activation = 'sigmoid'))"
   ]
  },
  {
   "cell_type": "code",
   "execution_count": 85,
   "id": "2bdfda15",
   "metadata": {},
   "outputs": [],
   "source": [
    "model_ann_scaled.compile(optimizer = 'adam',\n",
    "              loss = 'binary_crossentropy',\n",
    "              metrics = ['accuracy'])"
   ]
  },
  {
   "cell_type": "markdown",
   "id": "9a6c5058",
   "metadata": {},
   "source": [
    "Training the model with cross-validation. I am using epocs with a high number because I want to allow the model to capture patterns as much as possible to improve its performance.  "
   ]
  },
  {
   "cell_type": "code",
   "execution_count": 86,
   "id": "c377c044",
   "metadata": {
    "collapsed": true,
    "jupyter": {
     "outputs_hidden": true
    }
   },
   "outputs": [
    {
     "name": "stdout",
     "output_type": "stream",
     "text": [
      "Epoch 1/200\n",
      "73/73 [==============================] - 1s 3ms/step - loss: 0.4439 - accuracy: 0.9392 - val_loss: 0.3347 - val_accuracy: 0.9392\n",
      "Epoch 2/200\n",
      "73/73 [==============================] - 0s 2ms/step - loss: 0.2715 - accuracy: 0.9392 - val_loss: 0.2292 - val_accuracy: 0.9392\n",
      "Epoch 3/200\n",
      "73/73 [==============================] - 0s 2ms/step - loss: 0.2178 - accuracy: 0.9392 - val_loss: 0.2095 - val_accuracy: 0.9392\n",
      "Epoch 4/200\n",
      "73/73 [==============================] - 0s 2ms/step - loss: 0.2066 - accuracy: 0.9392 - val_loss: 0.2030 - val_accuracy: 0.9392\n",
      "Epoch 5/200\n",
      "73/73 [==============================] - 0s 2ms/step - loss: 0.2018 - accuracy: 0.9392 - val_loss: 0.1992 - val_accuracy: 0.9392\n",
      "Epoch 6/200\n",
      "73/73 [==============================] - 0s 2ms/step - loss: 0.1989 - accuracy: 0.9392 - val_loss: 0.1963 - val_accuracy: 0.9392\n",
      "Epoch 7/200\n",
      "73/73 [==============================] - 0s 2ms/step - loss: 0.1964 - accuracy: 0.9392 - val_loss: 0.1938 - val_accuracy: 0.9392\n",
      "Epoch 8/200\n",
      "73/73 [==============================] - 0s 1ms/step - loss: 0.1939 - accuracy: 0.9392 - val_loss: 0.1916 - val_accuracy: 0.9392\n",
      "Epoch 9/200\n",
      "73/73 [==============================] - 0s 2ms/step - loss: 0.1914 - accuracy: 0.9392 - val_loss: 0.1892 - val_accuracy: 0.9392\n",
      "Epoch 10/200\n",
      "73/73 [==============================] - 0s 2ms/step - loss: 0.1891 - accuracy: 0.9392 - val_loss: 0.1872 - val_accuracy: 0.9392\n",
      "Epoch 11/200\n",
      "73/73 [==============================] - 0s 2ms/step - loss: 0.1873 - accuracy: 0.9392 - val_loss: 0.1853 - val_accuracy: 0.9392\n",
      "Epoch 12/200\n",
      "73/73 [==============================] - 0s 1ms/step - loss: 0.1855 - accuracy: 0.9392 - val_loss: 0.1837 - val_accuracy: 0.9392\n",
      "Epoch 13/200\n",
      "73/73 [==============================] - 0s 2ms/step - loss: 0.1837 - accuracy: 0.9392 - val_loss: 0.1817 - val_accuracy: 0.9392\n",
      "Epoch 14/200\n",
      "73/73 [==============================] - 0s 1ms/step - loss: 0.1820 - accuracy: 0.9392 - val_loss: 0.1803 - val_accuracy: 0.9392\n",
      "Epoch 15/200\n",
      "73/73 [==============================] - 0s 2ms/step - loss: 0.1805 - accuracy: 0.9392 - val_loss: 0.1789 - val_accuracy: 0.9392\n",
      "Epoch 16/200\n",
      "73/73 [==============================] - 0s 1ms/step - loss: 0.1793 - accuracy: 0.9392 - val_loss: 0.1776 - val_accuracy: 0.9392\n",
      "Epoch 17/200\n",
      "73/73 [==============================] - 0s 2ms/step - loss: 0.1780 - accuracy: 0.9388 - val_loss: 0.1765 - val_accuracy: 0.9396\n",
      "Epoch 18/200\n",
      "73/73 [==============================] - 0s 1ms/step - loss: 0.1769 - accuracy: 0.9396 - val_loss: 0.1753 - val_accuracy: 0.9396\n",
      "Epoch 19/200\n",
      "73/73 [==============================] - 0s 2ms/step - loss: 0.1756 - accuracy: 0.9392 - val_loss: 0.1741 - val_accuracy: 0.9392\n",
      "Epoch 20/200\n",
      "73/73 [==============================] - 0s 2ms/step - loss: 0.1747 - accuracy: 0.9401 - val_loss: 0.1732 - val_accuracy: 0.9396\n",
      "Epoch 21/200\n",
      "73/73 [==============================] - 0s 2ms/step - loss: 0.1737 - accuracy: 0.9401 - val_loss: 0.1724 - val_accuracy: 0.9401\n",
      "Epoch 22/200\n",
      "73/73 [==============================] - 0s 2ms/step - loss: 0.1730 - accuracy: 0.9401 - val_loss: 0.1715 - val_accuracy: 0.9401\n",
      "Epoch 23/200\n",
      "73/73 [==============================] - 0s 2ms/step - loss: 0.1723 - accuracy: 0.9401 - val_loss: 0.1707 - val_accuracy: 0.9383\n",
      "Epoch 24/200\n",
      "73/73 [==============================] - 0s 1ms/step - loss: 0.1713 - accuracy: 0.9396 - val_loss: 0.1700 - val_accuracy: 0.9388\n",
      "Epoch 25/200\n",
      "73/73 [==============================] - 0s 2ms/step - loss: 0.1711 - accuracy: 0.9392 - val_loss: 0.1694 - val_accuracy: 0.9422\n",
      "Epoch 26/200\n",
      "73/73 [==============================] - 0s 2ms/step - loss: 0.1701 - accuracy: 0.9435 - val_loss: 0.1688 - val_accuracy: 0.9414\n",
      "Epoch 27/200\n",
      "73/73 [==============================] - 0s 2ms/step - loss: 0.1693 - accuracy: 0.9422 - val_loss: 0.1682 - val_accuracy: 0.9396\n",
      "Epoch 28/200\n",
      "73/73 [==============================] - 0s 2ms/step - loss: 0.1689 - accuracy: 0.9409 - val_loss: 0.1677 - val_accuracy: 0.9431\n",
      "Epoch 29/200\n",
      "73/73 [==============================] - 0s 2ms/step - loss: 0.1688 - accuracy: 0.9426 - val_loss: 0.1672 - val_accuracy: 0.9431\n",
      "Epoch 30/200\n",
      "73/73 [==============================] - 0s 2ms/step - loss: 0.1681 - accuracy: 0.9426 - val_loss: 0.1667 - val_accuracy: 0.9444\n",
      "Epoch 31/200\n",
      "73/73 [==============================] - 0s 1ms/step - loss: 0.1674 - accuracy: 0.9439 - val_loss: 0.1663 - val_accuracy: 0.9435\n",
      "Epoch 32/200\n",
      "73/73 [==============================] - 0s 2ms/step - loss: 0.1670 - accuracy: 0.9426 - val_loss: 0.1659 - val_accuracy: 0.9457\n",
      "Epoch 33/200\n",
      "73/73 [==============================] - 0s 2ms/step - loss: 0.1665 - accuracy: 0.9444 - val_loss: 0.1654 - val_accuracy: 0.9444\n",
      "Epoch 34/200\n",
      "73/73 [==============================] - 0s 2ms/step - loss: 0.1661 - accuracy: 0.9444 - val_loss: 0.1650 - val_accuracy: 0.9457\n",
      "Epoch 35/200\n",
      "73/73 [==============================] - 0s 2ms/step - loss: 0.1658 - accuracy: 0.9457 - val_loss: 0.1646 - val_accuracy: 0.9439\n",
      "Epoch 36/200\n",
      "73/73 [==============================] - 0s 2ms/step - loss: 0.1657 - accuracy: 0.9448 - val_loss: 0.1642 - val_accuracy: 0.9439\n",
      "Epoch 37/200\n",
      "73/73 [==============================] - 0s 2ms/step - loss: 0.1648 - accuracy: 0.9431 - val_loss: 0.1639 - val_accuracy: 0.9448\n",
      "Epoch 38/200\n",
      "73/73 [==============================] - 0s 1ms/step - loss: 0.1647 - accuracy: 0.9448 - val_loss: 0.1634 - val_accuracy: 0.9448\n",
      "Epoch 39/200\n",
      "73/73 [==============================] - 0s 2ms/step - loss: 0.1641 - accuracy: 0.9448 - val_loss: 0.1632 - val_accuracy: 0.9461\n",
      "Epoch 40/200\n",
      "73/73 [==============================] - 0s 2ms/step - loss: 0.1639 - accuracy: 0.9461 - val_loss: 0.1627 - val_accuracy: 0.9461\n",
      "Epoch 41/200\n",
      "73/73 [==============================] - 0s 2ms/step - loss: 0.1636 - accuracy: 0.9448 - val_loss: 0.1625 - val_accuracy: 0.9461\n",
      "Epoch 42/200\n",
      "73/73 [==============================] - 0s 2ms/step - loss: 0.1633 - accuracy: 0.9452 - val_loss: 0.1622 - val_accuracy: 0.9448\n",
      "Epoch 43/200\n",
      "73/73 [==============================] - 0s 2ms/step - loss: 0.1631 - accuracy: 0.9452 - val_loss: 0.1620 - val_accuracy: 0.9457\n",
      "Epoch 44/200\n",
      "73/73 [==============================] - 0s 1ms/step - loss: 0.1629 - accuracy: 0.9444 - val_loss: 0.1618 - val_accuracy: 0.9457\n",
      "Epoch 45/200\n",
      "73/73 [==============================] - 0s 2ms/step - loss: 0.1633 - accuracy: 0.9452 - val_loss: 0.1616 - val_accuracy: 0.9457\n",
      "Epoch 46/200\n",
      "73/73 [==============================] - 0s 2ms/step - loss: 0.1625 - accuracy: 0.9444 - val_loss: 0.1613 - val_accuracy: 0.9452\n",
      "Epoch 47/200\n",
      "73/73 [==============================] - 0s 2ms/step - loss: 0.1624 - accuracy: 0.9461 - val_loss: 0.1611 - val_accuracy: 0.9457\n",
      "Epoch 48/200\n",
      "73/73 [==============================] - 0s 2ms/step - loss: 0.1619 - accuracy: 0.9461 - val_loss: 0.1608 - val_accuracy: 0.9452\n",
      "Epoch 49/200\n",
      "73/73 [==============================] - 0s 2ms/step - loss: 0.1621 - accuracy: 0.9448 - val_loss: 0.1606 - val_accuracy: 0.9465\n",
      "Epoch 50/200\n",
      "73/73 [==============================] - 0s 2ms/step - loss: 0.1613 - accuracy: 0.9461 - val_loss: 0.1605 - val_accuracy: 0.9465\n",
      "Epoch 51/200\n",
      "73/73 [==============================] - 0s 2ms/step - loss: 0.1616 - accuracy: 0.9452 - val_loss: 0.1603 - val_accuracy: 0.9470\n",
      "Epoch 52/200\n",
      "73/73 [==============================] - 0s 2ms/step - loss: 0.1612 - accuracy: 0.9465 - val_loss: 0.1599 - val_accuracy: 0.9452\n",
      "Epoch 53/200\n",
      "73/73 [==============================] - 0s 2ms/step - loss: 0.1609 - accuracy: 0.9461 - val_loss: 0.1597 - val_accuracy: 0.9457\n",
      "Epoch 54/200\n",
      "73/73 [==============================] - 0s 2ms/step - loss: 0.1605 - accuracy: 0.9457 - val_loss: 0.1595 - val_accuracy: 0.9452\n",
      "Epoch 55/200\n",
      "73/73 [==============================] - 0s 2ms/step - loss: 0.1606 - accuracy: 0.9452 - val_loss: 0.1592 - val_accuracy: 0.9465\n",
      "Epoch 56/200\n",
      "73/73 [==============================] - 0s 2ms/step - loss: 0.1601 - accuracy: 0.9461 - val_loss: 0.1590 - val_accuracy: 0.9465\n",
      "Epoch 57/200\n",
      "73/73 [==============================] - 0s 2ms/step - loss: 0.1600 - accuracy: 0.9470 - val_loss: 0.1588 - val_accuracy: 0.9465\n",
      "Epoch 58/200\n",
      "73/73 [==============================] - 0s 2ms/step - loss: 0.1596 - accuracy: 0.9465 - val_loss: 0.1586 - val_accuracy: 0.9465\n"
     ]
    },
    {
     "name": "stdout",
     "output_type": "stream",
     "text": [
      "Epoch 59/200\n",
      "73/73 [==============================] - 0s 2ms/step - loss: 0.1597 - accuracy: 0.9457 - val_loss: 0.1584 - val_accuracy: 0.9465\n",
      "Epoch 60/200\n",
      "73/73 [==============================] - 0s 2ms/step - loss: 0.1594 - accuracy: 0.9470 - val_loss: 0.1582 - val_accuracy: 0.9461\n",
      "Epoch 61/200\n",
      "73/73 [==============================] - 0s 2ms/step - loss: 0.1591 - accuracy: 0.9448 - val_loss: 0.1579 - val_accuracy: 0.9461\n",
      "Epoch 62/200\n",
      "73/73 [==============================] - 0s 2ms/step - loss: 0.1589 - accuracy: 0.9470 - val_loss: 0.1578 - val_accuracy: 0.9470\n",
      "Epoch 63/200\n",
      "73/73 [==============================] - 0s 2ms/step - loss: 0.1586 - accuracy: 0.9461 - val_loss: 0.1576 - val_accuracy: 0.9461\n",
      "Epoch 64/200\n",
      "73/73 [==============================] - 0s 2ms/step - loss: 0.1588 - accuracy: 0.9461 - val_loss: 0.1573 - val_accuracy: 0.9465\n",
      "Epoch 65/200\n",
      "73/73 [==============================] - 0s 2ms/step - loss: 0.1581 - accuracy: 0.9465 - val_loss: 0.1571 - val_accuracy: 0.9457\n",
      "Epoch 66/200\n",
      "73/73 [==============================] - 0s 2ms/step - loss: 0.1580 - accuracy: 0.9448 - val_loss: 0.1569 - val_accuracy: 0.9457\n",
      "Epoch 67/200\n",
      "73/73 [==============================] - 0s 2ms/step - loss: 0.1579 - accuracy: 0.9465 - val_loss: 0.1572 - val_accuracy: 0.9474\n",
      "Epoch 68/200\n",
      "73/73 [==============================] - 0s 2ms/step - loss: 0.1582 - accuracy: 0.9465 - val_loss: 0.1566 - val_accuracy: 0.9461\n",
      "Epoch 69/200\n",
      "73/73 [==============================] - 0s 2ms/step - loss: 0.1574 - accuracy: 0.9470 - val_loss: 0.1564 - val_accuracy: 0.9461\n",
      "Epoch 70/200\n",
      "73/73 [==============================] - 0s 1ms/step - loss: 0.1575 - accuracy: 0.9452 - val_loss: 0.1563 - val_accuracy: 0.9461\n",
      "Epoch 71/200\n",
      "73/73 [==============================] - 0s 2ms/step - loss: 0.1571 - accuracy: 0.9474 - val_loss: 0.1560 - val_accuracy: 0.9461\n",
      "Epoch 72/200\n",
      "73/73 [==============================] - 0s 2ms/step - loss: 0.1572 - accuracy: 0.9465 - val_loss: 0.1559 - val_accuracy: 0.9465\n",
      "Epoch 73/200\n",
      "73/73 [==============================] - 0s 2ms/step - loss: 0.1570 - accuracy: 0.9457 - val_loss: 0.1557 - val_accuracy: 0.9461\n",
      "Epoch 74/200\n",
      "73/73 [==============================] - 0s 2ms/step - loss: 0.1567 - accuracy: 0.9461 - val_loss: 0.1556 - val_accuracy: 0.9457\n",
      "Epoch 75/200\n",
      "73/73 [==============================] - 0s 2ms/step - loss: 0.1565 - accuracy: 0.9461 - val_loss: 0.1554 - val_accuracy: 0.9461\n",
      "Epoch 76/200\n",
      "73/73 [==============================] - 0s 1ms/step - loss: 0.1564 - accuracy: 0.9452 - val_loss: 0.1554 - val_accuracy: 0.9465\n",
      "Epoch 77/200\n",
      "73/73 [==============================] - 0s 2ms/step - loss: 0.1565 - accuracy: 0.9470 - val_loss: 0.1553 - val_accuracy: 0.9474\n",
      "Epoch 78/200\n",
      "73/73 [==============================] - 0s 2ms/step - loss: 0.1561 - accuracy: 0.9470 - val_loss: 0.1549 - val_accuracy: 0.9457\n",
      "Epoch 79/200\n",
      "73/73 [==============================] - 0s 2ms/step - loss: 0.1565 - accuracy: 0.9452 - val_loss: 0.1548 - val_accuracy: 0.9461\n",
      "Epoch 80/200\n",
      "73/73 [==============================] - 0s 2ms/step - loss: 0.1556 - accuracy: 0.9461 - val_loss: 0.1547 - val_accuracy: 0.9465\n",
      "Epoch 81/200\n",
      "73/73 [==============================] - 0s 2ms/step - loss: 0.1562 - accuracy: 0.9461 - val_loss: 0.1544 - val_accuracy: 0.9461\n",
      "Epoch 82/200\n",
      "73/73 [==============================] - 0s 2ms/step - loss: 0.1560 - accuracy: 0.9457 - val_loss: 0.1542 - val_accuracy: 0.9461\n",
      "Epoch 83/200\n",
      "73/73 [==============================] - 0s 2ms/step - loss: 0.1550 - accuracy: 0.9465 - val_loss: 0.1540 - val_accuracy: 0.9465\n",
      "Epoch 84/200\n",
      "73/73 [==============================] - 0s 2ms/step - loss: 0.1554 - accuracy: 0.9457 - val_loss: 0.1542 - val_accuracy: 0.9483\n",
      "Epoch 85/200\n",
      "73/73 [==============================] - 0s 2ms/step - loss: 0.1551 - accuracy: 0.9465 - val_loss: 0.1537 - val_accuracy: 0.9457\n",
      "Epoch 86/200\n",
      "73/73 [==============================] - 0s 2ms/step - loss: 0.1551 - accuracy: 0.9452 - val_loss: 0.1536 - val_accuracy: 0.9461\n",
      "Epoch 87/200\n",
      "73/73 [==============================] - 0s 2ms/step - loss: 0.1550 - accuracy: 0.9474 - val_loss: 0.1533 - val_accuracy: 0.9457\n",
      "Epoch 88/200\n",
      "73/73 [==============================] - 0s 2ms/step - loss: 0.1545 - accuracy: 0.9461 - val_loss: 0.1531 - val_accuracy: 0.9465\n",
      "Epoch 89/200\n",
      "73/73 [==============================] - 0s 2ms/step - loss: 0.1540 - accuracy: 0.9461 - val_loss: 0.1530 - val_accuracy: 0.9461\n",
      "Epoch 90/200\n",
      "73/73 [==============================] - 0s 2ms/step - loss: 0.1540 - accuracy: 0.9461 - val_loss: 0.1528 - val_accuracy: 0.9461\n",
      "Epoch 91/200\n",
      "73/73 [==============================] - 0s 2ms/step - loss: 0.1540 - accuracy: 0.9461 - val_loss: 0.1527 - val_accuracy: 0.9457\n",
      "Epoch 92/200\n",
      "73/73 [==============================] - 0s 2ms/step - loss: 0.1538 - accuracy: 0.9461 - val_loss: 0.1525 - val_accuracy: 0.9483\n",
      "Epoch 93/200\n",
      "73/73 [==============================] - 0s 2ms/step - loss: 0.1534 - accuracy: 0.9461 - val_loss: 0.1523 - val_accuracy: 0.9457\n",
      "Epoch 94/200\n",
      "73/73 [==============================] - 0s 2ms/step - loss: 0.1533 - accuracy: 0.9457 - val_loss: 0.1522 - val_accuracy: 0.9474\n",
      "Epoch 95/200\n",
      "73/73 [==============================] - 0s 2ms/step - loss: 0.1531 - accuracy: 0.9465 - val_loss: 0.1520 - val_accuracy: 0.9461\n",
      "Epoch 96/200\n",
      "73/73 [==============================] - 0s 2ms/step - loss: 0.1532 - accuracy: 0.9470 - val_loss: 0.1519 - val_accuracy: 0.9452\n",
      "Epoch 97/200\n",
      "73/73 [==============================] - 0s 2ms/step - loss: 0.1526 - accuracy: 0.9457 - val_loss: 0.1518 - val_accuracy: 0.9461\n",
      "Epoch 98/200\n",
      "73/73 [==============================] - 0s 2ms/step - loss: 0.1528 - accuracy: 0.9457 - val_loss: 0.1516 - val_accuracy: 0.9452\n",
      "Epoch 99/200\n",
      "73/73 [==============================] - 0s 2ms/step - loss: 0.1530 - accuracy: 0.9465 - val_loss: 0.1515 - val_accuracy: 0.9457\n",
      "Epoch 100/200\n",
      "73/73 [==============================] - 0s 2ms/step - loss: 0.1529 - accuracy: 0.9457 - val_loss: 0.1513 - val_accuracy: 0.9465\n",
      "Epoch 101/200\n",
      "73/73 [==============================] - 0s 2ms/step - loss: 0.1525 - accuracy: 0.9465 - val_loss: 0.1514 - val_accuracy: 0.9483\n",
      "Epoch 102/200\n",
      "73/73 [==============================] - 0s 2ms/step - loss: 0.1525 - accuracy: 0.9465 - val_loss: 0.1513 - val_accuracy: 0.9483\n",
      "Epoch 103/200\n",
      "73/73 [==============================] - 0s 2ms/step - loss: 0.1524 - accuracy: 0.9448 - val_loss: 0.1509 - val_accuracy: 0.9461\n",
      "Epoch 104/200\n",
      "73/73 [==============================] - 0s 2ms/step - loss: 0.1521 - accuracy: 0.9457 - val_loss: 0.1513 - val_accuracy: 0.9478\n",
      "Epoch 105/200\n",
      "73/73 [==============================] - 0s 2ms/step - loss: 0.1520 - accuracy: 0.9474 - val_loss: 0.1508 - val_accuracy: 0.9457\n",
      "Epoch 106/200\n",
      "73/73 [==============================] - 0s 2ms/step - loss: 0.1517 - accuracy: 0.9483 - val_loss: 0.1507 - val_accuracy: 0.9457\n",
      "Epoch 107/200\n",
      "73/73 [==============================] - 0s 2ms/step - loss: 0.1518 - accuracy: 0.9452 - val_loss: 0.1505 - val_accuracy: 0.9461\n",
      "Epoch 108/200\n",
      "73/73 [==============================] - 0s 2ms/step - loss: 0.1518 - accuracy: 0.9465 - val_loss: 0.1504 - val_accuracy: 0.9461\n",
      "Epoch 109/200\n",
      "73/73 [==============================] - 0s 2ms/step - loss: 0.1518 - accuracy: 0.9448 - val_loss: 0.1503 - val_accuracy: 0.9465\n",
      "Epoch 110/200\n",
      "73/73 [==============================] - 0s 2ms/step - loss: 0.1516 - accuracy: 0.9461 - val_loss: 0.1503 - val_accuracy: 0.9474\n",
      "Epoch 111/200\n",
      "73/73 [==============================] - 0s 2ms/step - loss: 0.1513 - accuracy: 0.9478 - val_loss: 0.1507 - val_accuracy: 0.9457\n",
      "Epoch 112/200\n",
      "73/73 [==============================] - 0s 2ms/step - loss: 0.1519 - accuracy: 0.9461 - val_loss: 0.1501 - val_accuracy: 0.9465\n",
      "Epoch 113/200\n",
      "73/73 [==============================] - 0s 2ms/step - loss: 0.1513 - accuracy: 0.9457 - val_loss: 0.1502 - val_accuracy: 0.9478\n",
      "Epoch 114/200\n",
      "73/73 [==============================] - 0s 2ms/step - loss: 0.1514 - accuracy: 0.9461 - val_loss: 0.1499 - val_accuracy: 0.9478\n",
      "Epoch 115/200\n",
      "73/73 [==============================] - 0s 2ms/step - loss: 0.1510 - accuracy: 0.9465 - val_loss: 0.1502 - val_accuracy: 0.9487\n",
      "Epoch 116/200\n",
      "73/73 [==============================] - 0s 2ms/step - loss: 0.1509 - accuracy: 0.9461 - val_loss: 0.1497 - val_accuracy: 0.9461\n",
      "Epoch 117/200\n",
      "73/73 [==============================] - 0s 2ms/step - loss: 0.1511 - accuracy: 0.9470 - val_loss: 0.1495 - val_accuracy: 0.9461\n",
      "Epoch 118/200\n",
      "73/73 [==============================] - 0s 2ms/step - loss: 0.1508 - accuracy: 0.9461 - val_loss: 0.1495 - val_accuracy: 0.9483\n",
      "Epoch 119/200\n",
      "73/73 [==============================] - 0s 2ms/step - loss: 0.1506 - accuracy: 0.9465 - val_loss: 0.1493 - val_accuracy: 0.9461\n",
      "Epoch 120/200\n",
      "73/73 [==============================] - 0s 2ms/step - loss: 0.1508 - accuracy: 0.9478 - val_loss: 0.1496 - val_accuracy: 0.9452\n",
      "Epoch 121/200\n",
      "73/73 [==============================] - 0s 2ms/step - loss: 0.1504 - accuracy: 0.9461 - val_loss: 0.1495 - val_accuracy: 0.9487\n",
      "Epoch 122/200\n",
      "73/73 [==============================] - 0s 2ms/step - loss: 0.1504 - accuracy: 0.9465 - val_loss: 0.1491 - val_accuracy: 0.9465\n",
      "Epoch 123/200\n",
      "73/73 [==============================] - 0s 2ms/step - loss: 0.1506 - accuracy: 0.9465 - val_loss: 0.1490 - val_accuracy: 0.9461\n",
      "Epoch 124/200\n",
      "73/73 [==============================] - 0s 2ms/step - loss: 0.1503 - accuracy: 0.9457 - val_loss: 0.1489 - val_accuracy: 0.9457\n",
      "Epoch 125/200\n",
      "73/73 [==============================] - 0s 2ms/step - loss: 0.1502 - accuracy: 0.9457 - val_loss: 0.1489 - val_accuracy: 0.9461\n",
      "Epoch 126/200\n",
      "73/73 [==============================] - 0s 2ms/step - loss: 0.1500 - accuracy: 0.9465 - val_loss: 0.1487 - val_accuracy: 0.9474\n",
      "Epoch 127/200\n",
      "73/73 [==============================] - 0s 2ms/step - loss: 0.1497 - accuracy: 0.9483 - val_loss: 0.1486 - val_accuracy: 0.9474\n",
      "Epoch 128/200\n",
      "73/73 [==============================] - 0s 2ms/step - loss: 0.1499 - accuracy: 0.9457 - val_loss: 0.1485 - val_accuracy: 0.9461\n",
      "Epoch 129/200\n",
      "73/73 [==============================] - 0s 2ms/step - loss: 0.1500 - accuracy: 0.9461 - val_loss: 0.1483 - val_accuracy: 0.9461\n",
      "Epoch 130/200\n",
      "73/73 [==============================] - 0s 2ms/step - loss: 0.1495 - accuracy: 0.9465 - val_loss: 0.1483 - val_accuracy: 0.9465\n",
      "Epoch 131/200\n",
      "73/73 [==============================] - 0s 2ms/step - loss: 0.1497 - accuracy: 0.9452 - val_loss: 0.1482 - val_accuracy: 0.9465\n",
      "Epoch 132/200\n",
      "73/73 [==============================] - 0s 2ms/step - loss: 0.1496 - accuracy: 0.9461 - val_loss: 0.1481 - val_accuracy: 0.9470\n",
      "Epoch 133/200\n",
      "73/73 [==============================] - 0s 2ms/step - loss: 0.1494 - accuracy: 0.9465 - val_loss: 0.1482 - val_accuracy: 0.9465\n",
      "Epoch 134/200\n",
      "73/73 [==============================] - 0s 2ms/step - loss: 0.1491 - accuracy: 0.9470 - val_loss: 0.1479 - val_accuracy: 0.9470\n",
      "Epoch 135/200\n",
      "73/73 [==============================] - 0s 2ms/step - loss: 0.1490 - accuracy: 0.9470 - val_loss: 0.1479 - val_accuracy: 0.9478\n",
      "Epoch 136/200\n",
      "73/73 [==============================] - 0s 2ms/step - loss: 0.1497 - accuracy: 0.9461 - val_loss: 0.1480 - val_accuracy: 0.9483\n",
      "Epoch 137/200\n",
      "73/73 [==============================] - 0s 2ms/step - loss: 0.1492 - accuracy: 0.9474 - val_loss: 0.1479 - val_accuracy: 0.9478\n",
      "Epoch 138/200\n",
      "73/73 [==============================] - 0s 2ms/step - loss: 0.1490 - accuracy: 0.9470 - val_loss: 0.1477 - val_accuracy: 0.9478\n",
      "Epoch 139/200\n",
      "73/73 [==============================] - 0s 2ms/step - loss: 0.1487 - accuracy: 0.9474 - val_loss: 0.1475 - val_accuracy: 0.9470\n",
      "Epoch 140/200\n",
      "73/73 [==============================] - 0s 2ms/step - loss: 0.1489 - accuracy: 0.9457 - val_loss: 0.1474 - val_accuracy: 0.9470\n",
      "Epoch 141/200\n",
      "73/73 [==============================] - 0s 2ms/step - loss: 0.1484 - accuracy: 0.9461 - val_loss: 0.1476 - val_accuracy: 0.9474\n",
      "Epoch 142/200\n",
      "73/73 [==============================] - 0s 2ms/step - loss: 0.1483 - accuracy: 0.9474 - val_loss: 0.1472 - val_accuracy: 0.9465\n",
      "Epoch 143/200\n",
      "73/73 [==============================] - 0s 2ms/step - loss: 0.1488 - accuracy: 0.9448 - val_loss: 0.1476 - val_accuracy: 0.9487\n",
      "Epoch 144/200\n",
      "73/73 [==============================] - 0s 2ms/step - loss: 0.1485 - accuracy: 0.9465 - val_loss: 0.1471 - val_accuracy: 0.9465\n",
      "Epoch 145/200\n",
      "73/73 [==============================] - 0s 2ms/step - loss: 0.1482 - accuracy: 0.9452 - val_loss: 0.1470 - val_accuracy: 0.9478\n",
      "Epoch 146/200\n",
      "73/73 [==============================] - 0s 2ms/step - loss: 0.1481 - accuracy: 0.9470 - val_loss: 0.1469 - val_accuracy: 0.9470\n",
      "Epoch 147/200\n",
      "73/73 [==============================] - 0s 2ms/step - loss: 0.1480 - accuracy: 0.9461 - val_loss: 0.1468 - val_accuracy: 0.9470\n",
      "Epoch 148/200\n",
      "73/73 [==============================] - 0s 2ms/step - loss: 0.1481 - accuracy: 0.9465 - val_loss: 0.1468 - val_accuracy: 0.9478\n",
      "Epoch 149/200\n",
      "73/73 [==============================] - 0s 2ms/step - loss: 0.1481 - accuracy: 0.9483 - val_loss: 0.1470 - val_accuracy: 0.9461\n",
      "Epoch 150/200\n",
      "73/73 [==============================] - 0s 2ms/step - loss: 0.1480 - accuracy: 0.9457 - val_loss: 0.1467 - val_accuracy: 0.9483\n",
      "Epoch 151/200\n",
      "73/73 [==============================] - 0s 2ms/step - loss: 0.1478 - accuracy: 0.9478 - val_loss: 0.1465 - val_accuracy: 0.9470\n",
      "Epoch 152/200\n",
      "73/73 [==============================] - 0s 2ms/step - loss: 0.1478 - accuracy: 0.9465 - val_loss: 0.1464 - val_accuracy: 0.9465\n",
      "Epoch 153/200\n",
      "73/73 [==============================] - 0s 2ms/step - loss: 0.1476 - accuracy: 0.9470 - val_loss: 0.1464 - val_accuracy: 0.9465\n",
      "Epoch 154/200\n",
      "73/73 [==============================] - 0s 2ms/step - loss: 0.1481 - accuracy: 0.9461 - val_loss: 0.1463 - val_accuracy: 0.9465\n",
      "Epoch 155/200\n",
      "73/73 [==============================] - 0s 2ms/step - loss: 0.1475 - accuracy: 0.9461 - val_loss: 0.1461 - val_accuracy: 0.9465\n",
      "Epoch 156/200\n",
      "73/73 [==============================] - 0s 2ms/step - loss: 0.1475 - accuracy: 0.9470 - val_loss: 0.1461 - val_accuracy: 0.9470\n",
      "Epoch 157/200\n",
      "73/73 [==============================] - 0s 2ms/step - loss: 0.1471 - accuracy: 0.9470 - val_loss: 0.1460 - val_accuracy: 0.9470\n",
      "Epoch 158/200\n",
      "73/73 [==============================] - 0s 2ms/step - loss: 0.1475 - accuracy: 0.9478 - val_loss: 0.1460 - val_accuracy: 0.9483\n",
      "Epoch 159/200\n",
      "73/73 [==============================] - 0s 2ms/step - loss: 0.1474 - accuracy: 0.9483 - val_loss: 0.1460 - val_accuracy: 0.9461\n",
      "Epoch 160/200\n",
      "73/73 [==============================] - 0s 2ms/step - loss: 0.1473 - accuracy: 0.9457 - val_loss: 0.1458 - val_accuracy: 0.9470\n",
      "Epoch 161/200\n",
      "73/73 [==============================] - 0s 2ms/step - loss: 0.1468 - accuracy: 0.9474 - val_loss: 0.1457 - val_accuracy: 0.9465\n",
      "Epoch 162/200\n",
      "73/73 [==============================] - 0s 2ms/step - loss: 0.1470 - accuracy: 0.9474 - val_loss: 0.1458 - val_accuracy: 0.9470\n",
      "Epoch 163/200\n",
      "73/73 [==============================] - 0s 2ms/step - loss: 0.1471 - accuracy: 0.9452 - val_loss: 0.1456 - val_accuracy: 0.9478\n",
      "Epoch 164/200\n",
      "73/73 [==============================] - 0s 2ms/step - loss: 0.1468 - accuracy: 0.9478 - val_loss: 0.1458 - val_accuracy: 0.9474\n",
      "Epoch 165/200\n",
      "73/73 [==============================] - 0s 2ms/step - loss: 0.1467 - accuracy: 0.9465 - val_loss: 0.1454 - val_accuracy: 0.9465\n",
      "Epoch 166/200\n",
      "73/73 [==============================] - 0s 2ms/step - loss: 0.1468 - accuracy: 0.9465 - val_loss: 0.1452 - val_accuracy: 0.9470\n",
      "Epoch 167/200\n",
      "73/73 [==============================] - 0s 2ms/step - loss: 0.1465 - accuracy: 0.9474 - val_loss: 0.1451 - val_accuracy: 0.9470\n",
      "Epoch 168/200\n",
      "73/73 [==============================] - 0s 2ms/step - loss: 0.1465 - accuracy: 0.9483 - val_loss: 0.1451 - val_accuracy: 0.9491\n",
      "Epoch 169/200\n",
      "73/73 [==============================] - 0s 2ms/step - loss: 0.1460 - accuracy: 0.9487 - val_loss: 0.1449 - val_accuracy: 0.9470\n",
      "Epoch 170/200\n",
      "73/73 [==============================] - 0s 2ms/step - loss: 0.1462 - accuracy: 0.9478 - val_loss: 0.1448 - val_accuracy: 0.9483\n",
      "Epoch 171/200\n",
      "73/73 [==============================] - 0s 2ms/step - loss: 0.1462 - accuracy: 0.9487 - val_loss: 0.1447 - val_accuracy: 0.9487\n",
      "Epoch 172/200\n",
      "73/73 [==============================] - 0s 2ms/step - loss: 0.1461 - accuracy: 0.9474 - val_loss: 0.1447 - val_accuracy: 0.9491\n",
      "Epoch 173/200\n"
     ]
    },
    {
     "name": "stdout",
     "output_type": "stream",
     "text": [
      "73/73 [==============================] - 0s 2ms/step - loss: 0.1467 - accuracy: 0.9474 - val_loss: 0.1445 - val_accuracy: 0.9474\n",
      "Epoch 174/200\n",
      "73/73 [==============================] - 0s 2ms/step - loss: 0.1461 - accuracy: 0.9483 - val_loss: 0.1446 - val_accuracy: 0.9470\n",
      "Epoch 175/200\n",
      "73/73 [==============================] - 0s 2ms/step - loss: 0.1457 - accuracy: 0.9478 - val_loss: 0.1445 - val_accuracy: 0.9491\n",
      "Epoch 176/200\n",
      "73/73 [==============================] - 0s 2ms/step - loss: 0.1457 - accuracy: 0.9483 - val_loss: 0.1444 - val_accuracy: 0.9478\n",
      "Epoch 177/200\n",
      "73/73 [==============================] - 0s 2ms/step - loss: 0.1453 - accuracy: 0.9487 - val_loss: 0.1446 - val_accuracy: 0.9491\n",
      "Epoch 178/200\n",
      "73/73 [==============================] - 0s 2ms/step - loss: 0.1454 - accuracy: 0.9483 - val_loss: 0.1440 - val_accuracy: 0.9483\n",
      "Epoch 179/200\n",
      "73/73 [==============================] - 0s 2ms/step - loss: 0.1453 - accuracy: 0.9483 - val_loss: 0.1439 - val_accuracy: 0.9478\n",
      "Epoch 180/200\n",
      "73/73 [==============================] - 0s 2ms/step - loss: 0.1452 - accuracy: 0.9465 - val_loss: 0.1438 - val_accuracy: 0.9487\n",
      "Epoch 181/200\n",
      "73/73 [==============================] - 0s 2ms/step - loss: 0.1452 - accuracy: 0.9495 - val_loss: 0.1438 - val_accuracy: 0.9483\n",
      "Epoch 182/200\n",
      "73/73 [==============================] - 0s 2ms/step - loss: 0.1449 - accuracy: 0.9487 - val_loss: 0.1436 - val_accuracy: 0.9491\n",
      "Epoch 183/200\n",
      "73/73 [==============================] - 0s 2ms/step - loss: 0.1452 - accuracy: 0.9487 - val_loss: 0.1436 - val_accuracy: 0.9478\n",
      "Epoch 184/200\n",
      "73/73 [==============================] - 0s 2ms/step - loss: 0.1451 - accuracy: 0.9478 - val_loss: 0.1434 - val_accuracy: 0.9495\n",
      "Epoch 185/200\n",
      "73/73 [==============================] - 0s 2ms/step - loss: 0.1449 - accuracy: 0.9478 - val_loss: 0.1434 - val_accuracy: 0.9483\n",
      "Epoch 186/200\n",
      "73/73 [==============================] - 0s 2ms/step - loss: 0.1445 - accuracy: 0.9495 - val_loss: 0.1437 - val_accuracy: 0.9487\n",
      "Epoch 187/200\n",
      "73/73 [==============================] - 0s 2ms/step - loss: 0.1443 - accuracy: 0.9478 - val_loss: 0.1433 - val_accuracy: 0.9483\n",
      "Epoch 188/200\n",
      "73/73 [==============================] - 0s 1ms/step - loss: 0.1445 - accuracy: 0.9491 - val_loss: 0.1431 - val_accuracy: 0.9500\n",
      "Epoch 189/200\n",
      "73/73 [==============================] - 0s 2ms/step - loss: 0.1443 - accuracy: 0.9504 - val_loss: 0.1429 - val_accuracy: 0.9500\n",
      "Epoch 190/200\n",
      "73/73 [==============================] - 0s 2ms/step - loss: 0.1442 - accuracy: 0.9487 - val_loss: 0.1428 - val_accuracy: 0.9504\n",
      "Epoch 191/200\n",
      "73/73 [==============================] - 0s 2ms/step - loss: 0.1443 - accuracy: 0.9491 - val_loss: 0.1429 - val_accuracy: 0.9500\n",
      "Epoch 192/200\n",
      "73/73 [==============================] - 0s 2ms/step - loss: 0.1440 - accuracy: 0.9491 - val_loss: 0.1428 - val_accuracy: 0.9500\n",
      "Epoch 193/200\n",
      "73/73 [==============================] - 0s 2ms/step - loss: 0.1442 - accuracy: 0.9483 - val_loss: 0.1427 - val_accuracy: 0.9491\n",
      "Epoch 194/200\n",
      "73/73 [==============================] - 0s 2ms/step - loss: 0.1438 - accuracy: 0.9487 - val_loss: 0.1425 - val_accuracy: 0.9508\n",
      "Epoch 195/200\n",
      "73/73 [==============================] - 0s 2ms/step - loss: 0.1435 - accuracy: 0.9495 - val_loss: 0.1423 - val_accuracy: 0.9500\n",
      "Epoch 196/200\n",
      "73/73 [==============================] - 0s 2ms/step - loss: 0.1435 - accuracy: 0.9487 - val_loss: 0.1422 - val_accuracy: 0.9513\n",
      "Epoch 197/200\n",
      "73/73 [==============================] - 0s 2ms/step - loss: 0.1433 - accuracy: 0.9491 - val_loss: 0.1421 - val_accuracy: 0.9508\n",
      "Epoch 198/200\n",
      "73/73 [==============================] - 0s 2ms/step - loss: 0.1432 - accuracy: 0.9513 - val_loss: 0.1420 - val_accuracy: 0.9504\n",
      "Epoch 199/200\n",
      "73/73 [==============================] - 0s 2ms/step - loss: 0.1434 - accuracy: 0.9487 - val_loss: 0.1419 - val_accuracy: 0.9513\n",
      "Epoch 200/200\n",
      "73/73 [==============================] - 0s 2ms/step - loss: 0.1430 - accuracy: 0.9504 - val_loss: 0.1420 - val_accuracy: 0.9487\n"
     ]
    },
    {
     "data": {
      "text/plain": [
       "<keras.src.callbacks.History at 0x2cded27a1d0>"
      ]
     },
     "execution_count": 86,
     "metadata": {},
     "output_type": "execute_result"
    }
   ],
   "source": [
    "model_ann_scaled.fit(X_train_fold, y_train_fold, epochs=200, validation_data=(X_val_fold, y_val_fold))"
   ]
  },
  {
   "cell_type": "markdown",
   "id": "964d42cc",
   "metadata": {},
   "source": [
    " Evaluate the model with the cross-validation"
   ]
  },
  {
   "cell_type": "code",
   "execution_count": 87,
   "id": "50719660",
   "metadata": {},
   "outputs": [
    {
     "name": "stdout",
     "output_type": "stream",
     "text": [
      "73/73 [==============================] - 0s 876us/step\n"
     ]
    }
   ],
   "source": [
    "y_val_pred = (model_ann_scaled.predict(X_val_fold) > 0.5).astype(int)  # Convert probabilities to binary predictions"
   ]
  },
  {
   "cell_type": "markdown",
   "id": "e16026d6",
   "metadata": {},
   "source": [
    "### Metrics based on cross-validation "
   ]
  },
  {
   "cell_type": "markdown",
   "id": "ddefdcad",
   "metadata": {},
   "source": [
    "#### Evaluate the model on the training set"
   ]
  },
  {
   "cell_type": "code",
   "execution_count": 88,
   "id": "3a689ebf",
   "metadata": {},
   "outputs": [],
   "source": [
    "accuracy_scores.append(accuracy_score(y_val_fold, y_val_pred))\n",
    "precision_scores.append(precision_score(y_val_fold, y_val_pred))\n",
    "recall_scores.append(recall_score(y_val_fold, y_val_pred))\n",
    "f1_scores.append(f1_score(y_val_fold, y_val_pred))"
   ]
  },
  {
   "cell_type": "code",
   "execution_count": 89,
   "id": "57db43de",
   "metadata": {},
   "outputs": [
    {
     "name": "stdout",
     "output_type": "stream",
     "text": [
      "Accuracy-training set: 0.9486847779215178\n",
      "Precision-training set: 0.6896551724137931\n",
      "Recall-training set: 0.28368794326241137\n",
      "F1 Score-training set: 0.40201005025125636\n"
     ]
    }
   ],
   "source": [
    "mean_accuracy = np.mean(accuracy_scores)\n",
    "mean_precision = np.mean(precision_scores)\n",
    "mean_recall = np.mean(recall_scores)\n",
    "mean_f1 = np.mean(f1_scores)\n",
    "\n",
    "print(f\"Accuracy-training set: {mean_accuracy}\")\n",
    "print(f\"Precision-training set: {mean_precision}\")\n",
    "print(f\"Recall-training set: {mean_recall}\")\n",
    "print(f\"F1 Score-training set: {mean_f1}\")"
   ]
  },
  {
   "cell_type": "markdown",
   "id": "135b1402",
   "metadata": {},
   "source": [
    "#### Evaluate the model on the test set"
   ]
  },
  {
   "cell_type": "code",
   "execution_count": 90,
   "id": "6017b699",
   "metadata": {
    "scrolled": true
   },
   "outputs": [
    {
     "name": "stdout",
     "output_type": "stream",
     "text": [
      "9/9 [==============================] - 0s 2ms/step\n",
      "Accuracy-Test Set: 0.9651162790697675\n",
      "Precision-Test Set: 0.7777777777777778\n",
      "Recall-Test Set: 0.5\n",
      "F1 Score-Test Set: 0.6086956521739131\n"
     ]
    }
   ],
   "source": [
    "y_test_pred = (model_ann_scaled.predict(X_test_scaled) > 0.5).astype(int) # Convert probabilities to binary predictions\n",
    "test_accuracy = accuracy_score(y_test, y_test_pred)\n",
    "test_precision = precision_score(y_test, y_test_pred)\n",
    "test_recall = recall_score(y_test, y_test_pred)\n",
    "test_f1 = f1_score(y_test, y_test_pred)\n",
    "\n",
    "print(f\"Accuracy-Test Set: {test_accuracy}\")\n",
    "print(f\"Precision-Test Set: {test_precision}\")\n",
    "print(f\"Recall-Test Set: {test_recall}\")\n",
    "print(f\"F1 Score-Test Set: {test_f1}\")"
   ]
  },
  {
   "cell_type": "code",
   "execution_count": 91,
   "id": "cf5e7f36",
   "metadata": {},
   "outputs": [
    {
     "name": "stdout",
     "output_type": "stream",
     "text": [
      "9/9 [==============================] - 0s 0s/step\n"
     ]
    },
    {
     "data": {
      "text/plain": [
       "Text(50.722222222222214, 0.5, 'Actual')"
      ]
     },
     "execution_count": 91,
     "metadata": {},
     "output_type": "execute_result"
    },
    {
     "data": {
      "image/png": "[encoded data removed]",
      "text/plain": [
       "<Figure size 640x480 with 1 Axes>"
      ]
     },
     "metadata": {},
     "output_type": "display_data"
    }
   ],
   "source": [
    "from sklearn.metrics import confusion_matrix\n",
    "import seaborn as sns\n",
    "\n",
    "y_test_pred = model_ann_scaled.predict(X_test_scaled)\n",
    "y_test_pred = y_test_pred.flatten()\n",
    "y_test_pred_sc = np.where(y_test_pred.round(2) > 0.5, 1, 0)\n",
    "c_matrix = confusion_matrix(y_test, y_test_pred_sc)\n",
    "ax = sns.heatmap(c_matrix, annot=True,                  \n",
    "                 xticklabels=['Alive','Died'],                \n",
    "                 yticklabels=['Alive','Died'],                  \n",
    "                 cbar=False, cmap='Blues')\n",
    "ax.set_xlabel(\"Prediction\")\n",
    "ax.set_ylabel(\"Actual\")"
   ]
  },
  {
   "cell_type": "markdown",
   "id": "50a43d77",
   "metadata": {},
   "source": [
    "#### ROC Curve"
   ]
  },
  {
   "cell_type": "code",
   "execution_count": 92,
   "id": "e011f5f1",
   "metadata": {},
   "outputs": [
    {
     "name": "stdout",
     "output_type": "stream",
     "text": [
      "9/9 [==============================] - 0s 876us/step\n"
     ]
    }
   ],
   "source": [
    "from sklearn.metrics import roc_curve\n",
    "import matplotlib.pyplot as plt\n",
    "y_test_pred_probs = model_ann_scaled.predict(X_test_scaled)"
   ]
  },
  {
   "cell_type": "code",
   "execution_count": 93,
   "id": "942c12a3",
   "metadata": {},
   "outputs": [],
   "source": [
    "FPR, TPR, _ = roc_curve(y_test, y_test_pred_probs)"
   ]
  },
  {
   "cell_type": "code",
   "execution_count": 94,
   "id": "03f2d602",
   "metadata": {},
   "outputs": [
    {
     "data": {
      "text/plain": [
       "Text(0, 0.5, 'True Positive Rate')"
      ]
     },
     "execution_count": 94,
     "metadata": {},
     "output_type": "execute_result"
    },
    {
     "data": {
      "image/png": "[encoded data removed]",
      "text/plain": [
       "<Figure size 640x480 with 1 Axes>"
      ]
     },
     "metadata": {},
     "output_type": "display_data"
    }
   ],
   "source": [
    "plt.plot(FPR, TPR)\n",
    "plt.plot([0,1],[0,1],'--', color='black')\n",
    "plt.title('ROC Curve')\n",
    "plt.xlabel('False Positive Rate')\n",
    "plt.ylabel('True Positive Rate')"
   ]
  },
  {
   "cell_type": "markdown",
   "id": "d4b15fb7",
   "metadata": {},
   "source": [
    "### Adjusting hyperparameters"
   ]
  },
  {
   "cell_type": "code",
   "execution_count": 95,
   "id": "ecf360c7",
   "metadata": {},
   "outputs": [
    {
     "name": "stdout",
     "output_type": "stream",
     "text": [
      "+------------+---------+--------+\n",
      "| 10% test   |   Train |   Test |\n",
      "+============+=========+========+\n",
      "| Accuracy   |    0.95 |   0.96 |\n",
      "+------------+---------+--------+\n",
      "| Precision  |    0.7  |   0.7  |\n",
      "+------------+---------+--------+\n",
      "| Recall     |    0.44 |   0.5  |\n",
      "+------------+---------+--------+\n",
      "| F1 Score   |    0.54 |   0.58 |\n",
      "+------------+---------+--------+\n",
      "+------------+---------+--------+\n",
      "| 30% test   |   Train |   Test |\n",
      "+============+=========+========+\n",
      "| Accuracy   |    0.95 |   0.94 |\n",
      "+------------+---------+--------+\n",
      "| Precision  |    0.77 |   0.66 |\n",
      "+------------+---------+--------+\n",
      "| Recall     |    0.41 |   0.28 |\n",
      "+------------+---------+--------+\n",
      "| F1 Score   |    0.53 |   0.54 |\n",
      "+------------+---------+--------+\n"
     ]
    },
    {
     "data": {
      "image/png": "[encoded data removed]",
      "text/plain": [
       "<Figure size 640x480 with 1 Axes>"
      ]
     },
     "metadata": {},
     "output_type": "display_data"
    },
    {
     "data": {
      "image/png": "[encoded data removed]",
      "text/plain": [
       "<Figure size 640x480 with 1 Axes>"
      ]
     },
     "metadata": {},
     "output_type": "display_data"
    }
   ],
   "source": [
    "import matplotlib.pyplot as plt\n",
    "import numpy as np\n",
    "\n",
    "data = [\n",
    "    [\"Accuracy\", 0.95, 0.96],\n",
    "    [\"Precision\", 0.70, 0.70],\n",
    "    [\"Recall\", 0.44, 0.50],\n",
    "    [\"F1 Score\", 0.54, 0.58],\n",
    "]   \n",
    "headers = [\"10% test\", \"Train\", \"Test\"]\n",
    "\n",
    "data1 = [\n",
    "    [\"Accuracy\", 0.95, 0.94],\n",
    "    [\"Precision\", 0.77, 0.66],\n",
    "    [\"Recall\", 0.41, 0.28],\n",
    "    [\"F1 Score\", 0.53, 0.54],\n",
    "]   \n",
    "headers1 = [\"30% test\", \"Train\", \"Test\"]\n",
    "print(tabulate(data, headers=headers, tablefmt=\"grid\"))\n",
    "print(tabulate(data1, headers=headers1, tablefmt=\"grid\"))\n",
    "\n",
    "def plot_data(data, headers, title):\n",
    "    categories = [row[0] for row in data]\n",
    "    values_train = [row[1] for row in data]\n",
    "    values_test = [row[2] for row in data]\n",
    "\n",
    "    bar_width = 0.35\n",
    "    index = np.arange(len(categories))\n",
    "\n",
    "    fig, ax = plt.subplots()\n",
    "    train_bars = ax.bar(index, values_train, bar_width, label=\"Train\")\n",
    "    test_bars = ax.bar(index + bar_width, values_test, bar_width, label=\"Test\")\n",
    "\n",
    "    ax.set_xlabel(\"Metrics\")\n",
    "    ax.set_ylabel(\"Values\")\n",
    "    ax.set_title(title)\n",
    "    ax.set_xticks(index + bar_width / 2)\n",
    "    ax.set_xticklabels(categories)\n",
    "    ax.legend()\n",
    "\n",
    "    plt.show()\n",
    "\n",
    "plot_data(data, headers, \"epochs = 200, 10% test\")\n",
    "plot_data(data1, headers1, \"epochs = 200, 30% test\")\n"
   ]
  },
  {
   "cell_type": "markdown",
   "id": "04a63192",
   "metadata": {},
   "source": [
    "## Comparison between all models"
   ]
  },
  {
   "cell_type": "code",
   "execution_count": 96,
   "id": "9e0c5ee9",
   "metadata": {},
   "outputs": [
    {
     "name": "stdout",
     "output_type": "stream",
     "text": [
      "+--------------+--------+------------+----------+\n",
      "| Parameters   |   RF-I |   RF-SMOTE |   RF-PCA |\n",
      "+==============+========+============+==========+\n",
      "| Training Ac  |   0.87 |       0.83 |     0.87 |\n",
      "+--------------+--------+------------+----------+\n",
      "| Testing Ac   |   0.88 |       0.8  |     0.84 |\n",
      "+--------------+--------+------------+----------+\n",
      "| CV-Ac        |   0.84 |       0.94 |     0.85 |\n",
      "+--------------+--------+------------+----------+\n",
      "| Precision    |   0.27 |       0.23 |     0.25 |\n",
      "+--------------+--------+------------+----------+\n",
      "| Recall       |   0.72 |       0.68 |     0.67 |\n",
      "+--------------+--------+------------+----------+\n",
      "| F1 Score     |   0.4  |       0.34 |     0.36 |\n",
      "+--------------+--------+------------+----------+\n",
      "CV = Cross-Validation accuracy\n"
     ]
    },
    {
     "data": {
      "image/png": "[encoded data removed]",
      "text/plain": [
       "<Figure size 640x480 with 1 Axes>"
      ]
     },
     "metadata": {},
     "output_type": "display_data"
    }
   ],
   "source": [
    "data = [\n",
    "    [\"Training Ac\", 0.87, 0.83, 0.87],\n",
    "    [\"Testing Ac\", 0.88, 0.80, 0.84],\n",
    "    [\"CV-Ac\", 0.84, 0.94, 0.85],\n",
    "    [\"Precision\", 0.27, 0.23, 0.25],\n",
    "    [\"Recall\", 0.72, 0.68, 0.67],\n",
    "    [\"F1 Score\", 0.40, 0.34, 0.36],\n",
    "]\n",
    "headers = [\"Parameters\", \"RF-I\", \"RF-SMOTE\", \"RF-PCA\"]\n",
    "print(tabulate(data, headers=headers, tablefmt=\"grid\"))\n",
    "print(\"CV = Cross-Validation accuracy\")\n",
    "\n",
    "parameters = [row[0] for row in data]\n",
    "values_RF_I = [row[1] for row in data]\n",
    "values_RF_SMOTE = [row[2] for row in data]\n",
    "values_RF_PCA = [row[3] for row in data]\n",
    "\n",
    "bar_width = 0.2\n",
    "index = np.arange(len(parameters))\n",
    "\n",
    "plt.bar(index, values_RF_I, width=bar_width, label=headers[1])\n",
    "plt.bar(index + bar_width, values_RF_SMOTE, width=bar_width, label=headers[2])\n",
    "plt.bar(index + 2 * bar_width, values_RF_PCA, width=bar_width, label=headers[3])\n",
    "\n",
    "plt.xlabel('Parameters')\n",
    "plt.ylabel('Values')\n",
    "plt.title('Performance Metrics for Different Methods')\n",
    "plt.xticks(index + bar_width, parameters)\n",
    "plt.legend()\n",
    "plt.show()"
   ]
  },
  {
   "cell_type": "code",
   "execution_count": 97,
   "id": "ee1afcbd",
   "metadata": {},
   "outputs": [
    {
     "name": "stdout",
     "output_type": "stream",
     "text": [
      "+--------------+--------+-------+\n",
      "| Parameters   |   RF-I |   ANN |\n",
      "+==============+========+=======+\n",
      "| Training Ac  |   0.87 |  0.95 |\n",
      "+--------------+--------+-------+\n",
      "| Testing Ac   |   0.88 |  0.96 |\n",
      "+--------------+--------+-------+\n",
      "| Precision    |   0.27 |  0.71 |\n",
      "+--------------+--------+-------+\n",
      "| Recall       |   0.72 |  0.44 |\n",
      "+--------------+--------+-------+\n",
      "| F1 Score     |   0.4  |  0.54 |\n",
      "+--------------+--------+-------+\n"
     ]
    },
    {
     "data": {
      "image/png": "[encoded data removed]",
      "text/plain": [
       "<Figure size 800x600 with 1 Axes>"
      ]
     },
     "metadata": {},
     "output_type": "display_data"
    }
   ],
   "source": [
    "data = [\n",
    "    [\"Training Ac\", 0.87, 0.95],\n",
    "    [\"Testing Ac\", 0.88, 0.96],\n",
    "    [\"Precision\", 0.27, 0.71],\n",
    "    [\"Recall\", 0.72, 0.44],\n",
    "    [\"F1 Score\", 0.40, 0.54],\n",
    "]\n",
    "headers = [\"Parameters\", \"RF-I\", \"ANN\"]\n",
    "print(tabulate(data, headers=headers, tablefmt=\"grid\"))\n",
    "\n",
    "parameters = [row[0] for row in data]\n",
    "rf_i_values = [row[1] for row in data]\n",
    "ann_values = [row[2] for row in data]\n",
    "\n",
    "fig, ax = plt.subplots(figsize=(8, 6))\n",
    "bar_width = 0.35\n",
    "index = range(len(parameters))\n",
    "\n",
    "bar1 = ax.bar(index, rf_i_values, bar_width, label='RF-I')\n",
    "bar2 = ax.bar([i + bar_width for i in index], ann_values, bar_width, label='ANN')\n",
    "\n",
    "ax.set_xlabel('Parameters')\n",
    "ax.set_ylabel('Values')\n",
    "ax.set_title('Comparison of RF-I and ANN for Different Parameters')\n",
    "ax.set_xticks([i + bar_width / 2 for i in index])\n",
    "ax.set_xticklabels(parameters)\n",
    "ax.legend()\n",
    "plt.show()"
   ]
  },
  {
   "cell_type": "markdown",
   "id": "135246dc-c3be-4414-a56d-c23bb431557d",
   "metadata": {},
   "source": [
    "## Assessment"
   ]
  },
  {
   "cell_type": "markdown",
   "id": "9efdafbf-c8f9-4da9-bdb2-bd69165a850c",
   "metadata": {},
   "source": [
    "\n",
    "The graph on the left compares the methods used in RF. The RF-I, which already contains class balance in its hyperparameter, was already able to improve performance compared to SMOTE and PCA methods. In addition, RF-PCA had no improvements, probably because it captured ~39% of data variance.\r\n",
    "The recall metric was 2.4 times higher RF-I when compared with no hyperparameters adjustment, meaning that even with the adjustments in the imbalanced class, they were not enough to improve the negative class (target class) predictions, and precision remained low in all methods.\r\n",
    "When we compare RF-I with ANN (right chart), we notice a significant increase in precision and, in contrast, a reduction in recall; however, the trade-off of these metrics (F1) is still better in the ANN than in RF-I. The precision improvement, 2.6 times higher than RF-I, shows that the model reduced the false positive predictions, which were predicted as positive when negative, indicating that the model performance is improving.\r\n"
   ]
  },
  {
   "cell_type": "markdown",
   "id": "09c97243-b89a-4837-b582-b9b241cd8fb5",
   "metadata": {},
   "source": [
    "## Conclusion"
   ]
  },
  {
   "cell_type": "markdown",
   "id": "ac497df5-5f63-40c1-a154-f35146d51b51",
   "metadata": {},
   "source": [
    "Considering the feature importance results, the presence of any illness (‘CUR_ILL’) or pre-existing illness (‘HISTORY’) on the vaccination day may contribute to the death of a vaccinated patient. However, more hyperparameter adjustment, other methods to handle class imbalance and a better feature selection will be necessary to improve these models’ performance.\n",
    "In general, all models provided a reasonable generalization from the training to the test set, accordingly with the cross-validation accuracy, with the ANN proving to be more suitable for this dataset because of the improved precision that reduced the false positive predictions. Overfitting and underfitting did not occur due to the robustness of these models.\n"
   ]
  },
  {
   "cell_type": "markdown",
   "id": "e65c12d6",
   "metadata": {},
   "source": [
    "### Reference"
   ]
  },
  {
   "cell_type": "markdown",
   "id": "41b773a8",
   "metadata": {},
   "source": [
    "Müller, A. C. and Guido, S. (2017). Introduction to machine learning with Python: a guide for data scientists. 1st ed. United States of America. O’reilly Media.\n",
    "\n",
    "Scikit-learn.org. (2012). 3.2. Tuning the hyper-parameters of an estimator — scikit-learn 0.22 documentation. [online] Available at: https://scikit-learn.org/stable/modules/grid_search.html [Accessed 19 Nov. 2023]."
   ]
  }
 ],
 "metadata": {
  "kernelspec": {
   "display_name": "Python 3 (ipykernel)",
   "language": "python",
   "name": "python3"
  },
  "language_info": {
   "codemirror_mode": {
    "name": "ipython",
    "version": 3
   },
   "file_extension": ".py",
   "mimetype": "text/x-python",
   "name": "python",
   "nbconvert_exporter": "python",
   "pygments_lexer": "ipython3",
   "version": "3.11.9"
  }
 },
 "nbformat": 4,
 "nbformat_minor": 5
}
