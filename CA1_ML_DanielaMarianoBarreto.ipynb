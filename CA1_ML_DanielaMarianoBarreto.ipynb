{
 "cells": [
  {
   "cell_type": "markdown",
   "id": "fe779a85",
   "metadata": {},
   "source": [
    "To start the EDA, I will import all the libraries I will use, such as Pandas, for functions and methods to manipulate the data in this library and Numpy to solve mathematical problems."
   ]
  },
  {
   "cell_type": "code",
   "execution_count": 1,
   "id": "bfd63721",
   "metadata": {},
   "outputs": [],
   "source": [
    "import pandas as pd\n",
    "import numpy as np\n",
    "import statistics as stats\n",
    "import matplotlib.pyplot as plt\n",
    "import seaborn as sns"
   ]
  },
  {
   "cell_type": "markdown",
   "id": "c69150c0",
   "metadata": {},
   "source": [
    "## Import dataset"
   ]
  },
  {
   "cell_type": "markdown",
   "id": "9e1c31c8",
   "metadata": {},
   "source": [
    "I used the 'pd.read_csv' method to access the file that I want to work with.\n",
    "The warning indicates that Pandas has encountered columns in the DataFrame where the data types are inconsistent throughout, meaning that both strings and numbers are within the same column. I will handle it during the cleaning process."
   ]
  },
  {
   "cell_type": "code",
   "execution_count": 2,
   "id": "eb98434a",
   "metadata": {},
   "outputs": [
    {
     "name": "stderr",
     "output_type": "stream",
     "text": [
      "C:\\Users\\danie\\AppData\\Local\\Temp\\ipykernel_24532\\1116616066.py:1: DtypeWarning: Columns (2,3,5,7,12,23,31,34) have mixed types. Specify dtype option on import or set low_memory=False.\n",
      "  df = pd.read_csv('2021VAERSDATA_.csv', encoding='ISO-8859-1')\n"
     ]
    }
   ],
   "source": [
    "df = pd.read_csv('2021VAERSDATA_.csv', encoding='ISO-8859-1')\n",
    "orig_df = df.copy()"
   ]
  },
  {
   "cell_type": "code",
   "execution_count": 3,
   "id": "c4dcccd7",
   "metadata": {
    "scrolled": true
   },
   "outputs": [
    {
     "data": {
      "text/html": [
       "<div>\n",
       "<style scoped>\n",
       "    .dataframe tbody tr th:only-of-type {\n",
       "        vertical-align: middle;\n",
       "    }\n",
       "\n",
       "    .dataframe tbody tr th {\n",
       "        vertical-align: top;\n",
       "    }\n",
       "\n",
       "    .dataframe thead th {\n",
       "        text-align: right;\n",
       "    }\n",
       "</style>\n",
       "<table border=\"1\" class=\"dataframe\">\n",
       "  <thead>\n",
       "    <tr style=\"text-align: right;\">\n",
       "      <th></th>\n",
       "      <th>VAERS_ID</th>\n",
       "      <th>RECVDATE</th>\n",
       "      <th>STATE</th>\n",
       "      <th>AGE_YRS</th>\n",
       "      <th>CAGE_YR</th>\n",
       "      <th>CAGE_MO</th>\n",
       "      <th>SEX</th>\n",
       "      <th>RPT_DATE</th>\n",
       "      <th>SYMPTOM_TEXT</th>\n",
       "      <th>DIED</th>\n",
       "      <th>...</th>\n",
       "      <th>CUR_ILL</th>\n",
       "      <th>HISTORY</th>\n",
       "      <th>PRIOR_VAX</th>\n",
       "      <th>SPLTTYPE</th>\n",
       "      <th>FORM_VERS</th>\n",
       "      <th>TODAYS_DATE</th>\n",
       "      <th>BIRTH_DEFECT</th>\n",
       "      <th>OFC_VISIT</th>\n",
       "      <th>ER_ED_VISIT</th>\n",
       "      <th>ALLERGIES</th>\n",
       "    </tr>\n",
       "  </thead>\n",
       "  <tbody>\n",
       "    <tr>\n",
       "      <th>0</th>\n",
       "      <td>916767</td>\n",
       "      <td>1/1/221</td>\n",
       "      <td>AK</td>\n",
       "      <td>54</td>\n",
       "      <td>54.0</td>\n",
       "      <td>NaN</td>\n",
       "      <td>F</td>\n",
       "      <td>NaN</td>\n",
       "      <td>Hypotension ticed 24 hours post injectionU  Ef...</td>\n",
       "      <td>NaN</td>\n",
       "      <td>...</td>\n",
       "      <td>NaN</td>\n",
       "      <td>HTN</td>\n",
       "      <td>NaN</td>\n",
       "      <td>NaN</td>\n",
       "      <td>2</td>\n",
       "      <td>1/1/221</td>\n",
       "      <td>NaN</td>\n",
       "      <td>NaN</td>\n",
       "      <td>NaN</td>\n",
       "      <td>ADVAIR, ASMAX, FORADIL, TRAMADOL</td>\n",
       "    </tr>\n",
       "    <tr>\n",
       "      <th>1</th>\n",
       "      <td>918694</td>\n",
       "      <td>1/1/221</td>\n",
       "      <td>AK</td>\n",
       "      <td>23</td>\n",
       "      <td>25.0</td>\n",
       "      <td>NaN</td>\n",
       "      <td>F</td>\n",
       "      <td>NaN</td>\n",
       "      <td>12/24/22  chills body aches headache, fever of...</td>\n",
       "      <td>NaN</td>\n",
       "      <td>...</td>\n",
       "      <td>NaN</td>\n",
       "      <td>NaN</td>\n",
       "      <td>NaN</td>\n",
       "      <td>NaN</td>\n",
       "      <td>2</td>\n",
       "      <td>NaN</td>\n",
       "      <td>NaN</td>\n",
       "      <td>NaN</td>\n",
       "      <td>Y</td>\n",
       "      <td>Altace</td>\n",
       "    </tr>\n",
       "    <tr>\n",
       "      <th>2</th>\n",
       "      <td>917613</td>\n",
       "      <td>1/2/221</td>\n",
       "      <td>AK</td>\n",
       "      <td>31</td>\n",
       "      <td>31.0</td>\n",
       "      <td>NaN</td>\n",
       "      <td>F</td>\n",
       "      <td>NaN</td>\n",
       "      <td>Fatigue, chills, pain at injection site radiat...</td>\n",
       "      <td>NaN</td>\n",
       "      <td>...</td>\n",
       "      <td>NaN</td>\n",
       "      <td>Asthma, adhd</td>\n",
       "      <td>Tetanus</td>\n",
       "      <td>NaN</td>\n",
       "      <td>2</td>\n",
       "      <td>1/2/221</td>\n",
       "      <td>NaN</td>\n",
       "      <td>NaN</td>\n",
       "      <td>NaN</td>\n",
       "      <td>Aspergillus</td>\n",
       "    </tr>\n",
       "    <tr>\n",
       "      <th>3</th>\n",
       "      <td>918693</td>\n",
       "      <td>1/2/221</td>\n",
       "      <td>AK</td>\n",
       "      <td>6</td>\n",
       "      <td>6.0</td>\n",
       "      <td>NaN</td>\n",
       "      <td>F</td>\n",
       "      <td>NaN</td>\n",
       "      <td>Starting at 1 am I ticed chills, body aches, v...</td>\n",
       "      <td>NaN</td>\n",
       "      <td>...</td>\n",
       "      <td>NaN</td>\n",
       "      <td>NaN</td>\n",
       "      <td>NaN</td>\n",
       "      <td>NaN</td>\n",
       "      <td>2</td>\n",
       "      <td>1/2/221</td>\n",
       "      <td>NaN</td>\n",
       "      <td>NaN</td>\n",
       "      <td>Y</td>\n",
       "      <td>Aspirin</td>\n",
       "    </tr>\n",
       "    <tr>\n",
       "      <th>4</th>\n",
       "      <td>91887</td>\n",
       "      <td>1/4/221</td>\n",
       "      <td>AK</td>\n",
       "      <td>49</td>\n",
       "      <td>49.0</td>\n",
       "      <td>NaN</td>\n",
       "      <td>M</td>\n",
       "      <td>NaN</td>\n",
       "      <td>Patient got his Covid vaccine this past Thursd...</td>\n",
       "      <td>NaN</td>\n",
       "      <td>...</td>\n",
       "      <td>NaN</td>\n",
       "      <td>Obesity, pre-diabetes</td>\n",
       "      <td>NaN</td>\n",
       "      <td>NaN</td>\n",
       "      <td>2</td>\n",
       "      <td>1/4/221</td>\n",
       "      <td>NaN</td>\n",
       "      <td>NaN</td>\n",
       "      <td>Y</td>\n",
       "      <td>Cephalosporin</td>\n",
       "    </tr>\n",
       "  </tbody>\n",
       "</table>\n",
       "<p>5 rows × 35 columns</p>\n",
       "</div>"
      ],
      "text/plain": [
       "   VAERS_ID RECVDATE STATE AGE_YRS  CAGE_YR CAGE_MO SEX RPT_DATE  \\\n",
       "0    916767  1/1/221    AK      54     54.0     NaN   F      NaN   \n",
       "1    918694  1/1/221    AK      23     25.0     NaN   F      NaN   \n",
       "2    917613  1/2/221    AK      31     31.0     NaN   F      NaN   \n",
       "3    918693  1/2/221    AK       6      6.0     NaN   F      NaN   \n",
       "4     91887  1/4/221    AK      49     49.0     NaN   M      NaN   \n",
       "\n",
       "                                        SYMPTOM_TEXT DIED  ... CUR_ILL  \\\n",
       "0  Hypotension ticed 24 hours post injectionU  Ef...  NaN  ...     NaN   \n",
       "1  12/24/22  chills body aches headache, fever of...  NaN  ...     NaN   \n",
       "2  Fatigue, chills, pain at injection site radiat...  NaN  ...     NaN   \n",
       "3  Starting at 1 am I ticed chills, body aches, v...  NaN  ...     NaN   \n",
       "4  Patient got his Covid vaccine this past Thursd...  NaN  ...     NaN   \n",
       "\n",
       "                 HISTORY PRIOR_VAX SPLTTYPE  FORM_VERS TODAYS_DATE  \\\n",
       "0                    HTN       NaN      NaN          2     1/1/221   \n",
       "1                    NaN       NaN      NaN          2         NaN   \n",
       "2           Asthma, adhd   Tetanus      NaN          2     1/2/221   \n",
       "3                    NaN       NaN      NaN          2     1/2/221   \n",
       "4  Obesity, pre-diabetes       NaN      NaN          2     1/4/221   \n",
       "\n",
       "  BIRTH_DEFECT OFC_VISIT ER_ED_VISIT                         ALLERGIES  \n",
       "0          NaN       NaN         NaN  ADVAIR, ASMAX, FORADIL, TRAMADOL  \n",
       "1          NaN       NaN           Y                            Altace  \n",
       "2          NaN       NaN         NaN                       Aspergillus  \n",
       "3          NaN       NaN           Y                           Aspirin  \n",
       "4          NaN       NaN           Y                     Cephalosporin  \n",
       "\n",
       "[5 rows x 35 columns]"
      ]
     },
     "execution_count": 3,
     "metadata": {},
     "output_type": "execute_result"
    }
   ],
   "source": [
    "df.head()"
   ]
  },
  {
   "cell_type": "markdown",
   "id": "5cb95373",
   "metadata": {},
   "source": [
    "I used the method df.shape to have an idea of the dataset size. And I found that this dataset has 34121 rows and 35 columns."
   ]
  },
  {
   "cell_type": "code",
   "execution_count": 4,
   "id": "611f99da",
   "metadata": {},
   "outputs": [
    {
     "data": {
      "text/plain": [
       "(34121, 35)"
      ]
     },
     "execution_count": 4,
     "metadata": {},
     "output_type": "execute_result"
    }
   ],
   "source": [
    "df.shape"
   ]
  },
  {
   "cell_type": "markdown",
   "id": "f5c4f5d4",
   "metadata": {},
   "source": [
    "With the describe() method, I can see that in this dataset, there is only a skewed distribution in two columns ('HOSPDAYS' and 'NUMDAYS') by comparing the values of mean and median (50% value). The other columns are normally distributed. Thus, I will start the cleaning process, but first, I will select the principal columns that can be useful for the project. "
   ]
  },
  {
   "cell_type": "code",
   "execution_count": 5,
   "id": "284ec2c6",
   "metadata": {},
   "outputs": [
    {
     "data": {
      "text/html": [
       "<div>\n",
       "<style scoped>\n",
       "    .dataframe tbody tr th:only-of-type {\n",
       "        vertical-align: middle;\n",
       "    }\n",
       "\n",
       "    .dataframe tbody tr th {\n",
       "        vertical-align: top;\n",
       "    }\n",
       "\n",
       "    .dataframe thead th {\n",
       "        text-align: right;\n",
       "    }\n",
       "</style>\n",
       "<table border=\"1\" class=\"dataframe\">\n",
       "  <thead>\n",
       "    <tr style=\"text-align: right;\">\n",
       "      <th></th>\n",
       "      <th>VAERS_ID</th>\n",
       "      <th>CAGE_YR</th>\n",
       "      <th>HOSPDAYS</th>\n",
       "      <th>NUMDAYS</th>\n",
       "      <th>FORM_VERS</th>\n",
       "    </tr>\n",
       "  </thead>\n",
       "  <tbody>\n",
       "    <tr>\n",
       "      <th>count</th>\n",
       "      <td>3.412100e+04</td>\n",
       "      <td>26716.000000</td>\n",
       "      <td>2857.000000</td>\n",
       "      <td>17738.000000</td>\n",
       "      <td>34121.000000</td>\n",
       "    </tr>\n",
       "    <tr>\n",
       "      <th>mean</th>\n",
       "      <td>4.236210e+05</td>\n",
       "      <td>46.290800</td>\n",
       "      <td>3.554428</td>\n",
       "      <td>29.728267</td>\n",
       "      <td>1.998124</td>\n",
       "    </tr>\n",
       "    <tr>\n",
       "      <th>std</th>\n",
       "      <td>4.146203e+05</td>\n",
       "      <td>22.466735</td>\n",
       "      <td>3.671364</td>\n",
       "      <td>768.794004</td>\n",
       "      <td>0.043269</td>\n",
       "    </tr>\n",
       "    <tr>\n",
       "      <th>min</th>\n",
       "      <td>1.000000e+00</td>\n",
       "      <td>1.000000</td>\n",
       "      <td>1.000000</td>\n",
       "      <td>1.000000</td>\n",
       "      <td>1.000000</td>\n",
       "    </tr>\n",
       "    <tr>\n",
       "      <th>25%</th>\n",
       "      <td>9.265500e+04</td>\n",
       "      <td>32.000000</td>\n",
       "      <td>1.000000</td>\n",
       "      <td>1.000000</td>\n",
       "      <td>2.000000</td>\n",
       "    </tr>\n",
       "    <tr>\n",
       "      <th>50%</th>\n",
       "      <td>1.517760e+05</td>\n",
       "      <td>46.000000</td>\n",
       "      <td>2.000000</td>\n",
       "      <td>2.000000</td>\n",
       "      <td>2.000000</td>\n",
       "    </tr>\n",
       "    <tr>\n",
       "      <th>75%</th>\n",
       "      <td>9.253510e+05</td>\n",
       "      <td>62.000000</td>\n",
       "      <td>4.000000</td>\n",
       "      <td>7.000000</td>\n",
       "      <td>2.000000</td>\n",
       "    </tr>\n",
       "    <tr>\n",
       "      <th>max</th>\n",
       "      <td>1.115348e+06</td>\n",
       "      <td>99.000000</td>\n",
       "      <td>39.000000</td>\n",
       "      <td>36896.000000</td>\n",
       "      <td>2.000000</td>\n",
       "    </tr>\n",
       "  </tbody>\n",
       "</table>\n",
       "</div>"
      ],
      "text/plain": [
       "           VAERS_ID       CAGE_YR     HOSPDAYS       NUMDAYS     FORM_VERS\n",
       "count  3.412100e+04  26716.000000  2857.000000  17738.000000  34121.000000\n",
       "mean   4.236210e+05     46.290800     3.554428     29.728267      1.998124\n",
       "std    4.146203e+05     22.466735     3.671364    768.794004      0.043269\n",
       "min    1.000000e+00      1.000000     1.000000      1.000000      1.000000\n",
       "25%    9.265500e+04     32.000000     1.000000      1.000000      2.000000\n",
       "50%    1.517760e+05     46.000000     2.000000      2.000000      2.000000\n",
       "75%    9.253510e+05     62.000000     4.000000      7.000000      2.000000\n",
       "max    1.115348e+06     99.000000    39.000000  36896.000000      2.000000"
      ]
     },
     "execution_count": 5,
     "metadata": {},
     "output_type": "execute_result"
    }
   ],
   "source": [
    "df.describe()"
   ]
  },
  {
   "cell_type": "markdown",
   "id": "f1a96f5a",
   "metadata": {},
   "source": [
    "## Clean data"
   ]
  },
  {
   "cell_type": "markdown",
   "id": "927d2c7d",
   "metadata": {},
   "source": [
    "To start the cleaning process, I will use the method df.info() because it provides a quick overview of the structure and some basic information about the DataFrame, like data type and if there are missing values. In this case, the dataset presents all the values (no missing values). "
   ]
  },
  {
   "cell_type": "code",
   "execution_count": 6,
   "id": "9700b663",
   "metadata": {},
   "outputs": [
    {
     "name": "stdout",
     "output_type": "stream",
     "text": [
      "<class 'pandas.core.frame.DataFrame'>\n",
      "RangeIndex: 34121 entries, 0 to 34120\n",
      "Data columns (total 35 columns):\n",
      " #   Column        Non-Null Count  Dtype  \n",
      "---  ------        --------------  -----  \n",
      " 0   VAERS_ID      34121 non-null  int64  \n",
      " 1   RECVDATE      34121 non-null  object \n",
      " 2   STATE         28550 non-null  object \n",
      " 3   AGE_YRS       30932 non-null  object \n",
      " 4   CAGE_YR       26716 non-null  float64\n",
      " 5   CAGE_MO       18 non-null     object \n",
      " 6   SEX           34121 non-null  object \n",
      " 7   RPT_DATE      63 non-null     object \n",
      " 8   SYMPTOM_TEXT  34107 non-null  object \n",
      " 9   DIED          1957 non-null   object \n",
      " 10  DATEDIED      1798 non-null   object \n",
      " 11  L_THREAT      1259 non-null   object \n",
      " 12  ER_VISIT      11 non-null     object \n",
      " 13  HOSPITAL      4387 non-null   object \n",
      " 14  HOSPDAYS      2857 non-null   float64\n",
      " 15  X_STAY        52 non-null     object \n",
      " 16  DISABLE       870 non-null    object \n",
      " 17  RECOVD        31264 non-null  object \n",
      " 18  VAX_DATE      32622 non-null  object \n",
      " 19  ONSET_DATE    32258 non-null  object \n",
      " 20  NUMDAYS       17738 non-null  float64\n",
      " 21  LAB_DATA      9972 non-null   object \n",
      " 22  V_ADMINBY     34121 non-null  object \n",
      " 23  V_FUNDBY      64 non-null     object \n",
      " 24  OTHER_MEDS    17441 non-null  object \n",
      " 25  CUR_ILL       5923 non-null   object \n",
      " 26  HISTORY       17283 non-null  object \n",
      " 27  PRIOR_VAX     1434 non-null   object \n",
      " 28  SPLTTYPE      8220 non-null   object \n",
      " 29  FORM_VERS     34121 non-null  int64  \n",
      " 30  TODAYS_DATE   33922 non-null  object \n",
      " 31  BIRTH_DEFECT  51 non-null     object \n",
      " 32  OFC_VISIT     5404 non-null   object \n",
      " 33  ER_ED_VISIT   5529 non-null   object \n",
      " 34  ALLERGIES     13076 non-null  object \n",
      "dtypes: float64(3), int64(2), object(30)\n",
      "memory usage: 9.1+ MB\n"
     ]
    }
   ],
   "source": [
    "df.info()"
   ]
  },
  {
   "cell_type": "markdown",
   "id": "b3908ebb",
   "metadata": {},
   "source": [
    "The method below returns True where there is a NaN (Not a Number) value and False otherwise to indicate the presence of missing values. \n",
    "\n",
    "The data use guide (Vaccine Adverse Event Reporting System - VAERS) contains essential information about this dataset, like how it was created and filled, for example, in the 'DIED' column, where they used the letter \"Y\" to indicate that the patient dies and otherwise the field will be blank. Thus, that is the reason why there is NaN in this dataset. In this case, I will transform the NaN in zeros to represent the absence of occurrence.\n",
    "\n",
    "Example of data use guide:\n",
    "\n",
    "DIED: If the vaccine recipient died a \"Y\" is used; otherwise the field will be blank."
   ]
  },
  {
   "cell_type": "code",
   "execution_count": 7,
   "id": "33abacc2",
   "metadata": {},
   "outputs": [
    {
     "data": {
      "text/plain": [
       "VAERS_ID            0\n",
       "RECVDATE            0\n",
       "STATE            5571\n",
       "AGE_YRS          3189\n",
       "CAGE_YR          7405\n",
       "CAGE_MO         34103\n",
       "SEX                 0\n",
       "RPT_DATE        34058\n",
       "SYMPTOM_TEXT       14\n",
       "DIED            32164\n",
       "DATEDIED        32323\n",
       "L_THREAT        32862\n",
       "ER_VISIT        34110\n",
       "HOSPITAL        29734\n",
       "HOSPDAYS        31264\n",
       "X_STAY          34069\n",
       "DISABLE         33251\n",
       "RECOVD           2857\n",
       "VAX_DATE         1499\n",
       "ONSET_DATE       1863\n",
       "NUMDAYS         16383\n",
       "LAB_DATA        24149\n",
       "V_ADMINBY           0\n",
       "V_FUNDBY        34057\n",
       "OTHER_MEDS      16680\n",
       "CUR_ILL         28198\n",
       "HISTORY         16838\n",
       "PRIOR_VAX       32687\n",
       "SPLTTYPE        25901\n",
       "FORM_VERS           0\n",
       "TODAYS_DATE       199\n",
       "BIRTH_DEFECT    34070\n",
       "OFC_VISIT       28717\n",
       "ER_ED_VISIT     28592\n",
       "ALLERGIES       21045\n",
       "dtype: int64"
      ]
     },
     "execution_count": 7,
     "metadata": {},
     "output_type": "execute_result"
    }
   ],
   "source": [
    "df.isnull().sum()"
   ]
  },
  {
   "cell_type": "markdown",
   "id": "6ee041bf",
   "metadata": {},
   "source": [
    "As this dataset is vast, I will use the .value_counts() function in the 'STATE' column to know how many records are in each category and focus on one State that satisfies the minimum requirement of the project. Then, I will create a subset with this category. \n",
    "\n",
    "This code showed me that I can use the CA State alone or enjoy more than one. I prefer to work with the CA because it is a cosmopolitan place that might have people from different parts of the world, and I imagine that the results could be interesting."
   ]
  },
  {
   "cell_type": "code",
   "execution_count": 8,
   "id": "060a63d0",
   "metadata": {},
   "outputs": [
    {
     "name": "stdout",
     "output_type": "stream",
     "text": [
      "CA    2577\n",
      "TX    1807\n",
      "NY    1783\n",
      "FL    1654\n",
      "IN    1142\n",
      "IL    1135\n",
      "OH    1072\n",
      "PA    1012\n",
      "MI     921\n",
      "MA     842\n",
      "NJ     836\n",
      "NC     752\n",
      "VA     727\n",
      "MD     693\n",
      "AZ     659\n",
      "WI     649\n",
      "WA     630\n",
      "GA     628\n",
      "CO     617\n",
      "MN     604\n",
      "MO     556\n",
      "TN     526\n",
      "CT     524\n",
      "KY     443\n",
      "OR     363\n",
      "IA     336\n",
      "OK     333\n",
      "LA     317\n",
      "AL     295\n",
      "KS     295\n",
      "SC     286\n",
      "AR     266\n",
      "NE     263\n",
      "MT     262\n",
      "ME     235\n",
      "NM     229\n",
      "UT     229\n",
      "WV     220\n",
      "NH     203\n",
      "NV     197\n",
      "PR     195\n",
      "AK     167\n",
      "ID     157\n",
      "MS     150\n",
      "HI     134\n",
      "SD     116\n",
      "RI     112\n",
      "VT     105\n",
      "ND     101\n",
      "DE      66\n",
      "DC      55\n",
      "WY      53\n",
      "GU       7\n",
      "VI       4\n",
      "MP       3\n",
      "AS       3\n",
      "MH       1\n",
      "FM       1\n",
      "Ca       1\n",
      "XB       1\n",
      "Name: STATE, dtype: int64\n"
     ]
    }
   ],
   "source": [
    "category_counts = df['STATE'].value_counts()\n",
    "print(category_counts)"
   ]
  },
  {
   "cell_type": "markdown",
   "id": "1642f1e3",
   "metadata": {},
   "source": [
    "Below, I will create the subset with the CA category and work with it from now on. This subset will be named as 'df1'."
   ]
  },
  {
   "cell_type": "code",
   "execution_count": 9,
   "id": "b00af18a",
   "metadata": {},
   "outputs": [
    {
     "data": {
      "text/html": [
       "<div>\n",
       "<style scoped>\n",
       "    .dataframe tbody tr th:only-of-type {\n",
       "        vertical-align: middle;\n",
       "    }\n",
       "\n",
       "    .dataframe tbody tr th {\n",
       "        vertical-align: top;\n",
       "    }\n",
       "\n",
       "    .dataframe thead th {\n",
       "        text-align: right;\n",
       "    }\n",
       "</style>\n",
       "<table border=\"1\" class=\"dataframe\">\n",
       "  <thead>\n",
       "    <tr style=\"text-align: right;\">\n",
       "      <th></th>\n",
       "      <th>VAERS_ID</th>\n",
       "      <th>RECVDATE</th>\n",
       "      <th>STATE</th>\n",
       "      <th>AGE_YRS</th>\n",
       "      <th>CAGE_YR</th>\n",
       "      <th>CAGE_MO</th>\n",
       "      <th>SEX</th>\n",
       "      <th>RPT_DATE</th>\n",
       "      <th>SYMPTOM_TEXT</th>\n",
       "      <th>DIED</th>\n",
       "      <th>...</th>\n",
       "      <th>CUR_ILL</th>\n",
       "      <th>HISTORY</th>\n",
       "      <th>PRIOR_VAX</th>\n",
       "      <th>SPLTTYPE</th>\n",
       "      <th>FORM_VERS</th>\n",
       "      <th>TODAYS_DATE</th>\n",
       "      <th>BIRTH_DEFECT</th>\n",
       "      <th>OFC_VISIT</th>\n",
       "      <th>ER_ED_VISIT</th>\n",
       "      <th>ALLERGIES</th>\n",
       "    </tr>\n",
       "  </thead>\n",
       "  <tbody>\n",
       "    <tr>\n",
       "      <th>1390</th>\n",
       "      <td>91661</td>\n",
       "      <td>1/1/221</td>\n",
       "      <td>CA</td>\n",
       "      <td>73</td>\n",
       "      <td>73.0</td>\n",
       "      <td>NaN</td>\n",
       "      <td>F</td>\n",
       "      <td>NaN</td>\n",
       "      <td>Approximately 3 min post vaccition administrat...</td>\n",
       "      <td>NaN</td>\n",
       "      <td>...</td>\n",
       "      <td>U</td>\n",
       "      <td>U</td>\n",
       "      <td>NaN</td>\n",
       "      <td>NaN</td>\n",
       "      <td>2</td>\n",
       "      <td>1/1/221</td>\n",
       "      <td>NaN</td>\n",
       "      <td>Y</td>\n",
       "      <td>NaN</td>\n",
       "      <td>NaN</td>\n",
       "    </tr>\n",
       "    <tr>\n",
       "      <th>1391</th>\n",
       "      <td>916613</td>\n",
       "      <td>1/1/221</td>\n",
       "      <td>CA</td>\n",
       "      <td>4</td>\n",
       "      <td>4.0</td>\n",
       "      <td>NaN</td>\n",
       "      <td>F</td>\n",
       "      <td>NaN</td>\n",
       "      <td>On 12/3/22 I got a pain in the stomach as if s...</td>\n",
       "      <td>NaN</td>\n",
       "      <td>...</td>\n",
       "      <td>NaN</td>\n",
       "      <td>NaN</td>\n",
       "      <td>NaN</td>\n",
       "      <td>NaN</td>\n",
       "      <td>2</td>\n",
       "      <td>1/1/221</td>\n",
       "      <td>NaN</td>\n",
       "      <td>NaN</td>\n",
       "      <td>NaN</td>\n",
       "      <td>Y</td>\n",
       "    </tr>\n",
       "    <tr>\n",
       "      <th>1392</th>\n",
       "      <td>916617</td>\n",
       "      <td>1/1/221</td>\n",
       "      <td>CA</td>\n",
       "      <td>35</td>\n",
       "      <td>35.0</td>\n",
       "      <td>NaN</td>\n",
       "      <td>F</td>\n",
       "      <td>NaN</td>\n",
       "      <td>Dizziness, chills, fever, muscle aches, pain a...</td>\n",
       "      <td>NaN</td>\n",
       "      <td>...</td>\n",
       "      <td>NaN</td>\n",
       "      <td>Y</td>\n",
       "      <td>NaN</td>\n",
       "      <td>NaN</td>\n",
       "      <td>2</td>\n",
       "      <td>1/1/221</td>\n",
       "      <td>NaN</td>\n",
       "      <td>NaN</td>\n",
       "      <td>NaN</td>\n",
       "      <td>Y</td>\n",
       "    </tr>\n",
       "    <tr>\n",
       "      <th>1393</th>\n",
       "      <td>916621</td>\n",
       "      <td>1/1/221</td>\n",
       "      <td>CA</td>\n",
       "      <td>25</td>\n",
       "      <td>25.0</td>\n",
       "      <td>NaN</td>\n",
       "      <td>F</td>\n",
       "      <td>NaN</td>\n",
       "      <td>Fatigue - 2 hours priorU Muscle aches/pain - 3...</td>\n",
       "      <td>NaN</td>\n",
       "      <td>...</td>\n",
       "      <td>NaN</td>\n",
       "      <td>U</td>\n",
       "      <td>NaN</td>\n",
       "      <td>NaN</td>\n",
       "      <td>2</td>\n",
       "      <td>1/1/221</td>\n",
       "      <td>NaN</td>\n",
       "      <td>NaN</td>\n",
       "      <td>NaN</td>\n",
       "      <td>Y</td>\n",
       "    </tr>\n",
       "    <tr>\n",
       "      <th>1394</th>\n",
       "      <td>91669</td>\n",
       "      <td>1/1/221</td>\n",
       "      <td>CA</td>\n",
       "      <td>37</td>\n",
       "      <td>37.0</td>\n",
       "      <td>NaN</td>\n",
       "      <td>M</td>\n",
       "      <td>NaN</td>\n",
       "      <td>Typical sore arm similar to flu shotU Followin...</td>\n",
       "      <td>NaN</td>\n",
       "      <td>...</td>\n",
       "      <td>NaN</td>\n",
       "      <td>NaN</td>\n",
       "      <td>NaN</td>\n",
       "      <td>NaN</td>\n",
       "      <td>2</td>\n",
       "      <td>1/1/221</td>\n",
       "      <td>NaN</td>\n",
       "      <td>NaN</td>\n",
       "      <td>NaN</td>\n",
       "      <td>Y</td>\n",
       "    </tr>\n",
       "  </tbody>\n",
       "</table>\n",
       "<p>5 rows × 35 columns</p>\n",
       "</div>"
      ],
      "text/plain": [
       "      VAERS_ID RECVDATE STATE AGE_YRS  CAGE_YR CAGE_MO SEX RPT_DATE  \\\n",
       "1390     91661  1/1/221    CA      73     73.0     NaN   F      NaN   \n",
       "1391    916613  1/1/221    CA       4      4.0     NaN   F      NaN   \n",
       "1392    916617  1/1/221    CA      35     35.0     NaN   F      NaN   \n",
       "1393    916621  1/1/221    CA      25     25.0     NaN   F      NaN   \n",
       "1394     91669  1/1/221    CA      37     37.0     NaN   M      NaN   \n",
       "\n",
       "                                           SYMPTOM_TEXT DIED  ... CUR_ILL  \\\n",
       "1390  Approximately 3 min post vaccition administrat...  NaN  ...       U   \n",
       "1391  On 12/3/22 I got a pain in the stomach as if s...  NaN  ...     NaN   \n",
       "1392  Dizziness, chills, fever, muscle aches, pain a...  NaN  ...     NaN   \n",
       "1393  Fatigue - 2 hours priorU Muscle aches/pain - 3...  NaN  ...     NaN   \n",
       "1394  Typical sore arm similar to flu shotU Followin...  NaN  ...     NaN   \n",
       "\n",
       "     HISTORY PRIOR_VAX SPLTTYPE  FORM_VERS TODAYS_DATE BIRTH_DEFECT OFC_VISIT  \\\n",
       "1390       U       NaN      NaN          2     1/1/221          NaN         Y   \n",
       "1391     NaN       NaN      NaN          2     1/1/221          NaN       NaN   \n",
       "1392       Y       NaN      NaN          2     1/1/221          NaN       NaN   \n",
       "1393       U       NaN      NaN          2     1/1/221          NaN       NaN   \n",
       "1394     NaN       NaN      NaN          2     1/1/221          NaN       NaN   \n",
       "\n",
       "     ER_ED_VISIT ALLERGIES  \n",
       "1390         NaN       NaN  \n",
       "1391         NaN         Y  \n",
       "1392         NaN         Y  \n",
       "1393         NaN         Y  \n",
       "1394         NaN         Y  \n",
       "\n",
       "[5 rows x 35 columns]"
      ]
     },
     "execution_count": 9,
     "metadata": {},
     "output_type": "execute_result"
    }
   ],
   "source": [
    "by_category = df.groupby('STATE')\n",
    "df1 = by_category.get_group('CA')\n",
    "df1.head()"
   ]
  },
  {
   "cell_type": "code",
   "execution_count": 10,
   "id": "54713b12",
   "metadata": {},
   "outputs": [
    {
     "data": {
      "text/plain": [
       "(2577, 35)"
      ]
     },
     "execution_count": 10,
     "metadata": {},
     "output_type": "execute_result"
    }
   ],
   "source": [
    "df1.shape"
   ]
  },
  {
   "cell_type": "markdown",
   "id": "c4d466a2",
   "metadata": {},
   "source": [
    "I will use the duplicated() method to eliminate records that may be duplicated. However in this dataset there is no duplicates as we can see below. I chose to use this feature in this stage of the cleaning process. If I use it after replacing the NaN with zero values or after the One-hot encoding process, I would have erroneous duplicates because these processes generate equal values."
   ]
  },
  {
   "cell_type": "code",
   "execution_count": 11,
   "id": "40330209",
   "metadata": {},
   "outputs": [
    {
     "data": {
      "text/plain": [
       "0"
      ]
     },
     "execution_count": 11,
     "metadata": {},
     "output_type": "execute_result"
    }
   ],
   "source": [
    "df1.duplicated().sum()"
   ]
  },
  {
   "cell_type": "markdown",
   "id": "b809c9d9",
   "metadata": {},
   "source": [
    "I will drop unnecessary columns in my dataset because it could generate errors and waste time. After dropping, I will nominate the dataset as 'df2'."
   ]
  },
  {
   "cell_type": "code",
   "execution_count": 12,
   "id": "70a6a6c5",
   "metadata": {},
   "outputs": [
    {
     "data": {
      "text/plain": [
       "Index(['VAERS_ID', 'RECVDATE', 'STATE', 'AGE_YRS', 'CAGE_YR', 'CAGE_MO', 'SEX',\n",
       "       'RPT_DATE', 'SYMPTOM_TEXT', 'DIED', 'DATEDIED', 'L_THREAT', 'ER_VISIT',\n",
       "       'HOSPITAL', 'HOSPDAYS', 'X_STAY', 'DISABLE', 'RECOVD', 'VAX_DATE',\n",
       "       'ONSET_DATE', 'NUMDAYS', 'LAB_DATA', 'V_ADMINBY', 'V_FUNDBY',\n",
       "       'OTHER_MEDS', 'CUR_ILL', 'HISTORY', 'PRIOR_VAX', 'SPLTTYPE',\n",
       "       'FORM_VERS', 'TODAYS_DATE', 'BIRTH_DEFECT', 'OFC_VISIT', 'ER_ED_VISIT',\n",
       "       'ALLERGIES'],\n",
       "      dtype='object')"
      ]
     },
     "execution_count": 12,
     "metadata": {},
     "output_type": "execute_result"
    }
   ],
   "source": [
    "df1.columns"
   ]
  },
  {
   "cell_type": "code",
   "execution_count": 13,
   "id": "7541178b",
   "metadata": {
    "scrolled": true
   },
   "outputs": [
    {
     "data": {
      "text/html": [
       "<div>\n",
       "<style scoped>\n",
       "    .dataframe tbody tr th:only-of-type {\n",
       "        vertical-align: middle;\n",
       "    }\n",
       "\n",
       "    .dataframe tbody tr th {\n",
       "        vertical-align: top;\n",
       "    }\n",
       "\n",
       "    .dataframe thead th {\n",
       "        text-align: right;\n",
       "    }\n",
       "</style>\n",
       "<table border=\"1\" class=\"dataframe\">\n",
       "  <thead>\n",
       "    <tr style=\"text-align: right;\">\n",
       "      <th></th>\n",
       "      <th>AGE_YRS</th>\n",
       "      <th>SEX</th>\n",
       "      <th>DIED</th>\n",
       "      <th>DISABLE</th>\n",
       "      <th>NUMDAYS</th>\n",
       "      <th>CUR_ILL</th>\n",
       "      <th>HISTORY</th>\n",
       "      <th>ALLERGIES</th>\n",
       "    </tr>\n",
       "  </thead>\n",
       "  <tbody>\n",
       "    <tr>\n",
       "      <th>1390</th>\n",
       "      <td>73</td>\n",
       "      <td>F</td>\n",
       "      <td>NaN</td>\n",
       "      <td>NaN</td>\n",
       "      <td>NaN</td>\n",
       "      <td>U</td>\n",
       "      <td>U</td>\n",
       "      <td>NaN</td>\n",
       "    </tr>\n",
       "    <tr>\n",
       "      <th>1391</th>\n",
       "      <td>4</td>\n",
       "      <td>F</td>\n",
       "      <td>NaN</td>\n",
       "      <td>NaN</td>\n",
       "      <td>NaN</td>\n",
       "      <td>NaN</td>\n",
       "      <td>NaN</td>\n",
       "      <td>Y</td>\n",
       "    </tr>\n",
       "    <tr>\n",
       "      <th>1392</th>\n",
       "      <td>35</td>\n",
       "      <td>F</td>\n",
       "      <td>NaN</td>\n",
       "      <td>NaN</td>\n",
       "      <td>NaN</td>\n",
       "      <td>NaN</td>\n",
       "      <td>Y</td>\n",
       "      <td>Y</td>\n",
       "    </tr>\n",
       "    <tr>\n",
       "      <th>1393</th>\n",
       "      <td>25</td>\n",
       "      <td>F</td>\n",
       "      <td>NaN</td>\n",
       "      <td>NaN</td>\n",
       "      <td>NaN</td>\n",
       "      <td>NaN</td>\n",
       "      <td>U</td>\n",
       "      <td>Y</td>\n",
       "    </tr>\n",
       "    <tr>\n",
       "      <th>1394</th>\n",
       "      <td>37</td>\n",
       "      <td>M</td>\n",
       "      <td>NaN</td>\n",
       "      <td>NaN</td>\n",
       "      <td>1.0</td>\n",
       "      <td>NaN</td>\n",
       "      <td>NaN</td>\n",
       "      <td>Y</td>\n",
       "    </tr>\n",
       "  </tbody>\n",
       "</table>\n",
       "</div>"
      ],
      "text/plain": [
       "     AGE_YRS SEX DIED DISABLE  NUMDAYS CUR_ILL HISTORY ALLERGIES\n",
       "1390      73   F  NaN     NaN      NaN       U       U       NaN\n",
       "1391       4   F  NaN     NaN      NaN     NaN     NaN         Y\n",
       "1392      35   F  NaN     NaN      NaN     NaN       Y         Y\n",
       "1393      25   F  NaN     NaN      NaN     NaN       U         Y\n",
       "1394      37   M  NaN     NaN      1.0     NaN     NaN         Y"
      ]
     },
     "execution_count": 13,
     "metadata": {},
     "output_type": "execute_result"
    }
   ],
   "source": [
    "df2 = df1.drop(columns=['VAERS_ID', 'RECVDATE', 'STATE', 'CAGE_YR', 'CAGE_MO', 'RPT_DATE', 'SYMPTOM_TEXT', 'DATEDIED', 'L_THREAT', 'ER_VISIT',\n",
    "       'HOSPITAL', 'HOSPDAYS', 'X_STAY', 'RECOVD', 'VAX_DATE',\n",
    "       'ONSET_DATE', 'LAB_DATA', 'V_ADMINBY', 'V_FUNDBY',\n",
    "       'OTHER_MEDS', 'PRIOR_VAX', 'SPLTTYPE',\n",
    "       'FORM_VERS', 'TODAYS_DATE', 'BIRTH_DEFECT', 'OFC_VISIT', 'ER_ED_VISIT'])\n",
    "df2.head()"
   ]
  },
  {
   "cell_type": "code",
   "execution_count": 14,
   "id": "37e87e0d",
   "metadata": {},
   "outputs": [
    {
     "data": {
      "text/plain": [
       "(2577, 8)"
      ]
     },
     "execution_count": 14,
     "metadata": {},
     "output_type": "execute_result"
    }
   ],
   "source": [
    "df2.shape"
   ]
  },
  {
   "cell_type": "code",
   "execution_count": 15,
   "id": "b9716e8d",
   "metadata": {},
   "outputs": [
    {
     "data": {
      "text/plain": [
       "AGE_YRS       object\n",
       "SEX           object\n",
       "DIED          object\n",
       "DISABLE       object\n",
       "NUMDAYS      float64\n",
       "CUR_ILL       object\n",
       "HISTORY       object\n",
       "ALLERGIES     object\n",
       "dtype: object"
      ]
     },
     "execution_count": 15,
     "metadata": {},
     "output_type": "execute_result"
    }
   ],
   "source": [
    "df2.dtypes"
   ]
  },
  {
   "cell_type": "code",
   "execution_count": 16,
   "id": "752f22cb",
   "metadata": {
    "scrolled": true
   },
   "outputs": [
    {
     "data": {
      "text/html": [
       "<div>\n",
       "<style scoped>\n",
       "    .dataframe tbody tr th:only-of-type {\n",
       "        vertical-align: middle;\n",
       "    }\n",
       "\n",
       "    .dataframe tbody tr th {\n",
       "        vertical-align: top;\n",
       "    }\n",
       "\n",
       "    .dataframe thead th {\n",
       "        text-align: right;\n",
       "    }\n",
       "</style>\n",
       "<table border=\"1\" class=\"dataframe\">\n",
       "  <thead>\n",
       "    <tr style=\"text-align: right;\">\n",
       "      <th></th>\n",
       "      <th>NUMDAYS</th>\n",
       "    </tr>\n",
       "  </thead>\n",
       "  <tbody>\n",
       "    <tr>\n",
       "      <th>count</th>\n",
       "      <td>1318.000000</td>\n",
       "    </tr>\n",
       "    <tr>\n",
       "      <th>mean</th>\n",
       "      <td>8.770865</td>\n",
       "    </tr>\n",
       "    <tr>\n",
       "      <th>std</th>\n",
       "      <td>83.141858</td>\n",
       "    </tr>\n",
       "    <tr>\n",
       "      <th>min</th>\n",
       "      <td>1.000000</td>\n",
       "    </tr>\n",
       "    <tr>\n",
       "      <th>25%</th>\n",
       "      <td>1.000000</td>\n",
       "    </tr>\n",
       "    <tr>\n",
       "      <th>50%</th>\n",
       "      <td>2.000000</td>\n",
       "    </tr>\n",
       "    <tr>\n",
       "      <th>75%</th>\n",
       "      <td>7.000000</td>\n",
       "    </tr>\n",
       "    <tr>\n",
       "      <th>max</th>\n",
       "      <td>2399.000000</td>\n",
       "    </tr>\n",
       "  </tbody>\n",
       "</table>\n",
       "</div>"
      ],
      "text/plain": [
       "           NUMDAYS\n",
       "count  1318.000000\n",
       "mean      8.770865\n",
       "std      83.141858\n",
       "min       1.000000\n",
       "25%       1.000000\n",
       "50%       2.000000\n",
       "75%       7.000000\n",
       "max    2399.000000"
      ]
     },
     "execution_count": 16,
     "metadata": {},
     "output_type": "execute_result"
    }
   ],
   "source": [
    "df2.describe()"
   ]
  },
  {
   "cell_type": "markdown",
   "id": "3bde3637",
   "metadata": {},
   "source": [
    "I am using the code df1.isnull().sum() to calculate the numbers of missing (null and NaN) values in all columns of the dataset. "
   ]
  },
  {
   "cell_type": "code",
   "execution_count": 17,
   "id": "34671456",
   "metadata": {
    "scrolled": true
   },
   "outputs": [
    {
     "data": {
      "text/plain": [
       "AGE_YRS       187\n",
       "SEX             0\n",
       "DIED         2422\n",
       "DISABLE      2471\n",
       "NUMDAYS      1259\n",
       "CUR_ILL      2096\n",
       "HISTORY      1148\n",
       "ALLERGIES    1768\n",
       "dtype: int64"
      ]
     },
     "execution_count": 17,
     "metadata": {},
     "output_type": "execute_result"
    }
   ],
   "source": [
    "df2.isnull().sum()"
   ]
  },
  {
   "cell_type": "markdown",
   "id": "efa6e626",
   "metadata": {},
   "source": [
    "Below, I am using the method .fillna() to replace the NaN with zero values."
   ]
  },
  {
   "cell_type": "code",
   "execution_count": 18,
   "id": "a8a1507e",
   "metadata": {},
   "outputs": [],
   "source": [
    "df2.fillna(0, inplace=True)"
   ]
  },
  {
   "cell_type": "code",
   "execution_count": 19,
   "id": "97b28ee0",
   "metadata": {
    "scrolled": false
   },
   "outputs": [
    {
     "data": {
      "text/html": [
       "<div>\n",
       "<style scoped>\n",
       "    .dataframe tbody tr th:only-of-type {\n",
       "        vertical-align: middle;\n",
       "    }\n",
       "\n",
       "    .dataframe tbody tr th {\n",
       "        vertical-align: top;\n",
       "    }\n",
       "\n",
       "    .dataframe thead th {\n",
       "        text-align: right;\n",
       "    }\n",
       "</style>\n",
       "<table border=\"1\" class=\"dataframe\">\n",
       "  <thead>\n",
       "    <tr style=\"text-align: right;\">\n",
       "      <th></th>\n",
       "      <th>AGE_YRS</th>\n",
       "      <th>SEX</th>\n",
       "      <th>DIED</th>\n",
       "      <th>DISABLE</th>\n",
       "      <th>NUMDAYS</th>\n",
       "      <th>CUR_ILL</th>\n",
       "      <th>HISTORY</th>\n",
       "      <th>ALLERGIES</th>\n",
       "    </tr>\n",
       "  </thead>\n",
       "  <tbody>\n",
       "    <tr>\n",
       "      <th>1390</th>\n",
       "      <td>73</td>\n",
       "      <td>F</td>\n",
       "      <td>0</td>\n",
       "      <td>0</td>\n",
       "      <td>0.0</td>\n",
       "      <td>U</td>\n",
       "      <td>U</td>\n",
       "      <td>0</td>\n",
       "    </tr>\n",
       "    <tr>\n",
       "      <th>1391</th>\n",
       "      <td>4</td>\n",
       "      <td>F</td>\n",
       "      <td>0</td>\n",
       "      <td>0</td>\n",
       "      <td>0.0</td>\n",
       "      <td>0</td>\n",
       "      <td>0</td>\n",
       "      <td>Y</td>\n",
       "    </tr>\n",
       "    <tr>\n",
       "      <th>1392</th>\n",
       "      <td>35</td>\n",
       "      <td>F</td>\n",
       "      <td>0</td>\n",
       "      <td>0</td>\n",
       "      <td>0.0</td>\n",
       "      <td>0</td>\n",
       "      <td>Y</td>\n",
       "      <td>Y</td>\n",
       "    </tr>\n",
       "    <tr>\n",
       "      <th>1393</th>\n",
       "      <td>25</td>\n",
       "      <td>F</td>\n",
       "      <td>0</td>\n",
       "      <td>0</td>\n",
       "      <td>0.0</td>\n",
       "      <td>0</td>\n",
       "      <td>U</td>\n",
       "      <td>Y</td>\n",
       "    </tr>\n",
       "    <tr>\n",
       "      <th>1394</th>\n",
       "      <td>37</td>\n",
       "      <td>M</td>\n",
       "      <td>0</td>\n",
       "      <td>0</td>\n",
       "      <td>1.0</td>\n",
       "      <td>0</td>\n",
       "      <td>0</td>\n",
       "      <td>Y</td>\n",
       "    </tr>\n",
       "  </tbody>\n",
       "</table>\n",
       "</div>"
      ],
      "text/plain": [
       "     AGE_YRS SEX DIED DISABLE  NUMDAYS CUR_ILL HISTORY ALLERGIES\n",
       "1390      73   F    0       0      0.0       U       U         0\n",
       "1391       4   F    0       0      0.0       0       0         Y\n",
       "1392      35   F    0       0      0.0       0       Y         Y\n",
       "1393      25   F    0       0      0.0       0       U         Y\n",
       "1394      37   M    0       0      1.0       0       0         Y"
      ]
     },
     "execution_count": 19,
     "metadata": {},
     "output_type": "execute_result"
    }
   ],
   "source": [
    "df2.head()"
   ]
  },
  {
   "cell_type": "markdown",
   "id": "af19d3e9",
   "metadata": {},
   "source": [
    "#### Data Dictionary - dataset (df2):\n",
    "\n",
    "1. AGE_YRS: The recorded vaccine recipient's age in years.\n",
    "\n",
    "2. SEX: Sex of the vaccine recipient (M = Male, F = Female, Unknown = Blank).\n",
    "\n",
    "3. DIED: If the vaccine recipient died a \"Y\" is used; otherwise the field will be blank.\n",
    "\n",
    "4. DISABLE: If the vaccine recipient was disabled as a result of the vaccination a \"Y\" is placed in this field; otherwise the field will be blank.\n",
    "\n",
    "5. NUMDAYS: The calculated interval (in days) from the vaccination date to the onset date.\n",
    "\n",
    "6. CUR_ILL: This text field contains narrative about any illnesses at the time of the vaccination. However, I compacted this data into Y = Occurrence of any illnesses at the time of the vaccination, Blank = Not occurrence, U = Unknown)\n",
    "\n",
    "7. HISTORY: This text field contains narrative about any pre-existing physician-diagnosed birth defects or medical condition that existed at the time of vaccination. However, I compacted this data into Y = Occurrence of any pre-existing physician-diagnosed congenital disabilities or medical condition that existed at the time of vaccination, Blank = Not occurrence, U = Unknown)\n",
    "\n",
    "8. ALLERGIES: This text field contains narrative about any pre-existing physician-diagnosed allergies that existed at the time of vaccination. However, I compacted this data into Y = Occurrence of any pre-existing physician-diagnosed allergies that existed at the time of vaccination, Blank = Not occurrence, U = Unknown)"
   ]
  },
  {
   "cell_type": "markdown",
   "id": "d95f349d",
   "metadata": {},
   "source": [
    "I replaced all senteces in the columns ('CUR_ILL', 'HISTORY', and 'ALLERGIES') using MS Excel, because I wanted only numerical values to be recognised for machine learning models. In addition, if I had used the original data with long sentences I would have huge number of columns after the one-hot encode process.\n",
    "\n",
    "In replacement process I changed words like 'none' and 'No' to blank space meaning the absence of the occurence. I also used the 'U' when it was not informed or had the word 'unknow'. And for the case in which the pacient related the ocurrence I replaced with the letter 'Y'. "
   ]
  },
  {
   "cell_type": "markdown",
   "id": "6cdad552",
   "metadata": {},
   "source": [
    "# Random Forest model\n",
    "\n",
    "I chose to work with Random Forests, a supervised machine learning model because it is considered a robust method that combines multiple machine learning algorithms and is effective for classification and regression. It does not need heavy tunning of the parameters to achieve great accuracy. It can avoid or reduce overfitting by doing an average of many trees with a random subset by bootstrap sampling (Müller and Guido, 2017, p.83-87).\n",
    "\n",
    "However, this model performs poorly in high dimensional, sparse, and text data (Müller and Guido, 2017, p.88). That is why I am preprocessing the data using the function .replace() to convert categorical data to numerical for all features.\n",
    "\n",
    "Another advantage of using this model is that the class_weight parameter considers the same weight for all classes, which can reduce imbalanced class distribution in the training data."
   ]
  },
  {
   "cell_type": "markdown",
   "id": "6e0382ff",
   "metadata": {},
   "source": [
    "## Pre-processing"
   ]
  },
  {
   "cell_type": "code",
   "execution_count": 20,
   "id": "9925d207",
   "metadata": {},
   "outputs": [
    {
     "data": {
      "text/html": [
       "<div>\n",
       "<style scoped>\n",
       "    .dataframe tbody tr th:only-of-type {\n",
       "        vertical-align: middle;\n",
       "    }\n",
       "\n",
       "    .dataframe tbody tr th {\n",
       "        vertical-align: top;\n",
       "    }\n",
       "\n",
       "    .dataframe thead th {\n",
       "        text-align: right;\n",
       "    }\n",
       "</style>\n",
       "<table border=\"1\" class=\"dataframe\">\n",
       "  <thead>\n",
       "    <tr style=\"text-align: right;\">\n",
       "      <th></th>\n",
       "      <th>AGE_YRS</th>\n",
       "      <th>SEX</th>\n",
       "      <th>DIED</th>\n",
       "      <th>DISABLE</th>\n",
       "      <th>NUMDAYS</th>\n",
       "      <th>CUR_ILL</th>\n",
       "      <th>HISTORY</th>\n",
       "      <th>ALLERGIES</th>\n",
       "    </tr>\n",
       "  </thead>\n",
       "  <tbody>\n",
       "    <tr>\n",
       "      <th>1390</th>\n",
       "      <td>73</td>\n",
       "      <td>F</td>\n",
       "      <td>0</td>\n",
       "      <td>0</td>\n",
       "      <td>0.0</td>\n",
       "      <td>U</td>\n",
       "      <td>U</td>\n",
       "      <td>0</td>\n",
       "    </tr>\n",
       "    <tr>\n",
       "      <th>1391</th>\n",
       "      <td>4</td>\n",
       "      <td>F</td>\n",
       "      <td>0</td>\n",
       "      <td>0</td>\n",
       "      <td>0.0</td>\n",
       "      <td>0</td>\n",
       "      <td>0</td>\n",
       "      <td>Y</td>\n",
       "    </tr>\n",
       "    <tr>\n",
       "      <th>1392</th>\n",
       "      <td>35</td>\n",
       "      <td>F</td>\n",
       "      <td>0</td>\n",
       "      <td>0</td>\n",
       "      <td>0.0</td>\n",
       "      <td>0</td>\n",
       "      <td>Y</td>\n",
       "      <td>Y</td>\n",
       "    </tr>\n",
       "    <tr>\n",
       "      <th>1393</th>\n",
       "      <td>25</td>\n",
       "      <td>F</td>\n",
       "      <td>0</td>\n",
       "      <td>0</td>\n",
       "      <td>0.0</td>\n",
       "      <td>0</td>\n",
       "      <td>U</td>\n",
       "      <td>Y</td>\n",
       "    </tr>\n",
       "    <tr>\n",
       "      <th>1394</th>\n",
       "      <td>37</td>\n",
       "      <td>M</td>\n",
       "      <td>0</td>\n",
       "      <td>0</td>\n",
       "      <td>1.0</td>\n",
       "      <td>0</td>\n",
       "      <td>0</td>\n",
       "      <td>Y</td>\n",
       "    </tr>\n",
       "  </tbody>\n",
       "</table>\n",
       "</div>"
      ],
      "text/plain": [
       "     AGE_YRS SEX DIED DISABLE  NUMDAYS CUR_ILL HISTORY ALLERGIES\n",
       "1390      73   F    0       0      0.0       U       U         0\n",
       "1391       4   F    0       0      0.0       0       0         Y\n",
       "1392      35   F    0       0      0.0       0       Y         Y\n",
       "1393      25   F    0       0      0.0       0       U         Y\n",
       "1394      37   M    0       0      1.0       0       0         Y"
      ]
     },
     "execution_count": 20,
     "metadata": {},
     "output_type": "execute_result"
    }
   ],
   "source": [
    "df_rf = df2.copy()\n",
    "df_rf.head()"
   ]
  },
  {
   "cell_type": "code",
   "execution_count": 21,
   "id": "1e1c0f3f",
   "metadata": {},
   "outputs": [],
   "source": [
    "df_rf[\"DIED\"].replace('0', 0, inplace=True)\n",
    "df_rf[\"DIED\"].replace('Y', 1, inplace=True)"
   ]
  },
  {
   "cell_type": "code",
   "execution_count": 22,
   "id": "b4c6f97a",
   "metadata": {
    "scrolled": true
   },
   "outputs": [
    {
     "data": {
      "text/plain": [
       "0    2422\n",
       "1     155\n",
       "Name: DIED, dtype: int64"
      ]
     },
     "execution_count": 22,
     "metadata": {},
     "output_type": "execute_result"
    }
   ],
   "source": [
    "df_rf[\"DIED\"].value_counts()"
   ]
  },
  {
   "cell_type": "code",
   "execution_count": 23,
   "id": "cb4b65f6",
   "metadata": {},
   "outputs": [],
   "source": [
    "df_rf[\"SEX\"].replace('F', 0, inplace=True)\n",
    "df_rf[\"SEX\"].replace('M', 1, inplace=True)\n",
    "df_rf[\"SEX\"].replace('U', 2, inplace=True)"
   ]
  },
  {
   "cell_type": "code",
   "execution_count": 24,
   "id": "c225b992",
   "metadata": {
    "scrolled": false
   },
   "outputs": [
    {
     "data": {
      "text/plain": [
       "0    1837\n",
       "1     677\n",
       "2      63\n",
       "Name: SEX, dtype: int64"
      ]
     },
     "execution_count": 24,
     "metadata": {},
     "output_type": "execute_result"
    }
   ],
   "source": [
    "df_rf[\"SEX\"].value_counts()"
   ]
  },
  {
   "cell_type": "code",
   "execution_count": 25,
   "id": "c1d0da5c",
   "metadata": {},
   "outputs": [],
   "source": [
    "df_rf[\"DISABLE\"].replace('0', 0, inplace=True)\n",
    "df_rf[\"DISABLE\"].replace('Y', 1, inplace=True)"
   ]
  },
  {
   "cell_type": "code",
   "execution_count": 26,
   "id": "7c533114",
   "metadata": {},
   "outputs": [
    {
     "data": {
      "text/plain": [
       "0    2471\n",
       "1     106\n",
       "Name: DISABLE, dtype: int64"
      ]
     },
     "execution_count": 26,
     "metadata": {},
     "output_type": "execute_result"
    }
   ],
   "source": [
    "df_rf[\"DISABLE\"].value_counts()"
   ]
  },
  {
   "cell_type": "code",
   "execution_count": 27,
   "id": "0f09e78a",
   "metadata": {},
   "outputs": [],
   "source": [
    "df_rf[\"CUR_ILL\"].replace('0', 0, inplace=True)\n",
    "df_rf[\"CUR_ILL\"].replace('Y', 1, inplace=True)\n",
    "df_rf[\"CUR_ILL\"].replace('U', 2, inplace=True)"
   ]
  },
  {
   "cell_type": "code",
   "execution_count": 28,
   "id": "404c0b7c",
   "metadata": {},
   "outputs": [
    {
     "data": {
      "text/plain": [
       "0    2096\n",
       "1     349\n",
       "2     132\n",
       "Name: CUR_ILL, dtype: int64"
      ]
     },
     "execution_count": 28,
     "metadata": {},
     "output_type": "execute_result"
    }
   ],
   "source": [
    "df_rf[\"CUR_ILL\"].value_counts()"
   ]
  },
  {
   "cell_type": "code",
   "execution_count": 29,
   "id": "18c8c5b2",
   "metadata": {},
   "outputs": [],
   "source": [
    "df_rf[\"HISTORY\"].replace('0', 0, inplace=True)\n",
    "df_rf[\"HISTORY\"].replace('Y', 1, inplace=True)\n",
    "df_rf[\"HISTORY\"].replace('U', 2, inplace=True)"
   ]
  },
  {
   "cell_type": "code",
   "execution_count": 30,
   "id": "5b4180c5",
   "metadata": {},
   "outputs": [
    {
     "data": {
      "text/plain": [
       "1    1321\n",
       "0    1148\n",
       "2     108\n",
       "Name: HISTORY, dtype: int64"
      ]
     },
     "execution_count": 30,
     "metadata": {},
     "output_type": "execute_result"
    }
   ],
   "source": [
    "df_rf[\"HISTORY\"].value_counts()"
   ]
  },
  {
   "cell_type": "code",
   "execution_count": 31,
   "id": "0c79c605",
   "metadata": {},
   "outputs": [],
   "source": [
    "df_rf[\"ALLERGIES\"].replace('0', 0, inplace=True)\n",
    "df_rf[\"ALLERGIES\"].replace('Y', 1, inplace=True)\n",
    "df_rf[\"ALLERGIES\"].replace('U', 2, inplace=True)"
   ]
  },
  {
   "cell_type": "code",
   "execution_count": 32,
   "id": "08345931",
   "metadata": {},
   "outputs": [
    {
     "data": {
      "text/plain": [
       "0    1768\n",
       "1     717\n",
       "2      92\n",
       "Name: ALLERGIES, dtype: int64"
      ]
     },
     "execution_count": 32,
     "metadata": {},
     "output_type": "execute_result"
    }
   ],
   "source": [
    "df_rf[\"ALLERGIES\"].value_counts()"
   ]
  },
  {
   "cell_type": "code",
   "execution_count": 33,
   "id": "75829ffb",
   "metadata": {
    "scrolled": true
   },
   "outputs": [
    {
     "data": {
      "text/html": [
       "<div>\n",
       "<style scoped>\n",
       "    .dataframe tbody tr th:only-of-type {\n",
       "        vertical-align: middle;\n",
       "    }\n",
       "\n",
       "    .dataframe tbody tr th {\n",
       "        vertical-align: top;\n",
       "    }\n",
       "\n",
       "    .dataframe thead th {\n",
       "        text-align: right;\n",
       "    }\n",
       "</style>\n",
       "<table border=\"1\" class=\"dataframe\">\n",
       "  <thead>\n",
       "    <tr style=\"text-align: right;\">\n",
       "      <th></th>\n",
       "      <th>AGE_YRS</th>\n",
       "      <th>SEX</th>\n",
       "      <th>DIED</th>\n",
       "      <th>DISABLE</th>\n",
       "      <th>NUMDAYS</th>\n",
       "      <th>CUR_ILL</th>\n",
       "      <th>HISTORY</th>\n",
       "      <th>ALLERGIES</th>\n",
       "    </tr>\n",
       "  </thead>\n",
       "  <tbody>\n",
       "    <tr>\n",
       "      <th>1390</th>\n",
       "      <td>73</td>\n",
       "      <td>0</td>\n",
       "      <td>0</td>\n",
       "      <td>0</td>\n",
       "      <td>0.0</td>\n",
       "      <td>2</td>\n",
       "      <td>2</td>\n",
       "      <td>0</td>\n",
       "    </tr>\n",
       "    <tr>\n",
       "      <th>1391</th>\n",
       "      <td>4</td>\n",
       "      <td>0</td>\n",
       "      <td>0</td>\n",
       "      <td>0</td>\n",
       "      <td>0.0</td>\n",
       "      <td>0</td>\n",
       "      <td>0</td>\n",
       "      <td>1</td>\n",
       "    </tr>\n",
       "    <tr>\n",
       "      <th>1392</th>\n",
       "      <td>35</td>\n",
       "      <td>0</td>\n",
       "      <td>0</td>\n",
       "      <td>0</td>\n",
       "      <td>0.0</td>\n",
       "      <td>0</td>\n",
       "      <td>1</td>\n",
       "      <td>1</td>\n",
       "    </tr>\n",
       "    <tr>\n",
       "      <th>1393</th>\n",
       "      <td>25</td>\n",
       "      <td>0</td>\n",
       "      <td>0</td>\n",
       "      <td>0</td>\n",
       "      <td>0.0</td>\n",
       "      <td>0</td>\n",
       "      <td>2</td>\n",
       "      <td>1</td>\n",
       "    </tr>\n",
       "    <tr>\n",
       "      <th>1394</th>\n",
       "      <td>37</td>\n",
       "      <td>1</td>\n",
       "      <td>0</td>\n",
       "      <td>0</td>\n",
       "      <td>1.0</td>\n",
       "      <td>0</td>\n",
       "      <td>0</td>\n",
       "      <td>1</td>\n",
       "    </tr>\n",
       "  </tbody>\n",
       "</table>\n",
       "</div>"
      ],
      "text/plain": [
       "     AGE_YRS  SEX  DIED  DISABLE  NUMDAYS  CUR_ILL  HISTORY  ALLERGIES\n",
       "1390      73    0     0        0      0.0        2        2          0\n",
       "1391       4    0     0        0      0.0        0        0          1\n",
       "1392      35    0     0        0      0.0        0        1          1\n",
       "1393      25    0     0        0      0.0        0        2          1\n",
       "1394      37    1     0        0      1.0        0        0          1"
      ]
     },
     "execution_count": 33,
     "metadata": {},
     "output_type": "execute_result"
    }
   ],
   "source": [
    "df_rf.head()"
   ]
  },
  {
   "cell_type": "markdown",
   "id": "ac966e72",
   "metadata": {},
   "source": [
    "## Model implementation - Random Forest\n",
    "### All features"
   ]
  },
  {
   "cell_type": "code",
   "execution_count": 34,
   "id": "42a8cc58",
   "metadata": {},
   "outputs": [],
   "source": [
    "from sklearn.ensemble import RandomForestClassifier    \n",
    "from sklearn.model_selection import train_test_split \n",
    "from sklearn import metrics                         "
   ]
  },
  {
   "cell_type": "code",
   "execution_count": 35,
   "id": "3e40a860",
   "metadata": {},
   "outputs": [
    {
     "data": {
      "text/plain": [
       "((2577, 3), (2577, 3), (2061, 3), (516, 3), (2061,), (516,))"
      ]
     },
     "execution_count": 35,
     "metadata": {},
     "output_type": "execute_result"
    }
   ],
   "source": [
    "X = df_rf.drop(['DIED', 'AGE_YRS', 'SEX', 'DISABLE', 'NUMDAYS'], axis=1) \n",
    "y = df_rf['DIED']\n",
    "\n",
    "# Split dataset into training set and test set\n",
    "X_train, X_test, y_train, y_test = train_test_split(X, y, test_size = 0.2,  random_state = 51)\n",
    "X.shape, X.shape,X_train.shape, X_test.shape, y_train.shape, y_test.shape"
   ]
  },
  {
   "cell_type": "markdown",
   "id": "bf511380",
   "metadata": {},
   "source": [
    "### Hyperparameters\n",
    "As mentioned above, this model performs well without heavy tunning of the parameters. The principal parameters are n_estimatores, max_features, and max_depth (Müller and Guido, 2017, p.88). The first is the number of trees; the more significant this number is, the smaller the overfitting. I chose to experiment with the 100 (default) and 1000.\n",
    "The second parameter determines how random each tree is; by default, I use the 'sqrt(n_features)', which is suitable for classification. The max_depth parameter is the maximum depth of the tree, and in this case, I am using 'None' (default), which means that the nodes expand until all leaves are pure or until all leaves contain less than min_samples_split samples (Scikit-learn.org, 2012). "
   ]
  },
  {
   "cell_type": "code",
   "execution_count": 36,
   "id": "073472b1",
   "metadata": {},
   "outputs": [],
   "source": [
    "#Random Forest Classifier\n",
    "clf_RF = RandomForestClassifier(n_estimators = 100, random_state = 51)\n",
    "\n",
    "#Train the model using the training sets y_pred=clf.predict(X_test)\n",
    "clf_RF.fit(X_train, y_train)\n",
    "\n",
    "# Make predictions on the test set\n",
    "y_pred = clf_RF.predict(X_test)"
   ]
  },
  {
   "cell_type": "code",
   "execution_count": 37,
   "id": "ca4ce6e1",
   "metadata": {},
   "outputs": [
    {
     "name": "stdout",
     "output_type": "stream",
     "text": [
      "Accuracy: 0.94\n"
     ]
    }
   ],
   "source": [
    "#Accuracy calculation\n",
    "from sklearn import metrics\n",
    "\n",
    "print( \"Accuracy: {:.2f}\".format(metrics.accuracy_score(y_test, y_pred)) )"
   ]
  },
  {
   "cell_type": "markdown",
   "id": "c98bd0cb",
   "metadata": {},
   "source": [
    "### Cross-Validation\n",
    "Cross-validation is a statistical method used to assess the performance of a machine learning model by splitting the dataset into multiple subsets (folds), using the most known tool called k-fold cross-validation to specify the number of folds that will be trained and evaluating the model on different combinations of these folds (Müller and Guido, 2017, p.253).\n",
    "\n",
    "**Interpretation: Using the mean cross-validation we can conclude that we expect the model to be around 93% accurate on average.** "
   ]
  },
  {
   "cell_type": "code",
   "execution_count": 38,
   "id": "ab3199c8",
   "metadata": {},
   "outputs": [
    {
     "name": "stdout",
     "output_type": "stream",
     "text": [
      "Cross-validation scores:  [0.93992248 0.93992248 0.93980583 0.93009709 0.93980583]\n",
      "Mean accuracy:  0.9379107398208776\n",
      "Standard deviation: 0.003907174531222666\n"
     ]
    }
   ],
   "source": [
    "from sklearn.model_selection import cross_val_score\n",
    "\n",
    "scores = cross_val_score(clf_RF, X, y, cv=5, scoring='accuracy')\n",
    "\n",
    "print(\"Cross-validation scores: \", scores)\n",
    "print(\"Mean accuracy: \", scores.mean())\n",
    "print(\"Standard deviation:\", scores.std())"
   ]
  },
  {
   "cell_type": "markdown",
   "id": "2cdeafd4",
   "metadata": {},
   "source": [
    "### Important Features\n",
    "The Random Forest provides feature importances calculated by aggregating the feature importances over the trees in the forest, which is more reliable than the presented in a single tree (Müller and Guido, 2017, p.86). \n",
    "\n",
    "The chart below shows which features contribute the most to the model's predictions. We can see that age and the number of days from the vaccination date to the onset date are features that most contributed to the predictions, followed by the presence of illnesses at the time of the vaccination.\n",
    "\n",
    "Since this set-up did not generate a good confusion matrix, I will focus on the three features that seem to be more related to the death risk that are: CUR_ILL (illnesses at the time of the vaccination), HISTORY (pre-existing physician-diagnosed birth defects or medical condition that existed at the time of vaccination), and ALLERGIES (pre-existing physician-diagnosed allergies that existed at the time of vaccination)."
   ]
  },
  {
   "cell_type": "code",
   "execution_count": 39,
   "id": "b6b05c9c",
   "metadata": {},
   "outputs": [
    {
     "data": {
      "image/png": "[encoded data removed]",
      "text/plain": [
       "<Figure size 640x480 with 1 Axes>"
      ]
     },
     "metadata": {},
     "output_type": "display_data"
    }
   ],
   "source": [
    "feature_imp = pd.Series(clf_RF.feature_importances_, index=X.columns).sort_values(ascending=False)\n",
    "bar_color = 'purple'\n",
    "plt.barh(feature_imp.index, feature_imp, color=bar_color)\n",
    "plt.xlabel('Feature Importance')\n",
    "plt.ylabel('Features')\n",
    "plt.title('Random Forest Feature Importance')\n",
    "plt.show()"
   ]
  },
  {
   "cell_type": "markdown",
   "id": "f6d41d5f",
   "metadata": {},
   "source": [
    "### Model Evaluation"
   ]
  },
  {
   "cell_type": "code",
   "execution_count": 40,
   "id": "89c670b0",
   "metadata": {},
   "outputs": [
    {
     "name": "stdout",
     "output_type": "stream",
     "text": [
      "accuracy: 0.94\n",
      "precision: 0.00\n",
      "recall: 0.00\n"
     ]
    },
    {
     "name": "stderr",
     "output_type": "stream",
     "text": [
      "C:\\Users\\danie\\anaconda3\\Lib\\site-packages\\sklearn\\metrics\\_classification.py:1471: UndefinedMetricWarning: Precision is ill-defined and being set to 0.0 due to no predicted samples. Use `zero_division` parameter to control this behavior.\n",
      "  _warn_prf(average, modifier, msg_start, len(result))\n"
     ]
    }
   ],
   "source": [
    "from sklearn import metrics\n",
    "\n",
    "print( \"accuracy: {:.2f}\".format(metrics.accuracy_score(y_test, y_pred)) )\n",
    "print( \"precision: {:.2f}\".format(metrics.precision_score(y_test, y_pred)) )\n",
    "print( \"recall: {:.2f}\".format(metrics.recall_score(y_test, y_pred)) )"
   ]
  },
  {
   "cell_type": "code",
   "execution_count": 41,
   "id": "938703de",
   "metadata": {},
   "outputs": [
    {
     "data": {
      "text/plain": [
       "<Axes: >"
      ]
     },
     "execution_count": 41,
     "metadata": {},
     "output_type": "execute_result"
    },
    {
     "data": {
      "image/png": "[encoded data removed]",
      "text/plain": [
       "<Figure size 640x480 with 2 Axes>"
      ]
     },
     "metadata": {},
     "output_type": "display_data"
    }
   ],
   "source": [
    "from sklearn.metrics import confusion_matrix, classification_report\n",
    "\n",
    "cm = confusion_matrix(y_test, y_pred)\n",
    "sns.heatmap(cm, annot=True)"
   ]
  },
  {
   "cell_type": "markdown",
   "id": "a8dfc34e",
   "metadata": {},
   "source": [
    "## Accuracy: Train and test"
   ]
  },
  {
   "cell_type": "code",
   "execution_count": 42,
   "id": "2adb5006",
   "metadata": {
    "scrolled": true
   },
   "outputs": [
    {
     "name": "stdout",
     "output_type": "stream",
     "text": [
      "Training Accuracy : 0.9388646288209607\n",
      "Testing Accuracy : 0.9437984496124031\n",
      "[[487   0]\n",
      " [ 29   0]]\n"
     ]
    }
   ],
   "source": [
    "print(\"Training Accuracy :\", clf_RF.score(X_train, y_train))\n",
    "print(\"Testing Accuracy :\", clf_RF.score(X_test, y_test))\n",
    "\n",
    "cm = confusion_matrix(y_test, y_pred)\n",
    "print(cm)"
   ]
  },
  {
   "cell_type": "markdown",
   "id": "afa38979",
   "metadata": {},
   "source": [
    "### Model Evaluation: all features\n",
    "The table below shows the accuracy for test splits of 10%, 20% and 30% under different n_estimators (100 and 1000).\n",
    "The results showed no considerable difference between the split percentages or the number of trees built. As the time and memory consumption are higher when processing 1000 trees than 100, and the accuracy is similar at 20% and 30% splits, choosing the n_estimators = 100 in this case would be advantageous. \n",
    "I saw a slight improvement with n_estimators = 1000 at 20% test for parameters like' precision' and' recall'. But, again, the time and memory consumption does not compensate for it."
   ]
  },
  {
   "cell_type": "code",
   "execution_count": 43,
   "id": "158f7bbd",
   "metadata": {
    "scrolled": true
   },
   "outputs": [
    {
     "name": "stdout",
     "output_type": "stream",
     "text": [
      "+----------------------+-------+-------+-------+\n",
      "| n_estimators = 100   |   10% |   20% |   30% |\n",
      "+======================+=======+=======+=======+\n",
      "| Accuracy             |  0.93 |  0.94 |  0.94 |\n",
      "+----------------------+-------+-------+-------+\n",
      "| CV-Accuracy          |  0.93 |  0.93 |  0.93 |\n",
      "+----------------------+-------+-------+-------+\n",
      "| Precision            |  0.4  |  0.5  |  0.43 |\n",
      "+----------------------+-------+-------+-------+\n",
      "| Recall               |  0.12 |  0.24 |  0.28 |\n",
      "+----------------------+-------+-------+-------+\n",
      "+-----------------------+-------+-------+-------+\n",
      "| n_estimators = 1000   |   10% |   20% |   30% |\n",
      "+=======================+=======+=======+=======+\n",
      "| Accuracy              |  0.93 |  0.95 |  0.94 |\n",
      "+-----------------------+-------+-------+-------+\n",
      "| CV-Accuracy           |  0.93 |  0.93 |  0.93 |\n",
      "+-----------------------+-------+-------+-------+\n",
      "| Precision             |  0.4  |  0.56 |  0.44 |\n",
      "+-----------------------+-------+-------+-------+\n",
      "| Recall                |  0.12 |  0.31 |  0.26 |\n",
      "+-----------------------+-------+-------+-------+\n",
      "CV = Cross-Validation\n"
     ]
    }
   ],
   "source": [
    "from tabulate import tabulate\n",
    "data = [\n",
    "    [\"Accuracy\", 0.93, 0.94, 0.94],\n",
    "    [\"CV-Accuracy\", 0.93, 0.93, 0.93],\n",
    "    [\"Precision\", 0.40, 0.50, 0.43],\n",
    "    [\"Recall\", 0.12, 0.24, 0.28],\n",
    "]   \n",
    "headers = [\"n_estimators = 100\", \"10%\", \"20%\", \"30%\"]\n",
    "\n",
    "\n",
    "data1 = [\n",
    "    [\"Accuracy\", 0.93, 0.95, 0.94],\n",
    "    [\"CV-Accuracy\", 0.93, 0.93, 0.93],\n",
    "    [\"Precision\", 0.40, 0.56, 0.44],\n",
    "    [\"Recall\", 0.12, 0.31, 0.26],\n",
    "]   \n",
    "headers1 = [\"n_estimators = 1000\", \"10%\", \"20%\", \"30%\"]\n",
    "\n",
    "print(tabulate(data, headers=headers, tablefmt=\"grid\"))\n",
    "print(tabulate(data1, headers=headers1, tablefmt=\"grid\"))\n",
    "print(\"CV = Cross-Validation\")"
   ]
  },
  {
   "cell_type": "markdown",
   "id": "962c1a37",
   "metadata": {},
   "source": [
    "### Model Evaluation: CUR_ILL, HISTORY, and ALLERGIES"
   ]
  },
  {
   "cell_type": "code",
   "execution_count": 44,
   "id": "9a6170ee",
   "metadata": {},
   "outputs": [
    {
     "name": "stdout",
     "output_type": "stream",
     "text": [
      "+----------------------+-------+-------+-------+\n",
      "| n_estimators = 100   |   10% |   20% |   30% |\n",
      "+======================+=======+=======+=======+\n",
      "| Accuracy             |  0.94 |  0.94 |  0.94 |\n",
      "+----------------------+-------+-------+-------+\n",
      "| CV-Accuracy          |  0.94 |  0.94 |  0.94 |\n",
      "+----------------------+-------+-------+-------+\n",
      "| Precision            |  0    |  0    |  0    |\n",
      "+----------------------+-------+-------+-------+\n",
      "| Recall               |  0    |  0    |  0    |\n",
      "+----------------------+-------+-------+-------+\n",
      "+-----------------------+-------+-------+-------+\n",
      "| n_estimators = 1000   |   10% |   20% |   30% |\n",
      "+=======================+=======+=======+=======+\n",
      "| Accuracy              |  0.94 |  0.94 |  0.94 |\n",
      "+-----------------------+-------+-------+-------+\n",
      "| CV-Accuracy           |  0.94 |  0.94 |  0.94 |\n",
      "+-----------------------+-------+-------+-------+\n",
      "| Precision             |  0    |  0    |  0    |\n",
      "+-----------------------+-------+-------+-------+\n",
      "| Recall                |  0    |  0    |  0    |\n",
      "+-----------------------+-------+-------+-------+\n",
      "CV = Cross-Validation\n"
     ]
    }
   ],
   "source": [
    "from tabulate import tabulate\n",
    "data = [\n",
    "    [\"Accuracy\", 0.94, 0.94, 0.94],\n",
    "    [\"CV-Accuracy\", 0.94, 0.94, 0.94],\n",
    "    [\"Precision\", 0.00, 0.00, 0.00],\n",
    "    [\"Recall\", 0.00, 0.00, 0.00],\n",
    "]   \n",
    "headers = [\"n_estimators = 100\", \"10%\", \"20%\", \"30%\"]\n",
    "\n",
    "\n",
    "data1 = [\n",
    "    [\"Accuracy\", 0.94, 0.94, 0.94],\n",
    "    [\"CV-Accuracy\", 0.94, 0.94, 0.94],\n",
    "    [\"Precision\", 0.00, 0.00, 0.00],\n",
    "    [\"Recall\", 0.00, 0.00, 0.00],\n",
    "]   \n",
    "headers1 = [\"n_estimators = 1000\", \"10%\", \"20%\", \"30%\"]\n",
    "\n",
    "print(tabulate(data, headers=headers, tablefmt=\"grid\"))\n",
    "print(tabulate(data1, headers=headers1, tablefmt=\"grid\"))\n",
    "print(\"CV = Cross-Validation\")"
   ]
  },
  {
   "cell_type": "code",
   "execution_count": null,
   "id": "80758a5b",
   "metadata": {},
   "outputs": [],
   "source": []
  },
  {
   "cell_type": "markdown",
   "id": "1b9cd88a",
   "metadata": {},
   "source": [
    "## PCA"
   ]
  },
  {
   "cell_type": "code",
   "execution_count": 45,
   "id": "2e749d97",
   "metadata": {
    "scrolled": true
   },
   "outputs": [
    {
     "data": {
      "text/html": [
       "<div>\n",
       "<style scoped>\n",
       "    .dataframe tbody tr th:only-of-type {\n",
       "        vertical-align: middle;\n",
       "    }\n",
       "\n",
       "    .dataframe tbody tr th {\n",
       "        vertical-align: top;\n",
       "    }\n",
       "\n",
       "    .dataframe thead th {\n",
       "        text-align: right;\n",
       "    }\n",
       "</style>\n",
       "<table border=\"1\" class=\"dataframe\">\n",
       "  <thead>\n",
       "    <tr style=\"text-align: right;\">\n",
       "      <th></th>\n",
       "      <th>AGE_YRS</th>\n",
       "      <th>SEX</th>\n",
       "      <th>DISABLE</th>\n",
       "      <th>NUMDAYS</th>\n",
       "      <th>CUR_ILL</th>\n",
       "      <th>HISTORY</th>\n",
       "      <th>ALLERGIES</th>\n",
       "      <th>DIED</th>\n",
       "    </tr>\n",
       "  </thead>\n",
       "  <tbody>\n",
       "    <tr>\n",
       "      <th>1390</th>\n",
       "      <td>73</td>\n",
       "      <td>0</td>\n",
       "      <td>0</td>\n",
       "      <td>0.0</td>\n",
       "      <td>2</td>\n",
       "      <td>2</td>\n",
       "      <td>0</td>\n",
       "      <td>0</td>\n",
       "    </tr>\n",
       "    <tr>\n",
       "      <th>1391</th>\n",
       "      <td>4</td>\n",
       "      <td>0</td>\n",
       "      <td>0</td>\n",
       "      <td>0.0</td>\n",
       "      <td>0</td>\n",
       "      <td>0</td>\n",
       "      <td>1</td>\n",
       "      <td>0</td>\n",
       "    </tr>\n",
       "    <tr>\n",
       "      <th>1392</th>\n",
       "      <td>35</td>\n",
       "      <td>0</td>\n",
       "      <td>0</td>\n",
       "      <td>0.0</td>\n",
       "      <td>0</td>\n",
       "      <td>1</td>\n",
       "      <td>1</td>\n",
       "      <td>0</td>\n",
       "    </tr>\n",
       "    <tr>\n",
       "      <th>1393</th>\n",
       "      <td>25</td>\n",
       "      <td>0</td>\n",
       "      <td>0</td>\n",
       "      <td>0.0</td>\n",
       "      <td>0</td>\n",
       "      <td>2</td>\n",
       "      <td>1</td>\n",
       "      <td>0</td>\n",
       "    </tr>\n",
       "    <tr>\n",
       "      <th>1394</th>\n",
       "      <td>37</td>\n",
       "      <td>1</td>\n",
       "      <td>0</td>\n",
       "      <td>1.0</td>\n",
       "      <td>0</td>\n",
       "      <td>0</td>\n",
       "      <td>1</td>\n",
       "      <td>0</td>\n",
       "    </tr>\n",
       "  </tbody>\n",
       "</table>\n",
       "</div>"
      ],
      "text/plain": [
       "     AGE_YRS  SEX  DISABLE  NUMDAYS  CUR_ILL  HISTORY  ALLERGIES  DIED\n",
       "1390      73    0        0      0.0        2        2          0     0\n",
       "1391       4    0        0      0.0        0        0          1     0\n",
       "1392      35    0        0      0.0        0        1          1     0\n",
       "1393      25    0        0      0.0        0        2          1     0\n",
       "1394      37    1        0      1.0        0        0          1     0"
      ]
     },
     "execution_count": 45,
     "metadata": {},
     "output_type": "execute_result"
    }
   ],
   "source": [
    "from sklearn.model_selection import train_test_split\n",
    "\n",
    "data = df_rf\n",
    "feature_names = ['AGE_YRS', 'SEX', 'DISABLE', 'NUMDAYS', 'CUR_ILL', 'HISTORY', 'ALLERGIES']\n",
    "\n",
    "df_pca = pd.DataFrame(data=df_rf[feature_names], columns=feature_names)\n",
    "\n",
    "df_pca['DIED'] = pd.Series(df_rf['DIED'])\n",
    "\n",
    "df_pca.head()"
   ]
  },
  {
   "cell_type": "code",
   "execution_count": 46,
   "id": "ac01fa98",
   "metadata": {},
   "outputs": [
    {
     "data": {
      "text/plain": [
       "0    2422\n",
       "1     155\n",
       "Name: DIED, dtype: int64"
      ]
     },
     "execution_count": 46,
     "metadata": {},
     "output_type": "execute_result"
    }
   ],
   "source": [
    "df_pca[\"DIED\"].value_counts()"
   ]
  },
  {
   "cell_type": "code",
   "execution_count": 47,
   "id": "665d1b55",
   "metadata": {},
   "outputs": [
    {
     "data": {
      "text/plain": [
       "((2577, 7), (2577,), (2319, 7), (258, 7), (2319,), (258,))"
      ]
     },
     "execution_count": 47,
     "metadata": {},
     "output_type": "execute_result"
    }
   ],
   "source": [
    "from sklearn.model_selection import train_test_split\n",
    "\n",
    "X = df_pca.drop('DIED', axis=1)\n",
    "y = df_pca['DIED']\n",
    "\n",
    "# Split the data into training and testing\n",
    "X_train, X_test, y_train, y_test = train_test_split(X, y, test_size = 0.1, random_state = 8)\n",
    "\n",
    "X.shape, y.shape, X_train.shape, X_test.shape, y_train.shape, y_test.shape"
   ]
  },
  {
   "cell_type": "markdown",
   "id": "94485f03",
   "metadata": {},
   "source": [
    "### Scaling the data"
   ]
  },
  {
   "cell_type": "code",
   "execution_count": 48,
   "id": "1ec637ce",
   "metadata": {},
   "outputs": [
    {
     "name": "stdout",
     "output_type": "stream",
     "text": [
      "[[ 0.19457184  1.34738192 -0.20439906 ... -0.45307592 -1.05300409\n",
      "   3.02532182]\n",
      " [-0.62703351  1.34738192 -0.20439906 ... -0.45307592  0.70630174\n",
      "   1.19162571]\n",
      " [ 1.26265881 -0.60547975 -0.20439906 ... -0.45307592 -1.05300409\n",
      "  -0.64207039]\n",
      " ...\n",
      " [ 0.8929364   1.34738192 -0.20439906 ...  1.42314382  0.70630174\n",
      "  -0.64207039]\n",
      " [-0.46271244 -0.60547975 -0.20439906 ...  1.42314382  2.46560756\n",
      "  -0.64207039]\n",
      " [ 0.23565211 -0.60547975 -0.20439906 ... -0.45307592 -1.05300409\n",
      "  -0.64207039]] \t [[-1.57187967 -0.60547975 -0.20439906 ... -0.45307592 -1.05300409\n",
      "  -0.64207039]\n",
      " [ 1.63238122  1.34738192  4.8923904  ...  1.42314382  0.70630174\n",
      "  -0.64207039]\n",
      " [-0.33947164 -0.60547975 -0.20439906 ... -0.45307592 -1.05300409\n",
      "   1.19162571]\n",
      " ...\n",
      " [-1.61295994 -0.60547975 -0.20439906 ... -0.45307592 -1.05300409\n",
      "   1.19162571]\n",
      " [ 0.8929364  -0.60547975 -0.20439906 ... -0.45307592  0.70630174\n",
      "  -0.64207039]\n",
      " [-1.77728101 -0.60547975 -0.20439906 ... -0.45307592 -1.05300409\n",
      "  -0.64207039]] \t [[ 1.22157854 -0.60547975 -0.20439906 ...  3.29936355  2.46560756\n",
      "  -0.64207039]\n",
      " [-1.61295994 -0.60547975 -0.20439906 ... -0.45307592 -1.05300409\n",
      "   1.19162571]\n",
      " [-0.33947164 -0.60547975 -0.20439906 ... -0.45307592  0.70630174\n",
      "   1.19162571]\n",
      " ...\n",
      " [-0.0108295   1.34738192 -0.20439906 ...  1.42314382  0.70630174\n",
      "  -0.64207039]\n",
      " [ 1.87886283  1.34738192 -0.20439906 ...  3.29936355  0.70630174\n",
      "  -0.64207039]\n",
      " [ 0.52321399 -0.60547975 -0.20439906 ...  1.42314382  0.70630174\n",
      "  -0.64207039]]\n"
     ]
    }
   ],
   "source": [
    "from sklearn.preprocessing import StandardScaler\n",
    "\n",
    "# Create an object using Standard scalscaler\n",
    "scaler = StandardScaler()\n",
    "\n",
    "# Train the StandardScaler model\n",
    "scaler.fit(X_train)\n",
    "\n",
    "# transform data\n",
    "X_train_scaled = scaler.transform(X_train)\n",
    "X_test_scaled  = scaler.transform(X_test)\n",
    "X_scaled = scaler.transform(X)\n",
    "\n",
    "# print dataset after scaling\n",
    "print(X_train_scaled, '\\t', X_test_scaled, '\\t', X_scaled)"
   ]
  },
  {
   "cell_type": "code",
   "execution_count": 49,
   "id": "2d51dc75",
   "metadata": {},
   "outputs": [
    {
     "name": "stdout",
     "output_type": "stream",
     "text": [
      "Original shape: (2577, 7)\n",
      "Reduced shape: (2577, 2)\n"
     ]
    }
   ],
   "source": [
    "from sklearn.decomposition import PCA\n",
    "\n",
    "# keep the first two principal components of the data\n",
    "pca = PCA(n_components = 2)\n",
    "\n",
    "# transform data into the first two principal components\n",
    "X_pca = pca.fit_transform(X_scaled)\n",
    "\n",
    "print(\"Original shape: {}\".format(str(X_scaled.shape)))\n",
    "print(\"Reduced shape: {}\".format(str(X_pca.shape)))"
   ]
  },
  {
   "cell_type": "code",
   "execution_count": 50,
   "id": "13328d41",
   "metadata": {},
   "outputs": [
    {
     "name": "stdout",
     "output_type": "stream",
     "text": [
      "[0.2233018  0.16230341]\n"
     ]
    }
   ],
   "source": [
    "# The amount of variance explained by each of the selected components.\n",
    "print(pca.explained_variance_ratio_)"
   ]
  },
  {
   "cell_type": "code",
   "execution_count": 51,
   "id": "839721e9",
   "metadata": {},
   "outputs": [
    {
     "name": "stdout",
     "output_type": "stream",
     "text": [
      "0.38560521000000003\n"
     ]
    }
   ],
   "source": [
    "PCA_sum = 0.2233018 + 0.16230341\n",
    "print(PCA_sum)"
   ]
  },
  {
   "cell_type": "code",
   "execution_count": 52,
   "id": "ae8d091b",
   "metadata": {},
   "outputs": [
    {
     "name": "stdout",
     "output_type": "stream",
     "text": [
      "[[ 3.76563919 -1.52314187]\n",
      " [-2.06049617  0.22243413]\n",
      " [-0.48845287 -0.4482239 ]\n",
      " ...\n",
      " [ 1.51906128  0.23801911]\n",
      " [ 3.34025408 -0.51210267]\n",
      " [ 1.43498701 -0.842935  ]] 38.56052048125339\n"
     ]
    }
   ],
   "source": [
    "total_var = pca.explained_variance_ratio_.sum() * 100\n",
    "print(X_pca, total_var)"
   ]
  },
  {
   "cell_type": "code",
   "execution_count": 53,
   "id": "b4987971",
   "metadata": {},
   "outputs": [
    {
     "data": {
      "image/png": "[encoded data removed]",
      "text/plain": [
       "<Figure size 800x800 with 1 Axes>"
      ]
     },
     "metadata": {},
     "output_type": "display_data"
    }
   ],
   "source": [
    "import matplotlib.pyplot as plt\n",
    "import mglearn\n",
    "\n",
    "plt.figure(figsize=(8, 8)) \n",
    "scatter = mglearn.discrete_scatter(X_pca[:, 0], X_pca[:, 1], df_pca['DIED'])\n",
    "plt.legend(handles=scatter, labels=['0 - Alive', '1 - Dead'], loc=\"best\")\n",
    "plt.gca().set_aspect(\"equal\")\n",
    "plt.xlabel(\"First principal component\")\n",
    "plt.ylabel(\"Second principal component\")\n",
    "plt.show()"
   ]
  },
  {
   "cell_type": "code",
   "execution_count": 54,
   "id": "bd2a0b0b",
   "metadata": {},
   "outputs": [
    {
     "name": "stdout",
     "output_type": "stream",
     "text": [
      "PCA components:\n",
      "[[ 0.43130015  0.16074651  0.27046087  0.03065417  0.53679824  0.58135862\n",
      "  -0.29651608]\n",
      " [-0.29747094  0.46840486  0.66717038  0.45903912 -0.0923504  -0.16587922\n",
      "  -0.01517189]]\n"
     ]
    }
   ],
   "source": [
    "print(\"PCA components:\\n{}\".format(pca.components_))"
   ]
  },
  {
   "cell_type": "code",
   "execution_count": 55,
   "id": "3fcb844f",
   "metadata": {},
   "outputs": [
    {
     "data": {
      "text/plain": [
       "<Axes: >"
      ]
     },
     "execution_count": 55,
     "metadata": {},
     "output_type": "execute_result"
    },
    {
     "data": {
      "image/png": "[encoded data removed]",
      "text/plain": [
       "<Figure size 1400x600 with 2 Axes>"
      ]
     },
     "metadata": {},
     "output_type": "display_data"
    }
   ],
   "source": [
    "df_comp = pd.DataFrame(pca.components_, columns=['AGE_YRS', 'SEX', 'DISABLE', 'NUMDAYS', 'CUR_ILL', 'HISTORY', 'ALLERGIES'])\n",
    "\n",
    "# Assuming df_pca is your original DataFrame with the data\n",
    "# Get the original feature names\n",
    "feature_names = df_pca[['AGE_YRS', 'SEX', 'DISABLE', 'NUMDAYS', 'CUR_ILL', 'HISTORY', 'ALLERGIES']].columns\n",
    "\n",
    "# Rename the columns in df_comp with the original feature names\n",
    "df_comp.columns = feature_names\n",
    "\n",
    "plt.figure(figsize =(14, 6))\n",
    "sns.heatmap(df_comp)"
   ]
  },
  {
   "cell_type": "markdown",
   "id": "f007606a",
   "metadata": {},
   "source": [
    "## Random Forest with PCA"
   ]
  },
  {
   "cell_type": "code",
   "execution_count": 56,
   "id": "c61009a1",
   "metadata": {},
   "outputs": [
    {
     "name": "stdout",
     "output_type": "stream",
     "text": [
      "Accuracy:  0.9418604651162791\n",
      "Cross-Validation Scores: [0.93318966 0.9137931  0.92241379 0.92456897 0.90712743]\n",
      "Mean CV Accuracy: 0.920218589409399\n",
      "Test Set Accuracy: 0.9418604651162791\n",
      "Precision: 0.3333333333333333\n",
      "Recall: 0.25\n"
     ]
    }
   ],
   "source": [
    "from sklearn.decomposition import PCA\n",
    "from sklearn.model_selection import train_test_split\n",
    "from sklearn.metrics import accuracy_score, precision_score, recall_score\n",
    "from sklearn.ensemble import RandomForestClassifier\n",
    "\n",
    "\n",
    "# Spliting the dataset \n",
    "X_train, X_test, y_train, y_test = train_test_split(X, y, test_size=0.1, random_state=42)\n",
    "\n",
    "# Apply PCA\n",
    "pca = PCA(n_components=2)\n",
    "X_train_pca = pca.fit_transform(X_train)\n",
    "X_test_pca = pca.transform(X_test)\n",
    "\n",
    "# Train your Random Forest model\n",
    "rf_model = RandomForestClassifier(n_estimators=100, random_state=42)\n",
    "rf_model.fit(X_train_pca, y_train)\n",
    "\n",
    "# Make predictions\n",
    "predictions = rf_model.predict(X_test_pca)\n",
    "\n",
    "# Perform cross-validation on the training data\n",
    "cv_scores = cross_val_score(rf_model, X_train_pca, y_train, cv=5)\n",
    "\n",
    "# Evaluate accuracy, precision and recall on the test set\n",
    "accuracy = accuracy_score(y_test, predictions)\n",
    "precision = precision_score(y_test, predictions)\n",
    "recall = recall_score(y_test, predictions)\n",
    "\n",
    "print(\"Accuracy: \", accuracy)\n",
    "print(\"Cross-Validation Scores:\", cv_scores)\n",
    "print(\"Mean CV Accuracy:\", cv_scores.mean())\n",
    "print(\"Test Set Accuracy:\", accuracy)\n",
    "print(\"Precision:\", precision)\n",
    "print(\"Recall:\", recall)"
   ]
  },
  {
   "cell_type": "markdown",
   "id": "0fa70acb",
   "metadata": {},
   "source": [
    "## Accuracy: Train and test"
   ]
  },
  {
   "cell_type": "code",
   "execution_count": 57,
   "id": "95427be7",
   "metadata": {
    "scrolled": true
   },
   "outputs": [
    {
     "name": "stdout",
     "output_type": "stream",
     "text": [
      "Training Accuracy : 0.9896507115135834\n",
      "Testing Accuracy : 0.9418604651162791\n",
      "[[240   6]\n",
      " [  9   3]]\n"
     ]
    }
   ],
   "source": [
    "print(\"Training Accuracy :\", rf_model.score(X_train_pca, y_train))\n",
    "print(\"Testing Accuracy :\", rf_model.score(X_test_pca, y_test))\n",
    "\n",
    "cm = confusion_matrix(y_test, predictions)\n",
    "print(cm)"
   ]
  },
  {
   "cell_type": "markdown",
   "id": "fa10b407",
   "metadata": {},
   "source": [
    "### Model Evaluation: Random Forest with PCA"
   ]
  },
  {
   "cell_type": "code",
   "execution_count": 58,
   "id": "c6fa31c6",
   "metadata": {},
   "outputs": [
    {
     "name": "stdout",
     "output_type": "stream",
     "text": [
      "+----------------------+-------+\n",
      "| n_estimators = 100   |   10% |\n",
      "+======================+=======+\n",
      "| Accuracy             |  0.94 |\n",
      "+----------------------+-------+\n",
      "| CV-Accuracy          |  0.92 |\n",
      "+----------------------+-------+\n",
      "| Precision            |  0.33 |\n",
      "+----------------------+-------+\n",
      "| Recall               |  0.25 |\n",
      "+----------------------+-------+\n",
      "+-----------------------+-------+\n",
      "| n_estimators = 1000   |   10% |\n",
      "+=======================+=======+\n",
      "| Accuracy              |  0.94 |\n",
      "+-----------------------+-------+\n",
      "| CV-Accuracy           |  0.92 |\n",
      "+-----------------------+-------+\n",
      "| Precision             |  0.33 |\n",
      "+-----------------------+-------+\n",
      "| Recall                |  0.25 |\n",
      "+-----------------------+-------+\n",
      "CV = Cross-Validation\n"
     ]
    }
   ],
   "source": [
    "from tabulate import tabulate\n",
    "data = [\n",
    "    [\"Accuracy\", 0.94],\n",
    "    [\"CV-Accuracy\", 0.92],\n",
    "    [\"Precision\", 0.33],\n",
    "    [\"Recall\", 0.25],\n",
    "]   \n",
    "headers = [\"n_estimators = 100\", \"10%\"]\n",
    "\n",
    "\n",
    "data1 = [\n",
    "    [\"Accuracy\", 0.94],\n",
    "    [\"CV-Accuracy\", 0.92],\n",
    "    [\"Precision\", 0.33],\n",
    "    [\"Recall\", 0.25],\n",
    "]   \n",
    "headers1 = [\"n_estimators = 1000\", \"10%\"]\n",
    "\n",
    "print(tabulate(data, headers=headers, tablefmt=\"grid\"))\n",
    "print(tabulate(data1, headers=headers1, tablefmt=\"grid\"))\n",
    "print(\"CV = Cross-Validation\")"
   ]
  },
  {
   "cell_type": "markdown",
   "id": "b73cf7e0",
   "metadata": {},
   "source": [
    "# Decision Tree model"
   ]
  },
  {
   "cell_type": "code",
   "execution_count": 59,
   "id": "f5ae8ef9",
   "metadata": {},
   "outputs": [],
   "source": [
    "from sklearn.tree import DecisionTreeClassifier       # Import Decision Tree Classifier\n",
    "from sklearn.model_selection import train_test_split  # Import train_test_split function\n",
    "from sklearn import metrics                           # Import scikit-learn metrics module for accuracy calculation\n",
    "from sklearn import tree"
   ]
  },
  {
   "cell_type": "code",
   "execution_count": 60,
   "id": "31bbae25",
   "metadata": {},
   "outputs": [
    {
     "name": "stdout",
     "output_type": "stream",
     "text": [
      "     AGE_YRS  SEX  DISABLE  NUMDAYS  CUR_ILL  HISTORY  ALLERGIES\n",
      "1390      73    0        0      0.0        2        2          0\n",
      "1391       4    0        0      0.0        0        0          1\n",
      "1392      35    0        0      0.0        0        1          1\n",
      "1393      25    0        0      0.0        0        2          1\n",
      "1394      37    1        0      1.0        0        0          1\n",
      "...      ...  ...      ...      ...      ...      ...        ...\n",
      "3963      62    1        0      2.0        1        1          0\n",
      "3964      79    1        0      3.0        1        1          0\n",
      "3965      43    1        0      2.0        1        1          0\n",
      "3966      89    1        0      0.0        2        1          0\n",
      "3967      56    0        0      1.0        1        1          0\n",
      "\n",
      "[2577 rows x 7 columns] 1390    0\n",
      "1391    0\n",
      "1392    0\n",
      "1393    0\n",
      "1394    0\n",
      "       ..\n",
      "3963    1\n",
      "3964    1\n",
      "3965    1\n",
      "3966    1\n",
      "3967    1\n",
      "Name: DIED, Length: 2577, dtype: int64\n"
     ]
    }
   ],
   "source": [
    "X = df_rf.drop(['DIED'], axis=1)\n",
    "y = df_rf['DIED']\n",
    "\n",
    "# Split the data into training and testing\n",
    "X_train, X_test, y_train, y_test = train_test_split(X, y, test_size = 0.1, random_state = 8)\n",
    "\n",
    "# Display the X and y arrays\n",
    "print(X, y)"
   ]
  },
  {
   "cell_type": "code",
   "execution_count": 61,
   "id": "81b65328",
   "metadata": {},
   "outputs": [],
   "source": [
    "# Create Decision Tree classifer object\n",
    "clf_dt = DecisionTreeClassifier(max_depth = 4, random_state = 58)\n",
    "\n",
    "# Train Decision Tree Classifer\n",
    "clf_dt = clf_dt.fit(X_train, y_train)\n",
    "\n",
    "#Predict the response for test dataset\n",
    "y_pred_dt = clf_dt.predict(X_test)"
   ]
  },
  {
   "cell_type": "code",
   "execution_count": 62,
   "id": "20c7e361",
   "metadata": {},
   "outputs": [
    {
     "name": "stdout",
     "output_type": "stream",
     "text": [
      "Accuracy: 0.9224806201550387\n",
      "Accuracy: 0.92\n"
     ]
    }
   ],
   "source": [
    "# Model Accuracy, how often is the classifier correct?\n",
    "print(\"Accuracy:\",metrics.accuracy_score(y_test, y_pred_dt))\n",
    "\n",
    "# Rounded upto 2 decimal places\n",
    "print( \"Accuracy: {:.2f}\".format(metrics.accuracy_score(y_test, y_pred_dt)) )"
   ]
  },
  {
   "cell_type": "code",
   "execution_count": 63,
   "id": "7ecd1f7f",
   "metadata": {},
   "outputs": [
    {
     "data": {
      "image/png": "[encoded data removed]",
      "text/plain": [
       "<Figure size 1200x1200 with 1 Axes>"
      ]
     },
     "metadata": {},
     "output_type": "display_data"
    }
   ],
   "source": [
    "# column names for dataset\n",
    "fn=['AGE_YRS', 'SEX', 'DISABLE', 'NUMDAYS', 'CUR_ILL', 'HISTORY', 'ALLERGIES']\n",
    "# classes of dataset\n",
    "cn=['Alive','Died']\n",
    "\n",
    "# Setting dpi = 300 to make image clearer than default\n",
    "fig, axes = plt.subplots(nrows = 1,ncols = 1,figsize = (4,4), dpi=300)\n",
    "\n",
    "tree.plot_tree(clf_dt,\n",
    "           feature_names = fn, \n",
    "           class_names = cn,\n",
    "           filled = True);\n"
   ]
  },
  {
   "cell_type": "markdown",
   "id": "f3083dbf",
   "metadata": {},
   "source": [
    "## Accuracy: Train and test"
   ]
  },
  {
   "cell_type": "code",
   "execution_count": 64,
   "id": "e5caf5ae",
   "metadata": {},
   "outputs": [
    {
     "name": "stdout",
     "output_type": "stream",
     "text": [
      "Training Accuracy : 0.9452350150927123\n",
      "Testing Accuracy : 0.9224806201550387\n",
      "[[234   9]\n",
      " [ 15   0]]\n"
     ]
    }
   ],
   "source": [
    "print(\"Training Accuracy :\", clf_dt.score(X_train, y_train))\n",
    "print(\"Testing Accuracy :\", clf_dt.score(X_test, y_test))\n",
    "\n",
    "cm = confusion_matrix(y_test, predictions)\n",
    "print(cm)"
   ]
  },
  {
   "cell_type": "markdown",
   "id": "a1450749",
   "metadata": {},
   "source": [
    "### Model Evaluation: Decision Tree"
   ]
  },
  {
   "cell_type": "code",
   "execution_count": 65,
   "id": "8be090d2",
   "metadata": {},
   "outputs": [
    {
     "name": "stdout",
     "output_type": "stream",
     "text": [
      "Accuracy:  0.9069767441860465\n",
      "Cross-Validation Scores: [0.92025862 0.92672414 0.90301724 0.92025862 0.92008639]\n",
      "Mean CV Accuracy: 0.9180690027556416\n",
      "Test Set Accuracy: 0.9069767441860465\n",
      "Precision: 0.0\n",
      "Recall: 0.0\n"
     ]
    }
   ],
   "source": [
    "from sklearn.metrics import accuracy_score, precision_score, recall_score\n",
    "# Perform cross-validation on the training data\n",
    "cv_scores = cross_val_score(rf_model, X_train_pca, y_train, cv=5)\n",
    "\n",
    "# Evaluate accuracy, precision and recall on the test set\n",
    "accuracy = accuracy_score(y_test, predictions)\n",
    "precision = precision_score(y_test, predictions)\n",
    "recall = recall_score(y_test, predictions)\n",
    "\n",
    "print(\"Accuracy: \", accuracy)\n",
    "print(\"Cross-Validation Scores:\", cv_scores)\n",
    "print(\"Mean CV Accuracy:\", cv_scores.mean())\n",
    "print(\"Test Set Accuracy:\", accuracy)\n",
    "print(\"Precision:\", precision)\n",
    "print(\"Recall:\", recall)"
   ]
  },
  {
   "cell_type": "code",
   "execution_count": 66,
   "id": "6278465a",
   "metadata": {},
   "outputs": [
    {
     "name": "stdout",
     "output_type": "stream",
     "text": [
      "+-----------------+-------+\n",
      "| max_depth = 2   |   10% |\n",
      "+=================+=======+\n",
      "| Accuracy        |  0.9  |\n",
      "+-----------------+-------+\n",
      "| CV-Accuracy     |  0.91 |\n",
      "+-----------------+-------+\n",
      "| Precision       |  0    |\n",
      "+-----------------+-------+\n",
      "| Recall          |  0    |\n",
      "+-----------------+-------+\n",
      "+-----------------+-------+\n",
      "| max_depth = 3   |   10% |\n",
      "+=================+=======+\n",
      "| Accuracy        |  0.91 |\n",
      "+-----------------+-------+\n",
      "| CV-Accuracy     |  0.92 |\n",
      "+-----------------+-------+\n",
      "| Precision       |  0    |\n",
      "+-----------------+-------+\n",
      "| Recall          |  0    |\n",
      "+-----------------+-------+\n",
      "+-----------------+-------+\n",
      "| max_depth = 4   |   10% |\n",
      "+=================+=======+\n",
      "| Accuracy        |  0.94 |\n",
      "+-----------------+-------+\n",
      "| CV-Accuracy     |  0.92 |\n",
      "+-----------------+-------+\n",
      "| Precision       |  0.33 |\n",
      "+-----------------+-------+\n",
      "| Recall          |  0.25 |\n",
      "+-----------------+-------+\n",
      "CV = Cross-Validation\n"
     ]
    }
   ],
   "source": [
    "from tabulate import tabulate\n",
    "data = [\n",
    "    [\"Accuracy\", 0.90],\n",
    "    [\"CV-Accuracy\", 0.91],\n",
    "    [\"Precision\", 0.00],\n",
    "    [\"Recall\", 0.00],\n",
    "]   \n",
    "headers = [\"max_depth = 2\", \"10%\"]\n",
    "\n",
    "data1 = [\n",
    "    [\"Accuracy\", 0.91],\n",
    "    [\"CV-Accuracy\", 0.92],\n",
    "    [\"Precision\", 0.00],\n",
    "    [\"Recall\", 0.00],\n",
    "]   \n",
    "headers1 = [\"max_depth = 3\", \"10%\"]\n",
    "\n",
    "data2 = [\n",
    "    [\"Accuracy\", 0.94],\n",
    "    [\"CV-Accuracy\", 0.92],\n",
    "    [\"Precision\", 0.33],\n",
    "    [\"Recall\", 0.25],\n",
    "]   \n",
    "headers2 = [\"max_depth = 4\", \"10%\"]\n",
    "\n",
    "print(tabulate(data, headers=headers, tablefmt=\"grid\"))\n",
    "print(tabulate(data1, headers=headers1, tablefmt=\"grid\"))\n",
    "print(tabulate(data2, headers=headers2, tablefmt=\"grid\"))\n",
    "print(\"CV = Cross-Validation\")"
   ]
  },
  {
   "cell_type": "code",
   "execution_count": null,
   "id": "416c51c7",
   "metadata": {},
   "outputs": [],
   "source": []
  },
  {
   "cell_type": "markdown",
   "id": "aff9f165",
   "metadata": {},
   "source": [
    "## SMOTE "
   ]
  },
  {
   "cell_type": "code",
   "execution_count": 67,
   "id": "d5197a13",
   "metadata": {},
   "outputs": [],
   "source": [
    "df_oversamp = df_rf"
   ]
  },
  {
   "cell_type": "code",
   "execution_count": 68,
   "id": "fb5687fc",
   "metadata": {},
   "outputs": [
    {
     "data": {
      "text/html": [
       "<div>\n",
       "<style scoped>\n",
       "    .dataframe tbody tr th:only-of-type {\n",
       "        vertical-align: middle;\n",
       "    }\n",
       "\n",
       "    .dataframe tbody tr th {\n",
       "        vertical-align: top;\n",
       "    }\n",
       "\n",
       "    .dataframe thead th {\n",
       "        text-align: right;\n",
       "    }\n",
       "</style>\n",
       "<table border=\"1\" class=\"dataframe\">\n",
       "  <thead>\n",
       "    <tr style=\"text-align: right;\">\n",
       "      <th></th>\n",
       "      <th>AGE_YRS</th>\n",
       "      <th>SEX</th>\n",
       "      <th>DIED</th>\n",
       "      <th>DISABLE</th>\n",
       "      <th>NUMDAYS</th>\n",
       "      <th>CUR_ILL</th>\n",
       "      <th>HISTORY</th>\n",
       "      <th>ALLERGIES</th>\n",
       "    </tr>\n",
       "  </thead>\n",
       "  <tbody>\n",
       "    <tr>\n",
       "      <th>1390</th>\n",
       "      <td>73</td>\n",
       "      <td>0</td>\n",
       "      <td>0</td>\n",
       "      <td>0</td>\n",
       "      <td>0.0</td>\n",
       "      <td>2</td>\n",
       "      <td>2</td>\n",
       "      <td>0</td>\n",
       "    </tr>\n",
       "    <tr>\n",
       "      <th>1391</th>\n",
       "      <td>4</td>\n",
       "      <td>0</td>\n",
       "      <td>0</td>\n",
       "      <td>0</td>\n",
       "      <td>0.0</td>\n",
       "      <td>0</td>\n",
       "      <td>0</td>\n",
       "      <td>1</td>\n",
       "    </tr>\n",
       "    <tr>\n",
       "      <th>1392</th>\n",
       "      <td>35</td>\n",
       "      <td>0</td>\n",
       "      <td>0</td>\n",
       "      <td>0</td>\n",
       "      <td>0.0</td>\n",
       "      <td>0</td>\n",
       "      <td>1</td>\n",
       "      <td>1</td>\n",
       "    </tr>\n",
       "    <tr>\n",
       "      <th>1393</th>\n",
       "      <td>25</td>\n",
       "      <td>0</td>\n",
       "      <td>0</td>\n",
       "      <td>0</td>\n",
       "      <td>0.0</td>\n",
       "      <td>0</td>\n",
       "      <td>2</td>\n",
       "      <td>1</td>\n",
       "    </tr>\n",
       "    <tr>\n",
       "      <th>1394</th>\n",
       "      <td>37</td>\n",
       "      <td>1</td>\n",
       "      <td>0</td>\n",
       "      <td>0</td>\n",
       "      <td>1.0</td>\n",
       "      <td>0</td>\n",
       "      <td>0</td>\n",
       "      <td>1</td>\n",
       "    </tr>\n",
       "  </tbody>\n",
       "</table>\n",
       "</div>"
      ],
      "text/plain": [
       "     AGE_YRS  SEX  DIED  DISABLE  NUMDAYS  CUR_ILL  HISTORY  ALLERGIES\n",
       "1390      73    0     0        0      0.0        2        2          0\n",
       "1391       4    0     0        0      0.0        0        0          1\n",
       "1392      35    0     0        0      0.0        0        1          1\n",
       "1393      25    0     0        0      0.0        0        2          1\n",
       "1394      37    1     0        0      1.0        0        0          1"
      ]
     },
     "execution_count": 68,
     "metadata": {},
     "output_type": "execute_result"
    }
   ],
   "source": [
    "df_rf.head()"
   ]
  },
  {
   "cell_type": "code",
   "execution_count": 69,
   "id": "09b6a1eb",
   "metadata": {},
   "outputs": [
    {
     "data": {
      "text/plain": [
       "0    2422\n",
       "1     155\n",
       "Name: DIED, dtype: int64"
      ]
     },
     "execution_count": 69,
     "metadata": {},
     "output_type": "execute_result"
    }
   ],
   "source": [
    "df_rf[\"DIED\"].value_counts()"
   ]
  },
  {
   "cell_type": "code",
   "execution_count": null,
   "id": "ae326e5a",
   "metadata": {},
   "outputs": [],
   "source": []
  },
  {
   "cell_type": "code",
   "execution_count": 70,
   "id": "a9abdd7d",
   "metadata": {},
   "outputs": [
    {
     "data": {
      "text/html": [
       "<div>\n",
       "<style scoped>\n",
       "    .dataframe tbody tr th:only-of-type {\n",
       "        vertical-align: middle;\n",
       "    }\n",
       "\n",
       "    .dataframe tbody tr th {\n",
       "        vertical-align: top;\n",
       "    }\n",
       "\n",
       "    .dataframe thead th {\n",
       "        text-align: right;\n",
       "    }\n",
       "</style>\n",
       "<table border=\"1\" class=\"dataframe\">\n",
       "  <thead>\n",
       "    <tr style=\"text-align: right;\">\n",
       "      <th></th>\n",
       "      <th>AGE_YRS</th>\n",
       "      <th>SEX</th>\n",
       "      <th>DIED</th>\n",
       "      <th>DISABLE</th>\n",
       "      <th>NUMDAYS</th>\n",
       "      <th>CUR_ILL</th>\n",
       "      <th>HISTORY</th>\n",
       "      <th>ALLERGIES</th>\n",
       "    </tr>\n",
       "  </thead>\n",
       "  <tbody>\n",
       "    <tr>\n",
       "      <th>1390</th>\n",
       "      <td>73</td>\n",
       "      <td>0</td>\n",
       "      <td>0</td>\n",
       "      <td>0</td>\n",
       "      <td>0.0</td>\n",
       "      <td>2</td>\n",
       "      <td>2</td>\n",
       "      <td>0</td>\n",
       "    </tr>\n",
       "    <tr>\n",
       "      <th>1391</th>\n",
       "      <td>4</td>\n",
       "      <td>0</td>\n",
       "      <td>0</td>\n",
       "      <td>0</td>\n",
       "      <td>0.0</td>\n",
       "      <td>0</td>\n",
       "      <td>0</td>\n",
       "      <td>1</td>\n",
       "    </tr>\n",
       "    <tr>\n",
       "      <th>1392</th>\n",
       "      <td>35</td>\n",
       "      <td>0</td>\n",
       "      <td>0</td>\n",
       "      <td>0</td>\n",
       "      <td>0.0</td>\n",
       "      <td>0</td>\n",
       "      <td>1</td>\n",
       "      <td>1</td>\n",
       "    </tr>\n",
       "    <tr>\n",
       "      <th>1393</th>\n",
       "      <td>25</td>\n",
       "      <td>0</td>\n",
       "      <td>0</td>\n",
       "      <td>0</td>\n",
       "      <td>0.0</td>\n",
       "      <td>0</td>\n",
       "      <td>2</td>\n",
       "      <td>1</td>\n",
       "    </tr>\n",
       "    <tr>\n",
       "      <th>1394</th>\n",
       "      <td>37</td>\n",
       "      <td>1</td>\n",
       "      <td>0</td>\n",
       "      <td>0</td>\n",
       "      <td>1.0</td>\n",
       "      <td>0</td>\n",
       "      <td>0</td>\n",
       "      <td>1</td>\n",
       "    </tr>\n",
       "  </tbody>\n",
       "</table>\n",
       "</div>"
      ],
      "text/plain": [
       "     AGE_YRS  SEX  DIED  DISABLE  NUMDAYS  CUR_ILL  HISTORY  ALLERGIES\n",
       "1390      73    0     0        0      0.0        2        2          0\n",
       "1391       4    0     0        0      0.0        0        0          1\n",
       "1392      35    0     0        0      0.0        0        1          1\n",
       "1393      25    0     0        0      0.0        0        2          1\n",
       "1394      37    1     0        0      1.0        0        0          1"
      ]
     },
     "execution_count": 70,
     "metadata": {},
     "output_type": "execute_result"
    }
   ],
   "source": [
    "df_oversamp.head()"
   ]
  },
  {
   "cell_type": "code",
   "execution_count": 71,
   "id": "0d094908",
   "metadata": {},
   "outputs": [],
   "source": [
    "X1 = df_oversamp[['AGE_YRS', 'SEX', 'DISABLE', 'NUMDAYS', 'CUR_ILL', 'HISTORY', 'ALLERGIES']]\n",
    "y1 = df_oversamp['DIED']"
   ]
  },
  {
   "cell_type": "code",
   "execution_count": 72,
   "id": "156e928b",
   "metadata": {},
   "outputs": [
    {
     "name": "stdout",
     "output_type": "stream",
     "text": [
      "Original Class Distribution: Counter({0: 2422, 1: 155})\n"
     ]
    }
   ],
   "source": [
    "from collections import Counter\n",
    "original_class_distribution = Counter(y1)\n",
    "print(\"Original Class Distribution:\", original_class_distribution)"
   ]
  },
  {
   "cell_type": "code",
   "execution_count": 73,
   "id": "5a0288a4",
   "metadata": {},
   "outputs": [],
   "source": [
    "from imblearn.over_sampling import SMOTE\n",
    "smote = SMOTE()\n",
    "X1_resampled, y1_resampled = smote.fit_resample(X1, y1)"
   ]
  },
  {
   "cell_type": "code",
   "execution_count": 74,
   "id": "8af59416",
   "metadata": {},
   "outputs": [
    {
     "name": "stdout",
     "output_type": "stream",
     "text": [
      "Oversampled Class Distribution: Counter({0: 2422, 1: 2422})\n"
     ]
    }
   ],
   "source": [
    "oversampled_class_distribution = Counter(y1_resampled)\n",
    "print(\"Oversampled Class Distribution:\", oversampled_class_distribution)"
   ]
  },
  {
   "cell_type": "code",
   "execution_count": 75,
   "id": "da5101c6",
   "metadata": {},
   "outputs": [],
   "source": [
    "X1_resampled_array = X1_resampled.values\n",
    "y1_resampled_array = y1_resampled.values\n",
    "y1_resampled_reshaped = y1_resampled_array.reshape(-1, 1)"
   ]
  },
  {
   "cell_type": "code",
   "execution_count": 76,
   "id": "abd263cb",
   "metadata": {},
   "outputs": [],
   "source": [
    "resample_dataset = np.column_stack((X1_resampled_array, y1_resampled_reshaped))"
   ]
  },
  {
   "cell_type": "markdown",
   "id": "2206c924",
   "metadata": {},
   "source": [
    "Below is the array with the oversampling values. Now, I need to convert it into a DataFrame."
   ]
  },
  {
   "cell_type": "code",
   "execution_count": 77,
   "id": "11e61f38",
   "metadata": {},
   "outputs": [],
   "source": [
    "df_resample = pd.DataFrame(resample_dataset)"
   ]
  },
  {
   "cell_type": "code",
   "execution_count": 78,
   "id": "e50c689c",
   "metadata": {},
   "outputs": [
    {
     "data": {
      "text/html": [
       "<div>\n",
       "<style scoped>\n",
       "    .dataframe tbody tr th:only-of-type {\n",
       "        vertical-align: middle;\n",
       "    }\n",
       "\n",
       "    .dataframe tbody tr th {\n",
       "        vertical-align: top;\n",
       "    }\n",
       "\n",
       "    .dataframe thead th {\n",
       "        text-align: right;\n",
       "    }\n",
       "</style>\n",
       "<table border=\"1\" class=\"dataframe\">\n",
       "  <thead>\n",
       "    <tr style=\"text-align: right;\">\n",
       "      <th></th>\n",
       "      <th>0</th>\n",
       "      <th>1</th>\n",
       "      <th>2</th>\n",
       "      <th>3</th>\n",
       "      <th>4</th>\n",
       "      <th>5</th>\n",
       "      <th>6</th>\n",
       "      <th>7</th>\n",
       "    </tr>\n",
       "  </thead>\n",
       "  <tbody>\n",
       "    <tr>\n",
       "      <th>0</th>\n",
       "      <td>73.0</td>\n",
       "      <td>0</td>\n",
       "      <td>0</td>\n",
       "      <td>0.0</td>\n",
       "      <td>2</td>\n",
       "      <td>2</td>\n",
       "      <td>0</td>\n",
       "      <td>0</td>\n",
       "    </tr>\n",
       "    <tr>\n",
       "      <th>1</th>\n",
       "      <td>4.0</td>\n",
       "      <td>0</td>\n",
       "      <td>0</td>\n",
       "      <td>0.0</td>\n",
       "      <td>0</td>\n",
       "      <td>0</td>\n",
       "      <td>1</td>\n",
       "      <td>0</td>\n",
       "    </tr>\n",
       "    <tr>\n",
       "      <th>2</th>\n",
       "      <td>35.0</td>\n",
       "      <td>0</td>\n",
       "      <td>0</td>\n",
       "      <td>0.0</td>\n",
       "      <td>0</td>\n",
       "      <td>1</td>\n",
       "      <td>1</td>\n",
       "      <td>0</td>\n",
       "    </tr>\n",
       "    <tr>\n",
       "      <th>3</th>\n",
       "      <td>25.0</td>\n",
       "      <td>0</td>\n",
       "      <td>0</td>\n",
       "      <td>0.0</td>\n",
       "      <td>0</td>\n",
       "      <td>2</td>\n",
       "      <td>1</td>\n",
       "      <td>0</td>\n",
       "    </tr>\n",
       "    <tr>\n",
       "      <th>4</th>\n",
       "      <td>37.0</td>\n",
       "      <td>1</td>\n",
       "      <td>0</td>\n",
       "      <td>1.0</td>\n",
       "      <td>0</td>\n",
       "      <td>0</td>\n",
       "      <td>1</td>\n",
       "      <td>0</td>\n",
       "    </tr>\n",
       "  </tbody>\n",
       "</table>\n",
       "</div>"
      ],
      "text/plain": [
       "      0  1  2    3  4  5  6  7\n",
       "0  73.0  0  0  0.0  2  2  0  0\n",
       "1   4.0  0  0  0.0  0  0  1  0\n",
       "2  35.0  0  0  0.0  0  1  1  0\n",
       "3  25.0  0  0  0.0  0  2  1  0\n",
       "4  37.0  1  0  1.0  0  0  1  0"
      ]
     },
     "execution_count": 78,
     "metadata": {},
     "output_type": "execute_result"
    }
   ],
   "source": [
    "df_resample.head()"
   ]
  },
  {
   "cell_type": "code",
   "execution_count": 79,
   "id": "2a332dbd",
   "metadata": {},
   "outputs": [
    {
     "data": {
      "text/plain": [
       "(4844, 8)"
      ]
     },
     "execution_count": 79,
     "metadata": {},
     "output_type": "execute_result"
    }
   ],
   "source": [
    "df_resample.shape"
   ]
  },
  {
   "cell_type": "markdown",
   "id": "83a80134",
   "metadata": {},
   "source": [
    "Now, I need to bring the column's names to the dataset."
   ]
  },
  {
   "cell_type": "code",
   "execution_count": 80,
   "id": "4e74fb2c",
   "metadata": {},
   "outputs": [
    {
     "data": {
      "text/html": [
       "<div>\n",
       "<style scoped>\n",
       "    .dataframe tbody tr th:only-of-type {\n",
       "        vertical-align: middle;\n",
       "    }\n",
       "\n",
       "    .dataframe tbody tr th {\n",
       "        vertical-align: top;\n",
       "    }\n",
       "\n",
       "    .dataframe thead th {\n",
       "        text-align: right;\n",
       "    }\n",
       "</style>\n",
       "<table border=\"1\" class=\"dataframe\">\n",
       "  <thead>\n",
       "    <tr style=\"text-align: right;\">\n",
       "      <th></th>\n",
       "      <th>AGE_YRS</th>\n",
       "      <th>SEX</th>\n",
       "      <th>DIED</th>\n",
       "      <th>DISABLE</th>\n",
       "      <th>NUMDAYS</th>\n",
       "      <th>CUR_ILL</th>\n",
       "      <th>HISTORY</th>\n",
       "      <th>ALLERGIES</th>\n",
       "    </tr>\n",
       "  </thead>\n",
       "  <tbody>\n",
       "    <tr>\n",
       "      <th>0</th>\n",
       "      <td>73.0</td>\n",
       "      <td>0</td>\n",
       "      <td>0</td>\n",
       "      <td>0.0</td>\n",
       "      <td>2</td>\n",
       "      <td>2</td>\n",
       "      <td>0</td>\n",
       "      <td>0</td>\n",
       "    </tr>\n",
       "    <tr>\n",
       "      <th>1</th>\n",
       "      <td>4.0</td>\n",
       "      <td>0</td>\n",
       "      <td>0</td>\n",
       "      <td>0.0</td>\n",
       "      <td>0</td>\n",
       "      <td>0</td>\n",
       "      <td>1</td>\n",
       "      <td>0</td>\n",
       "    </tr>\n",
       "    <tr>\n",
       "      <th>2</th>\n",
       "      <td>35.0</td>\n",
       "      <td>0</td>\n",
       "      <td>0</td>\n",
       "      <td>0.0</td>\n",
       "      <td>0</td>\n",
       "      <td>1</td>\n",
       "      <td>1</td>\n",
       "      <td>0</td>\n",
       "    </tr>\n",
       "    <tr>\n",
       "      <th>3</th>\n",
       "      <td>25.0</td>\n",
       "      <td>0</td>\n",
       "      <td>0</td>\n",
       "      <td>0.0</td>\n",
       "      <td>0</td>\n",
       "      <td>2</td>\n",
       "      <td>1</td>\n",
       "      <td>0</td>\n",
       "    </tr>\n",
       "    <tr>\n",
       "      <th>4</th>\n",
       "      <td>37.0</td>\n",
       "      <td>1</td>\n",
       "      <td>0</td>\n",
       "      <td>1.0</td>\n",
       "      <td>0</td>\n",
       "      <td>0</td>\n",
       "      <td>1</td>\n",
       "      <td>0</td>\n",
       "    </tr>\n",
       "  </tbody>\n",
       "</table>\n",
       "</div>"
      ],
      "text/plain": [
       "  AGE_YRS SEX DIED DISABLE NUMDAYS CUR_ILL HISTORY ALLERGIES\n",
       "0    73.0   0    0     0.0       2       2       0         0\n",
       "1     4.0   0    0     0.0       0       0       1         0\n",
       "2    35.0   0    0     0.0       0       1       1         0\n",
       "3    25.0   0    0     0.0       0       2       1         0\n",
       "4    37.0   1    0     1.0       0       0       1         0"
      ]
     },
     "execution_count": 80,
     "metadata": {},
     "output_type": "execute_result"
    }
   ],
   "source": [
    "df_smote = pd.DataFrame(df_rf)\n",
    "df1_resample = pd.DataFrame(df_resample)\n",
    "df1_resample.columns = df_smote.columns\n",
    "df1_resample.head()"
   ]
  },
  {
   "cell_type": "code",
   "execution_count": 81,
   "id": "de456e82",
   "metadata": {},
   "outputs": [
    {
     "data": {
      "text/plain": [
       "(4844, 8)"
      ]
     },
     "execution_count": 81,
     "metadata": {},
     "output_type": "execute_result"
    }
   ],
   "source": [
    "df1_resample.shape"
   ]
  },
  {
   "cell_type": "code",
   "execution_count": 82,
   "id": "0ca5aa80",
   "metadata": {},
   "outputs": [
    {
     "data": {
      "text/plain": [
       "0    2422\n",
       "1     155\n",
       "Name: DIED, dtype: int64"
      ]
     },
     "execution_count": 82,
     "metadata": {},
     "output_type": "execute_result"
    }
   ],
   "source": [
    "df_rf[\"DIED\"].value_counts()"
   ]
  },
  {
   "cell_type": "code",
   "execution_count": 83,
   "id": "2f3343fc",
   "metadata": {},
   "outputs": [
    {
     "data": {
      "text/plain": [
       "0    4738\n",
       "1     106\n",
       "Name: DIED, dtype: int64"
      ]
     },
     "execution_count": 83,
     "metadata": {},
     "output_type": "execute_result"
    }
   ],
   "source": [
    "df1_resample[\"DIED\"].value_counts()"
   ]
  },
  {
   "cell_type": "markdown",
   "id": "6d4e5f94",
   "metadata": {},
   "source": [
    "## SMOTE in Random forest"
   ]
  },
  {
   "cell_type": "code",
   "execution_count": 84,
   "id": "a983562c",
   "metadata": {},
   "outputs": [],
   "source": [
    "from sklearn.ensemble import RandomForestClassifier    \n",
    "from sklearn.model_selection import train_test_split \n",
    "from sklearn import metrics                           "
   ]
  },
  {
   "cell_type": "code",
   "execution_count": 85,
   "id": "02176c26",
   "metadata": {},
   "outputs": [
    {
     "data": {
      "text/plain": [
       "((4844, 7), (4844, 7), (3875, 7), (969, 7), (3875,), (969,))"
      ]
     },
     "execution_count": 85,
     "metadata": {},
     "output_type": "execute_result"
    }
   ],
   "source": [
    "X = df1_resample.drop('DIED', axis=1) \n",
    "y = df1_resample['DIED']\n",
    "\n",
    "# Split dataset into training set and test set\n",
    "X_train, X_test, y_train, y_test = train_test_split(X, y, test_size = 0.2,  random_state = 51)\n",
    "X.shape, X.shape,X_train.shape, X_test.shape, y_train.shape, y_test.shape"
   ]
  },
  {
   "cell_type": "code",
   "execution_count": 86,
   "id": "a436446b",
   "metadata": {},
   "outputs": [],
   "source": [
    "from sklearn.preprocessing import LabelEncoder\n",
    "\n",
    "# Assuming 'y' is your target variable\n",
    "label_encoder = LabelEncoder()\n",
    "y_encoded = label_encoder.fit_transform(y)"
   ]
  },
  {
   "cell_type": "code",
   "execution_count": null,
   "id": "9b850164",
   "metadata": {},
   "outputs": [],
   "source": []
  },
  {
   "cell_type": "code",
   "execution_count": null,
   "id": "4a1dd972",
   "metadata": {},
   "outputs": [],
   "source": []
  },
  {
   "cell_type": "code",
   "execution_count": null,
   "id": "44470a52",
   "metadata": {},
   "outputs": [],
   "source": []
  },
  {
   "cell_type": "markdown",
   "id": "b4f10ff3",
   "metadata": {},
   "source": [
    "# ANN Model"
   ]
  },
  {
   "cell_type": "code",
   "execution_count": 87,
   "id": "adc396c8",
   "metadata": {},
   "outputs": [],
   "source": [
    "# !pip install tensorflow\n",
    "# !pip install keras"
   ]
  },
  {
   "cell_type": "code",
   "execution_count": 88,
   "id": "590e40cc",
   "metadata": {},
   "outputs": [],
   "source": [
    "from keras.models import Sequential\n",
    "# from keras import models\n",
    "model_ann = Sequential()"
   ]
  },
  {
   "cell_type": "code",
   "execution_count": 92,
   "id": "43ceed82",
   "metadata": {},
   "outputs": [
    {
     "data": {
      "text/html": [
       "<div>\n",
       "<style scoped>\n",
       "    .dataframe tbody tr th:only-of-type {\n",
       "        vertical-align: middle;\n",
       "    }\n",
       "\n",
       "    .dataframe tbody tr th {\n",
       "        vertical-align: top;\n",
       "    }\n",
       "\n",
       "    .dataframe thead th {\n",
       "        text-align: right;\n",
       "    }\n",
       "</style>\n",
       "<table border=\"1\" class=\"dataframe\">\n",
       "  <thead>\n",
       "    <tr style=\"text-align: right;\">\n",
       "      <th></th>\n",
       "      <th>AGE_YRS</th>\n",
       "      <th>SEX</th>\n",
       "      <th>DIED</th>\n",
       "      <th>DISABLE</th>\n",
       "      <th>NUMDAYS</th>\n",
       "      <th>CUR_ILL</th>\n",
       "      <th>HISTORY</th>\n",
       "      <th>ALLERGIES</th>\n",
       "    </tr>\n",
       "  </thead>\n",
       "  <tbody>\n",
       "    <tr>\n",
       "      <th>1390</th>\n",
       "      <td>73</td>\n",
       "      <td>0</td>\n",
       "      <td>0</td>\n",
       "      <td>0</td>\n",
       "      <td>0.0</td>\n",
       "      <td>2</td>\n",
       "      <td>2</td>\n",
       "      <td>0</td>\n",
       "    </tr>\n",
       "    <tr>\n",
       "      <th>1391</th>\n",
       "      <td>4</td>\n",
       "      <td>0</td>\n",
       "      <td>0</td>\n",
       "      <td>0</td>\n",
       "      <td>0.0</td>\n",
       "      <td>0</td>\n",
       "      <td>0</td>\n",
       "      <td>1</td>\n",
       "    </tr>\n",
       "    <tr>\n",
       "      <th>1392</th>\n",
       "      <td>35</td>\n",
       "      <td>0</td>\n",
       "      <td>0</td>\n",
       "      <td>0</td>\n",
       "      <td>0.0</td>\n",
       "      <td>0</td>\n",
       "      <td>1</td>\n",
       "      <td>1</td>\n",
       "    </tr>\n",
       "    <tr>\n",
       "      <th>1393</th>\n",
       "      <td>25</td>\n",
       "      <td>0</td>\n",
       "      <td>0</td>\n",
       "      <td>0</td>\n",
       "      <td>0.0</td>\n",
       "      <td>0</td>\n",
       "      <td>2</td>\n",
       "      <td>1</td>\n",
       "    </tr>\n",
       "    <tr>\n",
       "      <th>1394</th>\n",
       "      <td>37</td>\n",
       "      <td>1</td>\n",
       "      <td>0</td>\n",
       "      <td>0</td>\n",
       "      <td>1.0</td>\n",
       "      <td>0</td>\n",
       "      <td>0</td>\n",
       "      <td>1</td>\n",
       "    </tr>\n",
       "    <tr>\n",
       "      <th>...</th>\n",
       "      <td>...</td>\n",
       "      <td>...</td>\n",
       "      <td>...</td>\n",
       "      <td>...</td>\n",
       "      <td>...</td>\n",
       "      <td>...</td>\n",
       "      <td>...</td>\n",
       "      <td>...</td>\n",
       "    </tr>\n",
       "    <tr>\n",
       "      <th>3963</th>\n",
       "      <td>62</td>\n",
       "      <td>1</td>\n",
       "      <td>1</td>\n",
       "      <td>0</td>\n",
       "      <td>2.0</td>\n",
       "      <td>1</td>\n",
       "      <td>1</td>\n",
       "      <td>0</td>\n",
       "    </tr>\n",
       "    <tr>\n",
       "      <th>3964</th>\n",
       "      <td>79</td>\n",
       "      <td>1</td>\n",
       "      <td>1</td>\n",
       "      <td>0</td>\n",
       "      <td>3.0</td>\n",
       "      <td>1</td>\n",
       "      <td>1</td>\n",
       "      <td>0</td>\n",
       "    </tr>\n",
       "    <tr>\n",
       "      <th>3965</th>\n",
       "      <td>43</td>\n",
       "      <td>1</td>\n",
       "      <td>1</td>\n",
       "      <td>0</td>\n",
       "      <td>2.0</td>\n",
       "      <td>1</td>\n",
       "      <td>1</td>\n",
       "      <td>0</td>\n",
       "    </tr>\n",
       "    <tr>\n",
       "      <th>3966</th>\n",
       "      <td>89</td>\n",
       "      <td>1</td>\n",
       "      <td>1</td>\n",
       "      <td>0</td>\n",
       "      <td>0.0</td>\n",
       "      <td>2</td>\n",
       "      <td>1</td>\n",
       "      <td>0</td>\n",
       "    </tr>\n",
       "    <tr>\n",
       "      <th>3967</th>\n",
       "      <td>56</td>\n",
       "      <td>0</td>\n",
       "      <td>1</td>\n",
       "      <td>0</td>\n",
       "      <td>1.0</td>\n",
       "      <td>1</td>\n",
       "      <td>1</td>\n",
       "      <td>0</td>\n",
       "    </tr>\n",
       "  </tbody>\n",
       "</table>\n",
       "<p>2577 rows × 8 columns</p>\n",
       "</div>"
      ],
      "text/plain": [
       "     AGE_YRS  SEX  DIED  DISABLE  NUMDAYS  CUR_ILL  HISTORY  ALLERGIES\n",
       "1390      73    0     0        0      0.0        2        2          0\n",
       "1391       4    0     0        0      0.0        0        0          1\n",
       "1392      35    0     0        0      0.0        0        1          1\n",
       "1393      25    0     0        0      0.0        0        2          1\n",
       "1394      37    1     0        0      1.0        0        0          1\n",
       "...      ...  ...   ...      ...      ...      ...      ...        ...\n",
       "3963      62    1     1        0      2.0        1        1          0\n",
       "3964      79    1     1        0      3.0        1        1          0\n",
       "3965      43    1     1        0      2.0        1        1          0\n",
       "3966      89    1     1        0      0.0        2        1          0\n",
       "3967      56    0     1        0      1.0        1        1          0\n",
       "\n",
       "[2577 rows x 8 columns]"
      ]
     },
     "execution_count": 92,
     "metadata": {},
     "output_type": "execute_result"
    }
   ],
   "source": [
    "df_ann = df_rf.copy()\n",
    "df_ann"
   ]
  },
  {
   "cell_type": "code",
   "execution_count": 93,
   "id": "149bd72a",
   "metadata": {},
   "outputs": [
    {
     "name": "stdout",
     "output_type": "stream",
     "text": [
      "<class 'pandas.core.frame.DataFrame'>\n",
      "Int64Index: 2577 entries, 1390 to 3967\n",
      "Data columns (total 8 columns):\n",
      " #   Column     Non-Null Count  Dtype  \n",
      "---  ------     --------------  -----  \n",
      " 0   AGE_YRS    2577 non-null   object \n",
      " 1   SEX        2577 non-null   int64  \n",
      " 2   DIED       2577 non-null   int64  \n",
      " 3   DISABLE    2577 non-null   int64  \n",
      " 4   NUMDAYS    2577 non-null   float64\n",
      " 5   CUR_ILL    2577 non-null   int64  \n",
      " 6   HISTORY    2577 non-null   int64  \n",
      " 7   ALLERGIES  2577 non-null   int64  \n",
      "dtypes: float64(1), int64(6), object(1)\n",
      "memory usage: 181.2+ KB\n"
     ]
    }
   ],
   "source": [
    "df_ann.info()"
   ]
  },
  {
   "cell_type": "code",
   "execution_count": 95,
   "id": "f7cd8d17",
   "metadata": {},
   "outputs": [
    {
     "data": {
      "text/html": [
       "<div>\n",
       "<style scoped>\n",
       "    .dataframe tbody tr th:only-of-type {\n",
       "        vertical-align: middle;\n",
       "    }\n",
       "\n",
       "    .dataframe tbody tr th {\n",
       "        vertical-align: top;\n",
       "    }\n",
       "\n",
       "    .dataframe thead th {\n",
       "        text-align: right;\n",
       "    }\n",
       "</style>\n",
       "<table border=\"1\" class=\"dataframe\">\n",
       "  <thead>\n",
       "    <tr style=\"text-align: right;\">\n",
       "      <th></th>\n",
       "      <th>AGE_YRS</th>\n",
       "      <th>SEX</th>\n",
       "      <th>DIED</th>\n",
       "      <th>DISABLE</th>\n",
       "      <th>NUMDAYS</th>\n",
       "      <th>CUR_ILL</th>\n",
       "      <th>HISTORY</th>\n",
       "      <th>ALLERGIES</th>\n",
       "    </tr>\n",
       "  </thead>\n",
       "  <tbody>\n",
       "    <tr>\n",
       "      <th>1390</th>\n",
       "      <td>73</td>\n",
       "      <td>0</td>\n",
       "      <td>0</td>\n",
       "      <td>0</td>\n",
       "      <td>0.0</td>\n",
       "      <td>2</td>\n",
       "      <td>2</td>\n",
       "      <td>0</td>\n",
       "    </tr>\n",
       "    <tr>\n",
       "      <th>1391</th>\n",
       "      <td>4</td>\n",
       "      <td>0</td>\n",
       "      <td>0</td>\n",
       "      <td>0</td>\n",
       "      <td>0.0</td>\n",
       "      <td>0</td>\n",
       "      <td>0</td>\n",
       "      <td>1</td>\n",
       "    </tr>\n",
       "    <tr>\n",
       "      <th>1392</th>\n",
       "      <td>35</td>\n",
       "      <td>0</td>\n",
       "      <td>0</td>\n",
       "      <td>0</td>\n",
       "      <td>0.0</td>\n",
       "      <td>0</td>\n",
       "      <td>1</td>\n",
       "      <td>1</td>\n",
       "    </tr>\n",
       "    <tr>\n",
       "      <th>1393</th>\n",
       "      <td>25</td>\n",
       "      <td>0</td>\n",
       "      <td>0</td>\n",
       "      <td>0</td>\n",
       "      <td>0.0</td>\n",
       "      <td>0</td>\n",
       "      <td>2</td>\n",
       "      <td>1</td>\n",
       "    </tr>\n",
       "    <tr>\n",
       "      <th>1394</th>\n",
       "      <td>37</td>\n",
       "      <td>1</td>\n",
       "      <td>0</td>\n",
       "      <td>0</td>\n",
       "      <td>1.0</td>\n",
       "      <td>0</td>\n",
       "      <td>0</td>\n",
       "      <td>1</td>\n",
       "    </tr>\n",
       "    <tr>\n",
       "      <th>...</th>\n",
       "      <td>...</td>\n",
       "      <td>...</td>\n",
       "      <td>...</td>\n",
       "      <td>...</td>\n",
       "      <td>...</td>\n",
       "      <td>...</td>\n",
       "      <td>...</td>\n",
       "      <td>...</td>\n",
       "    </tr>\n",
       "    <tr>\n",
       "      <th>3963</th>\n",
       "      <td>62</td>\n",
       "      <td>1</td>\n",
       "      <td>1</td>\n",
       "      <td>0</td>\n",
       "      <td>2.0</td>\n",
       "      <td>1</td>\n",
       "      <td>1</td>\n",
       "      <td>0</td>\n",
       "    </tr>\n",
       "    <tr>\n",
       "      <th>3964</th>\n",
       "      <td>79</td>\n",
       "      <td>1</td>\n",
       "      <td>1</td>\n",
       "      <td>0</td>\n",
       "      <td>3.0</td>\n",
       "      <td>1</td>\n",
       "      <td>1</td>\n",
       "      <td>0</td>\n",
       "    </tr>\n",
       "    <tr>\n",
       "      <th>3965</th>\n",
       "      <td>43</td>\n",
       "      <td>1</td>\n",
       "      <td>1</td>\n",
       "      <td>0</td>\n",
       "      <td>2.0</td>\n",
       "      <td>1</td>\n",
       "      <td>1</td>\n",
       "      <td>0</td>\n",
       "    </tr>\n",
       "    <tr>\n",
       "      <th>3966</th>\n",
       "      <td>89</td>\n",
       "      <td>1</td>\n",
       "      <td>1</td>\n",
       "      <td>0</td>\n",
       "      <td>0.0</td>\n",
       "      <td>2</td>\n",
       "      <td>1</td>\n",
       "      <td>0</td>\n",
       "    </tr>\n",
       "    <tr>\n",
       "      <th>3967</th>\n",
       "      <td>56</td>\n",
       "      <td>0</td>\n",
       "      <td>1</td>\n",
       "      <td>0</td>\n",
       "      <td>1.0</td>\n",
       "      <td>1</td>\n",
       "      <td>1</td>\n",
       "      <td>0</td>\n",
       "    </tr>\n",
       "  </tbody>\n",
       "</table>\n",
       "<p>2577 rows × 8 columns</p>\n",
       "</div>"
      ],
      "text/plain": [
       "     AGE_YRS  SEX  DIED  DISABLE  NUMDAYS  CUR_ILL  HISTORY  ALLERGIES\n",
       "1390      73    0     0        0      0.0        2        2          0\n",
       "1391       4    0     0        0      0.0        0        0          1\n",
       "1392      35    0     0        0      0.0        0        1          1\n",
       "1393      25    0     0        0      0.0        0        2          1\n",
       "1394      37    1     0        0      1.0        0        0          1\n",
       "...      ...  ...   ...      ...      ...      ...      ...        ...\n",
       "3963      62    1     1        0      2.0        1        1          0\n",
       "3964      79    1     1        0      3.0        1        1          0\n",
       "3965      43    1     1        0      2.0        1        1          0\n",
       "3966      89    1     1        0      0.0        2        1          0\n",
       "3967      56    0     1        0      1.0        1        1          0\n",
       "\n",
       "[2577 rows x 8 columns]"
      ]
     },
     "execution_count": 95,
     "metadata": {},
     "output_type": "execute_result"
    }
   ],
   "source": [
    "from sklearn import preprocessing\n",
    "# Perform scaling\n",
    "df_scaled = preprocessing.scale(df_ann)\n",
    "\n",
    "# Convert the scaled array back to a DataFrame\n",
    "df_scaled = pd.DataFrame(df_scaled, columns=df_ann.columns)\n",
    "\n",
    "# Assign 'Outcome' column from df_ann to df_scaled_ann\n",
    "df_scaled['DIED'] = df_ann['DIED']\n",
    "\n",
    "df_ann"
   ]
  },
  {
   "cell_type": "code",
   "execution_count": 96,
   "id": "59f3e34d",
   "metadata": {},
   "outputs": [
    {
     "data": {
      "text/html": [
       "<div>\n",
       "<style scoped>\n",
       "    .dataframe tbody tr th:only-of-type {\n",
       "        vertical-align: middle;\n",
       "    }\n",
       "\n",
       "    .dataframe tbody tr th {\n",
       "        vertical-align: top;\n",
       "    }\n",
       "\n",
       "    .dataframe thead th {\n",
       "        text-align: right;\n",
       "    }\n",
       "</style>\n",
       "<table border=\"1\" class=\"dataframe\">\n",
       "  <thead>\n",
       "    <tr style=\"text-align: right;\">\n",
       "      <th></th>\n",
       "      <th>SEX</th>\n",
       "      <th>DISABLE</th>\n",
       "      <th>NUMDAYS</th>\n",
       "      <th>CUR_ILL</th>\n",
       "      <th>HISTORY</th>\n",
       "      <th>ALLERGIES</th>\n",
       "    </tr>\n",
       "  </thead>\n",
       "  <tbody>\n",
       "    <tr>\n",
       "      <th>1390</th>\n",
       "      <td>0</td>\n",
       "      <td>0</td>\n",
       "      <td>0.0</td>\n",
       "      <td>2</td>\n",
       "      <td>2</td>\n",
       "      <td>0</td>\n",
       "    </tr>\n",
       "    <tr>\n",
       "      <th>1391</th>\n",
       "      <td>0</td>\n",
       "      <td>0</td>\n",
       "      <td>0.0</td>\n",
       "      <td>0</td>\n",
       "      <td>0</td>\n",
       "      <td>1</td>\n",
       "    </tr>\n",
       "    <tr>\n",
       "      <th>1392</th>\n",
       "      <td>0</td>\n",
       "      <td>0</td>\n",
       "      <td>0.0</td>\n",
       "      <td>0</td>\n",
       "      <td>1</td>\n",
       "      <td>1</td>\n",
       "    </tr>\n",
       "    <tr>\n",
       "      <th>1393</th>\n",
       "      <td>0</td>\n",
       "      <td>0</td>\n",
       "      <td>0.0</td>\n",
       "      <td>0</td>\n",
       "      <td>2</td>\n",
       "      <td>1</td>\n",
       "    </tr>\n",
       "    <tr>\n",
       "      <th>1394</th>\n",
       "      <td>1</td>\n",
       "      <td>0</td>\n",
       "      <td>1.0</td>\n",
       "      <td>0</td>\n",
       "      <td>0</td>\n",
       "      <td>1</td>\n",
       "    </tr>\n",
       "    <tr>\n",
       "      <th>...</th>\n",
       "      <td>...</td>\n",
       "      <td>...</td>\n",
       "      <td>...</td>\n",
       "      <td>...</td>\n",
       "      <td>...</td>\n",
       "      <td>...</td>\n",
       "    </tr>\n",
       "    <tr>\n",
       "      <th>3963</th>\n",
       "      <td>1</td>\n",
       "      <td>0</td>\n",
       "      <td>2.0</td>\n",
       "      <td>1</td>\n",
       "      <td>1</td>\n",
       "      <td>0</td>\n",
       "    </tr>\n",
       "    <tr>\n",
       "      <th>3964</th>\n",
       "      <td>1</td>\n",
       "      <td>0</td>\n",
       "      <td>3.0</td>\n",
       "      <td>1</td>\n",
       "      <td>1</td>\n",
       "      <td>0</td>\n",
       "    </tr>\n",
       "    <tr>\n",
       "      <th>3965</th>\n",
       "      <td>1</td>\n",
       "      <td>0</td>\n",
       "      <td>2.0</td>\n",
       "      <td>1</td>\n",
       "      <td>1</td>\n",
       "      <td>0</td>\n",
       "    </tr>\n",
       "    <tr>\n",
       "      <th>3966</th>\n",
       "      <td>1</td>\n",
       "      <td>0</td>\n",
       "      <td>0.0</td>\n",
       "      <td>2</td>\n",
       "      <td>1</td>\n",
       "      <td>0</td>\n",
       "    </tr>\n",
       "    <tr>\n",
       "      <th>3967</th>\n",
       "      <td>0</td>\n",
       "      <td>0</td>\n",
       "      <td>1.0</td>\n",
       "      <td>1</td>\n",
       "      <td>1</td>\n",
       "      <td>0</td>\n",
       "    </tr>\n",
       "  </tbody>\n",
       "</table>\n",
       "<p>2577 rows × 6 columns</p>\n",
       "</div>"
      ],
      "text/plain": [
       "      SEX  DISABLE  NUMDAYS  CUR_ILL  HISTORY  ALLERGIES\n",
       "1390    0        0      0.0        2        2          0\n",
       "1391    0        0      0.0        0        0          1\n",
       "1392    0        0      0.0        0        1          1\n",
       "1393    0        0      0.0        0        2          1\n",
       "1394    1        0      1.0        0        0          1\n",
       "...   ...      ...      ...      ...      ...        ...\n",
       "3963    1        0      2.0        1        1          0\n",
       "3964    1        0      3.0        1        1          0\n",
       "3965    1        0      2.0        1        1          0\n",
       "3966    1        0      0.0        2        1          0\n",
       "3967    0        0      1.0        1        1          0\n",
       "\n",
       "[2577 rows x 6 columns]"
      ]
     },
     "execution_count": 96,
     "metadata": {},
     "output_type": "execute_result"
    }
   ],
   "source": [
    "from sklearn.model_selection import train_test_split\n",
    "#X = df_ann.loc[:, df_ann.columns != ['DIED', 'AGE_YRS']]\n",
    "X = df_ann.loc[:, ~df_ann.columns.isin(['DIED', 'AGE_YRS'])]\n",
    "y = df_ann.loc[:, 'DIED']\n",
    "X"
   ]
  },
  {
   "cell_type": "code",
   "execution_count": 97,
   "id": "2deceed8",
   "metadata": {},
   "outputs": [
    {
     "data": {
      "text/plain": [
       "((2319, 6), (258, 6), (2319,), (258,))"
      ]
     },
     "execution_count": 97,
     "metadata": {},
     "output_type": "execute_result"
    }
   ],
   "source": [
    "# split the data into training and testing\n",
    "X_train, X_test, y_train, y_test = train_test_split(X, y, test_size = 0.1, random_state = 35)\n",
    "X_train.shape, X_test.shape, y_train.shape, y_test.shape"
   ]
  },
  {
   "cell_type": "code",
   "execution_count": 98,
   "id": "22de0ea4",
   "metadata": {},
   "outputs": [],
   "source": [
    "# Fixing a random seed ensures reproducible results\n",
    "import numpy as np\n",
    "import random\n",
    "import tensorflow\n",
    "#tensorflow.random.set_seed(9)\n",
    "#np.random.seed(1)\n",
    "#random.seed(1)"
   ]
  },
  {
   "cell_type": "code",
   "execution_count": 99,
   "id": "c48f663a",
   "metadata": {},
   "outputs": [],
   "source": [
    "from keras.models import Sequential\n",
    "model_ann = Sequential()"
   ]
  },
  {
   "cell_type": "code",
   "execution_count": 100,
   "id": "f9dd8812",
   "metadata": {},
   "outputs": [],
   "source": [
    "# Let's add the first hidden layer:\n",
    "from keras.layers import Dense\n",
    "# Add the first hidden layer\n",
    "model_ann.add(Dense(32, activation = 'relu', input_dim = 6))"
   ]
  },
  {
   "cell_type": "code",
   "execution_count": 101,
   "id": "8aedf36f",
   "metadata": {},
   "outputs": [],
   "source": [
    "# Let's add our second hidden layer:\n",
    "# Add the second hidden layer\n",
    "model_ann.add(Dense(16, activation = 'relu'))"
   ]
  },
  {
   "cell_type": "code",
   "execution_count": 102,
   "id": "9291c5c6",
   "metadata": {},
   "outputs": [],
   "source": [
    "# Now we add the output layer as follows:\n",
    "# Add the output layer\n",
    "model_ann.add(Dense(1, activation = 'sigmoid'))"
   ]
  },
  {
   "cell_type": "code",
   "execution_count": 103,
   "id": "adc9f0d8",
   "metadata": {},
   "outputs": [],
   "source": [
    "# COMPILATION MODEL\n",
    "\n",
    "# Then, we can run the compile() function as follows:\n",
    "    # Compile the model\n",
    "model_ann.compile(optimizer = 'adam',\n",
    "              loss = 'binary_crossentropy',\n",
    "              metrics = ['accuracy'])"
   ]
  },
  {
   "cell_type": "code",
   "execution_count": 104,
   "id": "03c66d99",
   "metadata": {},
   "outputs": [
    {
     "name": "stdout",
     "output_type": "stream",
     "text": [
      "Epoch 1/200\n",
      "73/73 [==============================] - 0s 1ms/step - loss: 0.6157 - accuracy: 0.9077\n",
      "Epoch 2/200\n",
      "73/73 [==============================] - 0s 862us/step - loss: 0.4024 - accuracy: 0.9431\n",
      "Epoch 3/200\n",
      "73/73 [==============================] - 0s 836us/step - loss: 0.3249 - accuracy: 0.9405\n",
      "Epoch 4/200\n",
      "73/73 [==============================] - 0s 627us/step - loss: 0.3049 - accuracy: 0.9431\n",
      "Epoch 5/200\n",
      "73/73 [==============================] - 0s 613us/step - loss: 0.2382 - accuracy: 0.9418\n",
      "Epoch 6/200\n",
      "73/73 [==============================] - 0s 800us/step - loss: 0.2173 - accuracy: 0.9418\n",
      "Epoch 7/200\n",
      "73/73 [==============================] - 0s 798us/step - loss: 0.1969 - accuracy: 0.9431\n",
      "Epoch 8/200\n",
      "73/73 [==============================] - 0s 933us/step - loss: 0.2669 - accuracy: 0.9401\n",
      "Epoch 9/200\n",
      "73/73 [==============================] - 0s 653us/step - loss: 0.2298 - accuracy: 0.9422\n",
      "Epoch 10/200\n",
      "73/73 [==============================] - 0s 680us/step - loss: 0.2400 - accuracy: 0.9431\n",
      "Epoch 11/200\n",
      "73/73 [==============================] - 0s 837us/step - loss: 0.1933 - accuracy: 0.9431\n",
      "Epoch 12/200\n",
      "73/73 [==============================] - 0s 844us/step - loss: 0.1908 - accuracy: 0.9418\n",
      "Epoch 13/200\n",
      "73/73 [==============================] - 0s 804us/step - loss: 0.2332 - accuracy: 0.9431\n",
      "Epoch 14/200\n",
      "73/73 [==============================] - 0s 808us/step - loss: 0.2145 - accuracy: 0.9418\n",
      "Epoch 15/200\n",
      "73/73 [==============================] - 0s 688us/step - loss: 0.2154 - accuracy: 0.9431\n",
      "Epoch 16/200\n",
      "73/73 [==============================] - 0s 662us/step - loss: 0.1885 - accuracy: 0.9418\n",
      "Epoch 17/200\n",
      "73/73 [==============================] - 0s 1000us/step - loss: 0.2084 - accuracy: 0.9418\n",
      "Epoch 18/200\n",
      "73/73 [==============================] - 0s 640us/step - loss: 0.1902 - accuracy: 0.9426\n",
      "Epoch 19/200\n",
      "73/73 [==============================] - 0s 838us/step - loss: 0.2249 - accuracy: 0.9414\n",
      "Epoch 20/200\n",
      "73/73 [==============================] - 0s 679us/step - loss: 0.2036 - accuracy: 0.9435\n",
      "Epoch 21/200\n",
      "73/73 [==============================] - 0s 872us/step - loss: 0.1743 - accuracy: 0.9422\n",
      "Epoch 22/200\n",
      "73/73 [==============================] - 0s 631us/step - loss: 0.1844 - accuracy: 0.9414\n",
      "Epoch 23/200\n",
      "73/73 [==============================] - 0s 693us/step - loss: 0.1747 - accuracy: 0.9426\n",
      "Epoch 24/200\n",
      "73/73 [==============================] - 0s 831us/step - loss: 0.2282 - accuracy: 0.9431\n",
      "Epoch 25/200\n",
      "73/73 [==============================] - 0s 656us/step - loss: 0.2144 - accuracy: 0.9435\n",
      "Epoch 26/200\n",
      "73/73 [==============================] - 0s 859us/step - loss: 0.2116 - accuracy: 0.9418\n",
      "Epoch 27/200\n",
      "73/73 [==============================] - 0s 833us/step - loss: 0.2086 - accuracy: 0.9431\n",
      "Epoch 28/200\n",
      "73/73 [==============================] - 0s 844us/step - loss: 0.2007 - accuracy: 0.9405\n",
      "Epoch 29/200\n",
      "73/73 [==============================] - 0s 838us/step - loss: 0.2115 - accuracy: 0.9431\n",
      "Epoch 30/200\n",
      "73/73 [==============================] - 0s 842us/step - loss: 0.2091 - accuracy: 0.9405\n",
      "Epoch 31/200\n",
      "73/73 [==============================] - 0s 833us/step - loss: 0.2023 - accuracy: 0.9435\n",
      "Epoch 32/200\n",
      "73/73 [==============================] - 0s 826us/step - loss: 0.2102 - accuracy: 0.9426\n",
      "Epoch 33/200\n",
      "73/73 [==============================] - 0s 847us/step - loss: 0.1905 - accuracy: 0.9435\n",
      "Epoch 34/200\n",
      "73/73 [==============================] - 0s 996us/step - loss: 0.1860 - accuracy: 0.9435\n",
      "Epoch 35/200\n",
      "73/73 [==============================] - 0s 843us/step - loss: 0.2009 - accuracy: 0.9431\n",
      "Epoch 36/200\n",
      "73/73 [==============================] - 0s 820us/step - loss: 0.1736 - accuracy: 0.9422\n",
      "Epoch 37/200\n",
      "73/73 [==============================] - 0s 863us/step - loss: 0.2115 - accuracy: 0.9431\n",
      "Epoch 38/200\n",
      "73/73 [==============================] - 0s 831us/step - loss: 0.1964 - accuracy: 0.9422\n",
      "Epoch 39/200\n",
      "73/73 [==============================] - 0s 836us/step - loss: 0.1933 - accuracy: 0.9435\n",
      "Epoch 40/200\n",
      "73/73 [==============================] - 0s 915us/step - loss: 0.2065 - accuracy: 0.9414\n",
      "Epoch 41/200\n",
      "73/73 [==============================] - 0s 874us/step - loss: 0.1878 - accuracy: 0.9431\n",
      "Epoch 42/200\n",
      "73/73 [==============================] - 0s 819us/step - loss: 0.2124 - accuracy: 0.9418\n",
      "Epoch 43/200\n",
      "73/73 [==============================] - 0s 828us/step - loss: 0.1892 - accuracy: 0.9418\n",
      "Epoch 44/200\n",
      "73/73 [==============================] - 0s 843us/step - loss: 0.1948 - accuracy: 0.9431\n",
      "Epoch 45/200\n",
      "73/73 [==============================] - 0s 870us/step - loss: 0.1769 - accuracy: 0.9426\n",
      "Epoch 46/200\n",
      "73/73 [==============================] - 0s 871us/step - loss: 0.1823 - accuracy: 0.9426\n",
      "Epoch 47/200\n",
      "73/73 [==============================] - 0s 858us/step - loss: 0.1933 - accuracy: 0.9431\n",
      "Epoch 48/200\n",
      "73/73 [==============================] - 0s 831us/step - loss: 0.1722 - accuracy: 0.9431\n",
      "Epoch 49/200\n",
      "73/73 [==============================] - 0s 835us/step - loss: 0.2029 - accuracy: 0.9418\n",
      "Epoch 50/200\n",
      "73/73 [==============================] - 0s 886us/step - loss: 0.1700 - accuracy: 0.9426\n",
      "Epoch 51/200\n",
      "73/73 [==============================] - 0s 839us/step - loss: 0.1793 - accuracy: 0.9409\n",
      "Epoch 52/200\n",
      "73/73 [==============================] - 0s 859us/step - loss: 0.2334 - accuracy: 0.9431\n",
      "Epoch 53/200\n",
      "73/73 [==============================] - 0s 829us/step - loss: 0.1858 - accuracy: 0.9422\n",
      "Epoch 54/200\n",
      "73/73 [==============================] - 0s 838us/step - loss: 0.1885 - accuracy: 0.9422\n",
      "Epoch 55/200\n",
      "73/73 [==============================] - 0s 826us/step - loss: 0.1727 - accuracy: 0.9422\n",
      "Epoch 56/200\n",
      "73/73 [==============================] - 0s 842us/step - loss: 0.1678 - accuracy: 0.9426\n",
      "Epoch 57/200\n",
      "73/73 [==============================] - 0s 862us/step - loss: 0.1824 - accuracy: 0.9414\n",
      "Epoch 58/200\n",
      "73/73 [==============================] - 0s 688us/step - loss: 0.1846 - accuracy: 0.9431\n",
      "Epoch 59/200\n",
      "73/73 [==============================] - 0s 861us/step - loss: 0.1817 - accuracy: 0.9422\n",
      "Epoch 60/200\n",
      "73/73 [==============================] - 0s 836us/step - loss: 0.1792 - accuracy: 0.9426\n",
      "Epoch 61/200\n",
      "73/73 [==============================] - 0s 865us/step - loss: 0.1679 - accuracy: 0.9431\n",
      "Epoch 62/200\n",
      "73/73 [==============================] - 0s 864us/step - loss: 0.1847 - accuracy: 0.9426\n",
      "Epoch 63/200\n",
      "73/73 [==============================] - 0s 816us/step - loss: 0.1842 - accuracy: 0.9422\n",
      "Epoch 64/200\n",
      "73/73 [==============================] - 0s 679us/step - loss: 0.1854 - accuracy: 0.9426\n",
      "Epoch 65/200\n",
      "73/73 [==============================] - 0s 655us/step - loss: 0.1719 - accuracy: 0.9431\n",
      "Epoch 66/200\n",
      "73/73 [==============================] - 0s 815us/step - loss: 0.1732 - accuracy: 0.9422\n",
      "Epoch 67/200\n",
      "73/73 [==============================] - 0s 840us/step - loss: 0.1833 - accuracy: 0.9431\n",
      "Epoch 68/200\n",
      "73/73 [==============================] - 0s 828us/step - loss: 0.1770 - accuracy: 0.9422\n",
      "Epoch 69/200\n",
      "73/73 [==============================] - 0s 824us/step - loss: 0.2082 - accuracy: 0.9431\n",
      "Epoch 70/200\n",
      "73/73 [==============================] - 0s 858us/step - loss: 0.1737 - accuracy: 0.9414\n",
      "Epoch 71/200\n",
      "73/73 [==============================] - 0s 830us/step - loss: 0.1876 - accuracy: 0.9426\n",
      "Epoch 72/200\n",
      "73/73 [==============================] - 0s 863us/step - loss: 0.1728 - accuracy: 0.9422\n",
      "Epoch 73/200\n",
      "73/73 [==============================] - 0s 952us/step - loss: 0.1696 - accuracy: 0.9422\n",
      "Epoch 74/200\n",
      "73/73 [==============================] - 0s 776us/step - loss: 0.1802 - accuracy: 0.9431\n",
      "Epoch 75/200\n",
      "73/73 [==============================] - 0s 857us/step - loss: 0.1746 - accuracy: 0.9431\n",
      "Epoch 76/200\n",
      "73/73 [==============================] - 0s 838us/step - loss: 0.1712 - accuracy: 0.9418\n",
      "Epoch 77/200\n",
      "73/73 [==============================] - 0s 861us/step - loss: 0.1739 - accuracy: 0.9431\n",
      "Epoch 78/200\n",
      "73/73 [==============================] - 0s 627us/step - loss: 0.1881 - accuracy: 0.9422\n",
      "Epoch 79/200\n",
      "73/73 [==============================] - 0s 806us/step - loss: 0.1763 - accuracy: 0.9422\n",
      "Epoch 80/200\n",
      "73/73 [==============================] - 0s 848us/step - loss: 0.1739 - accuracy: 0.9426\n",
      "Epoch 81/200\n"
     ]
    },
    {
     "name": "stdout",
     "output_type": "stream",
     "text": [
      "73/73 [==============================] - 0s 848us/step - loss: 0.1811 - accuracy: 0.9426\n",
      "Epoch 82/200\n",
      "73/73 [==============================] - 0s 830us/step - loss: 0.1767 - accuracy: 0.9426\n",
      "Epoch 83/200\n",
      "73/73 [==============================] - 0s 835us/step - loss: 0.1777 - accuracy: 0.9426\n",
      "Epoch 84/200\n",
      "73/73 [==============================] - 0s 628us/step - loss: 0.1786 - accuracy: 0.9418\n",
      "Epoch 85/200\n",
      "73/73 [==============================] - 0s 835us/step - loss: 0.1751 - accuracy: 0.9431\n",
      "Epoch 86/200\n",
      "73/73 [==============================] - 0s 834us/step - loss: 0.1673 - accuracy: 0.9426\n",
      "Epoch 87/200\n",
      "73/73 [==============================] - 0s 669us/step - loss: 0.1821 - accuracy: 0.9426\n",
      "Epoch 88/200\n",
      "73/73 [==============================] - 0s 677us/step - loss: 0.1703 - accuracy: 0.9418\n",
      "Epoch 89/200\n",
      "73/73 [==============================] - 0s 874us/step - loss: 0.1828 - accuracy: 0.9426\n",
      "Epoch 90/200\n",
      "73/73 [==============================] - 0s 809us/step - loss: 0.1789 - accuracy: 0.9418\n",
      "Epoch 91/200\n",
      "73/73 [==============================] - 0s 662us/step - loss: 0.1730 - accuracy: 0.9431\n",
      "Epoch 92/200\n",
      "73/73 [==============================] - 0s 650us/step - loss: 0.1727 - accuracy: 0.9426\n",
      "Epoch 93/200\n",
      "73/73 [==============================] - 0s 854us/step - loss: 0.1675 - accuracy: 0.9431\n",
      "Epoch 94/200\n",
      "73/73 [==============================] - 0s 846us/step - loss: 0.1812 - accuracy: 0.9431\n",
      "Epoch 95/200\n",
      "73/73 [==============================] - 0s 857us/step - loss: 0.1902 - accuracy: 0.9418\n",
      "Epoch 96/200\n",
      "73/73 [==============================] - 0s 651us/step - loss: 0.1757 - accuracy: 0.9422\n",
      "Epoch 97/200\n",
      "73/73 [==============================] - 0s 837us/step - loss: 0.1764 - accuracy: 0.9422\n",
      "Epoch 98/200\n",
      "73/73 [==============================] - 0s 864us/step - loss: 0.1738 - accuracy: 0.9431\n",
      "Epoch 99/200\n",
      "73/73 [==============================] - 0s 906us/step - loss: 0.1663 - accuracy: 0.9431\n",
      "Epoch 100/200\n",
      "73/73 [==============================] - 0s 681us/step - loss: 0.1724 - accuracy: 0.9426\n",
      "Epoch 101/200\n",
      "73/73 [==============================] - 0s 836us/step - loss: 0.1737 - accuracy: 0.9426\n",
      "Epoch 102/200\n",
      "73/73 [==============================] - 0s 682us/step - loss: 0.1738 - accuracy: 0.9422\n",
      "Epoch 103/200\n",
      "73/73 [==============================] - 0s 857us/step - loss: 0.1708 - accuracy: 0.9426\n",
      "Epoch 104/200\n",
      "73/73 [==============================] - 0s 842us/step - loss: 0.1701 - accuracy: 0.9426\n",
      "Epoch 105/200\n",
      "73/73 [==============================] - 0s 854us/step - loss: 0.1634 - accuracy: 0.9426\n",
      "Epoch 106/200\n",
      "73/73 [==============================] - 0s 912us/step - loss: 0.1679 - accuracy: 0.9426\n",
      "Epoch 107/200\n",
      "73/73 [==============================] - 0s 841us/step - loss: 0.1646 - accuracy: 0.9418\n",
      "Epoch 108/200\n",
      "73/73 [==============================] - 0s 837us/step - loss: 0.1668 - accuracy: 0.9422\n",
      "Epoch 109/200\n",
      "73/73 [==============================] - 0s 846us/step - loss: 0.1789 - accuracy: 0.9422\n",
      "Epoch 110/200\n",
      "73/73 [==============================] - 0s 892us/step - loss: 0.1641 - accuracy: 0.9426\n",
      "Epoch 111/200\n",
      "73/73 [==============================] - 0s 823us/step - loss: 0.1703 - accuracy: 0.9422\n",
      "Epoch 112/200\n",
      "73/73 [==============================] - 0s 829us/step - loss: 0.1715 - accuracy: 0.9418\n",
      "Epoch 113/200\n",
      "73/73 [==============================] - 0s 857us/step - loss: 0.1649 - accuracy: 0.9426\n",
      "Epoch 114/200\n",
      "73/73 [==============================] - 0s 650us/step - loss: 0.1741 - accuracy: 0.9426\n",
      "Epoch 115/200\n",
      "73/73 [==============================] - 0s 809us/step - loss: 0.1752 - accuracy: 0.9426\n",
      "Epoch 116/200\n",
      "73/73 [==============================] - 0s 856us/step - loss: 0.1737 - accuracy: 0.9414\n",
      "Epoch 117/200\n",
      "73/73 [==============================] - 0s 630us/step - loss: 0.1698 - accuracy: 0.9426\n",
      "Epoch 118/200\n",
      "73/73 [==============================] - 0s 846us/step - loss: 0.1645 - accuracy: 0.9431\n",
      "Epoch 119/200\n",
      "73/73 [==============================] - 0s 760us/step - loss: 0.1682 - accuracy: 0.9414\n",
      "Epoch 120/200\n",
      "73/73 [==============================] - 0s 1ms/step - loss: 0.1708 - accuracy: 0.9426\n",
      "Epoch 121/200\n",
      "73/73 [==============================] - 0s 929us/step - loss: 0.1643 - accuracy: 0.9426\n",
      "Epoch 122/200\n",
      "73/73 [==============================] - 0s 759us/step - loss: 0.1693 - accuracy: 0.9422\n",
      "Epoch 123/200\n",
      "73/73 [==============================] - 0s 836us/step - loss: 0.1810 - accuracy: 0.9431\n",
      "Epoch 124/200\n",
      "73/73 [==============================] - 0s 624us/step - loss: 0.1648 - accuracy: 0.9414\n",
      "Epoch 125/200\n",
      "73/73 [==============================] - 0s 600us/step - loss: 0.1632 - accuracy: 0.9422\n",
      "Epoch 126/200\n",
      "73/73 [==============================] - 0s 693us/step - loss: 0.1711 - accuracy: 0.9426\n",
      "Epoch 127/200\n",
      "73/73 [==============================] - 0s 693us/step - loss: 0.1642 - accuracy: 0.9426\n",
      "Epoch 128/200\n",
      "73/73 [==============================] - 0s 813us/step - loss: 0.1661 - accuracy: 0.9431\n",
      "Epoch 129/200\n",
      "73/73 [==============================] - 0s 835us/step - loss: 0.1745 - accuracy: 0.9422\n",
      "Epoch 130/200\n",
      "73/73 [==============================] - 0s 638us/step - loss: 0.1713 - accuracy: 0.9414\n",
      "Epoch 131/200\n",
      "73/73 [==============================] - 0s 821us/step - loss: 0.1664 - accuracy: 0.9426\n",
      "Epoch 132/200\n",
      "73/73 [==============================] - 0s 828us/step - loss: 0.1744 - accuracy: 0.9418\n",
      "Epoch 133/200\n",
      "73/73 [==============================] - 0s 818us/step - loss: 0.1702 - accuracy: 0.9426\n",
      "Epoch 134/200\n",
      "73/73 [==============================] - 0s 650us/step - loss: 0.1694 - accuracy: 0.9405\n",
      "Epoch 135/200\n",
      "73/73 [==============================] - 0s 817us/step - loss: 0.1706 - accuracy: 0.9426\n",
      "Epoch 136/200\n",
      "73/73 [==============================] - 0s 822us/step - loss: 0.1681 - accuracy: 0.9422\n",
      "Epoch 137/200\n",
      "73/73 [==============================] - 0s 650us/step - loss: 0.1670 - accuracy: 0.9435\n",
      "Epoch 138/200\n",
      "73/73 [==============================] - 0s 665us/step - loss: 0.1659 - accuracy: 0.9422\n",
      "Epoch 139/200\n",
      "73/73 [==============================] - 0s 833us/step - loss: 0.1630 - accuracy: 0.9435\n",
      "Epoch 140/200\n",
      "73/73 [==============================] - 0s 846us/step - loss: 0.1677 - accuracy: 0.9444\n",
      "Epoch 141/200\n",
      "73/73 [==============================] - 0s 845us/step - loss: 0.1631 - accuracy: 0.9439\n",
      "Epoch 142/200\n",
      "73/73 [==============================] - 0s 851us/step - loss: 0.1649 - accuracy: 0.9435\n",
      "Epoch 143/200\n",
      "73/73 [==============================] - 0s 829us/step - loss: 0.1619 - accuracy: 0.9444\n",
      "Epoch 144/200\n",
      "73/73 [==============================] - 0s 853us/step - loss: 0.1661 - accuracy: 0.9439\n",
      "Epoch 145/200\n",
      "73/73 [==============================] - 0s 841us/step - loss: 0.1665 - accuracy: 0.9444\n",
      "Epoch 146/200\n",
      "73/73 [==============================] - 0s 859us/step - loss: 0.1680 - accuracy: 0.9431\n",
      "Epoch 147/200\n",
      "73/73 [==============================] - 0s 858us/step - loss: 0.1632 - accuracy: 0.9431\n",
      "Epoch 148/200\n",
      "73/73 [==============================] - 0s 865us/step - loss: 0.1714 - accuracy: 0.9435\n",
      "Epoch 149/200\n",
      "73/73 [==============================] - 0s 865us/step - loss: 0.1617 - accuracy: 0.9444\n",
      "Epoch 150/200\n",
      "73/73 [==============================] - 0s 827us/step - loss: 0.1664 - accuracy: 0.9431\n",
      "Epoch 151/200\n",
      "73/73 [==============================] - 0s 634us/step - loss: 0.1636 - accuracy: 0.9439\n",
      "Epoch 152/200\n",
      "73/73 [==============================] - 0s 827us/step - loss: 0.1694 - accuracy: 0.9426\n",
      "Epoch 153/200\n",
      "73/73 [==============================] - 0s 887us/step - loss: 0.1641 - accuracy: 0.9435\n",
      "Epoch 154/200\n",
      "73/73 [==============================] - 0s 690us/step - loss: 0.1634 - accuracy: 0.9422\n",
      "Epoch 155/200\n",
      "73/73 [==============================] - 0s 810us/step - loss: 0.1688 - accuracy: 0.9444\n",
      "Epoch 156/200\n",
      "73/73 [==============================] - 0s 848us/step - loss: 0.1631 - accuracy: 0.9426\n",
      "Epoch 157/200\n",
      "73/73 [==============================] - 0s 647us/step - loss: 0.1697 - accuracy: 0.9439\n",
      "Epoch 158/200\n",
      "73/73 [==============================] - 0s 843us/step - loss: 0.1681 - accuracy: 0.9439\n",
      "Epoch 159/200\n",
      "73/73 [==============================] - 0s 940us/step - loss: 0.1642 - accuracy: 0.9448\n",
      "Epoch 160/200\n"
     ]
    },
    {
     "name": "stdout",
     "output_type": "stream",
     "text": [
      "73/73 [==============================] - 0s 928us/step - loss: 0.1623 - accuracy: 0.9444\n",
      "Epoch 161/200\n",
      "73/73 [==============================] - 0s 867us/step - loss: 0.1637 - accuracy: 0.9435\n",
      "Epoch 162/200\n",
      "73/73 [==============================] - 0s 644us/step - loss: 0.1621 - accuracy: 0.9431\n",
      "Epoch 163/200\n",
      "73/73 [==============================] - 0s 667us/step - loss: 0.1620 - accuracy: 0.9422\n",
      "Epoch 164/200\n",
      "73/73 [==============================] - 0s 833us/step - loss: 0.1659 - accuracy: 0.9448\n",
      "Epoch 165/200\n",
      "73/73 [==============================] - 0s 771us/step - loss: 0.1612 - accuracy: 0.9435\n",
      "Epoch 166/200\n",
      "73/73 [==============================] - 0s 932us/step - loss: 0.1612 - accuracy: 0.9431\n",
      "Epoch 167/200\n",
      "73/73 [==============================] - 0s 691us/step - loss: 0.1650 - accuracy: 0.9448\n",
      "Epoch 168/200\n",
      "73/73 [==============================] - 0s 827us/step - loss: 0.1617 - accuracy: 0.9439\n",
      "Epoch 169/200\n",
      "73/73 [==============================] - 0s 902us/step - loss: 0.1750 - accuracy: 0.9418\n",
      "Epoch 170/200\n",
      "73/73 [==============================] - 0s 638us/step - loss: 0.1626 - accuracy: 0.9431\n",
      "Epoch 171/200\n",
      "73/73 [==============================] - 0s 645us/step - loss: 0.1672 - accuracy: 0.9435\n",
      "Epoch 172/200\n",
      "73/73 [==============================] - 0s 845us/step - loss: 0.1617 - accuracy: 0.9435\n",
      "Epoch 173/200\n",
      "73/73 [==============================] - 0s 636us/step - loss: 0.1625 - accuracy: 0.9444\n",
      "Epoch 174/200\n",
      "73/73 [==============================] - 0s 806us/step - loss: 0.1645 - accuracy: 0.9435\n",
      "Epoch 175/200\n",
      "73/73 [==============================] - 0s 910us/step - loss: 0.1604 - accuracy: 0.9448\n",
      "Epoch 176/200\n",
      "73/73 [==============================] - 0s 858us/step - loss: 0.1597 - accuracy: 0.9448\n",
      "Epoch 177/200\n",
      "73/73 [==============================] - 0s 846us/step - loss: 0.1636 - accuracy: 0.9448\n",
      "Epoch 178/200\n",
      "73/73 [==============================] - 0s 853us/step - loss: 0.1626 - accuracy: 0.9444\n",
      "Epoch 179/200\n",
      "73/73 [==============================] - 0s 649us/step - loss: 0.1669 - accuracy: 0.9444\n",
      "Epoch 180/200\n",
      "73/73 [==============================] - 0s 819us/step - loss: 0.1614 - accuracy: 0.9435\n",
      "Epoch 181/200\n",
      "73/73 [==============================] - 0s 869us/step - loss: 0.1614 - accuracy: 0.9435\n",
      "Epoch 182/200\n",
      "73/73 [==============================] - 0s 928us/step - loss: 0.1618 - accuracy: 0.9444\n",
      "Epoch 183/200\n",
      "73/73 [==============================] - 0s 892us/step - loss: 0.1598 - accuracy: 0.9422\n",
      "Epoch 184/200\n",
      "73/73 [==============================] - 0s 643us/step - loss: 0.1598 - accuracy: 0.9448\n",
      "Epoch 185/200\n",
      "73/73 [==============================] - 0s 691us/step - loss: 0.1617 - accuracy: 0.9444\n",
      "Epoch 186/200\n",
      "73/73 [==============================] - 0s 792us/step - loss: 0.1642 - accuracy: 0.9444\n",
      "Epoch 187/200\n",
      "73/73 [==============================] - 0s 969us/step - loss: 0.1588 - accuracy: 0.9465\n",
      "Epoch 188/200\n",
      "73/73 [==============================] - 0s 851us/step - loss: 0.1608 - accuracy: 0.9452\n",
      "Epoch 189/200\n",
      "73/73 [==============================] - 0s 811us/step - loss: 0.1622 - accuracy: 0.9448\n",
      "Epoch 190/200\n",
      "73/73 [==============================] - 0s 644us/step - loss: 0.1688 - accuracy: 0.9435\n",
      "Epoch 191/200\n",
      "73/73 [==============================] - 0s 841us/step - loss: 0.1628 - accuracy: 0.9444\n",
      "Epoch 192/200\n",
      "73/73 [==============================] - 0s 692us/step - loss: 0.1625 - accuracy: 0.9448\n",
      "Epoch 193/200\n",
      "73/73 [==============================] - 0s 671us/step - loss: 0.1604 - accuracy: 0.9448\n",
      "Epoch 194/200\n",
      "73/73 [==============================] - 0s 842us/step - loss: 0.1584 - accuracy: 0.9444\n",
      "Epoch 195/200\n",
      "73/73 [==============================] - 0s 863us/step - loss: 0.1622 - accuracy: 0.9444\n",
      "Epoch 196/200\n",
      "73/73 [==============================] - 0s 832us/step - loss: 0.1580 - accuracy: 0.9444\n",
      "Epoch 197/200\n",
      "73/73 [==============================] - 0s 631us/step - loss: 0.1631 - accuracy: 0.9426\n",
      "Epoch 198/200\n",
      "73/73 [==============================] - 0s 829us/step - loss: 0.1648 - accuracy: 0.9431\n",
      "Epoch 199/200\n",
      "73/73 [==============================] - 0s 819us/step - loss: 0.1657 - accuracy: 0.9448\n",
      "Epoch 200/200\n",
      "73/73 [==============================] - 0s 842us/step - loss: 0.1619 - accuracy: 0.9444\n"
     ]
    },
    {
     "data": {
      "text/plain": [
       "<keras.src.callbacks.History at 0x24376b11f10>"
      ]
     },
     "execution_count": 104,
     "metadata": {},
     "output_type": "execute_result"
    }
   ],
   "source": [
    "# model trainning\n",
    "\n",
    "# To train our MLP model defined in earlier steps, let's call the fit function. Let's train our model for 200 iterations:\n",
    "# Train the model for 200 epochs\n",
    "model_ann.fit(X_train, y_train, epochs = 200)"
   ]
  },
  {
   "cell_type": "code",
   "execution_count": 105,
   "id": "e6223bec",
   "metadata": {},
   "outputs": [
    {
     "name": "stdout",
     "output_type": "stream",
     "text": [
      "73/73 [==============================] - 0s 834us/step - loss: 0.1616 - accuracy: 0.9452\n",
      "Training Accuracy: 94.52%\n",
      "\n",
      "9/9 [==============================] - 0s 2ms/step - loss: 0.2248 - accuracy: 0.9147\n",
      "Testing Accuracy: 91.47%\n",
      "\n"
     ]
    }
   ],
   "source": [
    "# Testing ACCURACY\n",
    "\n",
    "scores = model_ann.evaluate(X_train, y_train)\n",
    "print(\"Training Accuracy: %.2f%%\\n\" % (scores[1]*100))\n",
    "\n",
    "scores = model_ann.evaluate(X_test, y_test)\n",
    "print(\"Testing Accuracy: %.2f%%\\n\" % (scores[1]*100))"
   ]
  },
  {
   "cell_type": "code",
   "execution_count": 106,
   "id": "3cc9323c",
   "metadata": {},
   "outputs": [
    {
     "name": "stdout",
     "output_type": "stream",
     "text": [
      "9/9 [==============================] - 0s 1ms/step\n"
     ]
    },
    {
     "data": {
      "text/plain": [
       "Text(50.722222222222214, 0.5, 'Actual')"
      ]
     },
     "execution_count": 106,
     "metadata": {},
     "output_type": "execute_result"
    },
    {
     "data": {
      "image/png": "[encoded data removed]",
      "text/plain": [
       "<Figure size 640x480 with 1 Axes>"
      ]
     },
     "metadata": {},
     "output_type": "display_data"
    }
   ],
   "source": [
    "from sklearn.metrics import confusion_matrix\n",
    "import seaborn as sns\n",
    "\n",
    "y_test_pred = model_ann.predict(X_test)\n",
    "y_test_pred = y_test_pred.flatten()\n",
    "y_test_pred_new = np.where(y_test_pred.round(2) > 0.5, 1, 0)\n",
    "c_matrix = confusion_matrix(y_test, y_test_pred_new)\n",
    "ax = sns.heatmap(c_matrix, annot=True,                  \n",
    "                 xticklabels=['Alive','Died'],                \n",
    "                 yticklabels=['Alive','Died'],                  \n",
    "                 cbar=False, cmap='Blues')\n",
    "ax.set_xlabel(\"Prediction\")\n",
    "ax.set_ylabel(\"Actual\")"
   ]
  },
  {
   "cell_type": "markdown",
   "id": "52f8ccd6",
   "metadata": {},
   "source": [
    "### ROC Curve"
   ]
  },
  {
   "cell_type": "code",
   "execution_count": 107,
   "id": "4b9e5984",
   "metadata": {
    "scrolled": false
   },
   "outputs": [
    {
     "name": "stdout",
     "output_type": "stream",
     "text": [
      "9/9 [==============================] - 0s 846us/step\n"
     ]
    }
   ],
   "source": [
    "from sklearn.metrics import roc_curve\n",
    "import matplotlib.pyplot as plt\n",
    "y_test_pred_probs = model_ann.predict(X_test)"
   ]
  },
  {
   "cell_type": "code",
   "execution_count": 108,
   "id": "9377fcf5",
   "metadata": {},
   "outputs": [],
   "source": [
    "#Then, run the roc_curve function in order to get the corresponding false positive rate and true positive rate for the ROC curve:\n",
    "FPR, TPR, _ = roc_curve(y_test, y_test_pred_probs)"
   ]
  },
  {
   "cell_type": "code",
   "execution_count": 109,
   "id": "68c5ba04",
   "metadata": {},
   "outputs": [],
   "source": [
    "FPR, TPR, _ = roc_curve(y_test, y_test_pred_probs)"
   ]
  },
  {
   "cell_type": "code",
   "execution_count": 110,
   "id": "ba37dfdb",
   "metadata": {},
   "outputs": [
    {
     "data": {
      "text/plain": [
       "Text(0, 0.5, 'True Positive Rate')"
      ]
     },
     "execution_count": 110,
     "metadata": {},
     "output_type": "execute_result"
    },
    {
     "data": {
      "image/png": "[encoded data removed]",
      "text/plain": [
       "<Figure size 640x480 with 1 Axes>"
      ]
     },
     "metadata": {},
     "output_type": "display_data"
    }
   ],
   "source": [
    "plt.plot(FPR, TPR)\n",
    "plt.plot([0,1],[0,1],'--', color='black')\n",
    "plt.title('ROC Curve')\n",
    "plt.xlabel('False Positive Rate')\n",
    "plt.ylabel('True Positive Rate')"
   ]
  },
  {
   "cell_type": "code",
   "execution_count": null,
   "id": "bb6b1e60",
   "metadata": {},
   "outputs": [],
   "source": []
  },
  {
   "cell_type": "markdown",
   "id": "37630d4f",
   "metadata": {},
   "source": [
    "## Pre-processing"
   ]
  },
  {
   "cell_type": "markdown",
   "id": "31dead24",
   "metadata": {},
   "source": [
    "### One-Hot Encode"
   ]
  },
  {
   "cell_type": "markdown",
   "id": "6b787857",
   "metadata": {},
   "source": [
    "This tool replaces categorical variables, like 'DIED' ('Y'= dead and 0 = alive), with one or more features with 0 and 1 values (Müller and Guido, 2017 p.214). I am using this tool because Machine Learning models are based on numerical operations and do not recognize stings. Because of this, it is necessary to convert strings into numbers without introducing ordinal relationships, as in the Label Encoding tool, which can give more weight to specific categories than others. \n",
    "\n",
    "First, I will use the value_counts function to check the contents of the columns where I want to proceed with the one-hot encoding. This is important because when humans input data, it is always possible to have some errors. There are no typos in the case of these columns, and then I can start the one-hot encoding process. Otherwise, I would have to convert all the typos into a unique word (Müller and Guido, 2017 p.214, 215)."
   ]
  },
  {
   "cell_type": "code",
   "execution_count": null,
   "id": "574f2e92",
   "metadata": {
    "scrolled": true
   },
   "outputs": [],
   "source": [
    "df2[\"SEX\"].value_counts()"
   ]
  },
  {
   "cell_type": "code",
   "execution_count": null,
   "id": "b4ca467e",
   "metadata": {},
   "outputs": [],
   "source": [
    "df2[\"DIED\"].value_counts()"
   ]
  },
  {
   "cell_type": "code",
   "execution_count": null,
   "id": "4fe0f69c",
   "metadata": {},
   "outputs": [],
   "source": [
    "df2[\"DISABLE\"].value_counts()"
   ]
  },
  {
   "cell_type": "code",
   "execution_count": null,
   "id": "ae158ee2",
   "metadata": {},
   "outputs": [],
   "source": [
    "df2['CUR_ILL'].value_counts()"
   ]
  },
  {
   "cell_type": "code",
   "execution_count": null,
   "id": "a164619c",
   "metadata": {
    "scrolled": true
   },
   "outputs": [],
   "source": [
    "df2['HISTORY'].value_counts()"
   ]
  },
  {
   "cell_type": "code",
   "execution_count": null,
   "id": "bfb96e06",
   "metadata": {
    "scrolled": true
   },
   "outputs": [],
   "source": [
    "df2['ALLERGIES'].value_counts()"
   ]
  },
  {
   "cell_type": "code",
   "execution_count": null,
   "id": "9069f67f",
   "metadata": {},
   "outputs": [],
   "source": [
    "feature_imp1 = pd.Series(clf_RF1.feature_importances_).sort_values(ascending = False)\n",
    "feature_imp1"
   ]
  },
  {
   "cell_type": "markdown",
   "id": "6177372a",
   "metadata": {},
   "source": [
    "From now on, the dataset will be called: **'df_encod'**"
   ]
  },
  {
   "cell_type": "code",
   "execution_count": null,
   "id": "cc58b30a",
   "metadata": {
    "scrolled": true
   },
   "outputs": [],
   "source": [
    "df_encod = pd.get_dummies(df2, columns=['SEX', 'DIED', 'DISABLE', 'CUR_ILL', 'HISTORY', 'ALLERGIES'])\n",
    "df_encod.head()"
   ]
  },
  {
   "cell_type": "markdown",
   "id": "94752d1b",
   "metadata": {},
   "source": [
    "#### Sparsity\n",
    "\n",
    "Sparsity is a measurement of how sparse or dense a dataset is. It can be represented as the ratio of the number of zero or missing values to the total number of data points or entries in the dataset. Sparse datasets are characterized by most features having 0 most of the time (Müller and Guido, 2017 p.44). I am doing it because it guides me about what normalization or scaling feature I will use before applying the ML models."
   ]
  },
  {
   "cell_type": "code",
   "execution_count": null,
   "id": "b2123947",
   "metadata": {},
   "outputs": [],
   "source": [
    "missing_values = df_encod.isnull().sum().sum()\n",
    "zero_values = (df_encod == 0).sum().sum()\n",
    "\n",
    "total_data_points = df_encod.size\n",
    "\n",
    "sparsity = (missing_values + zero_values) / total_data_points\n",
    "\n",
    "print(f\"Sparsity of the dataset: {sparsity:.2f}\")\n",
    "print(\"Missing values:\", missing_values)\n",
    "print(\"zero values:\", zero_values)"
   ]
  },
  {
   "cell_type": "markdown",
   "id": "6432e475",
   "metadata": {},
   "source": [
    "The sparsity values must be between 0 and 1, where 0 indicates no sparsity, and 1 indicates wholly spaced. The result for this dataset was found to be 0.59, meaning that 59% of the dataset is sparse and has a significant portion of zero values. However, it was expected because that is usually a consequence of the One-hot encodes; knowing it, I will be able to use the l-normalization in the data.\n",
    "\n",
    "However, I will experiment with the models without normalization and with L1 and L2 normalizations to evaluate which is beneficial to improving the model's performance."
   ]
  },
  {
   "cell_type": "markdown",
   "id": "e65c12d6",
   "metadata": {},
   "source": [
    "### Reference"
   ]
  },
  {
   "cell_type": "markdown",
   "id": "41b773a8",
   "metadata": {},
   "source": [
    "Scikit-learn.org. (2012). 3.2. Tuning the hyper-parameters of an estimator — scikit-learn 0.22 documentation. [online] Available at: https://scikit-learn.org/stable/modules/grid_search.html [Accessed 19 Nov. 2023].\n",
    "\n",
    "Müller, A. C. and Guido, S. (2017). Introduction to machine learning with Python: a guide for data scientists. 1st ed. United States of America. O’reilly Media.\n",
    "\n"
   ]
  },
  {
   "cell_type": "code",
   "execution_count": null,
   "id": "032d999b",
   "metadata": {},
   "outputs": [],
   "source": []
  }
 ],
 "metadata": {
  "kernelspec": {
   "display_name": "Python 3 (ipykernel)",
   "language": "python",
   "name": "python3"
  },
  "language_info": {
   "codemirror_mode": {
    "name": "ipython",
    "version": 3
   },
   "file_extension": ".py",
   "mimetype": "text/x-python",
   "name": "python",
   "nbconvert_exporter": "python",
   "pygments_lexer": "ipython3",
   "version": "3.11.4"
  }
 },
 "nbformat": 4,
 "nbformat_minor": 5
}
