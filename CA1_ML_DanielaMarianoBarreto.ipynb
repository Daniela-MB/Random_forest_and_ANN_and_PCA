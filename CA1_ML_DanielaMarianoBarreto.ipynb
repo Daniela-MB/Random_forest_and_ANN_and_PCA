{
 "cells": [
  {
   "cell_type": "markdown",
   "id": "fe779a85",
   "metadata": {},
   "source": [
    "To start the EDA, I will import all the libraries I will use, such as Pandas, for functions and methods to manipulate the data in this library and Numpy to solve mathematical problems."
   ]
  },
  {
   "cell_type": "code",
   "execution_count": 113,
   "id": "bfd63721",
   "metadata": {},
   "outputs": [],
   "source": [
    "import pandas as pd\n",
    "import numpy as np\n",
    "import statistics as stats\n",
    "import matplotlib.pyplot as plt\n",
    "import seaborn as sns"
   ]
  },
  {
   "cell_type": "markdown",
   "id": "c69150c0",
   "metadata": {},
   "source": [
    "## Import dataset"
   ]
  },
  {
   "cell_type": "markdown",
   "id": "9e1c31c8",
   "metadata": {},
   "source": [
    "I used the 'pd.read_csv' method to access the file that I want to work with.\n",
    "The warning indicates that Pandas has encountered columns in the DataFrame where the data types are inconsistent throughout, meaning that both strings and numbers are within the same column. I will handle it during the cleaning process."
   ]
  },
  {
   "cell_type": "code",
   "execution_count": 114,
   "id": "eb98434a",
   "metadata": {},
   "outputs": [
    {
     "name": "stderr",
     "output_type": "stream",
     "text": [
      "C:\\Users\\danie\\AppData\\Local\\Temp\\ipykernel_4240\\1116616066.py:1: DtypeWarning: Columns (2,3,5,7,12,23,31,34) have mixed types. Specify dtype option on import or set low_memory=False.\n",
      "  df = pd.read_csv('2021VAERSDATA_.csv', encoding='ISO-8859-1')\n"
     ]
    }
   ],
   "source": [
    "df = pd.read_csv('2021VAERSDATA_.csv', encoding='ISO-8859-1')\n",
    "orig_df = df.copy()"
   ]
  },
  {
   "cell_type": "code",
   "execution_count": 115,
   "id": "c4dcccd7",
   "metadata": {
    "scrolled": true
   },
   "outputs": [
    {
     "data": {
      "text/html": [
       "<div>\n",
       "<style scoped>\n",
       "    .dataframe tbody tr th:only-of-type {\n",
       "        vertical-align: middle;\n",
       "    }\n",
       "\n",
       "    .dataframe tbody tr th {\n",
       "        vertical-align: top;\n",
       "    }\n",
       "\n",
       "    .dataframe thead th {\n",
       "        text-align: right;\n",
       "    }\n",
       "</style>\n",
       "<table border=\"1\" class=\"dataframe\">\n",
       "  <thead>\n",
       "    <tr style=\"text-align: right;\">\n",
       "      <th></th>\n",
       "      <th>VAERS_ID</th>\n",
       "      <th>RECVDATE</th>\n",
       "      <th>STATE</th>\n",
       "      <th>AGE_YRS</th>\n",
       "      <th>CAGE_YR</th>\n",
       "      <th>CAGE_MO</th>\n",
       "      <th>SEX</th>\n",
       "      <th>RPT_DATE</th>\n",
       "      <th>SYMPTOM_TEXT</th>\n",
       "      <th>DIED</th>\n",
       "      <th>...</th>\n",
       "      <th>CUR_ILL</th>\n",
       "      <th>HISTORY</th>\n",
       "      <th>PRIOR_VAX</th>\n",
       "      <th>SPLTTYPE</th>\n",
       "      <th>FORM_VERS</th>\n",
       "      <th>TODAYS_DATE</th>\n",
       "      <th>BIRTH_DEFECT</th>\n",
       "      <th>OFC_VISIT</th>\n",
       "      <th>ER_ED_VISIT</th>\n",
       "      <th>ALLERGIES</th>\n",
       "    </tr>\n",
       "  </thead>\n",
       "  <tbody>\n",
       "    <tr>\n",
       "      <th>0</th>\n",
       "      <td>916767</td>\n",
       "      <td>1/1/221</td>\n",
       "      <td>AK</td>\n",
       "      <td>54</td>\n",
       "      <td>54.0</td>\n",
       "      <td>NaN</td>\n",
       "      <td>F</td>\n",
       "      <td>NaN</td>\n",
       "      <td>Hypotension ticed 24 hours post injectionU  Ef...</td>\n",
       "      <td>NaN</td>\n",
       "      <td>...</td>\n",
       "      <td>NaN</td>\n",
       "      <td>HTN</td>\n",
       "      <td>NaN</td>\n",
       "      <td>NaN</td>\n",
       "      <td>2</td>\n",
       "      <td>1/1/221</td>\n",
       "      <td>NaN</td>\n",
       "      <td>NaN</td>\n",
       "      <td>NaN</td>\n",
       "      <td>ADVAIR, ASMAX, FORADIL, TRAMADOL</td>\n",
       "    </tr>\n",
       "    <tr>\n",
       "      <th>1</th>\n",
       "      <td>918694</td>\n",
       "      <td>1/1/221</td>\n",
       "      <td>AK</td>\n",
       "      <td>23</td>\n",
       "      <td>25.0</td>\n",
       "      <td>NaN</td>\n",
       "      <td>F</td>\n",
       "      <td>NaN</td>\n",
       "      <td>12/24/22  chills body aches headache, fever of...</td>\n",
       "      <td>NaN</td>\n",
       "      <td>...</td>\n",
       "      <td>NaN</td>\n",
       "      <td>NaN</td>\n",
       "      <td>NaN</td>\n",
       "      <td>NaN</td>\n",
       "      <td>2</td>\n",
       "      <td>NaN</td>\n",
       "      <td>NaN</td>\n",
       "      <td>NaN</td>\n",
       "      <td>Y</td>\n",
       "      <td>Altace</td>\n",
       "    </tr>\n",
       "    <tr>\n",
       "      <th>2</th>\n",
       "      <td>917613</td>\n",
       "      <td>1/2/221</td>\n",
       "      <td>AK</td>\n",
       "      <td>31</td>\n",
       "      <td>31.0</td>\n",
       "      <td>NaN</td>\n",
       "      <td>F</td>\n",
       "      <td>NaN</td>\n",
       "      <td>Fatigue, chills, pain at injection site radiat...</td>\n",
       "      <td>NaN</td>\n",
       "      <td>...</td>\n",
       "      <td>NaN</td>\n",
       "      <td>Asthma, adhd</td>\n",
       "      <td>Tetanus</td>\n",
       "      <td>NaN</td>\n",
       "      <td>2</td>\n",
       "      <td>1/2/221</td>\n",
       "      <td>NaN</td>\n",
       "      <td>NaN</td>\n",
       "      <td>NaN</td>\n",
       "      <td>Aspergillus</td>\n",
       "    </tr>\n",
       "    <tr>\n",
       "      <th>3</th>\n",
       "      <td>918693</td>\n",
       "      <td>1/2/221</td>\n",
       "      <td>AK</td>\n",
       "      <td>6</td>\n",
       "      <td>6.0</td>\n",
       "      <td>NaN</td>\n",
       "      <td>F</td>\n",
       "      <td>NaN</td>\n",
       "      <td>Starting at 1 am I ticed chills, body aches, v...</td>\n",
       "      <td>NaN</td>\n",
       "      <td>...</td>\n",
       "      <td>NaN</td>\n",
       "      <td>NaN</td>\n",
       "      <td>NaN</td>\n",
       "      <td>NaN</td>\n",
       "      <td>2</td>\n",
       "      <td>1/2/221</td>\n",
       "      <td>NaN</td>\n",
       "      <td>NaN</td>\n",
       "      <td>Y</td>\n",
       "      <td>Aspirin</td>\n",
       "    </tr>\n",
       "    <tr>\n",
       "      <th>4</th>\n",
       "      <td>91887</td>\n",
       "      <td>1/4/221</td>\n",
       "      <td>AK</td>\n",
       "      <td>49</td>\n",
       "      <td>49.0</td>\n",
       "      <td>NaN</td>\n",
       "      <td>M</td>\n",
       "      <td>NaN</td>\n",
       "      <td>Patient got his Covid vaccine this past Thursd...</td>\n",
       "      <td>NaN</td>\n",
       "      <td>...</td>\n",
       "      <td>NaN</td>\n",
       "      <td>Obesity, pre-diabetes</td>\n",
       "      <td>NaN</td>\n",
       "      <td>NaN</td>\n",
       "      <td>2</td>\n",
       "      <td>1/4/221</td>\n",
       "      <td>NaN</td>\n",
       "      <td>NaN</td>\n",
       "      <td>Y</td>\n",
       "      <td>Cephalosporin</td>\n",
       "    </tr>\n",
       "  </tbody>\n",
       "</table>\n",
       "<p>5 rows × 35 columns</p>\n",
       "</div>"
      ],
      "text/plain": [
       "   VAERS_ID RECVDATE STATE AGE_YRS  CAGE_YR CAGE_MO SEX RPT_DATE  \\\n",
       "0    916767  1/1/221    AK      54     54.0     NaN   F      NaN   \n",
       "1    918694  1/1/221    AK      23     25.0     NaN   F      NaN   \n",
       "2    917613  1/2/221    AK      31     31.0     NaN   F      NaN   \n",
       "3    918693  1/2/221    AK       6      6.0     NaN   F      NaN   \n",
       "4     91887  1/4/221    AK      49     49.0     NaN   M      NaN   \n",
       "\n",
       "                                        SYMPTOM_TEXT DIED  ... CUR_ILL  \\\n",
       "0  Hypotension ticed 24 hours post injectionU  Ef...  NaN  ...     NaN   \n",
       "1  12/24/22  chills body aches headache, fever of...  NaN  ...     NaN   \n",
       "2  Fatigue, chills, pain at injection site radiat...  NaN  ...     NaN   \n",
       "3  Starting at 1 am I ticed chills, body aches, v...  NaN  ...     NaN   \n",
       "4  Patient got his Covid vaccine this past Thursd...  NaN  ...     NaN   \n",
       "\n",
       "                 HISTORY PRIOR_VAX SPLTTYPE  FORM_VERS TODAYS_DATE  \\\n",
       "0                    HTN       NaN      NaN          2     1/1/221   \n",
       "1                    NaN       NaN      NaN          2         NaN   \n",
       "2           Asthma, adhd   Tetanus      NaN          2     1/2/221   \n",
       "3                    NaN       NaN      NaN          2     1/2/221   \n",
       "4  Obesity, pre-diabetes       NaN      NaN          2     1/4/221   \n",
       "\n",
       "  BIRTH_DEFECT OFC_VISIT ER_ED_VISIT                         ALLERGIES  \n",
       "0          NaN       NaN         NaN  ADVAIR, ASMAX, FORADIL, TRAMADOL  \n",
       "1          NaN       NaN           Y                            Altace  \n",
       "2          NaN       NaN         NaN                       Aspergillus  \n",
       "3          NaN       NaN           Y                           Aspirin  \n",
       "4          NaN       NaN           Y                     Cephalosporin  \n",
       "\n",
       "[5 rows x 35 columns]"
      ]
     },
     "execution_count": 115,
     "metadata": {},
     "output_type": "execute_result"
    }
   ],
   "source": [
    "df.head()"
   ]
  },
  {
   "cell_type": "markdown",
   "id": "5cb95373",
   "metadata": {},
   "source": [
    "I used the method df.shape to have an idea of the dataset size. And I found that this dataset has 34121 rows and 35 columns."
   ]
  },
  {
   "cell_type": "code",
   "execution_count": 116,
   "id": "611f99da",
   "metadata": {},
   "outputs": [
    {
     "data": {
      "text/plain": [
       "(34121, 35)"
      ]
     },
     "execution_count": 116,
     "metadata": {},
     "output_type": "execute_result"
    }
   ],
   "source": [
    "df.shape"
   ]
  },
  {
   "cell_type": "markdown",
   "id": "f5c4f5d4",
   "metadata": {},
   "source": [
    "With the describe() method, I can see that in this dataset, there is only a skewed distribution in two columns ('HOSPDAYS' and 'NUMDAYS') by comparing the values of mean and median (50% value). The other columns are normally distributed. Thus, I will start the cleaning process, but first, I will select the principal features that can be useful to anwser the project questions. "
   ]
  },
  {
   "cell_type": "code",
   "execution_count": 117,
   "id": "284ec2c6",
   "metadata": {},
   "outputs": [
    {
     "data": {
      "text/html": [
       "<div>\n",
       "<style scoped>\n",
       "    .dataframe tbody tr th:only-of-type {\n",
       "        vertical-align: middle;\n",
       "    }\n",
       "\n",
       "    .dataframe tbody tr th {\n",
       "        vertical-align: top;\n",
       "    }\n",
       "\n",
       "    .dataframe thead th {\n",
       "        text-align: right;\n",
       "    }\n",
       "</style>\n",
       "<table border=\"1\" class=\"dataframe\">\n",
       "  <thead>\n",
       "    <tr style=\"text-align: right;\">\n",
       "      <th></th>\n",
       "      <th>VAERS_ID</th>\n",
       "      <th>CAGE_YR</th>\n",
       "      <th>HOSPDAYS</th>\n",
       "      <th>NUMDAYS</th>\n",
       "      <th>FORM_VERS</th>\n",
       "    </tr>\n",
       "  </thead>\n",
       "  <tbody>\n",
       "    <tr>\n",
       "      <th>count</th>\n",
       "      <td>3.412100e+04</td>\n",
       "      <td>26716.000000</td>\n",
       "      <td>2857.000000</td>\n",
       "      <td>17738.000000</td>\n",
       "      <td>34121.000000</td>\n",
       "    </tr>\n",
       "    <tr>\n",
       "      <th>mean</th>\n",
       "      <td>4.236210e+05</td>\n",
       "      <td>46.290800</td>\n",
       "      <td>3.554428</td>\n",
       "      <td>29.728267</td>\n",
       "      <td>1.998124</td>\n",
       "    </tr>\n",
       "    <tr>\n",
       "      <th>std</th>\n",
       "      <td>4.146203e+05</td>\n",
       "      <td>22.466735</td>\n",
       "      <td>3.671364</td>\n",
       "      <td>768.794004</td>\n",
       "      <td>0.043269</td>\n",
       "    </tr>\n",
       "    <tr>\n",
       "      <th>min</th>\n",
       "      <td>1.000000e+00</td>\n",
       "      <td>1.000000</td>\n",
       "      <td>1.000000</td>\n",
       "      <td>1.000000</td>\n",
       "      <td>1.000000</td>\n",
       "    </tr>\n",
       "    <tr>\n",
       "      <th>25%</th>\n",
       "      <td>9.265500e+04</td>\n",
       "      <td>32.000000</td>\n",
       "      <td>1.000000</td>\n",
       "      <td>1.000000</td>\n",
       "      <td>2.000000</td>\n",
       "    </tr>\n",
       "    <tr>\n",
       "      <th>50%</th>\n",
       "      <td>1.517760e+05</td>\n",
       "      <td>46.000000</td>\n",
       "      <td>2.000000</td>\n",
       "      <td>2.000000</td>\n",
       "      <td>2.000000</td>\n",
       "    </tr>\n",
       "    <tr>\n",
       "      <th>75%</th>\n",
       "      <td>9.253510e+05</td>\n",
       "      <td>62.000000</td>\n",
       "      <td>4.000000</td>\n",
       "      <td>7.000000</td>\n",
       "      <td>2.000000</td>\n",
       "    </tr>\n",
       "    <tr>\n",
       "      <th>max</th>\n",
       "      <td>1.115348e+06</td>\n",
       "      <td>99.000000</td>\n",
       "      <td>39.000000</td>\n",
       "      <td>36896.000000</td>\n",
       "      <td>2.000000</td>\n",
       "    </tr>\n",
       "  </tbody>\n",
       "</table>\n",
       "</div>"
      ],
      "text/plain": [
       "           VAERS_ID       CAGE_YR     HOSPDAYS       NUMDAYS     FORM_VERS\n",
       "count  3.412100e+04  26716.000000  2857.000000  17738.000000  34121.000000\n",
       "mean   4.236210e+05     46.290800     3.554428     29.728267      1.998124\n",
       "std    4.146203e+05     22.466735     3.671364    768.794004      0.043269\n",
       "min    1.000000e+00      1.000000     1.000000      1.000000      1.000000\n",
       "25%    9.265500e+04     32.000000     1.000000      1.000000      2.000000\n",
       "50%    1.517760e+05     46.000000     2.000000      2.000000      2.000000\n",
       "75%    9.253510e+05     62.000000     4.000000      7.000000      2.000000\n",
       "max    1.115348e+06     99.000000    39.000000  36896.000000      2.000000"
      ]
     },
     "execution_count": 117,
     "metadata": {},
     "output_type": "execute_result"
    }
   ],
   "source": [
    "df.describe()"
   ]
  },
  {
   "cell_type": "markdown",
   "id": "f1a96f5a",
   "metadata": {},
   "source": [
    "## Cleaning data"
   ]
  },
  {
   "cell_type": "markdown",
   "id": "927d2c7d",
   "metadata": {},
   "source": [
    "To start the cleaning process, I will use the method df.info() because it provides a quick overview of the structure and some basic information about the DataFrame, like data type and if there are missing values. In this case, the dataset presents all the values (no missing values). "
   ]
  },
  {
   "cell_type": "code",
   "execution_count": 118,
   "id": "9700b663",
   "metadata": {},
   "outputs": [
    {
     "name": "stdout",
     "output_type": "stream",
     "text": [
      "<class 'pandas.core.frame.DataFrame'>\n",
      "RangeIndex: 34121 entries, 0 to 34120\n",
      "Data columns (total 35 columns):\n",
      " #   Column        Non-Null Count  Dtype  \n",
      "---  ------        --------------  -----  \n",
      " 0   VAERS_ID      34121 non-null  int64  \n",
      " 1   RECVDATE      34121 non-null  object \n",
      " 2   STATE         28550 non-null  object \n",
      " 3   AGE_YRS       30932 non-null  object \n",
      " 4   CAGE_YR       26716 non-null  float64\n",
      " 5   CAGE_MO       18 non-null     object \n",
      " 6   SEX           34121 non-null  object \n",
      " 7   RPT_DATE      63 non-null     object \n",
      " 8   SYMPTOM_TEXT  34107 non-null  object \n",
      " 9   DIED          1957 non-null   object \n",
      " 10  DATEDIED      1798 non-null   object \n",
      " 11  L_THREAT      1259 non-null   object \n",
      " 12  ER_VISIT      11 non-null     object \n",
      " 13  HOSPITAL      4387 non-null   object \n",
      " 14  HOSPDAYS      2857 non-null   float64\n",
      " 15  X_STAY        52 non-null     object \n",
      " 16  DISABLE       870 non-null    object \n",
      " 17  RECOVD        31264 non-null  object \n",
      " 18  VAX_DATE      32622 non-null  object \n",
      " 19  ONSET_DATE    32258 non-null  object \n",
      " 20  NUMDAYS       17738 non-null  float64\n",
      " 21  LAB_DATA      9972 non-null   object \n",
      " 22  V_ADMINBY     34121 non-null  object \n",
      " 23  V_FUNDBY      64 non-null     object \n",
      " 24  OTHER_MEDS    17441 non-null  object \n",
      " 25  CUR_ILL       5923 non-null   object \n",
      " 26  HISTORY       17283 non-null  object \n",
      " 27  PRIOR_VAX     1434 non-null   object \n",
      " 28  SPLTTYPE      8220 non-null   object \n",
      " 29  FORM_VERS     34121 non-null  int64  \n",
      " 30  TODAYS_DATE   33922 non-null  object \n",
      " 31  BIRTH_DEFECT  51 non-null     object \n",
      " 32  OFC_VISIT     5404 non-null   object \n",
      " 33  ER_ED_VISIT   5529 non-null   object \n",
      " 34  ALLERGIES     13076 non-null  object \n",
      "dtypes: float64(3), int64(2), object(30)\n",
      "memory usage: 9.1+ MB\n"
     ]
    }
   ],
   "source": [
    "df.info()"
   ]
  },
  {
   "cell_type": "markdown",
   "id": "b3908ebb",
   "metadata": {},
   "source": [
    "The method below returns True where there is a NaN (Not a Number) value and False otherwise to indicate the presence of missing values. \n",
    "\n",
    "The data use guide (Vaccine Adverse Event Reporting System - VAERS) contains essential information about this dataset, like how it was created and filled, for example, in the 'DIED' column, where they used the letter \"Y\" to indicate that the patient dies and otherwise the field will be blank. Thus, that is the reason why there is NaN in this dataset. In this case, I will transform the NaN in zeros to represent the absence of occurrence.\n",
    "\n",
    "Example of data use guide: DIED - If the vaccine recipient died a \"Y\" is used; otherwise the field will be blank."
   ]
  },
  {
   "cell_type": "code",
   "execution_count": 119,
   "id": "33abacc2",
   "metadata": {},
   "outputs": [
    {
     "data": {
      "text/plain": [
       "VAERS_ID            0\n",
       "RECVDATE            0\n",
       "STATE            5571\n",
       "AGE_YRS          3189\n",
       "CAGE_YR          7405\n",
       "CAGE_MO         34103\n",
       "SEX                 0\n",
       "RPT_DATE        34058\n",
       "SYMPTOM_TEXT       14\n",
       "DIED            32164\n",
       "DATEDIED        32323\n",
       "L_THREAT        32862\n",
       "ER_VISIT        34110\n",
       "HOSPITAL        29734\n",
       "HOSPDAYS        31264\n",
       "X_STAY          34069\n",
       "DISABLE         33251\n",
       "RECOVD           2857\n",
       "VAX_DATE         1499\n",
       "ONSET_DATE       1863\n",
       "NUMDAYS         16383\n",
       "LAB_DATA        24149\n",
       "V_ADMINBY           0\n",
       "V_FUNDBY        34057\n",
       "OTHER_MEDS      16680\n",
       "CUR_ILL         28198\n",
       "HISTORY         16838\n",
       "PRIOR_VAX       32687\n",
       "SPLTTYPE        25901\n",
       "FORM_VERS           0\n",
       "TODAYS_DATE       199\n",
       "BIRTH_DEFECT    34070\n",
       "OFC_VISIT       28717\n",
       "ER_ED_VISIT     28592\n",
       "ALLERGIES       21045\n",
       "dtype: int64"
      ]
     },
     "execution_count": 119,
     "metadata": {},
     "output_type": "execute_result"
    }
   ],
   "source": [
    "df.isnull().sum()"
   ]
  },
  {
   "cell_type": "markdown",
   "id": "6ee041bf",
   "metadata": {},
   "source": [
    "As this dataset is vast, I will use the .value_counts() function in the 'STATE' column to know how many records are in each category and focus on one State that satisfies the minimum requirement of the project. Then, I will create a subset with this category. \n",
    "\n",
    "This code showed me that I can use the CA State alone or enjoy more than one. I prefer to work with the CA because it is a cosmopolitan place with people from different ethnicities, which may reduce the probability of bias."
   ]
  },
  {
   "cell_type": "code",
   "execution_count": 120,
   "id": "060a63d0",
   "metadata": {},
   "outputs": [
    {
     "name": "stdout",
     "output_type": "stream",
     "text": [
      "CA    2577\n",
      "TX    1807\n",
      "NY    1783\n",
      "FL    1654\n",
      "IN    1142\n",
      "IL    1135\n",
      "OH    1072\n",
      "PA    1012\n",
      "MI     921\n",
      "MA     842\n",
      "NJ     836\n",
      "NC     752\n",
      "VA     727\n",
      "MD     693\n",
      "AZ     659\n",
      "WI     649\n",
      "WA     630\n",
      "GA     628\n",
      "CO     617\n",
      "MN     604\n",
      "MO     556\n",
      "TN     526\n",
      "CT     524\n",
      "KY     443\n",
      "OR     363\n",
      "IA     336\n",
      "OK     333\n",
      "LA     317\n",
      "AL     295\n",
      "KS     295\n",
      "SC     286\n",
      "AR     266\n",
      "NE     263\n",
      "MT     262\n",
      "ME     235\n",
      "NM     229\n",
      "UT     229\n",
      "WV     220\n",
      "NH     203\n",
      "NV     197\n",
      "PR     195\n",
      "AK     167\n",
      "ID     157\n",
      "MS     150\n",
      "HI     134\n",
      "SD     116\n",
      "RI     112\n",
      "VT     105\n",
      "ND     101\n",
      "DE      66\n",
      "DC      55\n",
      "WY      53\n",
      "GU       7\n",
      "VI       4\n",
      "MP       3\n",
      "AS       3\n",
      "MH       1\n",
      "FM       1\n",
      "Ca       1\n",
      "XB       1\n",
      "Name: STATE, dtype: int64\n"
     ]
    }
   ],
   "source": [
    "category_counts = df['STATE'].value_counts()\n",
    "print(category_counts)"
   ]
  },
  {
   "cell_type": "markdown",
   "id": "1642f1e3",
   "metadata": {},
   "source": [
    "Below, I will create the subset with the CA category and work with it from now on. This subset will be named as 'df1'."
   ]
  },
  {
   "cell_type": "code",
   "execution_count": 121,
   "id": "b00af18a",
   "metadata": {},
   "outputs": [
    {
     "data": {
      "text/html": [
       "<div>\n",
       "<style scoped>\n",
       "    .dataframe tbody tr th:only-of-type {\n",
       "        vertical-align: middle;\n",
       "    }\n",
       "\n",
       "    .dataframe tbody tr th {\n",
       "        vertical-align: top;\n",
       "    }\n",
       "\n",
       "    .dataframe thead th {\n",
       "        text-align: right;\n",
       "    }\n",
       "</style>\n",
       "<table border=\"1\" class=\"dataframe\">\n",
       "  <thead>\n",
       "    <tr style=\"text-align: right;\">\n",
       "      <th></th>\n",
       "      <th>VAERS_ID</th>\n",
       "      <th>RECVDATE</th>\n",
       "      <th>STATE</th>\n",
       "      <th>AGE_YRS</th>\n",
       "      <th>CAGE_YR</th>\n",
       "      <th>CAGE_MO</th>\n",
       "      <th>SEX</th>\n",
       "      <th>RPT_DATE</th>\n",
       "      <th>SYMPTOM_TEXT</th>\n",
       "      <th>DIED</th>\n",
       "      <th>...</th>\n",
       "      <th>CUR_ILL</th>\n",
       "      <th>HISTORY</th>\n",
       "      <th>PRIOR_VAX</th>\n",
       "      <th>SPLTTYPE</th>\n",
       "      <th>FORM_VERS</th>\n",
       "      <th>TODAYS_DATE</th>\n",
       "      <th>BIRTH_DEFECT</th>\n",
       "      <th>OFC_VISIT</th>\n",
       "      <th>ER_ED_VISIT</th>\n",
       "      <th>ALLERGIES</th>\n",
       "    </tr>\n",
       "  </thead>\n",
       "  <tbody>\n",
       "    <tr>\n",
       "      <th>1390</th>\n",
       "      <td>91661</td>\n",
       "      <td>1/1/221</td>\n",
       "      <td>CA</td>\n",
       "      <td>73</td>\n",
       "      <td>73.0</td>\n",
       "      <td>NaN</td>\n",
       "      <td>F</td>\n",
       "      <td>NaN</td>\n",
       "      <td>Approximately 3 min post vaccition administrat...</td>\n",
       "      <td>NaN</td>\n",
       "      <td>...</td>\n",
       "      <td>U</td>\n",
       "      <td>U</td>\n",
       "      <td>NaN</td>\n",
       "      <td>NaN</td>\n",
       "      <td>2</td>\n",
       "      <td>1/1/221</td>\n",
       "      <td>NaN</td>\n",
       "      <td>Y</td>\n",
       "      <td>NaN</td>\n",
       "      <td>NaN</td>\n",
       "    </tr>\n",
       "    <tr>\n",
       "      <th>1391</th>\n",
       "      <td>916613</td>\n",
       "      <td>1/1/221</td>\n",
       "      <td>CA</td>\n",
       "      <td>4</td>\n",
       "      <td>4.0</td>\n",
       "      <td>NaN</td>\n",
       "      <td>F</td>\n",
       "      <td>NaN</td>\n",
       "      <td>On 12/3/22 I got a pain in the stomach as if s...</td>\n",
       "      <td>NaN</td>\n",
       "      <td>...</td>\n",
       "      <td>NaN</td>\n",
       "      <td>NaN</td>\n",
       "      <td>NaN</td>\n",
       "      <td>NaN</td>\n",
       "      <td>2</td>\n",
       "      <td>1/1/221</td>\n",
       "      <td>NaN</td>\n",
       "      <td>NaN</td>\n",
       "      <td>NaN</td>\n",
       "      <td>Y</td>\n",
       "    </tr>\n",
       "    <tr>\n",
       "      <th>1392</th>\n",
       "      <td>916617</td>\n",
       "      <td>1/1/221</td>\n",
       "      <td>CA</td>\n",
       "      <td>35</td>\n",
       "      <td>35.0</td>\n",
       "      <td>NaN</td>\n",
       "      <td>F</td>\n",
       "      <td>NaN</td>\n",
       "      <td>Dizziness, chills, fever, muscle aches, pain a...</td>\n",
       "      <td>NaN</td>\n",
       "      <td>...</td>\n",
       "      <td>NaN</td>\n",
       "      <td>Y</td>\n",
       "      <td>NaN</td>\n",
       "      <td>NaN</td>\n",
       "      <td>2</td>\n",
       "      <td>1/1/221</td>\n",
       "      <td>NaN</td>\n",
       "      <td>NaN</td>\n",
       "      <td>NaN</td>\n",
       "      <td>Y</td>\n",
       "    </tr>\n",
       "    <tr>\n",
       "      <th>1393</th>\n",
       "      <td>916621</td>\n",
       "      <td>1/1/221</td>\n",
       "      <td>CA</td>\n",
       "      <td>25</td>\n",
       "      <td>25.0</td>\n",
       "      <td>NaN</td>\n",
       "      <td>F</td>\n",
       "      <td>NaN</td>\n",
       "      <td>Fatigue - 2 hours priorU Muscle aches/pain - 3...</td>\n",
       "      <td>NaN</td>\n",
       "      <td>...</td>\n",
       "      <td>NaN</td>\n",
       "      <td>U</td>\n",
       "      <td>NaN</td>\n",
       "      <td>NaN</td>\n",
       "      <td>2</td>\n",
       "      <td>1/1/221</td>\n",
       "      <td>NaN</td>\n",
       "      <td>NaN</td>\n",
       "      <td>NaN</td>\n",
       "      <td>Y</td>\n",
       "    </tr>\n",
       "    <tr>\n",
       "      <th>1394</th>\n",
       "      <td>91669</td>\n",
       "      <td>1/1/221</td>\n",
       "      <td>CA</td>\n",
       "      <td>37</td>\n",
       "      <td>37.0</td>\n",
       "      <td>NaN</td>\n",
       "      <td>M</td>\n",
       "      <td>NaN</td>\n",
       "      <td>Typical sore arm similar to flu shotU Followin...</td>\n",
       "      <td>NaN</td>\n",
       "      <td>...</td>\n",
       "      <td>NaN</td>\n",
       "      <td>NaN</td>\n",
       "      <td>NaN</td>\n",
       "      <td>NaN</td>\n",
       "      <td>2</td>\n",
       "      <td>1/1/221</td>\n",
       "      <td>NaN</td>\n",
       "      <td>NaN</td>\n",
       "      <td>NaN</td>\n",
       "      <td>Y</td>\n",
       "    </tr>\n",
       "  </tbody>\n",
       "</table>\n",
       "<p>5 rows × 35 columns</p>\n",
       "</div>"
      ],
      "text/plain": [
       "      VAERS_ID RECVDATE STATE AGE_YRS  CAGE_YR CAGE_MO SEX RPT_DATE  \\\n",
       "1390     91661  1/1/221    CA      73     73.0     NaN   F      NaN   \n",
       "1391    916613  1/1/221    CA       4      4.0     NaN   F      NaN   \n",
       "1392    916617  1/1/221    CA      35     35.0     NaN   F      NaN   \n",
       "1393    916621  1/1/221    CA      25     25.0     NaN   F      NaN   \n",
       "1394     91669  1/1/221    CA      37     37.0     NaN   M      NaN   \n",
       "\n",
       "                                           SYMPTOM_TEXT DIED  ... CUR_ILL  \\\n",
       "1390  Approximately 3 min post vaccition administrat...  NaN  ...       U   \n",
       "1391  On 12/3/22 I got a pain in the stomach as if s...  NaN  ...     NaN   \n",
       "1392  Dizziness, chills, fever, muscle aches, pain a...  NaN  ...     NaN   \n",
       "1393  Fatigue - 2 hours priorU Muscle aches/pain - 3...  NaN  ...     NaN   \n",
       "1394  Typical sore arm similar to flu shotU Followin...  NaN  ...     NaN   \n",
       "\n",
       "     HISTORY PRIOR_VAX SPLTTYPE  FORM_VERS TODAYS_DATE BIRTH_DEFECT OFC_VISIT  \\\n",
       "1390       U       NaN      NaN          2     1/1/221          NaN         Y   \n",
       "1391     NaN       NaN      NaN          2     1/1/221          NaN       NaN   \n",
       "1392       Y       NaN      NaN          2     1/1/221          NaN       NaN   \n",
       "1393       U       NaN      NaN          2     1/1/221          NaN       NaN   \n",
       "1394     NaN       NaN      NaN          2     1/1/221          NaN       NaN   \n",
       "\n",
       "     ER_ED_VISIT ALLERGIES  \n",
       "1390         NaN       NaN  \n",
       "1391         NaN         Y  \n",
       "1392         NaN         Y  \n",
       "1393         NaN         Y  \n",
       "1394         NaN         Y  \n",
       "\n",
       "[5 rows x 35 columns]"
      ]
     },
     "execution_count": 121,
     "metadata": {},
     "output_type": "execute_result"
    }
   ],
   "source": [
    "by_category = df.groupby('STATE')\n",
    "df1 = by_category.get_group('CA')\n",
    "df1.head()"
   ]
  },
  {
   "cell_type": "code",
   "execution_count": 122,
   "id": "54713b12",
   "metadata": {},
   "outputs": [
    {
     "data": {
      "text/plain": [
       "(2577, 35)"
      ]
     },
     "execution_count": 122,
     "metadata": {},
     "output_type": "execute_result"
    }
   ],
   "source": [
    "df1.shape"
   ]
  },
  {
   "cell_type": "markdown",
   "id": "c4d466a2",
   "metadata": {},
   "source": [
    " I will use the duplicated() method to eliminate records that may be repeated because it can generate misunderstanding conclusions. However in this dataset there is no duplicates as we can see below."
   ]
  },
  {
   "cell_type": "code",
   "execution_count": 123,
   "id": "40330209",
   "metadata": {},
   "outputs": [
    {
     "data": {
      "text/plain": [
       "0"
      ]
     },
     "execution_count": 123,
     "metadata": {},
     "output_type": "execute_result"
    }
   ],
   "source": [
    "df1.duplicated().sum()"
   ]
  },
  {
   "cell_type": "markdown",
   "id": "b809c9d9",
   "metadata": {},
   "source": [
    "I will drop some columns that may not be necessary to answer my question and it could waste time and memory. After dropping, I will nominate the dataset as 'df2'."
   ]
  },
  {
   "cell_type": "code",
   "execution_count": 124,
   "id": "70a6a6c5",
   "metadata": {},
   "outputs": [
    {
     "data": {
      "text/plain": [
       "Index(['VAERS_ID', 'RECVDATE', 'STATE', 'AGE_YRS', 'CAGE_YR', 'CAGE_MO', 'SEX',\n",
       "       'RPT_DATE', 'SYMPTOM_TEXT', 'DIED', 'DATEDIED', 'L_THREAT', 'ER_VISIT',\n",
       "       'HOSPITAL', 'HOSPDAYS', 'X_STAY', 'DISABLE', 'RECOVD', 'VAX_DATE',\n",
       "       'ONSET_DATE', 'NUMDAYS', 'LAB_DATA', 'V_ADMINBY', 'V_FUNDBY',\n",
       "       'OTHER_MEDS', 'CUR_ILL', 'HISTORY', 'PRIOR_VAX', 'SPLTTYPE',\n",
       "       'FORM_VERS', 'TODAYS_DATE', 'BIRTH_DEFECT', 'OFC_VISIT', 'ER_ED_VISIT',\n",
       "       'ALLERGIES'],\n",
       "      dtype='object')"
      ]
     },
     "execution_count": 124,
     "metadata": {},
     "output_type": "execute_result"
    }
   ],
   "source": [
    "df1.columns"
   ]
  },
  {
   "cell_type": "code",
   "execution_count": 125,
   "id": "7541178b",
   "metadata": {
    "scrolled": true
   },
   "outputs": [
    {
     "data": {
      "text/html": [
       "<div>\n",
       "<style scoped>\n",
       "    .dataframe tbody tr th:only-of-type {\n",
       "        vertical-align: middle;\n",
       "    }\n",
       "\n",
       "    .dataframe tbody tr th {\n",
       "        vertical-align: top;\n",
       "    }\n",
       "\n",
       "    .dataframe thead th {\n",
       "        text-align: right;\n",
       "    }\n",
       "</style>\n",
       "<table border=\"1\" class=\"dataframe\">\n",
       "  <thead>\n",
       "    <tr style=\"text-align: right;\">\n",
       "      <th></th>\n",
       "      <th>AGE_YRS</th>\n",
       "      <th>SEX</th>\n",
       "      <th>DIED</th>\n",
       "      <th>DISABLE</th>\n",
       "      <th>NUMDAYS</th>\n",
       "      <th>CUR_ILL</th>\n",
       "      <th>HISTORY</th>\n",
       "      <th>ALLERGIES</th>\n",
       "    </tr>\n",
       "  </thead>\n",
       "  <tbody>\n",
       "    <tr>\n",
       "      <th>1390</th>\n",
       "      <td>73</td>\n",
       "      <td>F</td>\n",
       "      <td>NaN</td>\n",
       "      <td>NaN</td>\n",
       "      <td>NaN</td>\n",
       "      <td>U</td>\n",
       "      <td>U</td>\n",
       "      <td>NaN</td>\n",
       "    </tr>\n",
       "    <tr>\n",
       "      <th>1391</th>\n",
       "      <td>4</td>\n",
       "      <td>F</td>\n",
       "      <td>NaN</td>\n",
       "      <td>NaN</td>\n",
       "      <td>NaN</td>\n",
       "      <td>NaN</td>\n",
       "      <td>NaN</td>\n",
       "      <td>Y</td>\n",
       "    </tr>\n",
       "    <tr>\n",
       "      <th>1392</th>\n",
       "      <td>35</td>\n",
       "      <td>F</td>\n",
       "      <td>NaN</td>\n",
       "      <td>NaN</td>\n",
       "      <td>NaN</td>\n",
       "      <td>NaN</td>\n",
       "      <td>Y</td>\n",
       "      <td>Y</td>\n",
       "    </tr>\n",
       "    <tr>\n",
       "      <th>1393</th>\n",
       "      <td>25</td>\n",
       "      <td>F</td>\n",
       "      <td>NaN</td>\n",
       "      <td>NaN</td>\n",
       "      <td>NaN</td>\n",
       "      <td>NaN</td>\n",
       "      <td>U</td>\n",
       "      <td>Y</td>\n",
       "    </tr>\n",
       "    <tr>\n",
       "      <th>1394</th>\n",
       "      <td>37</td>\n",
       "      <td>M</td>\n",
       "      <td>NaN</td>\n",
       "      <td>NaN</td>\n",
       "      <td>1.0</td>\n",
       "      <td>NaN</td>\n",
       "      <td>NaN</td>\n",
       "      <td>Y</td>\n",
       "    </tr>\n",
       "  </tbody>\n",
       "</table>\n",
       "</div>"
      ],
      "text/plain": [
       "     AGE_YRS SEX DIED DISABLE  NUMDAYS CUR_ILL HISTORY ALLERGIES\n",
       "1390      73   F  NaN     NaN      NaN       U       U       NaN\n",
       "1391       4   F  NaN     NaN      NaN     NaN     NaN         Y\n",
       "1392      35   F  NaN     NaN      NaN     NaN       Y         Y\n",
       "1393      25   F  NaN     NaN      NaN     NaN       U         Y\n",
       "1394      37   M  NaN     NaN      1.0     NaN     NaN         Y"
      ]
     },
     "execution_count": 125,
     "metadata": {},
     "output_type": "execute_result"
    }
   ],
   "source": [
    "df2 = df1.drop(columns=['VAERS_ID', 'RECVDATE', 'STATE', 'CAGE_YR', 'CAGE_MO', 'RPT_DATE', 'SYMPTOM_TEXT', 'DATEDIED', 'L_THREAT', 'ER_VISIT',\n",
    "       'HOSPITAL', 'HOSPDAYS', 'X_STAY', 'RECOVD', 'VAX_DATE',\n",
    "       'ONSET_DATE', 'LAB_DATA', 'V_ADMINBY', 'V_FUNDBY',\n",
    "       'OTHER_MEDS', 'PRIOR_VAX', 'SPLTTYPE',\n",
    "       'FORM_VERS', 'TODAYS_DATE', 'BIRTH_DEFECT', 'OFC_VISIT', 'ER_ED_VISIT'])\n",
    "df2.head()"
   ]
  },
  {
   "cell_type": "code",
   "execution_count": 126,
   "id": "37e87e0d",
   "metadata": {},
   "outputs": [
    {
     "data": {
      "text/plain": [
       "(2577, 8)"
      ]
     },
     "execution_count": 126,
     "metadata": {},
     "output_type": "execute_result"
    }
   ],
   "source": [
    "df2.shape"
   ]
  },
  {
   "cell_type": "code",
   "execution_count": 127,
   "id": "b9716e8d",
   "metadata": {},
   "outputs": [
    {
     "data": {
      "text/plain": [
       "AGE_YRS       object\n",
       "SEX           object\n",
       "DIED          object\n",
       "DISABLE       object\n",
       "NUMDAYS      float64\n",
       "CUR_ILL       object\n",
       "HISTORY       object\n",
       "ALLERGIES     object\n",
       "dtype: object"
      ]
     },
     "execution_count": 127,
     "metadata": {},
     "output_type": "execute_result"
    }
   ],
   "source": [
    "df2.dtypes"
   ]
  },
  {
   "cell_type": "code",
   "execution_count": 128,
   "id": "752f22cb",
   "metadata": {
    "scrolled": true
   },
   "outputs": [
    {
     "data": {
      "text/html": [
       "<div>\n",
       "<style scoped>\n",
       "    .dataframe tbody tr th:only-of-type {\n",
       "        vertical-align: middle;\n",
       "    }\n",
       "\n",
       "    .dataframe tbody tr th {\n",
       "        vertical-align: top;\n",
       "    }\n",
       "\n",
       "    .dataframe thead th {\n",
       "        text-align: right;\n",
       "    }\n",
       "</style>\n",
       "<table border=\"1\" class=\"dataframe\">\n",
       "  <thead>\n",
       "    <tr style=\"text-align: right;\">\n",
       "      <th></th>\n",
       "      <th>NUMDAYS</th>\n",
       "    </tr>\n",
       "  </thead>\n",
       "  <tbody>\n",
       "    <tr>\n",
       "      <th>count</th>\n",
       "      <td>1318.000000</td>\n",
       "    </tr>\n",
       "    <tr>\n",
       "      <th>mean</th>\n",
       "      <td>8.770865</td>\n",
       "    </tr>\n",
       "    <tr>\n",
       "      <th>std</th>\n",
       "      <td>83.141858</td>\n",
       "    </tr>\n",
       "    <tr>\n",
       "      <th>min</th>\n",
       "      <td>1.000000</td>\n",
       "    </tr>\n",
       "    <tr>\n",
       "      <th>25%</th>\n",
       "      <td>1.000000</td>\n",
       "    </tr>\n",
       "    <tr>\n",
       "      <th>50%</th>\n",
       "      <td>2.000000</td>\n",
       "    </tr>\n",
       "    <tr>\n",
       "      <th>75%</th>\n",
       "      <td>7.000000</td>\n",
       "    </tr>\n",
       "    <tr>\n",
       "      <th>max</th>\n",
       "      <td>2399.000000</td>\n",
       "    </tr>\n",
       "  </tbody>\n",
       "</table>\n",
       "</div>"
      ],
      "text/plain": [
       "           NUMDAYS\n",
       "count  1318.000000\n",
       "mean      8.770865\n",
       "std      83.141858\n",
       "min       1.000000\n",
       "25%       1.000000\n",
       "50%       2.000000\n",
       "75%       7.000000\n",
       "max    2399.000000"
      ]
     },
     "execution_count": 128,
     "metadata": {},
     "output_type": "execute_result"
    }
   ],
   "source": [
    "df2.describe()"
   ]
  },
  {
   "cell_type": "markdown",
   "id": "3bde3637",
   "metadata": {},
   "source": [
    "I am using the function .isnull().sum() to calculate the numbers of missing (null and NaN) values in all columns of the dataset. "
   ]
  },
  {
   "cell_type": "code",
   "execution_count": 129,
   "id": "34671456",
   "metadata": {
    "scrolled": true
   },
   "outputs": [
    {
     "data": {
      "text/plain": [
       "AGE_YRS       187\n",
       "SEX             0\n",
       "DIED         2422\n",
       "DISABLE      2471\n",
       "NUMDAYS      1259\n",
       "CUR_ILL      2096\n",
       "HISTORY      1148\n",
       "ALLERGIES    1768\n",
       "dtype: int64"
      ]
     },
     "execution_count": 129,
     "metadata": {},
     "output_type": "execute_result"
    }
   ],
   "source": [
    "df2.isnull().sum()"
   ]
  },
  {
   "cell_type": "markdown",
   "id": "efa6e626",
   "metadata": {},
   "source": [
    "Below, I am using the method .fillna() to replace the NaN with zero values."
   ]
  },
  {
   "cell_type": "code",
   "execution_count": 130,
   "id": "a8a1507e",
   "metadata": {},
   "outputs": [],
   "source": [
    "df2.fillna(0, inplace=True)"
   ]
  },
  {
   "cell_type": "code",
   "execution_count": 131,
   "id": "97b28ee0",
   "metadata": {
    "scrolled": false
   },
   "outputs": [
    {
     "data": {
      "text/html": [
       "<div>\n",
       "<style scoped>\n",
       "    .dataframe tbody tr th:only-of-type {\n",
       "        vertical-align: middle;\n",
       "    }\n",
       "\n",
       "    .dataframe tbody tr th {\n",
       "        vertical-align: top;\n",
       "    }\n",
       "\n",
       "    .dataframe thead th {\n",
       "        text-align: right;\n",
       "    }\n",
       "</style>\n",
       "<table border=\"1\" class=\"dataframe\">\n",
       "  <thead>\n",
       "    <tr style=\"text-align: right;\">\n",
       "      <th></th>\n",
       "      <th>AGE_YRS</th>\n",
       "      <th>SEX</th>\n",
       "      <th>DIED</th>\n",
       "      <th>DISABLE</th>\n",
       "      <th>NUMDAYS</th>\n",
       "      <th>CUR_ILL</th>\n",
       "      <th>HISTORY</th>\n",
       "      <th>ALLERGIES</th>\n",
       "    </tr>\n",
       "  </thead>\n",
       "  <tbody>\n",
       "    <tr>\n",
       "      <th>1390</th>\n",
       "      <td>73</td>\n",
       "      <td>F</td>\n",
       "      <td>0</td>\n",
       "      <td>0</td>\n",
       "      <td>0.0</td>\n",
       "      <td>U</td>\n",
       "      <td>U</td>\n",
       "      <td>0</td>\n",
       "    </tr>\n",
       "    <tr>\n",
       "      <th>1391</th>\n",
       "      <td>4</td>\n",
       "      <td>F</td>\n",
       "      <td>0</td>\n",
       "      <td>0</td>\n",
       "      <td>0.0</td>\n",
       "      <td>0</td>\n",
       "      <td>0</td>\n",
       "      <td>Y</td>\n",
       "    </tr>\n",
       "    <tr>\n",
       "      <th>1392</th>\n",
       "      <td>35</td>\n",
       "      <td>F</td>\n",
       "      <td>0</td>\n",
       "      <td>0</td>\n",
       "      <td>0.0</td>\n",
       "      <td>0</td>\n",
       "      <td>Y</td>\n",
       "      <td>Y</td>\n",
       "    </tr>\n",
       "    <tr>\n",
       "      <th>1393</th>\n",
       "      <td>25</td>\n",
       "      <td>F</td>\n",
       "      <td>0</td>\n",
       "      <td>0</td>\n",
       "      <td>0.0</td>\n",
       "      <td>0</td>\n",
       "      <td>U</td>\n",
       "      <td>Y</td>\n",
       "    </tr>\n",
       "    <tr>\n",
       "      <th>1394</th>\n",
       "      <td>37</td>\n",
       "      <td>M</td>\n",
       "      <td>0</td>\n",
       "      <td>0</td>\n",
       "      <td>1.0</td>\n",
       "      <td>0</td>\n",
       "      <td>0</td>\n",
       "      <td>Y</td>\n",
       "    </tr>\n",
       "  </tbody>\n",
       "</table>\n",
       "</div>"
      ],
      "text/plain": [
       "     AGE_YRS SEX DIED DISABLE  NUMDAYS CUR_ILL HISTORY ALLERGIES\n",
       "1390      73   F    0       0      0.0       U       U         0\n",
       "1391       4   F    0       0      0.0       0       0         Y\n",
       "1392      35   F    0       0      0.0       0       Y         Y\n",
       "1393      25   F    0       0      0.0       0       U         Y\n",
       "1394      37   M    0       0      1.0       0       0         Y"
      ]
     },
     "execution_count": 131,
     "metadata": {},
     "output_type": "execute_result"
    }
   ],
   "source": [
    "df2.head()"
   ]
  },
  {
   "cell_type": "markdown",
   "id": "d95f349d",
   "metadata": {},
   "source": [
    "I replaced all sentences reported in 'CUR_ILL', 'HISTORY', and 'ALLERGIES' with blank space, meaning the absence of the occurrence, 'U' when it was not informed, and 'Y' in the case in which the patient related any occurrence (from mild to several), thus, in this study, I will not make distinguish of the degree of illnesses or allergies. Below, I will present a dictionary with the replacement numbers to make possible the recognition by the models."
   ]
  },
  {
   "cell_type": "markdown",
   "id": "6cdad552",
   "metadata": {},
   "source": [
    "# Random Forest model\n",
    "\n",
    "I chose to work with Random Forests, a supervised machine learning model because it is considered a robust method that combines multiple machine learning algorithms and is effective for classification and regression. It does not need heavy tunning of the parameters to achieve great accuracy. It can avoid or reduce overfitting by doing an average of many trees with a random subset by bootstrap sampling (Müller and Guido, 2017, p.83-87).\n",
    "\n",
    "However, this model performs poorly in high dimensional, sparse, and text data (Müller and Guido, 2017, p.88). That is why I am preprocessing the data using the function .replace() to convert categorical data to numerical for all features.\n",
    "\n",
    "Another advantage of using this model is that the class_weight parameter considers the same weight for all classes, which can reduce imbalanced class distribution in the training data."
   ]
  },
  {
   "cell_type": "markdown",
   "id": "6e0382ff",
   "metadata": {},
   "source": [
    "## Pre-processing"
   ]
  },
  {
   "cell_type": "code",
   "execution_count": 20,
   "id": "9925d207",
   "metadata": {},
   "outputs": [
    {
     "data": {
      "text/html": [
       "<div>\n",
       "<style scoped>\n",
       "    .dataframe tbody tr th:only-of-type {\n",
       "        vertical-align: middle;\n",
       "    }\n",
       "\n",
       "    .dataframe tbody tr th {\n",
       "        vertical-align: top;\n",
       "    }\n",
       "\n",
       "    .dataframe thead th {\n",
       "        text-align: right;\n",
       "    }\n",
       "</style>\n",
       "<table border=\"1\" class=\"dataframe\">\n",
       "  <thead>\n",
       "    <tr style=\"text-align: right;\">\n",
       "      <th></th>\n",
       "      <th>AGE_YRS</th>\n",
       "      <th>SEX</th>\n",
       "      <th>DIED</th>\n",
       "      <th>DISABLE</th>\n",
       "      <th>NUMDAYS</th>\n",
       "      <th>CUR_ILL</th>\n",
       "      <th>HISTORY</th>\n",
       "      <th>ALLERGIES</th>\n",
       "    </tr>\n",
       "  </thead>\n",
       "  <tbody>\n",
       "    <tr>\n",
       "      <th>1390</th>\n",
       "      <td>73</td>\n",
       "      <td>F</td>\n",
       "      <td>0</td>\n",
       "      <td>0</td>\n",
       "      <td>0.0</td>\n",
       "      <td>U</td>\n",
       "      <td>U</td>\n",
       "      <td>0</td>\n",
       "    </tr>\n",
       "    <tr>\n",
       "      <th>1391</th>\n",
       "      <td>4</td>\n",
       "      <td>F</td>\n",
       "      <td>0</td>\n",
       "      <td>0</td>\n",
       "      <td>0.0</td>\n",
       "      <td>0</td>\n",
       "      <td>0</td>\n",
       "      <td>Y</td>\n",
       "    </tr>\n",
       "    <tr>\n",
       "      <th>1392</th>\n",
       "      <td>35</td>\n",
       "      <td>F</td>\n",
       "      <td>0</td>\n",
       "      <td>0</td>\n",
       "      <td>0.0</td>\n",
       "      <td>0</td>\n",
       "      <td>Y</td>\n",
       "      <td>Y</td>\n",
       "    </tr>\n",
       "    <tr>\n",
       "      <th>1393</th>\n",
       "      <td>25</td>\n",
       "      <td>F</td>\n",
       "      <td>0</td>\n",
       "      <td>0</td>\n",
       "      <td>0.0</td>\n",
       "      <td>0</td>\n",
       "      <td>U</td>\n",
       "      <td>Y</td>\n",
       "    </tr>\n",
       "    <tr>\n",
       "      <th>1394</th>\n",
       "      <td>37</td>\n",
       "      <td>M</td>\n",
       "      <td>0</td>\n",
       "      <td>0</td>\n",
       "      <td>1.0</td>\n",
       "      <td>0</td>\n",
       "      <td>0</td>\n",
       "      <td>Y</td>\n",
       "    </tr>\n",
       "  </tbody>\n",
       "</table>\n",
       "</div>"
      ],
      "text/plain": [
       "     AGE_YRS SEX DIED DISABLE  NUMDAYS CUR_ILL HISTORY ALLERGIES\n",
       "1390      73   F    0       0      0.0       U       U         0\n",
       "1391       4   F    0       0      0.0       0       0         Y\n",
       "1392      35   F    0       0      0.0       0       Y         Y\n",
       "1393      25   F    0       0      0.0       0       U         Y\n",
       "1394      37   M    0       0      1.0       0       0         Y"
      ]
     },
     "execution_count": 20,
     "metadata": {},
     "output_type": "execute_result"
    }
   ],
   "source": [
    "df_rf = df2.copy()\n",
    "df_rf.head()"
   ]
  },
  {
   "cell_type": "code",
   "execution_count": 21,
   "id": "1e1c0f3f",
   "metadata": {},
   "outputs": [],
   "source": [
    "df_rf[\"DIED\"].replace('0', 0, inplace=True)\n",
    "df_rf[\"DIED\"].replace('Y', 1, inplace=True)"
   ]
  },
  {
   "cell_type": "code",
   "execution_count": 22,
   "id": "b4c6f97a",
   "metadata": {
    "scrolled": true
   },
   "outputs": [
    {
     "data": {
      "text/plain": [
       "0    2422\n",
       "1     155\n",
       "Name: DIED, dtype: int64"
      ]
     },
     "execution_count": 22,
     "metadata": {},
     "output_type": "execute_result"
    }
   ],
   "source": [
    "df_rf[\"DIED\"].value_counts()"
   ]
  },
  {
   "cell_type": "code",
   "execution_count": 23,
   "id": "cb4b65f6",
   "metadata": {},
   "outputs": [],
   "source": [
    "df_rf[\"SEX\"].replace('F', 0, inplace=True)\n",
    "df_rf[\"SEX\"].replace('M', 1, inplace=True)\n",
    "df_rf[\"SEX\"].replace('U', 2, inplace=True)"
   ]
  },
  {
   "cell_type": "code",
   "execution_count": 24,
   "id": "c225b992",
   "metadata": {
    "scrolled": false
   },
   "outputs": [
    {
     "data": {
      "text/plain": [
       "0    1837\n",
       "1     677\n",
       "2      63\n",
       "Name: SEX, dtype: int64"
      ]
     },
     "execution_count": 24,
     "metadata": {},
     "output_type": "execute_result"
    }
   ],
   "source": [
    "df_rf[\"SEX\"].value_counts()"
   ]
  },
  {
   "cell_type": "code",
   "execution_count": 25,
   "id": "c1d0da5c",
   "metadata": {},
   "outputs": [],
   "source": [
    "df_rf[\"DISABLE\"].replace('0', 0, inplace=True)\n",
    "df_rf[\"DISABLE\"].replace('Y', 1, inplace=True)"
   ]
  },
  {
   "cell_type": "code",
   "execution_count": 26,
   "id": "7c533114",
   "metadata": {},
   "outputs": [
    {
     "data": {
      "text/plain": [
       "0    2471\n",
       "1     106\n",
       "Name: DISABLE, dtype: int64"
      ]
     },
     "execution_count": 26,
     "metadata": {},
     "output_type": "execute_result"
    }
   ],
   "source": [
    "df_rf[\"DISABLE\"].value_counts()"
   ]
  },
  {
   "cell_type": "code",
   "execution_count": 27,
   "id": "0f09e78a",
   "metadata": {},
   "outputs": [],
   "source": [
    "df_rf[\"CUR_ILL\"].replace('0', 0, inplace=True)\n",
    "df_rf[\"CUR_ILL\"].replace('Y', 1, inplace=True)\n",
    "df_rf[\"CUR_ILL\"].replace('U', 2, inplace=True)"
   ]
  },
  {
   "cell_type": "code",
   "execution_count": 28,
   "id": "404c0b7c",
   "metadata": {},
   "outputs": [
    {
     "data": {
      "text/plain": [
       "0    2096\n",
       "1     349\n",
       "2     132\n",
       "Name: CUR_ILL, dtype: int64"
      ]
     },
     "execution_count": 28,
     "metadata": {},
     "output_type": "execute_result"
    }
   ],
   "source": [
    "df_rf[\"CUR_ILL\"].value_counts()"
   ]
  },
  {
   "cell_type": "code",
   "execution_count": 29,
   "id": "18c8c5b2",
   "metadata": {},
   "outputs": [],
   "source": [
    "df_rf[\"HISTORY\"].replace('0', 0, inplace=True)\n",
    "df_rf[\"HISTORY\"].replace('Y', 1, inplace=True)\n",
    "df_rf[\"HISTORY\"].replace('U', 2, inplace=True)"
   ]
  },
  {
   "cell_type": "code",
   "execution_count": 30,
   "id": "5b4180c5",
   "metadata": {},
   "outputs": [
    {
     "data": {
      "text/plain": [
       "1    1321\n",
       "0    1148\n",
       "2     108\n",
       "Name: HISTORY, dtype: int64"
      ]
     },
     "execution_count": 30,
     "metadata": {},
     "output_type": "execute_result"
    }
   ],
   "source": [
    "df_rf[\"HISTORY\"].value_counts()"
   ]
  },
  {
   "cell_type": "code",
   "execution_count": 31,
   "id": "0c79c605",
   "metadata": {},
   "outputs": [],
   "source": [
    "df_rf[\"ALLERGIES\"].replace('0', 0, inplace=True)\n",
    "df_rf[\"ALLERGIES\"].replace('Y', 1, inplace=True)\n",
    "df_rf[\"ALLERGIES\"].replace('U', 2, inplace=True)"
   ]
  },
  {
   "cell_type": "code",
   "execution_count": 32,
   "id": "08345931",
   "metadata": {},
   "outputs": [
    {
     "data": {
      "text/plain": [
       "0    1768\n",
       "1     717\n",
       "2      92\n",
       "Name: ALLERGIES, dtype: int64"
      ]
     },
     "execution_count": 32,
     "metadata": {},
     "output_type": "execute_result"
    }
   ],
   "source": [
    "df_rf[\"ALLERGIES\"].value_counts()"
   ]
  },
  {
   "cell_type": "code",
   "execution_count": 33,
   "id": "afac10aa",
   "metadata": {},
   "outputs": [],
   "source": [
    "# Convert the values in the 'AGE_YRS' column to floats\n",
    "df_rf['AGE_YRS'] = df_rf['AGE_YRS'].astype(float)"
   ]
  },
  {
   "cell_type": "code",
   "execution_count": 34,
   "id": "df31f3a2",
   "metadata": {},
   "outputs": [
    {
     "data": {
      "text/plain": [
       "AGE_YRS      float64\n",
       "SEX            int64\n",
       "DIED           int64\n",
       "DISABLE        int64\n",
       "NUMDAYS      float64\n",
       "CUR_ILL        int64\n",
       "HISTORY        int64\n",
       "ALLERGIES      int64\n",
       "dtype: object"
      ]
     },
     "execution_count": 34,
     "metadata": {},
     "output_type": "execute_result"
    }
   ],
   "source": [
    "df_rf.dtypes"
   ]
  },
  {
   "cell_type": "code",
   "execution_count": 35,
   "id": "75829ffb",
   "metadata": {
    "scrolled": true
   },
   "outputs": [
    {
     "data": {
      "text/html": [
       "<div>\n",
       "<style scoped>\n",
       "    .dataframe tbody tr th:only-of-type {\n",
       "        vertical-align: middle;\n",
       "    }\n",
       "\n",
       "    .dataframe tbody tr th {\n",
       "        vertical-align: top;\n",
       "    }\n",
       "\n",
       "    .dataframe thead th {\n",
       "        text-align: right;\n",
       "    }\n",
       "</style>\n",
       "<table border=\"1\" class=\"dataframe\">\n",
       "  <thead>\n",
       "    <tr style=\"text-align: right;\">\n",
       "      <th></th>\n",
       "      <th>AGE_YRS</th>\n",
       "      <th>SEX</th>\n",
       "      <th>DIED</th>\n",
       "      <th>DISABLE</th>\n",
       "      <th>NUMDAYS</th>\n",
       "      <th>CUR_ILL</th>\n",
       "      <th>HISTORY</th>\n",
       "      <th>ALLERGIES</th>\n",
       "    </tr>\n",
       "  </thead>\n",
       "  <tbody>\n",
       "    <tr>\n",
       "      <th>1390</th>\n",
       "      <td>73.0</td>\n",
       "      <td>0</td>\n",
       "      <td>0</td>\n",
       "      <td>0</td>\n",
       "      <td>0.0</td>\n",
       "      <td>2</td>\n",
       "      <td>2</td>\n",
       "      <td>0</td>\n",
       "    </tr>\n",
       "    <tr>\n",
       "      <th>1391</th>\n",
       "      <td>4.0</td>\n",
       "      <td>0</td>\n",
       "      <td>0</td>\n",
       "      <td>0</td>\n",
       "      <td>0.0</td>\n",
       "      <td>0</td>\n",
       "      <td>0</td>\n",
       "      <td>1</td>\n",
       "    </tr>\n",
       "    <tr>\n",
       "      <th>1392</th>\n",
       "      <td>35.0</td>\n",
       "      <td>0</td>\n",
       "      <td>0</td>\n",
       "      <td>0</td>\n",
       "      <td>0.0</td>\n",
       "      <td>0</td>\n",
       "      <td>1</td>\n",
       "      <td>1</td>\n",
       "    </tr>\n",
       "    <tr>\n",
       "      <th>1393</th>\n",
       "      <td>25.0</td>\n",
       "      <td>0</td>\n",
       "      <td>0</td>\n",
       "      <td>0</td>\n",
       "      <td>0.0</td>\n",
       "      <td>0</td>\n",
       "      <td>2</td>\n",
       "      <td>1</td>\n",
       "    </tr>\n",
       "    <tr>\n",
       "      <th>1394</th>\n",
       "      <td>37.0</td>\n",
       "      <td>1</td>\n",
       "      <td>0</td>\n",
       "      <td>0</td>\n",
       "      <td>1.0</td>\n",
       "      <td>0</td>\n",
       "      <td>0</td>\n",
       "      <td>1</td>\n",
       "    </tr>\n",
       "  </tbody>\n",
       "</table>\n",
       "</div>"
      ],
      "text/plain": [
       "      AGE_YRS  SEX  DIED  DISABLE  NUMDAYS  CUR_ILL  HISTORY  ALLERGIES\n",
       "1390     73.0    0     0        0      0.0        2        2          0\n",
       "1391      4.0    0     0        0      0.0        0        0          1\n",
       "1392     35.0    0     0        0      0.0        0        1          1\n",
       "1393     25.0    0     0        0      0.0        0        2          1\n",
       "1394     37.0    1     0        0      1.0        0        0          1"
      ]
     },
     "execution_count": 35,
     "metadata": {},
     "output_type": "execute_result"
    }
   ],
   "source": [
    "df_rf.head()"
   ]
  },
  {
   "cell_type": "markdown",
   "id": "c570af20",
   "metadata": {},
   "source": [
    "#### Data Dictionary - dataset (df_rf):\n",
    "\n",
    "1. AGE_YRS: The recorded vaccine recipient's age in years.\n",
    "\n",
    "2. SEX: Sex of the vaccine recipient (M = Male, F = Female, Unknown = Blank). (1 = Male, 0 = Female, 2 = Unknown).\n",
    "\n",
    "3. DIED: If the vaccine recipient died a \"Y\" is used; otherwise the field will be blank. (0 = Alive, 1 = Died)\n",
    "\n",
    "4. DISABLE: If the vaccine recipient was disabled as a result of the vaccination a \"Y\" is placed in this field; otherwise the field will be blank. (0 = not disabled, 1 = disabled)\n",
    "\n",
    "5. NUMDAYS: The calculated interval (in days) from the vaccination date to the onset date.\n",
    "\n",
    "6. CUR_ILL: presence of any illnesses at the vaccination time is represented by the letter 'Y', otherwise, blank space for not occurrence, and 'U' for unknown. (0 = Not occurrence, 1 = Occurrence, 2 = Unknown)\n",
    "\n",
    "7. HISTORY: presence of any pre-existing physician-diagnosed congenital disabilities or medical condition at the vaccination time is represented by the letter 'Y', otherwise, blank space for not occurrence, and 'U' for unknown. (0 = Not occurrence, 1 = Occurrence, 2 = Unknown)\n",
    "\n",
    "8. ALLERGIES: presence of any pre-existing physician-diagnosed allergies at the vaccination time is represented by the letter 'Y', otherwise, blank space for not occurrence, and 'U' for unknown. (0 = Not occurrence, 1 = Occurrence, 2 = Unknown)"
   ]
  },
  {
   "cell_type": "markdown",
   "id": "ac966e72",
   "metadata": {},
   "source": [
    "## Model implementation - Random Forest"
   ]
  },
  {
   "cell_type": "code",
   "execution_count": 135,
   "id": "42a8cc58",
   "metadata": {},
   "outputs": [],
   "source": [
    "from sklearn.ensemble import RandomForestClassifier    \n",
    "from sklearn.model_selection import train_test_split \n",
    "from sklearn import metrics                         "
   ]
  },
  {
   "cell_type": "code",
   "execution_count": 287,
   "id": "3e40a860",
   "metadata": {},
   "outputs": [
    {
     "data": {
      "text/plain": [
       "((2577, 7), (2577, 7), (2061, 7), (516, 7), (2061,), (516,))"
      ]
     },
     "execution_count": 287,
     "metadata": {},
     "output_type": "execute_result"
    }
   ],
   "source": [
    "X = df_rf.drop('DIED', axis=1) \n",
    "y = df_rf['DIED']\n",
    "\n",
    "# Split dataset into training set and test set\n",
    "X_train, X_test, y_train, y_test = train_test_split(X, y, test_size = 0.2,  random_state = 51)\n",
    "X.shape, X.shape,X_train.shape, X_test.shape, y_train.shape, y_test.shape"
   ]
  },
  {
   "cell_type": "markdown",
   "id": "bf511380",
   "metadata": {},
   "source": [
    "### Hyperparameters\n",
    "As mentioned above, this model performs well without heavy tunning of the parameters. The principal parameters are n_estimatores, max_features, and max_depth (Müller and Guido, 2017, p.88). The first is the number of trees; the more significant this number is, the smaller the overfitting. I chose to experiment with the 100 (default) and 1000.\n",
    "The second parameter determines how random each tree is; by default, I use the 'sqrt(n_features)', which is suitable for classification. The max_depth parameter is the maximum depth of the tree, and in this case, I am using 'None' (default), which means that the nodes expand until all leaves are pure or until all leaves contain less than min_samples_split samples (Scikit-learn.org, 2012). "
   ]
  },
  {
   "cell_type": "code",
   "execution_count": 288,
   "id": "073472b1",
   "metadata": {},
   "outputs": [],
   "source": [
    "#Random Forest Classifier\n",
    "clf_RF = RandomForestClassifier(n_estimators = 1000, random_state = 51, class_weight='balanced', max_depth=5)\n",
    "\n",
    "#Train the model using the training sets\n",
    "clf_RF.fit(X_train, y_train)\n",
    "\n",
    "# Make predictions on the test set\n",
    "y_pred = clf_RF.predict(X_test)"
   ]
  },
  {
   "cell_type": "code",
   "execution_count": 289,
   "id": "ca4ce6e1",
   "metadata": {},
   "outputs": [
    {
     "name": "stdout",
     "output_type": "stream",
     "text": [
      "Accuracy: 0.88\n"
     ]
    }
   ],
   "source": [
    "#Accuracy calculation\n",
    "from sklearn import metrics\n",
    "\n",
    "print( \"Accuracy: {:.2f}\".format(metrics.accuracy_score(y_test, y_pred)) )"
   ]
  },
  {
   "cell_type": "markdown",
   "id": "c98bd0cb",
   "metadata": {},
   "source": [
    "### Cross-Validation\n",
    "Cross-validation is a statistical method used to assess the performance of a machine learning model by splitting the dataset into multiple subsets (folds), using the most known tool called k-fold cross-validation to specify the number of folds that will be trained and evaluating the model on different combinations of these folds (Müller and Guido, 2017, p.253).\n",
    "\n",
    "**Interpretation: Using the mean cross-validation we can conclude that we expect the model to be around 84% accurate on average.** "
   ]
  },
  {
   "cell_type": "code",
   "execution_count": 290,
   "id": "ab3199c8",
   "metadata": {},
   "outputs": [
    {
     "name": "stdout",
     "output_type": "stream",
     "text": [
      "Cross-validation scores:  [0.95930233 0.93217054 0.88737864 0.74757282 0.70097087]\n",
      "Mean accuracy:  0.8454790396628283\n",
      "Standard deviation: 0.10265960491510269\n"
     ]
    }
   ],
   "source": [
    "from sklearn.model_selection import cross_val_score\n",
    "\n",
    "scores = cross_val_score(clf_RF, X, y, cv=5, scoring='accuracy')\n",
    "\n",
    "print(\"Cross-validation scores: \", scores)\n",
    "print(\"Mean accuracy: \", scores.mean())\n",
    "print(\"Standard deviation:\", scores.std())"
   ]
  },
  {
   "cell_type": "code",
   "execution_count": 292,
   "id": "89c670b0",
   "metadata": {},
   "outputs": [
    {
     "name": "stdout",
     "output_type": "stream",
     "text": [
      "accuracy: 0.88\n",
      "precision: 0.27\n",
      "recall: 0.72\n",
      "F1 Score: 0.40\n"
     ]
    }
   ],
   "source": [
    "from sklearn import metrics\n",
    "\n",
    "print( \"accuracy: {:.2f}\".format(metrics.accuracy_score(y_test, y_pred)) )\n",
    "print( \"precision: {:.2f}\".format(metrics.precision_score(y_test, y_pred)) )\n",
    "print( \"recall: {:.2f}\".format(metrics.recall_score(y_test, y_pred)) )\n",
    "print( \"F1 Score: {:.2f}\".format(metrics.f1_score(y_test, y_pred)) )"
   ]
  },
  {
   "cell_type": "markdown",
   "id": "11921ecd",
   "metadata": {},
   "source": [
    "##  Train and test - accuracy"
   ]
  },
  {
   "cell_type": "code",
   "execution_count": 294,
   "id": "ded6617d",
   "metadata": {
    "scrolled": true
   },
   "outputs": [
    {
     "name": "stdout",
     "output_type": "stream",
     "text": [
      "Training Accuracy : 0.871421639980592\n",
      "Testing Accuracy : 0.875968992248062\n"
     ]
    }
   ],
   "source": [
    "print(\"Training Accuracy :\", clf_RF.score(X_train, y_train))\n",
    "print(\"Testing Accuracy :\", clf_RF.score(X_test, y_test))"
   ]
  },
  {
   "cell_type": "markdown",
   "id": "2cdeafd4",
   "metadata": {},
   "source": [
    "### Important Features\n",
    "The Random Forest provides feature importances calculated by aggregating the feature importances over the trees in the forest, which is more reliable than the presented in a single tree (Müller and Guido, 2017, p.86). \n",
    "\n",
    "The chart below shows which features contribute the most to the model's predictions."
   ]
  },
  {
   "cell_type": "code",
   "execution_count": 291,
   "id": "b6b05c9c",
   "metadata": {},
   "outputs": [
    {
     "data": {
      "image/png": "[encoded data removed]",
      "text/plain": [
       "<Figure size 640x480 with 1 Axes>"
      ]
     },
     "metadata": {},
     "output_type": "display_data"
    }
   ],
   "source": [
    "feature_imp = pd.Series(clf_RF.feature_importances_, index=X.columns).sort_values(ascending=False)\n",
    "bar_color = 'purple'\n",
    "plt.barh(feature_imp.index, feature_imp, color=bar_color)\n",
    "plt.xlabel('Feature Importance')\n",
    "plt.ylabel('Features')\n",
    "plt.title('Random Forest Feature Importance')\n",
    "plt.show()"
   ]
  },
  {
   "cell_type": "code",
   "execution_count": 293,
   "id": "938703de",
   "metadata": {},
   "outputs": [
    {
     "data": {
      "text/plain": [
       "Text(50.722222222222214, 0.5, 'Actual')"
      ]
     },
     "execution_count": 293,
     "metadata": {},
     "output_type": "execute_result"
    },
    {
     "data": {
      "image/png": "[encoded data removed]",
      "text/plain": [
       "<Figure size 640x480 with 2 Axes>"
      ]
     },
     "metadata": {},
     "output_type": "display_data"
    }
   ],
   "source": [
    "from sklearn.metrics import confusion_matrix, classification_report\n",
    "\n",
    "cm = confusion_matrix(y_test, y_pred)\n",
    "sns.heatmap(cm, annot=True)\n",
    "ax = sns.heatmap(cm, annot=True,                  \n",
    "                 xticklabels=['Alive','Died'],                \n",
    "                 yticklabels=['Alive','Died'],                  \n",
    "                 cbar=False)\n",
    "ax.set_xlabel(\"Prediction\")\n",
    "ax.set_ylabel(\"Actual\")"
   ]
  },
  {
   "cell_type": "markdown",
   "id": "afa38979",
   "metadata": {},
   "source": [
    "## Model Evaluation: all features"
   ]
  },
  {
   "cell_type": "code",
   "execution_count": 295,
   "id": "158f7bbd",
   "metadata": {
    "scrolled": false
   },
   "outputs": [
    {
     "name": "stdout",
     "output_type": "stream",
     "text": [
      "+----------------------+-------+-------+-------+\n",
      "| n_estimators = 100   |   10% |   20% |   30% |\n",
      "+======================+=======+=======+=======+\n",
      "| Accuracy             |  0.93 |  0.94 |  0.94 |\n",
      "+----------------------+-------+-------+-------+\n",
      "| CV-Accuracy          |  0.93 |  0.93 |  0.93 |\n",
      "+----------------------+-------+-------+-------+\n",
      "| Precision            |  0.4  |  0.5  |  0.43 |\n",
      "+----------------------+-------+-------+-------+\n",
      "| Recall               |  0.12 |  0.24 |  0.28 |\n",
      "+----------------------+-------+-------+-------+\n",
      "| Training Accuracy    |  0.99 |  0.99 |  0.99 |\n",
      "+----------------------+-------+-------+-------+\n",
      "| Testing Accuracy     |  0.93 |  0.94 |  0.93 |\n",
      "+----------------------+-------+-------+-------+\n",
      "+-----------------------+-------+-------+-------+\n",
      "| n_estimators = 1000   |   10% |   20% |   30% |\n",
      "+=======================+=======+=======+=======+\n",
      "| Accuracy              |  0.93 |  0.95 |  0.94 |\n",
      "+-----------------------+-------+-------+-------+\n",
      "| CV-Accuracy           |  0.93 |  0.93 |  0.93 |\n",
      "+-----------------------+-------+-------+-------+\n",
      "| Precision             |  0.4  |  0.56 |  0.44 |\n",
      "+-----------------------+-------+-------+-------+\n",
      "| Recall                |  0.12 |  0.31 |  0.26 |\n",
      "+-----------------------+-------+-------+-------+\n",
      "| Training Accuracy     |  0.99 |  0.99 |  0.99 |\n",
      "+-----------------------+-------+-------+-------+\n",
      "| Testing Accuracy      |  0.95 |  0.95 |  0.94 |\n",
      "+-----------------------+-------+-------+-------+\n",
      "CV = Cross-Validation\n"
     ]
    }
   ],
   "source": [
    "from tabulate import tabulate\n",
    "data = [\n",
    "    [\"Accuracy\", 0.93, 0.94, 0.94],\n",
    "    [\"CV-Accuracy\", 0.93, 0.93, 0.93],\n",
    "    [\"Precision\", 0.40, 0.50, 0.43],\n",
    "    [\"Recall\", 0.12, 0.24, 0.28],\n",
    "    [\"Training Accuracy\", 0.99, 0.99, 0.99],\n",
    "    [\"Testing Accuracy\", 0.93, 0.94, 0.93],\n",
    "]   \n",
    "headers = [\"n_estimators = 100\", \"10%\", \"20%\", \"30%\"]\n",
    "\n",
    "data1 = [\n",
    "    [\"Accuracy\", 0.93, 0.95, 0.94],\n",
    "    [\"CV-Accuracy\", 0.93, 0.93, 0.93],\n",
    "    [\"Precision\", 0.40, 0.56, 0.44],\n",
    "    [\"Recall\", 0.12, 0.31, 0.26],\n",
    "    [\"Training Accuracy\", 0.99, 0.99, 0.99],\n",
    "    [\"Testing Accuracy\", 0.95, 0.95, 0.94],\n",
    "]   \n",
    "headers1 = [\"n_estimators = 1000\", \"10%\", \"20%\", \"30%\"]\n",
    "\n",
    "print(tabulate(data, headers=headers, tablefmt=\"grid\"))\n",
    "print(tabulate(data1, headers=headers1, tablefmt=\"grid\"))\n",
    "print(\"CV = Cross-Validation\")"
   ]
  },
  {
   "cell_type": "markdown",
   "id": "8f6e9813",
   "metadata": {},
   "source": [
    "### Adjusting hyperparameters"
   ]
  },
  {
   "cell_type": "code",
   "execution_count": 296,
   "id": "9dd124e4",
   "metadata": {
    "scrolled": true
   },
   "outputs": [
    {
     "name": "stdout",
     "output_type": "stream",
     "text": [
      "+------------------------------------------------+-------+\n",
      "| n_estimators = 1000, class_weight='balanced'   |   20% |\n",
      "+================================================+=======+\n",
      "| Accuracy                                       |  0.94 |\n",
      "+------------------------------------------------+-------+\n",
      "| CV-Accuracy                                    |  0.92 |\n",
      "+------------------------------------------------+-------+\n",
      "| Precision                                      |  0.47 |\n",
      "+------------------------------------------------+-------+\n",
      "| Recall                                         |  0.31 |\n",
      "+------------------------------------------------+-------+\n",
      "| F1 Score                                       |  0.38 |\n",
      "+------------------------------------------------+-------+\n",
      "| Training Accuracy                              |  0.98 |\n",
      "+------------------------------------------------+-------+\n",
      "| Testing Accuracy                               |  0.94 |\n",
      "+------------------------------------------------+-------+\n",
      "+-------------------------------------------------------------+-------+\n",
      "| n_estimators = 1000, class_weight='balanced', max_depth=5   |   20% |\n",
      "+=============================================================+=======+\n",
      "| Accuracy                                                    |  0.88 |\n",
      "+-------------------------------------------------------------+-------+\n",
      "| CV-Accuracy                                                 |  0.84 |\n",
      "+-------------------------------------------------------------+-------+\n",
      "| Precision                                                   |  0.27 |\n",
      "+-------------------------------------------------------------+-------+\n",
      "| Recall                                                      |  0.72 |\n",
      "+-------------------------------------------------------------+-------+\n",
      "| F1 Score                                                    |  0.4  |\n",
      "+-------------------------------------------------------------+-------+\n",
      "| Training Accuracy                                           |  0.87 |\n",
      "+-------------------------------------------------------------+-------+\n",
      "| Testing Accuracy                                            |  0.88 |\n",
      "+-------------------------------------------------------------+-------+\n",
      "+--------------------------------------------------------------+-------+\n",
      "| n_estimators = 1000, class_weight='balanced', max_depth=10   |   20% |\n",
      "+==============================================================+=======+\n",
      "| Accuracy                                                     |  0.94 |\n",
      "+--------------------------------------------------------------+-------+\n",
      "| CV-Accuracy                                                  |  0.91 |\n",
      "+--------------------------------------------------------------+-------+\n",
      "| Precision                                                    |  0.43 |\n",
      "+--------------------------------------------------------------+-------+\n",
      "| Recall                                                       |  0.41 |\n",
      "+--------------------------------------------------------------+-------+\n",
      "| F1 Score                                                     |  0.42 |\n",
      "+--------------------------------------------------------------+-------+\n",
      "| Training Accuracy                                            |  0.97 |\n",
      "+--------------------------------------------------------------+-------+\n",
      "| Testing Accuracy                                             |  0.94 |\n",
      "+--------------------------------------------------------------+-------+\n",
      "CV = Cross-Validation\n"
     ]
    },
    {
     "data": {
      "image/png": "[encoded data removed]",
      "text/plain": [
       "<Figure size 1000x600 with 1 Axes>"
      ]
     },
     "metadata": {},
     "output_type": "display_data"
    },
    {
     "data": {
      "image/png": "[encoded data removed]",
      "text/plain": [
       "<Figure size 1000x600 with 1 Axes>"
      ]
     },
     "metadata": {},
     "output_type": "display_data"
    },
    {
     "data": {
      "image/png": "[encoded data removed]",
      "text/plain": [
       "<Figure size 1000x600 with 1 Axes>"
      ]
     },
     "metadata": {},
     "output_type": "display_data"
    }
   ],
   "source": [
    "import matplotlib.pyplot as plt\n",
    "\n",
    "data = [\n",
    "    [\"Accuracy\", 0.94],\n",
    "    [\"CV-Accuracy\", 0.92],\n",
    "    [\"Precision\", 0.47],\n",
    "    [\"Recall\", 0.31],\n",
    "    [\"F1 Score\", 0.38],\n",
    "    [\"Training Accuracy\", 0.98],\n",
    "    [\"Testing Accuracy\", 0.94],\n",
    "]   \n",
    "headers = [\"n_estimators = 1000, class_weight='balanced'\", \"20%\"]\n",
    "\n",
    "data1 = [\n",
    "    [\"Accuracy\", 0.88],\n",
    "    [\"CV-Accuracy\", 0.84],\n",
    "    [\"Precision\", 0.27],\n",
    "    [\"Recall\", 0.72],\n",
    "    [\"F1 Score\", 0.40],\n",
    "    [\"Training Accuracy\", 0.87],\n",
    "    [\"Testing Accuracy\", 0.88],\n",
    "]   \n",
    "headers1 = [\"n_estimators = 1000, class_weight='balanced', max_depth=5\", \"20%\"]\n",
    "\n",
    "data2 = [\n",
    "    [\"Accuracy\", 0.94],\n",
    "    [\"CV-Accuracy\", 0.91],\n",
    "    [\"Precision\", 0.43],\n",
    "    [\"Recall\", 0.41],\n",
    "    [\"F1 Score\", 0.42],\n",
    "    [\"Training Accuracy\", 0.97],\n",
    "    [\"Testing Accuracy\", 0.94],\n",
    "]   \n",
    "headers2 = [\"n_estimators = 1000, class_weight='balanced', max_depth=10\", \"20%\"]\n",
    "\n",
    "\n",
    "print(tabulate(data, headers=headers, tablefmt=\"grid\"))\n",
    "print(tabulate(data1, headers=headers1, tablefmt=\"grid\"))\n",
    "print(tabulate(data2, headers=headers2, tablefmt=\"grid\"))\n",
    "print(\"CV = Cross-Validation\")\n",
    "\n",
    "def plot_bar_chart(data, headers, title):\n",
    "    labels = [row[0] for row in data]\n",
    "    values = [row[1] for row in data]\n",
    "\n",
    "    plt.figure(figsize=(10, 6))\n",
    "    plt.bar(labels, values, color='lightblue')\n",
    "    plt.xlabel('Metrics')\n",
    "    plt.ylabel('Values')\n",
    "    plt.title(title)\n",
    "    plt.show()\n",
    "\n",
    "plot_bar_chart(data, headers, \"n_estimators = 1000, class_weight='balanced'\")\n",
    "plot_bar_chart(data1, headers1, \"n_estimators = 1000, class_weight='balanced', max_depth=5\")\n",
    "plot_bar_chart(data2, headers2, \"n_estimators = 1000, class_weight='balanced', max_depth=10\")"
   ]
  },
  {
   "cell_type": "markdown",
   "id": "43abf33b",
   "metadata": {},
   "source": [
    "## Model Evaluation: all features four features: DISABLE, CUR_ILL, HISTORY, ALLERGIES\n",
    "#### (n_estimators = 1000, random_state = 51, class_weight='balanced', max_depth=5)"
   ]
  },
  {
   "cell_type": "code",
   "execution_count": 297,
   "id": "1b5de3c7",
   "metadata": {},
   "outputs": [
    {
     "name": "stdout",
     "output_type": "stream",
     "text": [
      "+-------------------------------------------------------------+-------+\n",
      "| n_estimators = 1000, class_weight='balanced', max_depth=5   |   20% |\n",
      "+=============================================================+=======+\n",
      "| Accuracy                                                    |  0.86 |\n",
      "+-------------------------------------------------------------+-------+\n",
      "| CV-Accuracy                                                 |  0.72 |\n",
      "+-------------------------------------------------------------+-------+\n",
      "| Precision                                                   |  0.17 |\n",
      "+-------------------------------------------------------------+-------+\n",
      "| Recall                                                      |  0.38 |\n",
      "+-------------------------------------------------------------+-------+\n",
      "| F1 Score                                                    |  0.23 |\n",
      "+-------------------------------------------------------------+-------+\n",
      "| Training Accuracy                                           |  0.86 |\n",
      "+-------------------------------------------------------------+-------+\n",
      "| Testing Accuracy                                            |  0.86 |\n",
      "+-------------------------------------------------------------+-------+\n",
      "CV = Cross-Validation\n"
     ]
    },
    {
     "data": {
      "image/png": "[encoded data removed]",
      "text/plain": [
       "<Figure size 1000x600 with 1 Axes>"
      ]
     },
     "metadata": {},
     "output_type": "display_data"
    }
   ],
   "source": [
    "data = [\n",
    "    [\"Accuracy\", 0.86],\n",
    "    [\"CV-Accuracy\", 0.72],\n",
    "    [\"Precision\", 0.17],\n",
    "    [\"Recall\", 0.38],\n",
    "    [\"F1 Score\", 0.23],\n",
    "    [\"Training Accuracy\", 0.86],\n",
    "    [\"Testing Accuracy\", 0.86],\n",
    "]   \n",
    "headers = [\"n_estimators = 1000, class_weight='balanced', max_depth=5\", \"20%\"]\n",
    "\n",
    "print(tabulate(data, headers=headers, tablefmt=\"grid\"))\n",
    "print(\"CV = Cross-Validation\")\n",
    "\n",
    "def plot_bar_chart(data, headers, title):\n",
    "    labels = [row[0] for row in data]\n",
    "    values = [row[1] for row in data]\n",
    "\n",
    "    plt.figure(figsize=(10, 6))\n",
    "    plt.bar(labels, values, color='lightblue')\n",
    "    plt.xlabel('Metrics')\n",
    "    plt.ylabel('Values')\n",
    "    plt.title(title)\n",
    "    plt.show()\n",
    "plot_bar_chart(data, headers, \"n_estimators = 1000, class_weight='balanced', max_depth=5\")"
   ]
  },
  {
   "cell_type": "markdown",
   "id": "c7309ae5",
   "metadata": {},
   "source": [
    "## Randon Forest - SMOTE "
   ]
  },
  {
   "cell_type": "code",
   "execution_count": null,
   "id": "a32c2a25",
   "metadata": {},
   "outputs": [],
   "source": [
    "from imblearn.over_sampling import SMOTE"
   ]
  },
  {
   "cell_type": "code",
   "execution_count": 485,
   "id": "aa878eff",
   "metadata": {},
   "outputs": [
    {
     "data": {
      "text/plain": [
       "((2061, 7), (516, 7), (2061,), (516,))"
      ]
     },
     "execution_count": 485,
     "metadata": {},
     "output_type": "execute_result"
    }
   ],
   "source": [
    "X_train, X_test, y_train, y_test = train_test_split(X, y, test_size=0.2, random_state=56)\n",
    "X_train.shape, X_test.shape, y_train.shape, y_test.shape"
   ]
  },
  {
   "cell_type": "code",
   "execution_count": 486,
   "id": "6aacfa82",
   "metadata": {},
   "outputs": [
    {
     "data": {
      "text/plain": [
       "((3888, 7), (3888,))"
      ]
     },
     "execution_count": 486,
     "metadata": {},
     "output_type": "execute_result"
    }
   ],
   "source": [
    "smote = SMOTE(random_state=42)\n",
    "X_train_resampled, y_train_resampled = smote.fit_resample(X_train, y_train)\n",
    "X_train_resampled.shape, y_train_resampled.shape"
   ]
  },
  {
   "cell_type": "code",
   "execution_count": 528,
   "id": "ac7c66c7",
   "metadata": {},
   "outputs": [
    {
     "data": {
      "text/html": [
       "<style>#sk-container-id-32 {color: black;}#sk-container-id-32 pre{padding: 0;}#sk-container-id-32 div.sk-toggleable {background-color: white;}#sk-container-id-32 label.sk-toggleable__label {cursor: pointer;display: block;width: 100%;margin-bottom: 0;padding: 0.3em;box-sizing: border-box;text-align: center;}#sk-container-id-32 label.sk-toggleable__label-arrow:before {content: \"▸\";float: left;margin-right: 0.25em;color: #696969;}#sk-container-id-32 label.sk-toggleable__label-arrow:hover:before {color: black;}#sk-container-id-32 div.sk-estimator:hover label.sk-toggleable__label-arrow:before {color: black;}#sk-container-id-32 div.sk-toggleable__content {max-height: 0;max-width: 0;overflow: hidden;text-align: left;background-color: #f0f8ff;}#sk-container-id-32 div.sk-toggleable__content pre {margin: 0.2em;color: black;border-radius: 0.25em;background-color: #f0f8ff;}#sk-container-id-32 input.sk-toggleable__control:checked~div.sk-toggleable__content {max-height: 200px;max-width: 100%;overflow: auto;}#sk-container-id-32 input.sk-toggleable__control:checked~label.sk-toggleable__label-arrow:before {content: \"▾\";}#sk-container-id-32 div.sk-estimator input.sk-toggleable__control:checked~label.sk-toggleable__label {background-color: #d4ebff;}#sk-container-id-32 div.sk-label input.sk-toggleable__control:checked~label.sk-toggleable__label {background-color: #d4ebff;}#sk-container-id-32 input.sk-hidden--visually {border: 0;clip: rect(1px 1px 1px 1px);clip: rect(1px, 1px, 1px, 1px);height: 1px;margin: -1px;overflow: hidden;padding: 0;position: absolute;width: 1px;}#sk-container-id-32 div.sk-estimator {font-family: monospace;background-color: #f0f8ff;border: 1px dotted black;border-radius: 0.25em;box-sizing: border-box;margin-bottom: 0.5em;}#sk-container-id-32 div.sk-estimator:hover {background-color: #d4ebff;}#sk-container-id-32 div.sk-parallel-item::after {content: \"\";width: 100%;border-bottom: 1px solid gray;flex-grow: 1;}#sk-container-id-32 div.sk-label:hover label.sk-toggleable__label {background-color: #d4ebff;}#sk-container-id-32 div.sk-serial::before {content: \"\";position: absolute;border-left: 1px solid gray;box-sizing: border-box;top: 0;bottom: 0;left: 50%;z-index: 0;}#sk-container-id-32 div.sk-serial {display: flex;flex-direction: column;align-items: center;background-color: white;padding-right: 0.2em;padding-left: 0.2em;position: relative;}#sk-container-id-32 div.sk-item {position: relative;z-index: 1;}#sk-container-id-32 div.sk-parallel {display: flex;align-items: stretch;justify-content: center;background-color: white;position: relative;}#sk-container-id-32 div.sk-item::before, #sk-container-id-32 div.sk-parallel-item::before {content: \"\";position: absolute;border-left: 1px solid gray;box-sizing: border-box;top: 0;bottom: 0;left: 50%;z-index: -1;}#sk-container-id-32 div.sk-parallel-item {display: flex;flex-direction: column;z-index: 1;position: relative;background-color: white;}#sk-container-id-32 div.sk-parallel-item:first-child::after {align-self: flex-end;width: 50%;}#sk-container-id-32 div.sk-parallel-item:last-child::after {align-self: flex-start;width: 50%;}#sk-container-id-32 div.sk-parallel-item:only-child::after {width: 0;}#sk-container-id-32 div.sk-dashed-wrapped {border: 1px dashed gray;margin: 0 0.4em 0.5em 0.4em;box-sizing: border-box;padding-bottom: 0.4em;background-color: white;}#sk-container-id-32 div.sk-label label {font-family: monospace;font-weight: bold;display: inline-block;line-height: 1.2em;}#sk-container-id-32 div.sk-label-container {text-align: center;}#sk-container-id-32 div.sk-container {/* jupyter's `normalize.less` sets `[hidden] { display: none; }` but bootstrap.min.css set `[hidden] { display: none !important; }` so we also need the `!important` here to be able to override the default hidden behavior on the sphinx rendered scikit-learn.org. See: https://github.com/scikit-learn/scikit-learn/issues/21755 */display: inline-block !important;position: relative;}#sk-container-id-32 div.sk-text-repr-fallback {display: none;}</style><div id=\"sk-container-id-32\" class=\"sk-top-container\"><div class=\"sk-text-repr-fallback\"><pre>RandomForestClassifier(max_depth=10, n_estimators=1000, random_state=67)</pre><b>In a Jupyter environment, please rerun this cell to show the HTML representation or trust the notebook. <br />On GitHub, the HTML representation is unable to render, please try loading this page with nbviewer.org.</b></div><div class=\"sk-container\" hidden><div class=\"sk-item\"><div class=\"sk-estimator sk-toggleable\"><input class=\"sk-toggleable__control sk-hidden--visually\" id=\"sk-estimator-id-32\" type=\"checkbox\" checked><label for=\"sk-estimator-id-32\" class=\"sk-toggleable__label sk-toggleable__label-arrow\">RandomForestClassifier</label><div class=\"sk-toggleable__content\"><pre>RandomForestClassifier(max_depth=10, n_estimators=1000, random_state=67)</pre></div></div></div></div></div>"
      ],
      "text/plain": [
       "RandomForestClassifier(max_depth=10, n_estimators=1000, random_state=67)"
      ]
     },
     "execution_count": 528,
     "metadata": {},
     "output_type": "execute_result"
    }
   ],
   "source": [
    "rf_smote = RandomForestClassifier(n_estimators = 1000, random_state = 67, max_depth = 10)\n",
    "rf_smote.fit(X_train_resampled, y_train_resampled)"
   ]
  },
  {
   "cell_type": "code",
   "execution_count": 529,
   "id": "72e7b293",
   "metadata": {},
   "outputs": [],
   "source": [
    "y_pred_smote = rf_smote.predict(X_test)"
   ]
  },
  {
   "cell_type": "code",
   "execution_count": 530,
   "id": "f1e7ceac",
   "metadata": {},
   "outputs": [
    {
     "name": "stdout",
     "output_type": "stream",
     "text": [
      "Accuracy: 0.88\n",
      "precision: 0.31\n",
      "recall: 0.53\n",
      "F1 Score: 0.39\n"
     ]
    }
   ],
   "source": [
    "print( \"Accuracy: {:.2f}\".format(metrics.accuracy_score(y_test, y_pred_smote)) )\n",
    "print( \"precision: {:.2f}\".format(metrics.precision_score(y_test, y_pred_smote)) )\n",
    "print( \"recall: {:.2f}\".format(metrics.recall_score(y_test, y_pred_smote)) )\n",
    "print( \"F1 Score: {:.2f}\".format(metrics.f1_score(y_test, y_pred_smote)) )"
   ]
  },
  {
   "cell_type": "code",
   "execution_count": 521,
   "id": "f0d826e1",
   "metadata": {},
   "outputs": [
    {
     "name": "stdout",
     "output_type": "stream",
     "text": [
      "Cross-validation scores:  [0.94379845 0.95348837 0.94174757 0.91650485 0.91650485]\n",
      "Mean accuracy:  0.9344088206517649\n",
      "Standard deviation: 0.01514698462303926\n"
     ]
    }
   ],
   "source": [
    "scores = cross_val_score(rf_smote, X, y, cv=5, scoring='accuracy')\n",
    "\n",
    "print(\"Cross-validation scores: \", scores)\n",
    "print(\"Mean accuracy: \", scores.mean())\n",
    "print(\"Standard deviation:\", scores.std())"
   ]
  },
  {
   "cell_type": "code",
   "execution_count": 522,
   "id": "d190e3d2",
   "metadata": {},
   "outputs": [
    {
     "name": "stdout",
     "output_type": "stream",
     "text": [
      "Training Accuracy : 0.9388646288209607\n",
      "Testing Accuracy : 0.877906976744186\n"
     ]
    }
   ],
   "source": [
    "print(\"Training Accuracy :\", rf_smote.score(X_train, y_train))\n",
    "print(\"Testing Accuracy :\", rf_smote.score(X_test, y_test))"
   ]
  },
  {
   "cell_type": "code",
   "execution_count": 523,
   "id": "b9cb0369",
   "metadata": {},
   "outputs": [
    {
     "data": {
      "image/png": "[encoded data removed]",
      "text/plain": [
       "<Figure size 640x480 with 1 Axes>"
      ]
     },
     "metadata": {},
     "output_type": "display_data"
    }
   ],
   "source": [
    "feature_imp = pd.Series(rf_smote.feature_importances_, index=X.columns).sort_values(ascending=False)\n",
    "bar_color = 'orange'\n",
    "plt.barh(feature_imp.index, feature_imp, color=bar_color)\n",
    "plt.xlabel('Feature Importance')\n",
    "plt.ylabel('Features')\n",
    "plt.title('Random Forest Feature Importance')\n",
    "plt.show()"
   ]
  },
  {
   "cell_type": "code",
   "execution_count": 524,
   "id": "4d1bf6d5",
   "metadata": {},
   "outputs": [
    {
     "data": {
      "text/plain": [
       "Text(50.722222222222214, 0.5, 'Actual')"
      ]
     },
     "execution_count": 524,
     "metadata": {},
     "output_type": "execute_result"
    },
    {
     "data": {
      "image/png": "[encoded data removed]",
      "text/plain": [
       "<Figure size 640x480 with 2 Axes>"
      ]
     },
     "metadata": {},
     "output_type": "display_data"
    }
   ],
   "source": [
    "cm = confusion_matrix(y_test, y_pred_smote)\n",
    "sns.heatmap(cm, annot=True)\n",
    "ax = sns.heatmap(cm, annot=True,                  \n",
    "                 xticklabels=['Alive','Died'],                \n",
    "                 yticklabels=['Alive','Died'],                  \n",
    "                 cbar=False)\n",
    "ax.set_xlabel(\"Prediction\")\n",
    "ax.set_ylabel(\"Actual\")"
   ]
  },
  {
   "cell_type": "code",
   "execution_count": 525,
   "id": "e1eccebc",
   "metadata": {},
   "outputs": [
    {
     "name": "stdout",
     "output_type": "stream",
     "text": [
      "+------------------------------------+-------+\n",
      "| n_estimators = 1000, max_depth=5   |   20% |\n",
      "+====================================+=======+\n",
      "| Accuracy                           |  0.8  |\n",
      "+------------------------------------+-------+\n",
      "| CV-Accuracy                        |  0.94 |\n",
      "+------------------------------------+-------+\n",
      "| Precision                          |  0.23 |\n",
      "+------------------------------------+-------+\n",
      "| Recall                             |  0.68 |\n",
      "+------------------------------------+-------+\n",
      "| F1 Score                           |  0.34 |\n",
      "+------------------------------------+-------+\n",
      "| Training Accuracy                  |  0.83 |\n",
      "+------------------------------------+-------+\n",
      "| Testing Accuracy                   |  0.8  |\n",
      "+------------------------------------+-------+\n",
      "+-------------------------------------+-------+\n",
      "| n_estimators = 1000, max_depth=10   |   20% |\n",
      "+=====================================+=======+\n",
      "| Accuracy                            |  0.88 |\n",
      "+-------------------------------------+-------+\n",
      "| CV-Accuracy                         |  0.93 |\n",
      "+-------------------------------------+-------+\n",
      "| Precision                           |  0.31 |\n",
      "+-------------------------------------+-------+\n",
      "| Recall                              |  0.53 |\n",
      "+-------------------------------------+-------+\n",
      "| F1 Score                            |  0.39 |\n",
      "+-------------------------------------+-------+\n",
      "| Training Accuracy                   |  0.94 |\n",
      "+-------------------------------------+-------+\n",
      "| Testing Accuracy                    |  0.87 |\n",
      "+-------------------------------------+-------+\n",
      "CV = Cross-Validation\n"
     ]
    },
    {
     "data": {
      "image/png": "[encoded data removed]",
      "text/plain": [
       "<Figure size 1000x600 with 1 Axes>"
      ]
     },
     "metadata": {},
     "output_type": "display_data"
    },
    {
     "data": {
      "image/png": "[encoded data removed]",
      "text/plain": [
       "<Figure size 1000x600 with 1 Axes>"
      ]
     },
     "metadata": {},
     "output_type": "display_data"
    }
   ],
   "source": [
    "data = [\n",
    "    [\"Accuracy\", 0.80],\n",
    "    [\"CV-Accuracy\",0.94],\n",
    "    [\"Precision\", 0.23],\n",
    "    [\"Recall\", 0.68],\n",
    "    [\"F1 Score\", 0.34],\n",
    "    [\"Training Accuracy\", 0.83],\n",
    "    [\"Testing Accuracy\", 0.80],\n",
    "]   \n",
    "headers = [\"n_estimators = 1000, max_depth=5\", \"20%\"]\n",
    "\n",
    "data1 = [\n",
    "    [\"Accuracy\", 0.88],\n",
    "    [\"CV-Accuracy\", 0.93],\n",
    "    [\"Precision\", 0.31],\n",
    "    [\"Recall\", 0.53],\n",
    "    [\"F1 Score\",0.39],\n",
    "    [\"Training Accuracy\", 0.94],\n",
    "    [\"Testing Accuracy\", 0.87],\n",
    "]   \n",
    "headers1 = [\"n_estimators = 1000, max_depth=10\", \"20%\"]\n",
    "\n",
    "print(tabulate(data, headers=headers, tablefmt=\"grid\"))\n",
    "print(tabulate(data1, headers=headers1, tablefmt=\"grid\"))\n",
    "print(\"CV = Cross-Validation\")\n",
    "\n",
    "# Create bar chart\n",
    "def plot_bar_chart(data, headers, title):\n",
    "    labels = [row[0] for row in data]\n",
    "    values = [row[1] for row in data]\n",
    "\n",
    "    plt.figure(figsize=(10, 6))\n",
    "    plt.bar(labels, values, color='lightpink')\n",
    "    plt.xlabel('Metrics')\n",
    "    plt.ylabel('Values')\n",
    "    plt.title(title)\n",
    "    plt.show()\n",
    "\n",
    "plot_bar_chart(data, headers, \"n_estimators = 1000, max_depth=5\")\n",
    "plot_bar_chart(data1, headers1, \"n_estimators = 1000, max_depth=10\")"
   ]
  },
  {
   "cell_type": "markdown",
   "id": "1b9cd88a",
   "metadata": {},
   "source": [
    "## Principal Component Analysis - PCA"
   ]
  },
  {
   "cell_type": "code",
   "execution_count": 62,
   "id": "2e749d97",
   "metadata": {
    "scrolled": true
   },
   "outputs": [
    {
     "data": {
      "text/html": [
       "<div>\n",
       "<style scoped>\n",
       "    .dataframe tbody tr th:only-of-type {\n",
       "        vertical-align: middle;\n",
       "    }\n",
       "\n",
       "    .dataframe tbody tr th {\n",
       "        vertical-align: top;\n",
       "    }\n",
       "\n",
       "    .dataframe thead th {\n",
       "        text-align: right;\n",
       "    }\n",
       "</style>\n",
       "<table border=\"1\" class=\"dataframe\">\n",
       "  <thead>\n",
       "    <tr style=\"text-align: right;\">\n",
       "      <th></th>\n",
       "      <th>AGE_YRS</th>\n",
       "      <th>SEX</th>\n",
       "      <th>DISABLE</th>\n",
       "      <th>NUMDAYS</th>\n",
       "      <th>CUR_ILL</th>\n",
       "      <th>HISTORY</th>\n",
       "      <th>ALLERGIES</th>\n",
       "      <th>DIED</th>\n",
       "    </tr>\n",
       "  </thead>\n",
       "  <tbody>\n",
       "    <tr>\n",
       "      <th>1390</th>\n",
       "      <td>73.0</td>\n",
       "      <td>0</td>\n",
       "      <td>0</td>\n",
       "      <td>0.0</td>\n",
       "      <td>2</td>\n",
       "      <td>2</td>\n",
       "      <td>0</td>\n",
       "      <td>0</td>\n",
       "    </tr>\n",
       "    <tr>\n",
       "      <th>1391</th>\n",
       "      <td>4.0</td>\n",
       "      <td>0</td>\n",
       "      <td>0</td>\n",
       "      <td>0.0</td>\n",
       "      <td>0</td>\n",
       "      <td>0</td>\n",
       "      <td>1</td>\n",
       "      <td>0</td>\n",
       "    </tr>\n",
       "    <tr>\n",
       "      <th>1392</th>\n",
       "      <td>35.0</td>\n",
       "      <td>0</td>\n",
       "      <td>0</td>\n",
       "      <td>0.0</td>\n",
       "      <td>0</td>\n",
       "      <td>1</td>\n",
       "      <td>1</td>\n",
       "      <td>0</td>\n",
       "    </tr>\n",
       "    <tr>\n",
       "      <th>1393</th>\n",
       "      <td>25.0</td>\n",
       "      <td>0</td>\n",
       "      <td>0</td>\n",
       "      <td>0.0</td>\n",
       "      <td>0</td>\n",
       "      <td>2</td>\n",
       "      <td>1</td>\n",
       "      <td>0</td>\n",
       "    </tr>\n",
       "    <tr>\n",
       "      <th>1394</th>\n",
       "      <td>37.0</td>\n",
       "      <td>1</td>\n",
       "      <td>0</td>\n",
       "      <td>1.0</td>\n",
       "      <td>0</td>\n",
       "      <td>0</td>\n",
       "      <td>1</td>\n",
       "      <td>0</td>\n",
       "    </tr>\n",
       "  </tbody>\n",
       "</table>\n",
       "</div>"
      ],
      "text/plain": [
       "      AGE_YRS  SEX  DISABLE  NUMDAYS  CUR_ILL  HISTORY  ALLERGIES  DIED\n",
       "1390     73.0    0        0      0.0        2        2          0     0\n",
       "1391      4.0    0        0      0.0        0        0          1     0\n",
       "1392     35.0    0        0      0.0        0        1          1     0\n",
       "1393     25.0    0        0      0.0        0        2          1     0\n",
       "1394     37.0    1        0      1.0        0        0          1     0"
      ]
     },
     "execution_count": 62,
     "metadata": {},
     "output_type": "execute_result"
    }
   ],
   "source": [
    "from sklearn.model_selection import train_test_split\n",
    "\n",
    "data = df_rf\n",
    "feature_names = ['AGE_YRS', 'SEX', 'DISABLE', 'NUMDAYS', 'CUR_ILL', 'HISTORY', 'ALLERGIES']\n",
    "\n",
    "df_pca = pd.DataFrame(data=df_rf[feature_names], columns=feature_names)\n",
    "\n",
    "df_pca['DIED'] = pd.Series(df_rf['DIED'])\n",
    "\n",
    "df_pca.head()"
   ]
  },
  {
   "cell_type": "code",
   "execution_count": 63,
   "id": "ac01fa98",
   "metadata": {},
   "outputs": [
    {
     "data": {
      "text/plain": [
       "0    2422\n",
       "1     155\n",
       "Name: DIED, dtype: int64"
      ]
     },
     "execution_count": 63,
     "metadata": {},
     "output_type": "execute_result"
    }
   ],
   "source": [
    "df_pca[\"DIED\"].value_counts()"
   ]
  },
  {
   "cell_type": "code",
   "execution_count": 64,
   "id": "665d1b55",
   "metadata": {},
   "outputs": [
    {
     "data": {
      "text/plain": [
       "((2577, 7), (2577,), (2061, 7), (516, 7), (2061,), (516,))"
      ]
     },
     "execution_count": 64,
     "metadata": {},
     "output_type": "execute_result"
    }
   ],
   "source": [
    "from sklearn.model_selection import train_test_split\n",
    "\n",
    "X = df_pca.drop('DIED', axis=1)\n",
    "y = df_pca['DIED']\n",
    "\n",
    "# Split the data into training and testing\n",
    "X_train, X_test, y_train, y_test = train_test_split(X, y, test_size = 0.2, random_state = 8)\n",
    "\n",
    "X.shape, y.shape, X_train.shape, X_test.shape, y_train.shape, y_test.shape"
   ]
  },
  {
   "cell_type": "markdown",
   "id": "94485f03",
   "metadata": {},
   "source": [
    "### Scaling the data"
   ]
  },
  {
   "cell_type": "code",
   "execution_count": 65,
   "id": "1ec637ce",
   "metadata": {
    "scrolled": true
   },
   "outputs": [
    {
     "name": "stdout",
     "output_type": "stream",
     "text": [
      "[[-0.58051911 -0.60081052 -0.20095682 ... -0.44433817 -1.04961724\n",
      "   1.19950534]\n",
      " [-0.37454241 -0.60081052 -0.20095682 ... -0.44433817  0.71631021\n",
      "  -0.63718151]\n",
      " [-0.25095638 -0.60081052 -0.20095682 ... -0.44433817  0.71631021\n",
      "  -0.63718151]\n",
      " ...\n",
      " [ 0.90251317  1.35538297 -0.20095682 ...  1.46353886  0.71631021\n",
      "  -0.63718151]\n",
      " [-0.45693309 -0.60081052 -0.20095682 ...  1.46353886  2.48223766\n",
      "  -0.63718151]\n",
      " [ 0.24338771 -0.60081052 -0.20095682 ... -0.44433817 -1.04961724\n",
      "  -0.63718151]] \t [[-1.56920730e+00 -6.00810516e-01 -2.00956823e-01 ... -4.44338173e-01\n",
      "  -1.04961724e+00 -6.37181515e-01]\n",
      " [ 1.64402931e+00  1.35538297e+00  4.97619332e+00 ...  1.46353886e+00\n",
      "   7.16310213e-01 -6.37181515e-01]\n",
      " [-3.33347064e-01 -6.00810516e-01 -2.00956823e-01 ... -4.44338173e-01\n",
      "  -1.04961724e+00  1.19950534e+00]\n",
      " ...\n",
      " [-3.78433476e-03 -6.00810516e-01 -2.00956823e-01 ... -4.44338173e-01\n",
      "   7.16310213e-01 -6.37181515e-01]\n",
      " [ 3.25778395e-01 -6.00810516e-01 -2.00956823e-01 ... -4.44338173e-01\n",
      "   7.16310213e-01  1.19950534e+00]\n",
      " [-9.10081841e-01 -6.00810516e-01 -2.00956823e-01 ...  3.37141588e+00\n",
      "   2.48223766e+00 -6.37181515e-01]] \t [[ 1.2320759  -0.60081052 -0.20095682 ...  3.37141588  2.48223766\n",
      "  -0.63718151]\n",
      " [-1.61040264 -0.60081052 -0.20095682 ... -0.44433817 -1.04961724\n",
      "   1.19950534]\n",
      " [-0.33334706 -0.60081052 -0.20095682 ... -0.44433817  0.71631021\n",
      "   1.19950534]\n",
      " ...\n",
      " [-0.00378433  1.35538297 -0.20095682 ...  1.46353886  0.71631021\n",
      "  -0.63718151]\n",
      " [ 1.89120136  1.35538297 -0.20095682 ...  3.37141588  0.71631021\n",
      "  -0.63718151]\n",
      " [ 0.5317551  -0.60081052 -0.20095682 ...  1.46353886  0.71631021\n",
      "  -0.63718151]]\n"
     ]
    }
   ],
   "source": [
    "from sklearn.preprocessing import StandardScaler\n",
    "\n",
    "# Create an object using Standard scalscaler\n",
    "scaler = StandardScaler()\n",
    "\n",
    "# Train the StandardScaler model\n",
    "scaler.fit(X_train)\n",
    "\n",
    "# transform data\n",
    "X_train_scaled = scaler.transform(X_train)\n",
    "X_test_scaled  = scaler.transform(X_test)\n",
    "X_scaled = scaler.transform(X)\n",
    "\n",
    "# print dataset after scaling\n",
    "print(X_train_scaled, '\\t', X_test_scaled, '\\t', X_scaled)"
   ]
  },
  {
   "cell_type": "code",
   "execution_count": 66,
   "id": "2d51dc75",
   "metadata": {},
   "outputs": [
    {
     "name": "stdout",
     "output_type": "stream",
     "text": [
      "Original shape: (2577, 7)\n",
      "Reduced shape: (2577, 2)\n"
     ]
    }
   ],
   "source": [
    "from sklearn.decomposition import PCA\n",
    "\n",
    "# keep the first two principal components of the data\n",
    "pca = PCA(n_components = 2)\n",
    "\n",
    "# transform data into the first two principal components\n",
    "X_pca = pca.fit_transform(X_scaled)\n",
    "\n",
    "print(\"Original shape: {}\".format(str(X_scaled.shape)))\n",
    "print(\"Reduced shape: {}\".format(str(X_pca.shape)))"
   ]
  },
  {
   "cell_type": "code",
   "execution_count": 67,
   "id": "13328d41",
   "metadata": {},
   "outputs": [
    {
     "name": "stdout",
     "output_type": "stream",
     "text": [
      "[0.2273969  0.16265725]\n"
     ]
    }
   ],
   "source": [
    "# The amount of variance explained by each of the selected components.\n",
    "print(pca.explained_variance_ratio_)"
   ]
  },
  {
   "cell_type": "code",
   "execution_count": 68,
   "id": "839721e9",
   "metadata": {},
   "outputs": [
    {
     "name": "stdout",
     "output_type": "stream",
     "text": [
      "0.38560521000000003\n"
     ]
    }
   ],
   "source": [
    "PCA_sum = 0.2233018 + 0.16230341\n",
    "print(PCA_sum)"
   ]
  },
  {
   "cell_type": "code",
   "execution_count": 69,
   "id": "ae8d091b",
   "metadata": {},
   "outputs": [
    {
     "name": "stdout",
     "output_type": "stream",
     "text": [
      "[[ 3.82433098 -1.73948348]\n",
      " [-2.04192667  0.14180876]\n",
      " [-0.48500459 -0.55734692]\n",
      " ...\n",
      " [ 1.54012225  0.2298454 ]\n",
      " [ 3.39177534 -0.56521198]\n",
      " [ 1.45659912 -0.91911667]] 39.00541541716948\n"
     ]
    }
   ],
   "source": [
    "total_var = pca.explained_variance_ratio_.sum() * 100\n",
    "print(X_pca, total_var)"
   ]
  },
  {
   "cell_type": "code",
   "execution_count": 70,
   "id": "b4987971",
   "metadata": {},
   "outputs": [
    {
     "data": {
      "image/png": "[encoded data removed]",
      "text/plain": [
       "<Figure size 1000x1000 with 1 Axes>"
      ]
     },
     "metadata": {},
     "output_type": "display_data"
    }
   ],
   "source": [
    "import matplotlib.pyplot as plt\n",
    "import mglearn\n",
    "\n",
    "plt.figure(figsize=(10, 10)) \n",
    "scatter = mglearn.discrete_scatter(X_pca[:, 0], X_pca[:, 1], df_pca['DIED'])\n",
    "plt.legend(handles=scatter, labels=['0 - Alive', '1 - Dead'], loc=\"best\")\n",
    "plt.gca().set_aspect(\"equal\")\n",
    "plt.xlabel(\"First principal component\")\n",
    "plt.ylabel(\"Second principal component\")\n",
    "plt.show()"
   ]
  },
  {
   "cell_type": "code",
   "execution_count": 71,
   "id": "bd2a0b0b",
   "metadata": {},
   "outputs": [
    {
     "name": "stdout",
     "output_type": "stream",
     "text": [
      "PCA components:\n",
      "[[ 0.42126516  0.15781712  0.27878885  0.0268696   0.55253795  0.57700165\n",
      "  -0.28452615]\n",
      " [-0.27072549  0.51083361  0.7094688   0.30998191 -0.14291247 -0.20013517\n",
      "  -0.07644545]]\n"
     ]
    }
   ],
   "source": [
    "print(\"PCA components:\\n{}\".format(pca.components_))"
   ]
  },
  {
   "cell_type": "code",
   "execution_count": 72,
   "id": "3fcb844f",
   "metadata": {},
   "outputs": [
    {
     "data": {
      "text/plain": [
       "<Axes: >"
      ]
     },
     "execution_count": 72,
     "metadata": {},
     "output_type": "execute_result"
    },
    {
     "data": {
      "image/png": "[encoded data removed]",
      "text/plain": [
       "<Figure size 1400x600 with 2 Axes>"
      ]
     },
     "metadata": {},
     "output_type": "display_data"
    }
   ],
   "source": [
    "df_comp = pd.DataFrame(pca.components_, columns=['AGE_YRS', 'SEX', 'DISABLE', 'NUMDAYS', 'CUR_ILL', 'HISTORY', 'ALLERGIES'])\n",
    "\n",
    "# Assuming df_pca is your original DataFrame with the data\n",
    "# Get the original feature names\n",
    "feature_names = df_pca[['AGE_YRS', 'SEX', 'DISABLE', 'NUMDAYS', 'CUR_ILL', 'HISTORY', 'ALLERGIES']].columns\n",
    "\n",
    "# Rename the columns in df_comp with the original feature names\n",
    "df_comp.columns = feature_names\n",
    "\n",
    "plt.figure(figsize =(14, 6))\n",
    "sns.heatmap(df_comp)"
   ]
  },
  {
   "cell_type": "markdown",
   "id": "f007606a",
   "metadata": {},
   "source": [
    "## Random Forest with PCA"
   ]
  },
  {
   "cell_type": "code",
   "execution_count": 73,
   "id": "c61009a1",
   "metadata": {},
   "outputs": [
    {
     "name": "stdout",
     "output_type": "stream",
     "text": [
      "Accuracy:  0.8449612403100775\n",
      "Cross-Validation Scores: [0.86426593 0.81717452 0.86426593 0.86944444 0.85      ]\n",
      "Mean CV Accuracy: 0.853030163127116\n",
      "Test Set Accuracy: 0.8449612403100775\n",
      "Precision: 0.2536231884057971\n",
      "Recall: 0.6730769230769231\n",
      "F1 Score: 0.368421052631579\n"
     ]
    }
   ],
   "source": [
    "from sklearn.decomposition import PCA\n",
    "from sklearn.model_selection import train_test_split\n",
    "from sklearn.metrics import accuracy_score, precision_score, recall_score, f1_score\n",
    "from sklearn.ensemble import RandomForestClassifier\n",
    "\n",
    "X = df_pca.drop('DIED', axis=1)\n",
    "y = df_pca['DIED']\n",
    "\n",
    "# Split the data into training and testing\n",
    "X_train, X_test, y_train, y_test = train_test_split(X, y, test_size = 0.3, random_state = 8)\n",
    "\n",
    "X.shape, y.shape, X_train.shape, X_test.shape, y_train.shape, y_test.shape\n",
    "\n",
    "# Data scaling\n",
    "scaler = StandardScaler()\n",
    "\n",
    "# Train the StandardScaler model\n",
    "scaler.fit(X_train)\n",
    "\n",
    "# transform data\n",
    "X_train_scaled = scaler.transform(X_train)\n",
    "X_test_scaled  = scaler.transform(X_test)\n",
    "X_scaled = scaler.transform(X)\n",
    "\n",
    "# Apply PCA\n",
    "pca = PCA(n_components=2)\n",
    "X_train_pca = pca.fit_transform(X_train)\n",
    "X_test_pca = pca.transform(X_test)\n",
    "\n",
    "# Train your Random Forest model\n",
    "rf_model = RandomForestClassifier(n_estimators = 1000, random_state = 42, class_weight='balanced', max_depth=5)\n",
    "rf_model.fit(X_train_pca, y_train)\n",
    "\n",
    "# Make predictions\n",
    "predictions = rf_model.predict(X_test_pca)\n",
    "\n",
    "# Perform cross-validation on the training data\n",
    "cv_scores = cross_val_score(rf_model, X_train_pca, y_train, cv=5)\n",
    "\n",
    "# Evaluate accuracy, precision and recall on the test set\n",
    "accuracy = accuracy_score(y_test, predictions)\n",
    "precision = precision_score(y_test, predictions)\n",
    "recall = recall_score(y_test, predictions)\n",
    "f1 = f1_score(y_test, predictions)\n",
    "\n",
    "print(\"Accuracy: \", accuracy)\n",
    "print(\"Cross-Validation Scores:\", cv_scores)\n",
    "print(\"Mean CV Accuracy:\", cv_scores.mean())\n",
    "print(\"Test Set Accuracy:\", accuracy)\n",
    "print(\"Precision:\", precision)\n",
    "print(\"Recall:\", recall)\n",
    "print(\"F1 Score:\", f1)"
   ]
  },
  {
   "cell_type": "markdown",
   "id": "16c4cf52",
   "metadata": {},
   "source": [
    "## Accuracy: Train and test"
   ]
  },
  {
   "cell_type": "code",
   "execution_count": 74,
   "id": "c31dab78",
   "metadata": {
    "scrolled": true
   },
   "outputs": [
    {
     "name": "stdout",
     "output_type": "stream",
     "text": [
      "Training Accuracy : 0.8746533555185801\n",
      "Testing Accuracy : 0.8449612403100775\n"
     ]
    }
   ],
   "source": [
    "print(\"Training Accuracy :\", rf_model.score(X_train_pca, y_train))\n",
    "print(\"Testing Accuracy :\", rf_model.score(X_test_pca, y_test))"
   ]
  },
  {
   "cell_type": "code",
   "execution_count": 75,
   "id": "0e785b0e",
   "metadata": {},
   "outputs": [
    {
     "data": {
      "text/plain": [
       "Text(50.722222222222214, 0.5, 'Actual')"
      ]
     },
     "execution_count": 75,
     "metadata": {},
     "output_type": "execute_result"
    },
    {
     "data": {
      "image/png": "[encoded data removed]",
      "text/plain": [
       "<Figure size 640x480 with 2 Axes>"
      ]
     },
     "metadata": {},
     "output_type": "display_data"
    }
   ],
   "source": [
    "cm = confusion_matrix(y_test, predictions)\n",
    "sns.heatmap(cm, annot=True)\n",
    "ax = sns.heatmap(cm, annot=True,                  \n",
    "                 xticklabels=['Alive','Died'],                \n",
    "                 yticklabels=['Alive','Died'],                  \n",
    "                 cbar=False)\n",
    "ax.set_xlabel(\"Prediction\")\n",
    "ax.set_ylabel(\"Actual\")"
   ]
  },
  {
   "cell_type": "markdown",
   "id": "fa10b407",
   "metadata": {},
   "source": [
    "## Model Evaluation: Random Forest with PCA"
   ]
  },
  {
   "cell_type": "code",
   "execution_count": 76,
   "id": "c6fa31c6",
   "metadata": {},
   "outputs": [
    {
     "name": "stdout",
     "output_type": "stream",
     "text": [
      "+----------------------+-------+-------+-------+\n",
      "| n_estimators = 100   |   10% |   20% |   30% |\n",
      "+======================+=======+=======+=======+\n",
      "| Accuracy             |  0.92 |  0.91 |  0.91 |\n",
      "+----------------------+-------+-------+-------+\n",
      "| CV-Accuracy          |  0.92 |  0.93 |  0.92 |\n",
      "+----------------------+-------+-------+-------+\n",
      "| Precision            |  0.22 |  0.21 |  0.34 |\n",
      "+----------------------+-------+-------+-------+\n",
      "| Recall               |  0.13 |  0.12 |  0.19 |\n",
      "+----------------------+-------+-------+-------+\n",
      "| F1 Score             |  0.16 |  0.15 |  0.25 |\n",
      "+----------------------+-------+-------+-------+\n",
      "| Training Accuracy    |  0.99 |  0.99 |  0.99 |\n",
      "+----------------------+-------+-------+-------+\n",
      "| Testing Accuracy     |  0.92 |  0.91 |  0.92 |\n",
      "+----------------------+-------+-------+-------+\n",
      "+------------------------+-------+-------+-------+\n",
      "| n_estimators = 10000   |   10% |   20% |   30% |\n",
      "+========================+=======+=======+=======+\n",
      "| Accuracy               |  0.92 |  0.91 |  0.92 |\n",
      "+------------------------+-------+-------+-------+\n",
      "| CV-Accuracy            |  0.93 |  0.93 |  0.93 |\n",
      "+------------------------+-------+-------+-------+\n",
      "| Precision              |  0.2  |  0.19 |  0.29 |\n",
      "+------------------------+-------+-------+-------+\n",
      "| Recall                 |  0.13 |  0.09 |  0.15 |\n",
      "+------------------------+-------+-------+-------+\n",
      "| F1 Score               |  0.16 |  0.12 |  0.2  |\n",
      "+------------------------+-------+-------+-------+\n",
      "| Training Accuracy      |  0.99 |  0.99 |  0.99 |\n",
      "+------------------------+-------+-------+-------+\n",
      "| Testing Accuracy       |  0.92 |  0.91 |  0.92 |\n",
      "+------------------------+-------+-------+-------+\n",
      "CV = Cross-Validation\n"
     ]
    }
   ],
   "source": [
    "from tabulate import tabulate\n",
    "data = [\n",
    "    [\"Accuracy\", 0.92, 0.91, 0.91],\n",
    "    [\"CV-Accuracy\", 0.92, 0.93, 0.92],\n",
    "    [\"Precision\", 0.22, 0.21, 0.34],\n",
    "    [\"Recall\", 0.13, 0.12, 0.19],\n",
    "    [\"F1 Score\", 0.16, 0.15, 0.25],\n",
    "    [\"Training Accuracy\", 0.99, 0.99, 0.99],\n",
    "    [\"Testing Accuracy\", 0.92, 0.91, 0.92],\n",
    "]   \n",
    "headers = [\"n_estimators = 100\", \"10%\", \"20%\", \"30%\"]\n",
    "\n",
    "\n",
    "data1 = [\n",
    "    [\"Accuracy\", 0.92, 0.91, 0.92],\n",
    "    [\"CV-Accuracy\", 0.93, 0.93, 0.93],\n",
    "    [\"Precision\", 0.20, 0.19, 0.29],\n",
    "    [\"Recall\", 0.13, 0.09, 0.15],\n",
    "    [\"F1 Score\", 0.16, 0.12, 0.20],\n",
    "    [\"Training Accuracy\", 0.99, 0.99, 0.99],\n",
    "    [\"Testing Accuracy\", 0.92, 0.91, 0.92],\n",
    "]   \n",
    "headers1 = [\"n_estimators = 10000\", \"10%\",  \"20%\", \"30%\"]\n",
    "\n",
    "print(tabulate(data, headers=headers, tablefmt=\"grid\"))\n",
    "print(tabulate(data1, headers=headers1, tablefmt=\"grid\"))\n",
    "print(\"CV = Cross-Validation\")"
   ]
  },
  {
   "cell_type": "markdown",
   "id": "87968ac0",
   "metadata": {},
   "source": [
    "### Adjusting hyperparameters"
   ]
  },
  {
   "cell_type": "code",
   "execution_count": 77,
   "id": "901b991b",
   "metadata": {},
   "outputs": [
    {
     "name": "stdout",
     "output_type": "stream",
     "text": [
      "+------------------------------------------------+-------+\n",
      "| n_estimators = 1000, class_weight='balanced'   |   30% |\n",
      "+================================================+=======+\n",
      "| Accuracy                                       |  0.91 |\n",
      "+------------------------------------------------+-------+\n",
      "| CV-Accuracy                                    |  0.92 |\n",
      "+------------------------------------------------+-------+\n",
      "| Precision                                      |  0.29 |\n",
      "+------------------------------------------------+-------+\n",
      "| Recall                                         |  0.23 |\n",
      "+------------------------------------------------+-------+\n",
      "| F1 Score                                       |  0.25 |\n",
      "+------------------------------------------------+-------+\n",
      "| Training Accuracy                              |  0.98 |\n",
      "+------------------------------------------------+-------+\n",
      "| Testing Accuracy                               |  0.91 |\n",
      "+------------------------------------------------+-------+\n",
      "+-------------------------------------------------------------+-------+\n",
      "| n_estimators = 1000, class_weight='balanced', max_depth=5   |   30% |\n",
      "+=============================================================+=======+\n",
      "| Accuracy                                                    |  0.84 |\n",
      "+-------------------------------------------------------------+-------+\n",
      "| CV-Accuracy                                                 |  0.85 |\n",
      "+-------------------------------------------------------------+-------+\n",
      "| Precision                                                   |  0.25 |\n",
      "+-------------------------------------------------------------+-------+\n",
      "| Recall                                                      |  0.67 |\n",
      "+-------------------------------------------------------------+-------+\n",
      "| F1 Score                                                    |  0.36 |\n",
      "+-------------------------------------------------------------+-------+\n",
      "| Training Accuracy                                           |  0.87 |\n",
      "+-------------------------------------------------------------+-------+\n",
      "| Testing Accuracy                                            |  0.84 |\n",
      "+-------------------------------------------------------------+-------+\n",
      "+--------------------------------------------------------------+-------+\n",
      "| n_estimators = 1000, class_weight='balanced', max_depth=10   |   30% |\n",
      "+==============================================================+=======+\n",
      "| Accuracy                                                     |  0.91 |\n",
      "+--------------------------------------------------------------+-------+\n",
      "| CV-Accuracy                                                  |  0.91 |\n",
      "+--------------------------------------------------------------+-------+\n",
      "| Precision                                                    |  0.3  |\n",
      "+--------------------------------------------------------------+-------+\n",
      "| Recall                                                       |  0.27 |\n",
      "+--------------------------------------------------------------+-------+\n",
      "| F1 Score                                                     |  0.29 |\n",
      "+--------------------------------------------------------------+-------+\n",
      "| Training Accuracy                                            |  0.98 |\n",
      "+--------------------------------------------------------------+-------+\n",
      "| Testing Accuracy                                             |  0.91 |\n",
      "+--------------------------------------------------------------+-------+\n",
      "CV = Cross-Validation\n"
     ]
    },
    {
     "data": {
      "image/png": "[encoded data removed]",
      "text/plain": [
       "<Figure size 1000x600 with 1 Axes>"
      ]
     },
     "metadata": {},
     "output_type": "display_data"
    },
    {
     "data": {
      "image/png": "[encoded data removed]",
      "text/plain": [
       "<Figure size 1000x600 with 1 Axes>"
      ]
     },
     "metadata": {},
     "output_type": "display_data"
    },
    {
     "data": {
      "image/png": "[encoded data removed]",
      "text/plain": [
       "<Figure size 1000x600 with 1 Axes>"
      ]
     },
     "metadata": {},
     "output_type": "display_data"
    }
   ],
   "source": [
    "import matplotlib.pyplot as plt\n",
    "from tabulate import tabulate\n",
    "data = [\n",
    "    [\"Accuracy\", 0.91],\n",
    "    [\"CV-Accuracy\", 0.92],\n",
    "    [\"Precision\", 0.29],\n",
    "    [\"Recall\", 0.23],\n",
    "    [\"F1 Score\", 0.25],\n",
    "    [\"Training Accuracy\", 0.98],\n",
    "    [\"Testing Accuracy\", 0.91],\n",
    "]   \n",
    "headers = [\"n_estimators = 1000, class_weight='balanced'\", \"30%\"]\n",
    "\n",
    "data1 = [\n",
    "    [\"Accuracy\", 0.84],\n",
    "    [\"CV-Accuracy\", 0.85],\n",
    "    [\"Precision\", 0.25],\n",
    "    [\"Recall\", 0.67],\n",
    "    [\"F1 Score\", 0.36],\n",
    "    [\"Training Accuracy\", 0.87],\n",
    "    [\"Testing Accuracy\", 0.84],\n",
    "]   \n",
    "headers1 = [\"n_estimators = 1000, class_weight='balanced', max_depth=5\", \"30%\"]\n",
    "\n",
    "data2 = [\n",
    "    [\"Accuracy\", 0.91],\n",
    "    [\"CV-Accuracy\", 0.91],\n",
    "    [\"Precision\", 0.30],\n",
    "    [\"Recall\", 0.27],\n",
    "    [\"F1 Score\", 0.29],\n",
    "    [\"Training Accuracy\", 0.98],\n",
    "    [\"Testing Accuracy\", 0.91],\n",
    "]   \n",
    "headers2 = [\"n_estimators = 1000, class_weight='balanced', max_depth=10\", \"30%\"]\n",
    "\n",
    "\n",
    "print(tabulate(data, headers=headers, tablefmt=\"grid\"))\n",
    "print(tabulate(data1, headers=headers1, tablefmt=\"grid\"))\n",
    "print(tabulate(data2, headers=headers2, tablefmt=\"grid\"))\n",
    "print(\"CV = Cross-Validation\")\n",
    "\n",
    "# Create bar chart\n",
    "def plot_bar_chart(data, headers, title):\n",
    "    labels = [row[0] for row in data]\n",
    "    values = [row[1] for row in data]\n",
    "\n",
    "    plt.figure(figsize=(10, 6))\n",
    "    plt.bar(labels, values, color='lightgreen')\n",
    "    plt.xlabel('Metrics')\n",
    "    plt.ylabel('Values')\n",
    "    plt.title(title)\n",
    "    plt.show()\n",
    "\n",
    "# Plot charts\n",
    "plot_bar_chart(data, headers, \"n_estimators = 1000, class_weight='balanced'\")\n",
    "plot_bar_chart(data1, headers1, \"n_estimators = 1000, class_weight='balanced', max_depth=5\")\n",
    "plot_bar_chart(data2, headers2, \"n_estimators = 1000, class_weight='balanced', max_depth=10\")"
   ]
  },
  {
   "cell_type": "markdown",
   "id": "2b33c7c0",
   "metadata": {},
   "source": [
    "## Model Evaluation: all features four features: DISABLE, CUR_ILL, HISTORY, ALLERGIES\n",
    "#### (n_estimators = 1000, random_state = 51, class_weight='balanced', max_depth=5)"
   ]
  },
  {
   "cell_type": "code",
   "execution_count": 78,
   "id": "74e26e7b",
   "metadata": {},
   "outputs": [
    {
     "name": "stdout",
     "output_type": "stream",
     "text": [
      "+-------------------------------------------------------------+-------+\n",
      "| n_estimators = 1000, class_weight='balanced', max_depth=5   |   20% |\n",
      "+=============================================================+=======+\n",
      "| Accuracy                                                    |  0.66 |\n",
      "+-------------------------------------------------------------+-------+\n",
      "| CV-Accuracy                                                 |  0.74 |\n",
      "+-------------------------------------------------------------+-------+\n",
      "| Precision                                                   |  0.13 |\n",
      "+-------------------------------------------------------------+-------+\n",
      "| Recall                                                      |  0.75 |\n",
      "+-------------------------------------------------------------+-------+\n",
      "| F1 Score                                                    |  0.23 |\n",
      "+-------------------------------------------------------------+-------+\n",
      "| Training Accuracy                                           |  0.64 |\n",
      "+-------------------------------------------------------------+-------+\n",
      "| Testing Accuracy                                            |  0.66 |\n",
      "+-------------------------------------------------------------+-------+\n",
      "CV = Cross-Validation\n"
     ]
    },
    {
     "data": {
      "image/png": "[encoded data removed]",
      "text/plain": [
       "<Figure size 1000x600 with 1 Axes>"
      ]
     },
     "metadata": {},
     "output_type": "display_data"
    }
   ],
   "source": [
    "data = [\n",
    "    [\"Accuracy\", 0.66],\n",
    "    [\"CV-Accuracy\", 0.74],\n",
    "    [\"Precision\", 0.13],\n",
    "    [\"Recall\", 0.75],\n",
    "    [\"F1 Score\", 0.23],\n",
    "    [\"Training Accuracy\", 0.64],\n",
    "    [\"Testing Accuracy\", 0.66],\n",
    "]   \n",
    "headers = [\"n_estimators = 1000, class_weight='balanced', max_depth=5\", \"20%\"]\n",
    "\n",
    "print(tabulate(data, headers=headers, tablefmt=\"grid\"))\n",
    "print(\"CV = Cross-Validation\")\n",
    "\n",
    "# Create bar chart\n",
    "def plot_bar_chart(data, headers, title):\n",
    "    labels = [row[0] for row in data]\n",
    "    values = [row[1] for row in data]\n",
    "\n",
    "    plt.figure(figsize=(10, 6))\n",
    "    plt.bar(labels, values, color='lightgreen')\n",
    "    plt.xlabel('Metrics')\n",
    "    plt.ylabel('Values')\n",
    "    plt.title(title)\n",
    "    plt.show()\n",
    "plot_bar_chart(data, headers, \"n_estimators = 1000, class_weight='balanced', max_depth=5\")"
   ]
  },
  {
   "cell_type": "markdown",
   "id": "c6065e46",
   "metadata": {},
   "source": [
    "# ANN withSMOTE "
   ]
  },
  {
   "cell_type": "code",
   "execution_count": 79,
   "id": "f4be9bf4",
   "metadata": {},
   "outputs": [],
   "source": [
    "from sklearn.preprocessing import StandardScaler\n",
    "\n",
    "# Assuming resampled_df is your original DataFrame\n",
    "# and smote_scaled is the scaled data\n",
    "\n",
    "# Create a StandardScaler\n",
    "scaler = StandardScaler()\n",
    "\n",
    "# Fit and transform the original DataFrame\n",
    "smote_scaled = scaler.fit_transform(resampled_df)\n",
    "\n",
    "# Convert the scaled data array into a DataFrame\n",
    "smote_scaled_df = pd.DataFrame(data=smote_scaled, columns=resampled_df.columns)\n",
    "\n",
    "# Now, smote_scaled_df contains the scaled data in a DataFrame"
   ]
  },
  {
   "cell_type": "code",
   "execution_count": 80,
   "id": "b843c220",
   "metadata": {
    "scrolled": true
   },
   "outputs": [
    {
     "data": {
      "text/html": [
       "<div>\n",
       "<style scoped>\n",
       "    .dataframe tbody tr th:only-of-type {\n",
       "        vertical-align: middle;\n",
       "    }\n",
       "\n",
       "    .dataframe tbody tr th {\n",
       "        vertical-align: top;\n",
       "    }\n",
       "\n",
       "    .dataframe thead th {\n",
       "        text-align: right;\n",
       "    }\n",
       "</style>\n",
       "<table border=\"1\" class=\"dataframe\">\n",
       "  <thead>\n",
       "    <tr style=\"text-align: right;\">\n",
       "      <th></th>\n",
       "      <th>AGE_YRS</th>\n",
       "      <th>SEX</th>\n",
       "      <th>DISABLE</th>\n",
       "      <th>NUMDAYS</th>\n",
       "      <th>CUR_ILL</th>\n",
       "      <th>HISTORY</th>\n",
       "      <th>ALLERGIES</th>\n",
       "      <th>DIED</th>\n",
       "    </tr>\n",
       "  </thead>\n",
       "  <tbody>\n",
       "    <tr>\n",
       "      <th>0</th>\n",
       "      <td>0.681370</td>\n",
       "      <td>-0.655346</td>\n",
       "      <td>-0.149574</td>\n",
       "      <td>-0.097055</td>\n",
       "      <td>3.043537</td>\n",
       "      <td>2.516775</td>\n",
       "      <td>-0.460564</td>\n",
       "      <td>-1.0</td>\n",
       "    </tr>\n",
       "    <tr>\n",
       "      <th>1</th>\n",
       "      <td>-1.841835</td>\n",
       "      <td>-0.655346</td>\n",
       "      <td>-0.149574</td>\n",
       "      <td>-0.097055</td>\n",
       "      <td>-0.607502</td>\n",
       "      <td>-1.330262</td>\n",
       "      <td>1.750510</td>\n",
       "      <td>-1.0</td>\n",
       "    </tr>\n",
       "    <tr>\n",
       "      <th>2</th>\n",
       "      <td>-0.708221</td>\n",
       "      <td>-0.655346</td>\n",
       "      <td>-0.149574</td>\n",
       "      <td>-0.097055</td>\n",
       "      <td>-0.607502</td>\n",
       "      <td>0.593257</td>\n",
       "      <td>1.750510</td>\n",
       "      <td>-1.0</td>\n",
       "    </tr>\n",
       "    <tr>\n",
       "      <th>3</th>\n",
       "      <td>-1.073903</td>\n",
       "      <td>-0.655346</td>\n",
       "      <td>-0.149574</td>\n",
       "      <td>-0.097055</td>\n",
       "      <td>-0.607502</td>\n",
       "      <td>2.516775</td>\n",
       "      <td>1.750510</td>\n",
       "      <td>-1.0</td>\n",
       "    </tr>\n",
       "    <tr>\n",
       "      <th>4</th>\n",
       "      <td>-0.635085</td>\n",
       "      <td>1.364052</td>\n",
       "      <td>-0.149574</td>\n",
       "      <td>-0.083075</td>\n",
       "      <td>-0.607502</td>\n",
       "      <td>-1.330262</td>\n",
       "      <td>1.750510</td>\n",
       "      <td>-1.0</td>\n",
       "    </tr>\n",
       "  </tbody>\n",
       "</table>\n",
       "</div>"
      ],
      "text/plain": [
       "    AGE_YRS       SEX   DISABLE   NUMDAYS   CUR_ILL   HISTORY  ALLERGIES  DIED\n",
       "0  0.681370 -0.655346 -0.149574 -0.097055  3.043537  2.516775  -0.460564  -1.0\n",
       "1 -1.841835 -0.655346 -0.149574 -0.097055 -0.607502 -1.330262   1.750510  -1.0\n",
       "2 -0.708221 -0.655346 -0.149574 -0.097055 -0.607502  0.593257   1.750510  -1.0\n",
       "3 -1.073903 -0.655346 -0.149574 -0.097055 -0.607502  2.516775   1.750510  -1.0\n",
       "4 -0.635085  1.364052 -0.149574 -0.083075 -0.607502 -1.330262   1.750510  -1.0"
      ]
     },
     "execution_count": 80,
     "metadata": {},
     "output_type": "execute_result"
    }
   ],
   "source": [
    "smote_scaled_df.head()"
   ]
  },
  {
   "cell_type": "code",
   "execution_count": 81,
   "id": "46e58d77",
   "metadata": {},
   "outputs": [],
   "source": [
    "from sklearn.model_selection import train_test_split, StratifiedKFold\n",
    "from sklearn.metrics import classification_report\n",
    "from sklearn.neural_network import MLPClassifier\n",
    "\n",
    "from keras.models import Sequential\n",
    "from keras.layers import Dense\n",
    "import tensorflow\n",
    "\n",
    "model_smote = Sequential()"
   ]
  },
  {
   "cell_type": "code",
   "execution_count": 82,
   "id": "410cd4c0",
   "metadata": {},
   "outputs": [
    {
     "data": {
      "text/plain": [
       "((4359, 7), (485, 7), (4359,), (485,))"
      ]
     },
     "execution_count": 82,
     "metadata": {},
     "output_type": "execute_result"
    }
   ],
   "source": [
    "X = smote_scaled_df.drop('DIED', axis=1)\n",
    "y = smote_scaled_df['DIED']\n",
    "\n",
    "X_train, X_test, y_train, y_test = train_test_split(X, y, test_size=0.1, random_state=26)\n",
    "X_train.shape, X_test.shape, y_train.shape, y_test.shape"
   ]
  },
  {
   "cell_type": "code",
   "execution_count": 83,
   "id": "0601a707",
   "metadata": {},
   "outputs": [],
   "source": [
    "from sklearn.model_selection import KFold\n",
    "\n",
    "kf = KFold(n_splits=5, shuffle=True, random_state=42)"
   ]
  },
  {
   "cell_type": "code",
   "execution_count": 84,
   "id": "23697e9f",
   "metadata": {},
   "outputs": [],
   "source": [
    "model_smote = Sequential()\n",
    "model_smote.add(Dense(units=64, activation='relu', input_dim=X_train.shape[1]))\n",
    "model_smote.add(Dense(units=32, activation='relu'))\n",
    "model_smote.add(Dense(units=1, activation='sigmoid'))\n",
    "\n",
    "model_smote.compile(optimizer='adam', loss='binary_crossentropy', metrics=['accuracy'])"
   ]
  },
  {
   "cell_type": "code",
   "execution_count": 85,
   "id": "75491c81",
   "metadata": {
    "scrolled": false
   },
   "outputs": [
    {
     "name": "stdout",
     "output_type": "stream",
     "text": [
      "Epoch 1/10\n",
      "122/122 [==============================] - 1s 2ms/step - loss: -0.7957 - accuracy: 0.0467 - val_loss: -3.9652 - val_accuracy: 0.1476\n",
      "Epoch 2/10\n",
      "122/122 [==============================] - 0s 1ms/step - loss: -15.6738 - accuracy: 0.1840 - val_loss: -45.4624 - val_accuracy: 0.2074\n",
      "Epoch 3/10\n",
      "122/122 [==============================] - 0s 1ms/step - loss: -93.5274 - accuracy: 0.2307 - val_loss: -200.5811 - val_accuracy: 0.2301\n",
      "Epoch 4/10\n",
      "122/122 [==============================] - 0s 1ms/step - loss: -299.6433 - accuracy: 0.2366 - val_loss: -540.6631 - val_accuracy: 0.2466\n",
      "Epoch 5/10\n",
      "122/122 [==============================] - 0s 1ms/step - loss: -679.7305 - accuracy: 0.2526 - val_loss: -1106.4308 - val_accuracy: 0.2497\n",
      "Epoch 6/10\n",
      "122/122 [==============================] - 0s 1ms/step - loss: -1280.0933 - accuracy: 0.2545 - val_loss: -1957.8270 - val_accuracy: 0.2528\n",
      "Epoch 7/10\n",
      "122/122 [==============================] - 0s 1ms/step - loss: -2134.3381 - accuracy: 0.2609 - val_loss: -3106.9536 - val_accuracy: 0.2590\n",
      "Epoch 8/10\n",
      "122/122 [==============================] - 0s 1ms/step - loss: -3287.6912 - accuracy: 0.2653 - val_loss: -4643.5537 - val_accuracy: 0.2601\n",
      "Epoch 9/10\n",
      "122/122 [==============================] - 0s 1ms/step - loss: -4722.0522 - accuracy: 0.2666 - val_loss: -6497.2476 - val_accuracy: 0.2601\n",
      "Epoch 10/10\n",
      "122/122 [==============================] - 0s 1ms/step - loss: -6428.1919 - accuracy: 0.2655 - val_loss: -8685.4434 - val_accuracy: 0.2590\n",
      "31/31 [==============================] - 0s 1ms/step\n",
      "Epoch 1/10\n",
      "122/122 [==============================] - 0s 1ms/step - loss: -8684.6660 - accuracy: 0.2612 - val_loss: -10732.5840 - val_accuracy: 0.2549\n",
      "Epoch 2/10\n",
      "  1/122 [..............................] - ETA: 1s - loss: -8461.9854 - accuracy: 0.2500"
     ]
    },
    {
     "name": "stderr",
     "output_type": "stream",
     "text": [
      "C:\\Users\\danie\\anaconda3\\Lib\\site-packages\\sklearn\\metrics\\_classification.py:1471: UndefinedMetricWarning: Precision is ill-defined and being set to 0.0 in labels with no predicted samples. Use `zero_division` parameter to control this behavior.\n",
      "  _warn_prf(average, modifier, msg_start, len(result))\n",
      "C:\\Users\\danie\\anaconda3\\Lib\\site-packages\\sklearn\\metrics\\_classification.py:1471: UndefinedMetricWarning: Precision is ill-defined and being set to 0.0 in labels with no predicted samples. Use `zero_division` parameter to control this behavior.\n",
      "  _warn_prf(average, modifier, msg_start, len(result))\n",
      "C:\\Users\\danie\\anaconda3\\Lib\\site-packages\\sklearn\\metrics\\_classification.py:1471: UndefinedMetricWarning: Recall is ill-defined and being set to 0.0 in labels with no true samples. Use `zero_division` parameter to control this behavior.\n",
      "  _warn_prf(average, modifier, msg_start, len(result))\n"
     ]
    },
    {
     "name": "stdout",
     "output_type": "stream",
     "text": [
      "122/122 [==============================] - 0s 1ms/step - loss: -11215.9961 - accuracy: 0.2612 - val_loss: -13676.0674 - val_accuracy: 0.2580\n",
      "Epoch 3/10\n",
      "122/122 [==============================] - 0s 1ms/step - loss: -14161.9062 - accuracy: 0.2594 - val_loss: -17097.9609 - val_accuracy: 0.2580\n",
      "Epoch 4/10\n",
      "122/122 [==============================] - 0s 1ms/step - loss: -17483.2539 - accuracy: 0.2632 - val_loss: -20894.7129 - val_accuracy: 0.2611\n",
      "Epoch 5/10\n",
      "122/122 [==============================] - 0s 1ms/step - loss: -21254.2266 - accuracy: 0.2630 - val_loss: -25250.4980 - val_accuracy: 0.2590\n",
      "Epoch 6/10\n",
      "122/122 [==============================] - 0s 1ms/step - loss: -25539.1445 - accuracy: 0.2661 - val_loss: -30061.0234 - val_accuracy: 0.2487\n",
      "Epoch 7/10\n",
      "122/122 [==============================] - 0s 1ms/step - loss: -30216.4961 - accuracy: 0.2617 - val_loss: -35395.3984 - val_accuracy: 0.2466\n",
      "Epoch 8/10\n",
      "122/122 [==============================] - 0s 1ms/step - loss: -35409.5703 - accuracy: 0.2526 - val_loss: -41206.2930 - val_accuracy: 0.2487\n",
      "Epoch 9/10\n",
      "122/122 [==============================] - 0s 1ms/step - loss: -41016.1836 - accuracy: 0.2601 - val_loss: -47615.8789 - val_accuracy: 0.2415\n",
      "Epoch 10/10\n",
      "122/122 [==============================] - 0s 1ms/step - loss: -47181.2812 - accuracy: 0.2557 - val_loss: -54464.3086 - val_accuracy: 0.2425\n",
      "31/31 [==============================] - 0s 1ms/step\n",
      "Epoch 1/10\n",
      " 58/122 [=============>................] - ETA: 0s - loss: -53105.6641 - accuracy: 0.2468 "
     ]
    },
    {
     "name": "stderr",
     "output_type": "stream",
     "text": [
      "C:\\Users\\danie\\anaconda3\\Lib\\site-packages\\sklearn\\metrics\\_classification.py:1471: UndefinedMetricWarning: Precision is ill-defined and being set to 0.0 in labels with no predicted samples. Use `zero_division` parameter to control this behavior.\n",
      "  _warn_prf(average, modifier, msg_start, len(result))\n",
      "C:\\Users\\danie\\anaconda3\\Lib\\site-packages\\sklearn\\metrics\\_classification.py:1471: UndefinedMetricWarning: Precision is ill-defined and being set to 0.0 in labels with no predicted samples. Use `zero_division` parameter to control this behavior.\n",
      "  _warn_prf(average, modifier, msg_start, len(result))\n",
      "C:\\Users\\danie\\anaconda3\\Lib\\site-packages\\sklearn\\metrics\\_classification.py:1471: UndefinedMetricWarning: Recall is ill-defined and being set to 0.0 in labels with no true samples. Use `zero_division` parameter to control this behavior.\n",
      "  _warn_prf(average, modifier, msg_start, len(result))\n"
     ]
    },
    {
     "name": "stdout",
     "output_type": "stream",
     "text": [
      "122/122 [==============================] - 0s 2ms/step - loss: -55360.2852 - accuracy: 0.2604 - val_loss: -55856.3828 - val_accuracy: 0.2497\n",
      "Epoch 2/10\n",
      "122/122 [==============================] - 0s 1ms/step - loss: -62817.6328 - accuracy: 0.2599 - val_loss: -63161.1406 - val_accuracy: 0.2508\n",
      "Epoch 3/10\n",
      "122/122 [==============================] - 0s 1ms/step - loss: -70911.6953 - accuracy: 0.2601 - val_loss: -71077.2656 - val_accuracy: 0.2012\n",
      "Epoch 4/10\n",
      "122/122 [==============================] - 0s 1ms/step - loss: -79478.7891 - accuracy: 0.2583 - val_loss: -79390.7500 - val_accuracy: 0.2508\n",
      "Epoch 5/10\n",
      "122/122 [==============================] - 0s 1ms/step - loss: -88532.9453 - accuracy: 0.2612 - val_loss: -88180.7734 - val_accuracy: 0.2291\n",
      "Epoch 6/10\n",
      "122/122 [==============================] - 0s 1ms/step - loss: -98268.7812 - accuracy: 0.2570 - val_loss: -97593.3750 - val_accuracy: 0.2374\n",
      "Epoch 7/10\n",
      "122/122 [==============================] - 0s 1ms/step - loss: -108535.9062 - accuracy: 0.2516 - val_loss: -107550.5078 - val_accuracy: 0.2405\n",
      "Epoch 8/10\n",
      "122/122 [==============================] - 0s 1ms/step - loss: -119419.5625 - accuracy: 0.2606 - val_loss: -118015.7891 - val_accuracy: 0.2064\n",
      "Epoch 9/10\n",
      "122/122 [==============================] - 0s 1ms/step - loss: -130818.6328 - accuracy: 0.2570 - val_loss: -129104.8828 - val_accuracy: 0.2074\n",
      "Epoch 10/10\n",
      "122/122 [==============================] - 0s 1ms/step - loss: -142811.5781 - accuracy: 0.2495 - val_loss: -140566.0469 - val_accuracy: 0.2394\n",
      "31/31 [==============================] - 0s 802us/step\n",
      "Epoch 1/10\n",
      "122/122 [==============================] - ETA: 0s - loss: -154858.1875 - accuracy: 0.2423"
     ]
    },
    {
     "name": "stderr",
     "output_type": "stream",
     "text": [
      "C:\\Users\\danie\\anaconda3\\Lib\\site-packages\\sklearn\\metrics\\_classification.py:1471: UndefinedMetricWarning: Precision is ill-defined and being set to 0.0 in labels with no predicted samples. Use `zero_division` parameter to control this behavior.\n",
      "  _warn_prf(average, modifier, msg_start, len(result))\n",
      "C:\\Users\\danie\\anaconda3\\Lib\\site-packages\\sklearn\\metrics\\_classification.py:1471: UndefinedMetricWarning: Precision is ill-defined and being set to 0.0 in labels with no predicted samples. Use `zero_division` parameter to control this behavior.\n",
      "  _warn_prf(average, modifier, msg_start, len(result))\n",
      "C:\\Users\\danie\\anaconda3\\Lib\\site-packages\\sklearn\\metrics\\_classification.py:1471: UndefinedMetricWarning: Recall is ill-defined and being set to 0.0 in labels with no true samples. Use `zero_division` parameter to control this behavior.\n",
      "  _warn_prf(average, modifier, msg_start, len(result))\n"
     ]
    },
    {
     "name": "stdout",
     "output_type": "stream",
     "text": [
      "122/122 [==============================] - 0s 2ms/step - loss: -154858.1875 - accuracy: 0.2423 - val_loss: -154894.8594 - val_accuracy: 0.2487\n",
      "Epoch 2/10\n",
      "122/122 [==============================] - 0s 1ms/step - loss: -167714.9688 - accuracy: 0.2423 - val_loss: -167313.4219 - val_accuracy: 0.2776\n",
      "Epoch 3/10\n",
      "122/122 [==============================] - 0s 1ms/step - loss: -181359.5625 - accuracy: 0.2328 - val_loss: -180786.3594 - val_accuracy: 0.2848\n",
      "Epoch 4/10\n",
      "122/122 [==============================] - 0s 1ms/step - loss: -195634.7500 - accuracy: 0.2477 - val_loss: -194783.4844 - val_accuracy: 0.2786\n",
      "Epoch 5/10\n",
      "122/122 [==============================] - 0s 1ms/step - loss: -210457.7969 - accuracy: 0.2408 - val_loss: -209217.2031 - val_accuracy: 0.2817\n",
      "Epoch 6/10\n",
      "122/122 [==============================] - 0s 1ms/step - loss: -225711.3281 - accuracy: 0.2490 - val_loss: -223953.7500 - val_accuracy: 0.2384\n",
      "Epoch 7/10\n",
      "122/122 [==============================] - 0s 1ms/step - loss: -241803.2969 - accuracy: 0.2405 - val_loss: -239817.8125 - val_accuracy: 0.2250\n",
      "Epoch 8/10\n",
      "122/122 [==============================] - 0s 1ms/step - loss: -258499.7500 - accuracy: 0.2410 - val_loss: -256267.9219 - val_accuracy: 0.2848\n",
      "Epoch 9/10\n",
      "122/122 [==============================] - 0s 1ms/step - loss: -275820.0938 - accuracy: 0.2449 - val_loss: -273041.6562 - val_accuracy: 0.2405\n",
      "Epoch 10/10\n",
      "122/122 [==============================] - 0s 1ms/step - loss: -293723.5625 - accuracy: 0.2354 - val_loss: -290586.2500 - val_accuracy: 0.2466\n",
      "31/31 [==============================] - 0s 1ms/step\n",
      "Epoch 1/10\n",
      " 68/122 [===============>..............] - ETA: 0s - loss: -322987.6562 - accuracy: 0.2371"
     ]
    },
    {
     "name": "stderr",
     "output_type": "stream",
     "text": [
      "C:\\Users\\danie\\anaconda3\\Lib\\site-packages\\sklearn\\metrics\\_classification.py:1471: UndefinedMetricWarning: Precision is ill-defined and being set to 0.0 in labels with no predicted samples. Use `zero_division` parameter to control this behavior.\n",
      "  _warn_prf(average, modifier, msg_start, len(result))\n",
      "C:\\Users\\danie\\anaconda3\\Lib\\site-packages\\sklearn\\metrics\\_classification.py:1471: UndefinedMetricWarning: Precision is ill-defined and being set to 0.0 in labels with no predicted samples. Use `zero_division` parameter to control this behavior.\n",
      "  _warn_prf(average, modifier, msg_start, len(result))\n",
      "C:\\Users\\danie\\anaconda3\\Lib\\site-packages\\sklearn\\metrics\\_classification.py:1471: UndefinedMetricWarning: Recall is ill-defined and being set to 0.0 in labels with no true samples. Use `zero_division` parameter to control this behavior.\n",
      "  _warn_prf(average, modifier, msg_start, len(result))\n"
     ]
    },
    {
     "name": "stdout",
     "output_type": "stream",
     "text": [
      "122/122 [==============================] - 0s 1ms/step - loss: -319560.9688 - accuracy: 0.2332 - val_loss: -280574.3750 - val_accuracy: 0.1674\n",
      "Epoch 2/10\n",
      "122/122 [==============================] - 0s 1ms/step - loss: -339744.5938 - accuracy: 0.2461 - val_loss: -297991.4062 - val_accuracy: 0.2386\n",
      "Epoch 3/10\n",
      "122/122 [==============================] - 0s 1ms/step - loss: -360487.7500 - accuracy: 0.2386 - val_loss: -315759.6562 - val_accuracy: 0.2376\n",
      "Epoch 4/10\n",
      "122/122 [==============================] - 0s 1ms/step - loss: -381685.2188 - accuracy: 0.2278 - val_loss: -334300.2500 - val_accuracy: 0.3006\n",
      "Epoch 5/10\n",
      "122/122 [==============================] - 0s 1ms/step - loss: -403878.5312 - accuracy: 0.2389 - val_loss: -353333.9375 - val_accuracy: 0.2800\n",
      "Epoch 6/10\n",
      "122/122 [==============================] - 0s 1ms/step - loss: -426752.7812 - accuracy: 0.2443 - val_loss: -373151.0625 - val_accuracy: 0.2634\n",
      "Epoch 7/10\n",
      "122/122 [==============================] - 0s 1ms/step - loss: -450110.1875 - accuracy: 0.2389 - val_loss: -393129.3438 - val_accuracy: 0.2851\n",
      "Epoch 8/10\n",
      "122/122 [==============================] - 0s 1ms/step - loss: -474502.5938 - accuracy: 0.2358 - val_loss: -414337.1562 - val_accuracy: 0.2996\n",
      "Epoch 9/10\n",
      "122/122 [==============================] - 0s 1ms/step - loss: -499894.7500 - accuracy: 0.2381 - val_loss: -435933.0000 - val_accuracy: 0.2986\n",
      "Epoch 10/10\n",
      "122/122 [==============================] - 0s 1ms/step - loss: -525197.8125 - accuracy: 0.2417 - val_loss: -457689.5000 - val_accuracy: 0.2324\n",
      "31/31 [==============================] - 0s 1ms/step\n",
      "Average Accuracy: nan\n",
      "Average Precision: 0.4278378662408243\n",
      "Average Recall: 0.24401082312002664\n"
     ]
    },
    {
     "name": "stderr",
     "output_type": "stream",
     "text": [
      "C:\\Users\\danie\\anaconda3\\Lib\\site-packages\\sklearn\\metrics\\_classification.py:1471: UndefinedMetricWarning: Precision is ill-defined and being set to 0.0 in labels with no predicted samples. Use `zero_division` parameter to control this behavior.\n",
      "  _warn_prf(average, modifier, msg_start, len(result))\n",
      "C:\\Users\\danie\\anaconda3\\Lib\\site-packages\\sklearn\\metrics\\_classification.py:1471: UndefinedMetricWarning: Precision is ill-defined and being set to 0.0 in labels with no predicted samples. Use `zero_division` parameter to control this behavior.\n",
      "  _warn_prf(average, modifier, msg_start, len(result))\n",
      "C:\\Users\\danie\\anaconda3\\Lib\\site-packages\\sklearn\\metrics\\_classification.py:1471: UndefinedMetricWarning: Recall is ill-defined and being set to 0.0 in labels with no true samples. Use `zero_division` parameter to control this behavior.\n",
      "  _warn_prf(average, modifier, msg_start, len(result))\n",
      "C:\\Users\\danie\\anaconda3\\Lib\\site-packages\\numpy\\core\\fromnumeric.py:3464: RuntimeWarning: Mean of empty slice.\n",
      "  return _methods._mean(a, axis=axis, dtype=dtype,\n",
      "C:\\Users\\danie\\anaconda3\\Lib\\site-packages\\numpy\\core\\_methods.py:192: RuntimeWarning: invalid value encountered in scalar divide\n",
      "  ret = ret.dtype.type(ret / rcount)\n"
     ]
    }
   ],
   "source": [
    "from sklearn.metrics import accuracy_score, precision_score, recall_score, f1_score\n",
    "# Perform K-fold cross-validation\n",
    "\n",
    "X = np.array(X)\n",
    "y = np.array(y)\n",
    "\n",
    "# Initialize lists to store metric scores\n",
    "accuracy_scores = []\n",
    "precision_scores = []\n",
    "recall_scores = []\n",
    "f1_scores = []\n",
    "\n",
    "for train_index, test_index in kf.split(X):\n",
    "    X_train, X_val = X[train_index], X[test_index]\n",
    "    y_train, y_val = y[train_index], y[test_index]\n",
    "\n",
    "    # Train the model on the current fold\n",
    "    model_smote.fit(X_train, y_train, epochs=10, batch_size=32, validation_data=(X_val, y_val))\n",
    "    \n",
    "    # Make predictions on the validation set\n",
    "    y_pred_prob = model_smote.predict(X_val)\n",
    "    y_pred = (y_pred_prob > 0.5).astype(int)\n",
    "    \n",
    "    \n",
    "\n",
    "    # Calculate and store metric scores\n",
    "    precision_scores.append(precision_score(y_val, y_pred, average='weighted'))\n",
    "    precision_scores.append(precision_score(y_val, y_pred, average='weighted'))\n",
    "    recall_scores.append(recall_score(y_val, y_pred, average='weighted'))\n",
    "    f1_scores.append(f1_score(y_val, y_pred, average='weighted'))\n",
    "\n",
    "# Print average scores across all folds\n",
    "print(f\"Average Accuracy: {np.mean(accuracy_scores)}\")\n",
    "print(f\"Average Precision: {np.mean(precision_scores)}\")\n",
    "print(f\"Average Recall: {np.mean(recall_scores)}\")\n"
   ]
  },
  {
   "cell_type": "markdown",
   "id": "b4f10ff3",
   "metadata": {},
   "source": [
    "# Artificial Neural Networks - ANN"
   ]
  },
  {
   "cell_type": "code",
   "execution_count": 86,
   "id": "adc396c8",
   "metadata": {},
   "outputs": [],
   "source": [
    "# !pip install tensorflow\n",
    "# !pip install keras"
   ]
  },
  {
   "cell_type": "code",
   "execution_count": 87,
   "id": "cfd28023",
   "metadata": {},
   "outputs": [],
   "source": [
    "from keras.models import Sequential\n",
    "# from keras import models\n",
    "model_ann = Sequential()"
   ]
  },
  {
   "cell_type": "markdown",
   "id": "6dfb7e96",
   "metadata": {},
   "source": [
    "from sklearn.preprocessing import StandardScaler\n",
    "\n",
    "# Assuming resampled_df is your original DataFrame\n",
    "# and smote_scaled is the scaled data\n",
    "\n",
    "# Create a StandardScaler\n",
    "scaler = StandardScaler()\n",
    "\n",
    "# Fit and transform the original DataFrame\n",
    "df_scaled = scaler.fit_transform(df_rf)\n",
    "\n",
    "# Convert the scaled data array into a DataFrame\n",
    "scaled_df = pd.DataFrame(data=df_scaled, columns=resampled_df.columns)\n",
    "\n",
    "# Now, smote_scaled_df contains the scaled data in a DataFrame"
   ]
  },
  {
   "cell_type": "code",
   "execution_count": 88,
   "id": "43ceed82",
   "metadata": {},
   "outputs": [
    {
     "data": {
      "text/html": [
       "<div>\n",
       "<style scoped>\n",
       "    .dataframe tbody tr th:only-of-type {\n",
       "        vertical-align: middle;\n",
       "    }\n",
       "\n",
       "    .dataframe tbody tr th {\n",
       "        vertical-align: top;\n",
       "    }\n",
       "\n",
       "    .dataframe thead th {\n",
       "        text-align: right;\n",
       "    }\n",
       "</style>\n",
       "<table border=\"1\" class=\"dataframe\">\n",
       "  <thead>\n",
       "    <tr style=\"text-align: right;\">\n",
       "      <th></th>\n",
       "      <th>AGE_YRS</th>\n",
       "      <th>SEX</th>\n",
       "      <th>DIED</th>\n",
       "      <th>DISABLE</th>\n",
       "      <th>NUMDAYS</th>\n",
       "      <th>CUR_ILL</th>\n",
       "      <th>HISTORY</th>\n",
       "      <th>ALLERGIES</th>\n",
       "    </tr>\n",
       "  </thead>\n",
       "  <tbody>\n",
       "    <tr>\n",
       "      <th>1390</th>\n",
       "      <td>73.0</td>\n",
       "      <td>0</td>\n",
       "      <td>0</td>\n",
       "      <td>0</td>\n",
       "      <td>0.0</td>\n",
       "      <td>2</td>\n",
       "      <td>2</td>\n",
       "      <td>0</td>\n",
       "    </tr>\n",
       "    <tr>\n",
       "      <th>1391</th>\n",
       "      <td>4.0</td>\n",
       "      <td>0</td>\n",
       "      <td>0</td>\n",
       "      <td>0</td>\n",
       "      <td>0.0</td>\n",
       "      <td>0</td>\n",
       "      <td>0</td>\n",
       "      <td>1</td>\n",
       "    </tr>\n",
       "    <tr>\n",
       "      <th>1392</th>\n",
       "      <td>35.0</td>\n",
       "      <td>0</td>\n",
       "      <td>0</td>\n",
       "      <td>0</td>\n",
       "      <td>0.0</td>\n",
       "      <td>0</td>\n",
       "      <td>1</td>\n",
       "      <td>1</td>\n",
       "    </tr>\n",
       "    <tr>\n",
       "      <th>1393</th>\n",
       "      <td>25.0</td>\n",
       "      <td>0</td>\n",
       "      <td>0</td>\n",
       "      <td>0</td>\n",
       "      <td>0.0</td>\n",
       "      <td>0</td>\n",
       "      <td>2</td>\n",
       "      <td>1</td>\n",
       "    </tr>\n",
       "    <tr>\n",
       "      <th>1394</th>\n",
       "      <td>37.0</td>\n",
       "      <td>1</td>\n",
       "      <td>0</td>\n",
       "      <td>0</td>\n",
       "      <td>1.0</td>\n",
       "      <td>0</td>\n",
       "      <td>0</td>\n",
       "      <td>1</td>\n",
       "    </tr>\n",
       "    <tr>\n",
       "      <th>...</th>\n",
       "      <td>...</td>\n",
       "      <td>...</td>\n",
       "      <td>...</td>\n",
       "      <td>...</td>\n",
       "      <td>...</td>\n",
       "      <td>...</td>\n",
       "      <td>...</td>\n",
       "      <td>...</td>\n",
       "    </tr>\n",
       "    <tr>\n",
       "      <th>3963</th>\n",
       "      <td>62.0</td>\n",
       "      <td>1</td>\n",
       "      <td>1</td>\n",
       "      <td>0</td>\n",
       "      <td>2.0</td>\n",
       "      <td>1</td>\n",
       "      <td>1</td>\n",
       "      <td>0</td>\n",
       "    </tr>\n",
       "    <tr>\n",
       "      <th>3964</th>\n",
       "      <td>79.0</td>\n",
       "      <td>1</td>\n",
       "      <td>1</td>\n",
       "      <td>0</td>\n",
       "      <td>3.0</td>\n",
       "      <td>1</td>\n",
       "      <td>1</td>\n",
       "      <td>0</td>\n",
       "    </tr>\n",
       "    <tr>\n",
       "      <th>3965</th>\n",
       "      <td>43.0</td>\n",
       "      <td>1</td>\n",
       "      <td>1</td>\n",
       "      <td>0</td>\n",
       "      <td>2.0</td>\n",
       "      <td>1</td>\n",
       "      <td>1</td>\n",
       "      <td>0</td>\n",
       "    </tr>\n",
       "    <tr>\n",
       "      <th>3966</th>\n",
       "      <td>89.0</td>\n",
       "      <td>1</td>\n",
       "      <td>1</td>\n",
       "      <td>0</td>\n",
       "      <td>0.0</td>\n",
       "      <td>2</td>\n",
       "      <td>1</td>\n",
       "      <td>0</td>\n",
       "    </tr>\n",
       "    <tr>\n",
       "      <th>3967</th>\n",
       "      <td>56.0</td>\n",
       "      <td>0</td>\n",
       "      <td>1</td>\n",
       "      <td>0</td>\n",
       "      <td>1.0</td>\n",
       "      <td>1</td>\n",
       "      <td>1</td>\n",
       "      <td>0</td>\n",
       "    </tr>\n",
       "  </tbody>\n",
       "</table>\n",
       "<p>2577 rows × 8 columns</p>\n",
       "</div>"
      ],
      "text/plain": [
       "      AGE_YRS  SEX  DIED  DISABLE  NUMDAYS  CUR_ILL  HISTORY  ALLERGIES\n",
       "1390     73.0    0     0        0      0.0        2        2          0\n",
       "1391      4.0    0     0        0      0.0        0        0          1\n",
       "1392     35.0    0     0        0      0.0        0        1          1\n",
       "1393     25.0    0     0        0      0.0        0        2          1\n",
       "1394     37.0    1     0        0      1.0        0        0          1\n",
       "...       ...  ...   ...      ...      ...      ...      ...        ...\n",
       "3963     62.0    1     1        0      2.0        1        1          0\n",
       "3964     79.0    1     1        0      3.0        1        1          0\n",
       "3965     43.0    1     1        0      2.0        1        1          0\n",
       "3966     89.0    1     1        0      0.0        2        1          0\n",
       "3967     56.0    0     1        0      1.0        1        1          0\n",
       "\n",
       "[2577 rows x 8 columns]"
      ]
     },
     "execution_count": 88,
     "metadata": {},
     "output_type": "execute_result"
    }
   ],
   "source": [
    "df_ann = df_rf.copy()\n",
    "df_ann"
   ]
  },
  {
   "cell_type": "code",
   "execution_count": 89,
   "id": "149bd72a",
   "metadata": {},
   "outputs": [
    {
     "name": "stdout",
     "output_type": "stream",
     "text": [
      "<class 'pandas.core.frame.DataFrame'>\n",
      "Int64Index: 2577 entries, 1390 to 3967\n",
      "Data columns (total 8 columns):\n",
      " #   Column     Non-Null Count  Dtype  \n",
      "---  ------     --------------  -----  \n",
      " 0   AGE_YRS    2577 non-null   float64\n",
      " 1   SEX        2577 non-null   int64  \n",
      " 2   DIED       2577 non-null   int64  \n",
      " 3   DISABLE    2577 non-null   int64  \n",
      " 4   NUMDAYS    2577 non-null   float64\n",
      " 5   CUR_ILL    2577 non-null   int64  \n",
      " 6   HISTORY    2577 non-null   int64  \n",
      " 7   ALLERGIES  2577 non-null   int64  \n",
      "dtypes: float64(2), int64(6)\n",
      "memory usage: 181.2 KB\n"
     ]
    }
   ],
   "source": [
    "df_ann.info()"
   ]
  },
  {
   "cell_type": "code",
   "execution_count": 90,
   "id": "f7cd8d17",
   "metadata": {},
   "outputs": [
    {
     "data": {
      "text/html": [
       "<div>\n",
       "<style scoped>\n",
       "    .dataframe tbody tr th:only-of-type {\n",
       "        vertical-align: middle;\n",
       "    }\n",
       "\n",
       "    .dataframe tbody tr th {\n",
       "        vertical-align: top;\n",
       "    }\n",
       "\n",
       "    .dataframe thead th {\n",
       "        text-align: right;\n",
       "    }\n",
       "</style>\n",
       "<table border=\"1\" class=\"dataframe\">\n",
       "  <thead>\n",
       "    <tr style=\"text-align: right;\">\n",
       "      <th></th>\n",
       "      <th>AGE_YRS</th>\n",
       "      <th>SEX</th>\n",
       "      <th>DIED</th>\n",
       "      <th>DISABLE</th>\n",
       "      <th>NUMDAYS</th>\n",
       "      <th>CUR_ILL</th>\n",
       "      <th>HISTORY</th>\n",
       "      <th>ALLERGIES</th>\n",
       "    </tr>\n",
       "  </thead>\n",
       "  <tbody>\n",
       "    <tr>\n",
       "      <th>1390</th>\n",
       "      <td>73.0</td>\n",
       "      <td>0</td>\n",
       "      <td>0</td>\n",
       "      <td>0</td>\n",
       "      <td>0.0</td>\n",
       "      <td>2</td>\n",
       "      <td>2</td>\n",
       "      <td>0</td>\n",
       "    </tr>\n",
       "    <tr>\n",
       "      <th>1391</th>\n",
       "      <td>4.0</td>\n",
       "      <td>0</td>\n",
       "      <td>0</td>\n",
       "      <td>0</td>\n",
       "      <td>0.0</td>\n",
       "      <td>0</td>\n",
       "      <td>0</td>\n",
       "      <td>1</td>\n",
       "    </tr>\n",
       "    <tr>\n",
       "      <th>1392</th>\n",
       "      <td>35.0</td>\n",
       "      <td>0</td>\n",
       "      <td>0</td>\n",
       "      <td>0</td>\n",
       "      <td>0.0</td>\n",
       "      <td>0</td>\n",
       "      <td>1</td>\n",
       "      <td>1</td>\n",
       "    </tr>\n",
       "    <tr>\n",
       "      <th>1393</th>\n",
       "      <td>25.0</td>\n",
       "      <td>0</td>\n",
       "      <td>0</td>\n",
       "      <td>0</td>\n",
       "      <td>0.0</td>\n",
       "      <td>0</td>\n",
       "      <td>2</td>\n",
       "      <td>1</td>\n",
       "    </tr>\n",
       "    <tr>\n",
       "      <th>1394</th>\n",
       "      <td>37.0</td>\n",
       "      <td>1</td>\n",
       "      <td>0</td>\n",
       "      <td>0</td>\n",
       "      <td>1.0</td>\n",
       "      <td>0</td>\n",
       "      <td>0</td>\n",
       "      <td>1</td>\n",
       "    </tr>\n",
       "    <tr>\n",
       "      <th>...</th>\n",
       "      <td>...</td>\n",
       "      <td>...</td>\n",
       "      <td>...</td>\n",
       "      <td>...</td>\n",
       "      <td>...</td>\n",
       "      <td>...</td>\n",
       "      <td>...</td>\n",
       "      <td>...</td>\n",
       "    </tr>\n",
       "    <tr>\n",
       "      <th>3963</th>\n",
       "      <td>62.0</td>\n",
       "      <td>1</td>\n",
       "      <td>1</td>\n",
       "      <td>0</td>\n",
       "      <td>2.0</td>\n",
       "      <td>1</td>\n",
       "      <td>1</td>\n",
       "      <td>0</td>\n",
       "    </tr>\n",
       "    <tr>\n",
       "      <th>3964</th>\n",
       "      <td>79.0</td>\n",
       "      <td>1</td>\n",
       "      <td>1</td>\n",
       "      <td>0</td>\n",
       "      <td>3.0</td>\n",
       "      <td>1</td>\n",
       "      <td>1</td>\n",
       "      <td>0</td>\n",
       "    </tr>\n",
       "    <tr>\n",
       "      <th>3965</th>\n",
       "      <td>43.0</td>\n",
       "      <td>1</td>\n",
       "      <td>1</td>\n",
       "      <td>0</td>\n",
       "      <td>2.0</td>\n",
       "      <td>1</td>\n",
       "      <td>1</td>\n",
       "      <td>0</td>\n",
       "    </tr>\n",
       "    <tr>\n",
       "      <th>3966</th>\n",
       "      <td>89.0</td>\n",
       "      <td>1</td>\n",
       "      <td>1</td>\n",
       "      <td>0</td>\n",
       "      <td>0.0</td>\n",
       "      <td>2</td>\n",
       "      <td>1</td>\n",
       "      <td>0</td>\n",
       "    </tr>\n",
       "    <tr>\n",
       "      <th>3967</th>\n",
       "      <td>56.0</td>\n",
       "      <td>0</td>\n",
       "      <td>1</td>\n",
       "      <td>0</td>\n",
       "      <td>1.0</td>\n",
       "      <td>1</td>\n",
       "      <td>1</td>\n",
       "      <td>0</td>\n",
       "    </tr>\n",
       "  </tbody>\n",
       "</table>\n",
       "<p>2577 rows × 8 columns</p>\n",
       "</div>"
      ],
      "text/plain": [
       "      AGE_YRS  SEX  DIED  DISABLE  NUMDAYS  CUR_ILL  HISTORY  ALLERGIES\n",
       "1390     73.0    0     0        0      0.0        2        2          0\n",
       "1391      4.0    0     0        0      0.0        0        0          1\n",
       "1392     35.0    0     0        0      0.0        0        1          1\n",
       "1393     25.0    0     0        0      0.0        0        2          1\n",
       "1394     37.0    1     0        0      1.0        0        0          1\n",
       "...       ...  ...   ...      ...      ...      ...      ...        ...\n",
       "3963     62.0    1     1        0      2.0        1        1          0\n",
       "3964     79.0    1     1        0      3.0        1        1          0\n",
       "3965     43.0    1     1        0      2.0        1        1          0\n",
       "3966     89.0    1     1        0      0.0        2        1          0\n",
       "3967     56.0    0     1        0      1.0        1        1          0\n",
       "\n",
       "[2577 rows x 8 columns]"
      ]
     },
     "execution_count": 90,
     "metadata": {},
     "output_type": "execute_result"
    }
   ],
   "source": [
    "from sklearn import preprocessing\n",
    "# Perform scaling\n",
    "df_scaled = preprocessing.scale(df_ann)\n",
    "\n",
    "# Convert the scaled array back to a DataFrame\n",
    "df_scaled = pd.DataFrame(df_scaled, columns=df_ann.columns)\n",
    "\n",
    "# Assign 'Outcome' column from df_ann to df_scaled_ann\n",
    "df_scaled['DIED'] = df_ann['DIED']\n",
    "\n",
    "df_ann"
   ]
  },
  {
   "cell_type": "code",
   "execution_count": 91,
   "id": "59f3e34d",
   "metadata": {},
   "outputs": [
    {
     "data": {
      "text/html": [
       "<div>\n",
       "<style scoped>\n",
       "    .dataframe tbody tr th:only-of-type {\n",
       "        vertical-align: middle;\n",
       "    }\n",
       "\n",
       "    .dataframe tbody tr th {\n",
       "        vertical-align: top;\n",
       "    }\n",
       "\n",
       "    .dataframe thead th {\n",
       "        text-align: right;\n",
       "    }\n",
       "</style>\n",
       "<table border=\"1\" class=\"dataframe\">\n",
       "  <thead>\n",
       "    <tr style=\"text-align: right;\">\n",
       "      <th></th>\n",
       "      <th>SEX</th>\n",
       "      <th>DISABLE</th>\n",
       "      <th>NUMDAYS</th>\n",
       "      <th>CUR_ILL</th>\n",
       "      <th>HISTORY</th>\n",
       "      <th>ALLERGIES</th>\n",
       "    </tr>\n",
       "  </thead>\n",
       "  <tbody>\n",
       "    <tr>\n",
       "      <th>1390</th>\n",
       "      <td>0</td>\n",
       "      <td>0</td>\n",
       "      <td>0.0</td>\n",
       "      <td>2</td>\n",
       "      <td>2</td>\n",
       "      <td>0</td>\n",
       "    </tr>\n",
       "    <tr>\n",
       "      <th>1391</th>\n",
       "      <td>0</td>\n",
       "      <td>0</td>\n",
       "      <td>0.0</td>\n",
       "      <td>0</td>\n",
       "      <td>0</td>\n",
       "      <td>1</td>\n",
       "    </tr>\n",
       "    <tr>\n",
       "      <th>1392</th>\n",
       "      <td>0</td>\n",
       "      <td>0</td>\n",
       "      <td>0.0</td>\n",
       "      <td>0</td>\n",
       "      <td>1</td>\n",
       "      <td>1</td>\n",
       "    </tr>\n",
       "    <tr>\n",
       "      <th>1393</th>\n",
       "      <td>0</td>\n",
       "      <td>0</td>\n",
       "      <td>0.0</td>\n",
       "      <td>0</td>\n",
       "      <td>2</td>\n",
       "      <td>1</td>\n",
       "    </tr>\n",
       "    <tr>\n",
       "      <th>1394</th>\n",
       "      <td>1</td>\n",
       "      <td>0</td>\n",
       "      <td>1.0</td>\n",
       "      <td>0</td>\n",
       "      <td>0</td>\n",
       "      <td>1</td>\n",
       "    </tr>\n",
       "    <tr>\n",
       "      <th>...</th>\n",
       "      <td>...</td>\n",
       "      <td>...</td>\n",
       "      <td>...</td>\n",
       "      <td>...</td>\n",
       "      <td>...</td>\n",
       "      <td>...</td>\n",
       "    </tr>\n",
       "    <tr>\n",
       "      <th>3963</th>\n",
       "      <td>1</td>\n",
       "      <td>0</td>\n",
       "      <td>2.0</td>\n",
       "      <td>1</td>\n",
       "      <td>1</td>\n",
       "      <td>0</td>\n",
       "    </tr>\n",
       "    <tr>\n",
       "      <th>3964</th>\n",
       "      <td>1</td>\n",
       "      <td>0</td>\n",
       "      <td>3.0</td>\n",
       "      <td>1</td>\n",
       "      <td>1</td>\n",
       "      <td>0</td>\n",
       "    </tr>\n",
       "    <tr>\n",
       "      <th>3965</th>\n",
       "      <td>1</td>\n",
       "      <td>0</td>\n",
       "      <td>2.0</td>\n",
       "      <td>1</td>\n",
       "      <td>1</td>\n",
       "      <td>0</td>\n",
       "    </tr>\n",
       "    <tr>\n",
       "      <th>3966</th>\n",
       "      <td>1</td>\n",
       "      <td>0</td>\n",
       "      <td>0.0</td>\n",
       "      <td>2</td>\n",
       "      <td>1</td>\n",
       "      <td>0</td>\n",
       "    </tr>\n",
       "    <tr>\n",
       "      <th>3967</th>\n",
       "      <td>0</td>\n",
       "      <td>0</td>\n",
       "      <td>1.0</td>\n",
       "      <td>1</td>\n",
       "      <td>1</td>\n",
       "      <td>0</td>\n",
       "    </tr>\n",
       "  </tbody>\n",
       "</table>\n",
       "<p>2577 rows × 6 columns</p>\n",
       "</div>"
      ],
      "text/plain": [
       "      SEX  DISABLE  NUMDAYS  CUR_ILL  HISTORY  ALLERGIES\n",
       "1390    0        0      0.0        2        2          0\n",
       "1391    0        0      0.0        0        0          1\n",
       "1392    0        0      0.0        0        1          1\n",
       "1393    0        0      0.0        0        2          1\n",
       "1394    1        0      1.0        0        0          1\n",
       "...   ...      ...      ...      ...      ...        ...\n",
       "3963    1        0      2.0        1        1          0\n",
       "3964    1        0      3.0        1        1          0\n",
       "3965    1        0      2.0        1        1          0\n",
       "3966    1        0      0.0        2        1          0\n",
       "3967    0        0      1.0        1        1          0\n",
       "\n",
       "[2577 rows x 6 columns]"
      ]
     },
     "execution_count": 91,
     "metadata": {},
     "output_type": "execute_result"
    }
   ],
   "source": [
    "from sklearn.model_selection import train_test_split\n",
    "#X = df_ann.loc[:, df_ann.columns != ['DIED', 'AGE_YRS']]\n",
    "X = df_ann.loc[:, ~df_ann.columns.isin(['DIED', 'AGE_YRS'])]\n",
    "y = df_ann.loc[:, 'DIED']\n",
    "X"
   ]
  },
  {
   "cell_type": "code",
   "execution_count": 92,
   "id": "7848e2a7",
   "metadata": {},
   "outputs": [
    {
     "data": {
      "text/plain": [
       "((2319, 6), (258, 6), (2319,), (258,))"
      ]
     },
     "execution_count": 92,
     "metadata": {},
     "output_type": "execute_result"
    }
   ],
   "source": [
    "# split the data into training and testing\n",
    "X_train, X_test, y_train, y_test = train_test_split(X, y, test_size = 0.1, random_state = 35)\n",
    "X_train.shape, X_test.shape, y_train.shape, y_test.shape"
   ]
  },
  {
   "cell_type": "code",
   "execution_count": 93,
   "id": "f3dbb1aa",
   "metadata": {},
   "outputs": [],
   "source": [
    "# Fixing a random seed ensures reproducible results\n",
    "import numpy as np\n",
    "import random\n",
    "import tensorflow"
   ]
  },
  {
   "cell_type": "code",
   "execution_count": 94,
   "id": "8089c25a",
   "metadata": {},
   "outputs": [],
   "source": [
    "from keras.models import Sequential \n",
    "model_ann = Sequential()"
   ]
  },
  {
   "cell_type": "code",
   "execution_count": 95,
   "id": "a3643a03",
   "metadata": {},
   "outputs": [],
   "source": [
    "# Let's add the first hidden layer:\n",
    "from keras.layers import Dense\n",
    "# Add the first hidden layer\n",
    "model_ann.add(Dense(64, activation = 'relu', input_dim = 6))"
   ]
  },
  {
   "cell_type": "code",
   "execution_count": 96,
   "id": "a956379b",
   "metadata": {},
   "outputs": [],
   "source": [
    "# Let's add our second hidden layer:\n",
    "# Add the second hidden layer\n",
    "model_ann.add(Dense(16, activation = 'relu'))"
   ]
  },
  {
   "cell_type": "code",
   "execution_count": 97,
   "id": "01231f8e",
   "metadata": {},
   "outputs": [],
   "source": [
    "# Let's add our second hidden layer:\n",
    "# Add the second hidden layer\n",
    "model_ann.add(Dense(16, activation = 'relu'))"
   ]
  },
  {
   "cell_type": "code",
   "execution_count": 98,
   "id": "7447edd0",
   "metadata": {},
   "outputs": [],
   "source": [
    "# Now we add the output layer as follows:\n",
    "# Add the output layer\n",
    "model_ann.add(Dense(1, activation = 'sigmoid'))"
   ]
  },
  {
   "cell_type": "code",
   "execution_count": 99,
   "id": "ad995570",
   "metadata": {},
   "outputs": [],
   "source": [
    "# COMPILATION MODEL\n",
    "\n",
    "# Then, we can run the compile() function as follows:\n",
    "    # Compile the model\n",
    "model_ann.compile(optimizer = 'adam',\n",
    "              loss = 'binary_crossentropy',\n",
    "              metrics = ['accuracy'])"
   ]
  },
  {
   "cell_type": "code",
   "execution_count": 100,
   "id": "85c64320",
   "metadata": {},
   "outputs": [
    {
     "name": "stdout",
     "output_type": "stream",
     "text": [
      "Epoch 1/200\n",
      "73/73 [==============================] - 1s 1ms/step - loss: 0.6698 - accuracy: 0.8008\n",
      "Epoch 2/200\n",
      "73/73 [==============================] - 0s 892us/step - loss: 0.3573 - accuracy: 0.9426\n",
      "Epoch 3/200\n",
      "73/73 [==============================] - 0s 850us/step - loss: 0.2702 - accuracy: 0.9431\n",
      "Epoch 4/200\n",
      "73/73 [==============================] - 0s 929us/step - loss: 0.2539 - accuracy: 0.9414\n",
      "Epoch 5/200\n",
      "73/73 [==============================] - 0s 891us/step - loss: 0.2361 - accuracy: 0.9431\n",
      "Epoch 6/200\n",
      "73/73 [==============================] - 0s 885us/step - loss: 0.2447 - accuracy: 0.9426\n",
      "Epoch 7/200\n",
      "73/73 [==============================] - 0s 899us/step - loss: 0.1996 - accuracy: 0.9426\n",
      "Epoch 8/200\n",
      "73/73 [==============================] - 0s 867us/step - loss: 0.2018 - accuracy: 0.9422\n",
      "Epoch 9/200\n",
      "73/73 [==============================] - 0s 894us/step - loss: 0.2408 - accuracy: 0.9409\n",
      "Epoch 10/200\n",
      "73/73 [==============================] - 0s 984us/step - loss: 0.2085 - accuracy: 0.9426\n",
      "Epoch 11/200\n",
      "73/73 [==============================] - 0s 996us/step - loss: 0.2579 - accuracy: 0.9422\n",
      "Epoch 12/200\n",
      "73/73 [==============================] - 0s 889us/step - loss: 0.1939 - accuracy: 0.9431\n",
      "Epoch 13/200\n",
      "73/73 [==============================] - 0s 876us/step - loss: 0.2102 - accuracy: 0.9405\n",
      "Epoch 14/200\n",
      "73/73 [==============================] - 0s 901us/step - loss: 0.1913 - accuracy: 0.9431\n",
      "Epoch 15/200\n",
      "73/73 [==============================] - 0s 821us/step - loss: 0.2034 - accuracy: 0.9414\n",
      "Epoch 16/200\n",
      "73/73 [==============================] - 0s 845us/step - loss: 0.1924 - accuracy: 0.9418\n",
      "Epoch 17/200\n",
      "73/73 [==============================] - 0s 883us/step - loss: 0.2183 - accuracy: 0.9431\n",
      "Epoch 18/200\n",
      "73/73 [==============================] - 0s 896us/step - loss: 0.1783 - accuracy: 0.9422\n",
      "Epoch 19/200\n",
      "73/73 [==============================] - 0s 899us/step - loss: 0.1901 - accuracy: 0.9414\n",
      "Epoch 20/200\n",
      "73/73 [==============================] - 0s 884us/step - loss: 0.2973 - accuracy: 0.9426\n",
      "Epoch 21/200\n",
      "73/73 [==============================] - 0s 927us/step - loss: 0.2621 - accuracy: 0.9392\n",
      "Epoch 22/200\n",
      "73/73 [==============================] - 0s 898us/step - loss: 0.2410 - accuracy: 0.9426\n",
      "Epoch 23/200\n",
      "73/73 [==============================] - 0s 872us/step - loss: 0.2074 - accuracy: 0.9431\n",
      "Epoch 24/200\n",
      "73/73 [==============================] - 0s 865us/step - loss: 0.1756 - accuracy: 0.9418\n",
      "Epoch 25/200\n",
      "73/73 [==============================] - 0s 910us/step - loss: 0.2285 - accuracy: 0.9426\n",
      "Epoch 26/200\n",
      "73/73 [==============================] - 0s 916us/step - loss: 0.1993 - accuracy: 0.9426\n",
      "Epoch 27/200\n",
      "73/73 [==============================] - 0s 914us/step - loss: 0.1730 - accuracy: 0.9418\n",
      "Epoch 28/200\n",
      "73/73 [==============================] - 0s 889us/step - loss: 0.1851 - accuracy: 0.9414\n",
      "Epoch 29/200\n",
      "73/73 [==============================] - 0s 1ms/step - loss: 0.1742 - accuracy: 0.9418\n",
      "Epoch 30/200\n",
      "73/73 [==============================] - 0s 967us/step - loss: 0.2285 - accuracy: 0.9414\n",
      "Epoch 31/200\n",
      "73/73 [==============================] - 0s 853us/step - loss: 0.2064 - accuracy: 0.9418\n",
      "Epoch 32/200\n",
      "73/73 [==============================] - 0s 674us/step - loss: 0.1984 - accuracy: 0.9435\n",
      "Epoch 33/200\n",
      "73/73 [==============================] - 0s 885us/step - loss: 0.2078 - accuracy: 0.9405\n",
      "Epoch 34/200\n",
      "73/73 [==============================] - 0s 953us/step - loss: 0.2029 - accuracy: 0.9426\n",
      "Epoch 35/200\n",
      "73/73 [==============================] - 0s 955us/step - loss: 0.2397 - accuracy: 0.9431\n",
      "Epoch 36/200\n",
      "73/73 [==============================] - 0s 900us/step - loss: 0.2052 - accuracy: 0.9435\n",
      "Epoch 37/200\n",
      "73/73 [==============================] - 0s 897us/step - loss: 0.1785 - accuracy: 0.9431\n",
      "Epoch 38/200\n",
      "73/73 [==============================] - 0s 930us/step - loss: 0.1820 - accuracy: 0.9418\n",
      "Epoch 39/200\n",
      "73/73 [==============================] - 0s 821us/step - loss: 0.1770 - accuracy: 0.9422\n",
      "Epoch 40/200\n",
      "73/73 [==============================] - 0s 1ms/step - loss: 0.1868 - accuracy: 0.9431\n",
      "Epoch 41/200\n",
      "73/73 [==============================] - 0s 877us/step - loss: 0.1881 - accuracy: 0.9439\n",
      "Epoch 42/200\n",
      "73/73 [==============================] - 0s 899us/step - loss: 0.1931 - accuracy: 0.9426\n",
      "Epoch 43/200\n",
      "73/73 [==============================] - 0s 943us/step - loss: 0.1904 - accuracy: 0.9422\n",
      "Epoch 44/200\n",
      "73/73 [==============================] - 0s 1ms/step - loss: 0.1836 - accuracy: 0.9439\n",
      "Epoch 45/200\n",
      "73/73 [==============================] - 0s 875us/step - loss: 0.1906 - accuracy: 0.9426\n",
      "Epoch 46/200\n",
      "73/73 [==============================] - 0s 912us/step - loss: 0.1740 - accuracy: 0.9409\n",
      "Epoch 47/200\n",
      "73/73 [==============================] - 0s 881us/step - loss: 0.1675 - accuracy: 0.9422\n",
      "Epoch 48/200\n",
      "73/73 [==============================] - 0s 878us/step - loss: 0.1854 - accuracy: 0.9418\n",
      "Epoch 49/200\n",
      "73/73 [==============================] - 0s 863us/step - loss: 0.1828 - accuracy: 0.9426\n",
      "Epoch 50/200\n",
      "73/73 [==============================] - 0s 1ms/step - loss: 0.1860 - accuracy: 0.9431\n",
      "Epoch 51/200\n",
      "73/73 [==============================] - 0s 972us/step - loss: 0.1681 - accuracy: 0.9426\n",
      "Epoch 52/200\n",
      "73/73 [==============================] - 0s 960us/step - loss: 0.1752 - accuracy: 0.9422\n",
      "Epoch 53/200\n",
      "73/73 [==============================] - 0s 922us/step - loss: 0.3396 - accuracy: 0.9435\n",
      "Epoch 54/200\n",
      "73/73 [==============================] - 0s 907us/step - loss: 0.2412 - accuracy: 0.9392\n",
      "Epoch 55/200\n",
      "73/73 [==============================] - 0s 956us/step - loss: 0.1711 - accuracy: 0.9422\n",
      "Epoch 56/200\n",
      "73/73 [==============================] - 0s 887us/step - loss: 0.2171 - accuracy: 0.9431\n",
      "Epoch 57/200\n",
      "73/73 [==============================] - 0s 909us/step - loss: 0.1776 - accuracy: 0.9431\n",
      "Epoch 58/200\n",
      "73/73 [==============================] - 0s 916us/step - loss: 0.1765 - accuracy: 0.9426\n",
      "Epoch 59/200\n",
      "73/73 [==============================] - 0s 905us/step - loss: 0.1750 - accuracy: 0.9422\n",
      "Epoch 60/200\n",
      "73/73 [==============================] - 0s 875us/step - loss: 0.1818 - accuracy: 0.9431\n",
      "Epoch 61/200\n",
      "73/73 [==============================] - 0s 941us/step - loss: 0.1725 - accuracy: 0.9431\n",
      "Epoch 62/200\n",
      "73/73 [==============================] - 0s 935us/step - loss: 0.1745 - accuracy: 0.9435\n",
      "Epoch 63/200\n",
      "73/73 [==============================] - 0s 904us/step - loss: 0.1694 - accuracy: 0.9431\n",
      "Epoch 64/200\n",
      "73/73 [==============================] - 0s 883us/step - loss: 0.1698 - accuracy: 0.9435\n",
      "Epoch 65/200\n",
      "73/73 [==============================] - 0s 871us/step - loss: 0.1674 - accuracy: 0.9426\n",
      "Epoch 66/200\n",
      "73/73 [==============================] - 0s 883us/step - loss: 0.1726 - accuracy: 0.9422\n",
      "Epoch 67/200\n",
      "73/73 [==============================] - 0s 869us/step - loss: 0.1676 - accuracy: 0.9431\n",
      "Epoch 68/200\n",
      "73/73 [==============================] - 0s 872us/step - loss: 0.1697 - accuracy: 0.9431\n",
      "Epoch 69/200\n",
      "73/73 [==============================] - 0s 902us/step - loss: 0.1845 - accuracy: 0.9409\n",
      "Epoch 70/200\n",
      "73/73 [==============================] - 0s 928us/step - loss: 0.1678 - accuracy: 0.9426\n",
      "Epoch 71/200\n",
      "73/73 [==============================] - 0s 905us/step - loss: 0.1710 - accuracy: 0.9435\n",
      "Epoch 72/200\n",
      "73/73 [==============================] - 0s 1ms/step - loss: 0.1715 - accuracy: 0.9422\n",
      "Epoch 73/200\n",
      "73/73 [==============================] - 0s 931us/step - loss: 0.1699 - accuracy: 0.9431\n",
      "Epoch 74/200\n",
      "73/73 [==============================] - 0s 928us/step - loss: 0.1669 - accuracy: 0.9426\n",
      "Epoch 75/200\n",
      "73/73 [==============================] - 0s 903us/step - loss: 0.1706 - accuracy: 0.9418\n",
      "Epoch 76/200\n",
      "73/73 [==============================] - 0s 899us/step - loss: 0.1655 - accuracy: 0.9444\n",
      "Epoch 77/200\n",
      "73/73 [==============================] - 0s 961us/step - loss: 0.1685 - accuracy: 0.9431\n",
      "Epoch 78/200\n",
      "73/73 [==============================] - 0s 952us/step - loss: 0.1684 - accuracy: 0.9439\n",
      "Epoch 79/200\n",
      "73/73 [==============================] - 0s 969us/step - loss: 0.1676 - accuracy: 0.9422\n",
      "Epoch 80/200\n",
      "73/73 [==============================] - 0s 861us/step - loss: 0.1660 - accuracy: 0.9422\n",
      "Epoch 81/200\n"
     ]
    },
    {
     "name": "stdout",
     "output_type": "stream",
     "text": [
      "73/73 [==============================] - 0s 841us/step - loss: 0.1653 - accuracy: 0.9431\n",
      "Epoch 82/200\n",
      "73/73 [==============================] - 0s 895us/step - loss: 0.1662 - accuracy: 0.9426\n",
      "Epoch 83/200\n",
      "73/73 [==============================] - 0s 881us/step - loss: 0.1678 - accuracy: 0.9422\n",
      "Epoch 84/200\n",
      "73/73 [==============================] - 0s 880us/step - loss: 0.1697 - accuracy: 0.9426\n",
      "Epoch 85/200\n",
      "73/73 [==============================] - 0s 887us/step - loss: 0.1675 - accuracy: 0.9426\n",
      "Epoch 86/200\n",
      "73/73 [==============================] - 0s 1ms/step - loss: 0.1676 - accuracy: 0.9409\n",
      "Epoch 87/200\n",
      "73/73 [==============================] - 0s 990us/step - loss: 0.1648 - accuracy: 0.9414\n",
      "Epoch 88/200\n",
      "73/73 [==============================] - 0s 936us/step - loss: 0.1673 - accuracy: 0.9426\n",
      "Epoch 89/200\n",
      "73/73 [==============================] - 0s 912us/step - loss: 0.1650 - accuracy: 0.9444\n",
      "Epoch 90/200\n",
      "73/73 [==============================] - 0s 878us/step - loss: 0.1654 - accuracy: 0.9435\n",
      "Epoch 91/200\n",
      "73/73 [==============================] - 0s 894us/step - loss: 0.1635 - accuracy: 0.9435\n",
      "Epoch 92/200\n",
      "73/73 [==============================] - 0s 875us/step - loss: 0.1637 - accuracy: 0.9426\n",
      "Epoch 93/200\n",
      "73/73 [==============================] - 0s 916us/step - loss: 0.1632 - accuracy: 0.9435\n",
      "Epoch 94/200\n",
      "73/73 [==============================] - 0s 1ms/step - loss: 0.1630 - accuracy: 0.9431\n",
      "Epoch 95/200\n",
      "73/73 [==============================] - 0s 945us/step - loss: 0.1628 - accuracy: 0.9435\n",
      "Epoch 96/200\n",
      "73/73 [==============================] - 0s 911us/step - loss: 0.1628 - accuracy: 0.9431\n",
      "Epoch 97/200\n",
      "73/73 [==============================] - 0s 902us/step - loss: 0.1624 - accuracy: 0.9439\n",
      "Epoch 98/200\n",
      "73/73 [==============================] - 0s 898us/step - loss: 0.1619 - accuracy: 0.9444\n",
      "Epoch 99/200\n",
      "73/73 [==============================] - 0s 752us/step - loss: 0.1625 - accuracy: 0.9444\n",
      "Epoch 100/200\n",
      "73/73 [==============================] - 0s 1ms/step - loss: 0.1624 - accuracy: 0.9444\n",
      "Epoch 101/200\n",
      "73/73 [==============================] - 0s 907us/step - loss: 0.1617 - accuracy: 0.9444\n",
      "Epoch 102/200\n",
      "73/73 [==============================] - 0s 903us/step - loss: 0.1618 - accuracy: 0.9439\n",
      "Epoch 103/200\n",
      "73/73 [==============================] - 0s 913us/step - loss: 0.1621 - accuracy: 0.9431\n",
      "Epoch 104/200\n",
      "73/73 [==============================] - 0s 916us/step - loss: 0.1616 - accuracy: 0.9435\n",
      "Epoch 105/200\n",
      "73/73 [==============================] - 0s 994us/step - loss: 0.1614 - accuracy: 0.9444\n",
      "Epoch 106/200\n",
      "73/73 [==============================] - 0s 876us/step - loss: 0.1617 - accuracy: 0.9439\n",
      "Epoch 107/200\n",
      "73/73 [==============================] - 0s 881us/step - loss: 0.1619 - accuracy: 0.9448\n",
      "Epoch 108/200\n",
      "73/73 [==============================] - 0s 894us/step - loss: 0.1609 - accuracy: 0.9435\n",
      "Epoch 109/200\n",
      "73/73 [==============================] - 0s 893us/step - loss: 0.1609 - accuracy: 0.9444\n",
      "Epoch 110/200\n",
      "73/73 [==============================] - 0s 879us/step - loss: 0.1682 - accuracy: 0.9448\n",
      "Epoch 111/200\n",
      "73/73 [==============================] - 0s 832us/step - loss: 0.1705 - accuracy: 0.9435\n",
      "Epoch 112/200\n",
      "73/73 [==============================] - 0s 846us/step - loss: 0.1635 - accuracy: 0.9439\n",
      "Epoch 113/200\n",
      "73/73 [==============================] - 0s 652us/step - loss: 0.1630 - accuracy: 0.9457\n",
      "Epoch 114/200\n",
      "73/73 [==============================] - 0s 879us/step - loss: 0.1669 - accuracy: 0.9452\n",
      "Epoch 115/200\n",
      "73/73 [==============================] - 0s 873us/step - loss: 0.1624 - accuracy: 0.9452\n",
      "Epoch 116/200\n",
      "73/73 [==============================] - 0s 893us/step - loss: 0.1613 - accuracy: 0.9457\n",
      "Epoch 117/200\n",
      "73/73 [==============================] - 0s 840us/step - loss: 0.1613 - accuracy: 0.9461\n",
      "Epoch 118/200\n",
      "73/73 [==============================] - 0s 912us/step - loss: 0.1605 - accuracy: 0.9461\n",
      "Epoch 119/200\n",
      "73/73 [==============================] - 0s 915us/step - loss: 0.1605 - accuracy: 0.9444\n",
      "Epoch 120/200\n",
      "73/73 [==============================] - 0s 927us/step - loss: 0.1605 - accuracy: 0.9444\n",
      "Epoch 121/200\n",
      "73/73 [==============================] - 0s 818us/step - loss: 0.1594 - accuracy: 0.9457\n",
      "Epoch 122/200\n",
      "73/73 [==============================] - 0s 766us/step - loss: 0.1602 - accuracy: 0.9452\n",
      "Epoch 123/200\n",
      "73/73 [==============================] - 0s 891us/step - loss: 0.1600 - accuracy: 0.9452\n",
      "Epoch 124/200\n",
      "73/73 [==============================] - 0s 886us/step - loss: 0.1592 - accuracy: 0.9461\n",
      "Epoch 125/200\n",
      "73/73 [==============================] - 0s 893us/step - loss: 0.1596 - accuracy: 0.9452\n",
      "Epoch 126/200\n",
      "73/73 [==============================] - 0s 865us/step - loss: 0.1593 - accuracy: 0.9439\n",
      "Epoch 127/200\n",
      "73/73 [==============================] - 0s 888us/step - loss: 0.1587 - accuracy: 0.9452\n",
      "Epoch 128/200\n",
      "73/73 [==============================] - 0s 902us/step - loss: 0.1588 - accuracy: 0.9452\n",
      "Epoch 129/200\n",
      "73/73 [==============================] - 0s 888us/step - loss: 0.1585 - accuracy: 0.9461\n",
      "Epoch 130/200\n",
      "73/73 [==============================] - 0s 866us/step - loss: 0.1847 - accuracy: 0.9457\n",
      "Epoch 131/200\n",
      "73/73 [==============================] - 0s 881us/step - loss: 0.1671 - accuracy: 0.9452\n",
      "Epoch 132/200\n",
      "73/73 [==============================] - 0s 846us/step - loss: 0.1724 - accuracy: 0.9452\n",
      "Epoch 133/200\n",
      "73/73 [==============================] - 0s 923us/step - loss: 0.1663 - accuracy: 0.9461\n",
      "Epoch 134/200\n",
      "73/73 [==============================] - 0s 831us/step - loss: 0.1629 - accuracy: 0.9465\n",
      "Epoch 135/200\n",
      "73/73 [==============================] - 0s 859us/step - loss: 0.1610 - accuracy: 0.9448\n",
      "Epoch 136/200\n",
      "73/73 [==============================] - 0s 888us/step - loss: 0.1600 - accuracy: 0.9461\n",
      "Epoch 137/200\n",
      "73/73 [==============================] - 0s 908us/step - loss: 0.1587 - accuracy: 0.9457\n",
      "Epoch 138/200\n",
      "73/73 [==============================] - 0s 894us/step - loss: 0.1587 - accuracy: 0.9474\n",
      "Epoch 139/200\n",
      "73/73 [==============================] - 0s 867us/step - loss: 0.1605 - accuracy: 0.9461\n",
      "Epoch 140/200\n",
      "73/73 [==============================] - 0s 881us/step - loss: 0.1586 - accuracy: 0.9461\n",
      "Epoch 141/200\n",
      "73/73 [==============================] - 0s 928us/step - loss: 0.1600 - accuracy: 0.9457\n",
      "Epoch 142/200\n",
      "73/73 [==============================] - 0s 902us/step - loss: 0.1606 - accuracy: 0.9457\n",
      "Epoch 143/200\n",
      "73/73 [==============================] - 0s 860us/step - loss: 0.1613 - accuracy: 0.9448\n",
      "Epoch 144/200\n",
      "73/73 [==============================] - 0s 840us/step - loss: 0.1658 - accuracy: 0.9444\n",
      "Epoch 145/200\n",
      "73/73 [==============================] - 0s 899us/step - loss: 0.1765 - accuracy: 0.9465\n",
      "Epoch 146/200\n",
      "73/73 [==============================] - 0s 871us/step - loss: 0.1615 - accuracy: 0.9457\n",
      "Epoch 147/200\n",
      "73/73 [==============================] - 0s 920us/step - loss: 0.1584 - accuracy: 0.9457\n",
      "Epoch 148/200\n",
      "73/73 [==============================] - 0s 947us/step - loss: 0.1576 - accuracy: 0.9465\n",
      "Epoch 149/200\n",
      "73/73 [==============================] - 0s 1ms/step - loss: 0.1590 - accuracy: 0.9457\n",
      "Epoch 150/200\n",
      "73/73 [==============================] - 0s 681us/step - loss: 0.1579 - accuracy: 0.9457\n",
      "Epoch 151/200\n",
      "73/73 [==============================] - 0s 804us/step - loss: 0.1579 - accuracy: 0.9474\n",
      "Epoch 152/200\n",
      "73/73 [==============================] - 0s 1ms/step - loss: 0.1583 - accuracy: 0.9465\n",
      "Epoch 153/200\n",
      "73/73 [==============================] - 0s 665us/step - loss: 0.1571 - accuracy: 0.9452\n",
      "Epoch 154/200\n",
      "73/73 [==============================] - 0s 681us/step - loss: 0.1573 - accuracy: 0.9448\n",
      "Epoch 155/200\n",
      "73/73 [==============================] - 0s 834us/step - loss: 0.1567 - accuracy: 0.9465\n",
      "Epoch 156/200\n",
      "73/73 [==============================] - 0s 656us/step - loss: 0.1568 - accuracy: 0.9461\n",
      "Epoch 157/200\n",
      "73/73 [==============================] - 0s 665us/step - loss: 0.1568 - accuracy: 0.9457\n",
      "Epoch 158/200\n",
      "73/73 [==============================] - 0s 919us/step - loss: 0.1564 - accuracy: 0.9483\n",
      "Epoch 159/200\n",
      "73/73 [==============================] - 0s 713us/step - loss: 0.1562 - accuracy: 0.9465\n",
      "Epoch 160/200\n",
      "73/73 [==============================] - 0s 889us/step - loss: 0.1563 - accuracy: 0.9457\n"
     ]
    },
    {
     "name": "stdout",
     "output_type": "stream",
     "text": [
      "Epoch 161/200\n",
      "73/73 [==============================] - 0s 890us/step - loss: 0.1580 - accuracy: 0.9452\n",
      "Epoch 162/200\n",
      "73/73 [==============================] - 0s 871us/step - loss: 0.1558 - accuracy: 0.9478\n",
      "Epoch 163/200\n",
      "73/73 [==============================] - 0s 912us/step - loss: 0.1550 - accuracy: 0.9478\n",
      "Epoch 164/200\n",
      "73/73 [==============================] - 0s 863us/step - loss: 0.1560 - accuracy: 0.9474\n",
      "Epoch 165/200\n",
      "73/73 [==============================] - 0s 866us/step - loss: 0.1550 - accuracy: 0.9478\n",
      "Epoch 166/200\n",
      "73/73 [==============================] - 0s 887us/step - loss: 0.1547 - accuracy: 0.9491\n",
      "Epoch 167/200\n",
      "73/73 [==============================] - 0s 888us/step - loss: 0.1546 - accuracy: 0.9478\n",
      "Epoch 168/200\n",
      "73/73 [==============================] - 0s 889us/step - loss: 0.1558 - accuracy: 0.9474\n",
      "Epoch 169/200\n",
      "73/73 [==============================] - 0s 877us/step - loss: 0.1544 - accuracy: 0.9474\n",
      "Epoch 170/200\n",
      "73/73 [==============================] - 0s 952us/step - loss: 0.1538 - accuracy: 0.9478\n",
      "Epoch 171/200\n",
      "73/73 [==============================] - 0s 865us/step - loss: 0.1667 - accuracy: 0.9452\n",
      "Epoch 172/200\n",
      "73/73 [==============================] - 0s 896us/step - loss: 0.1664 - accuracy: 0.9457\n",
      "Epoch 173/200\n",
      "73/73 [==============================] - 0s 854us/step - loss: 0.1613 - accuracy: 0.9465\n",
      "Epoch 174/200\n",
      "73/73 [==============================] - 0s 883us/step - loss: 0.1563 - accuracy: 0.9457\n",
      "Epoch 175/200\n",
      "73/73 [==============================] - 0s 826us/step - loss: 0.1611 - accuracy: 0.9465\n",
      "Epoch 176/200\n",
      "73/73 [==============================] - 0s 872us/step - loss: 0.1574 - accuracy: 0.9465\n",
      "Epoch 177/200\n",
      "73/73 [==============================] - 0s 664us/step - loss: 0.1558 - accuracy: 0.9474\n",
      "Epoch 178/200\n",
      "73/73 [==============================] - 0s 896us/step - loss: 0.1559 - accuracy: 0.9474\n",
      "Epoch 179/200\n",
      "73/73 [==============================] - 0s 927us/step - loss: 0.1555 - accuracy: 0.9483\n",
      "Epoch 180/200\n",
      "73/73 [==============================] - 0s 947us/step - loss: 0.1563 - accuracy: 0.9478\n",
      "Epoch 181/200\n",
      "73/73 [==============================] - 0s 913us/step - loss: 0.1546 - accuracy: 0.9478\n",
      "Epoch 182/200\n",
      "73/73 [==============================] - 0s 912us/step - loss: 0.1546 - accuracy: 0.9483\n",
      "Epoch 183/200\n",
      "73/73 [==============================] - 0s 906us/step - loss: 0.1566 - accuracy: 0.9470\n",
      "Epoch 184/200\n",
      "73/73 [==============================] - 0s 860us/step - loss: 0.1537 - accuracy: 0.9483\n",
      "Epoch 185/200\n",
      "73/73 [==============================] - 0s 856us/step - loss: 0.1544 - accuracy: 0.9478\n",
      "Epoch 186/200\n",
      "73/73 [==============================] - 0s 876us/step - loss: 0.1542 - accuracy: 0.9474\n",
      "Epoch 187/200\n",
      "73/73 [==============================] - 0s 795us/step - loss: 0.1551 - accuracy: 0.9474\n",
      "Epoch 188/200\n",
      "73/73 [==============================] - 0s 1ms/step - loss: 0.1541 - accuracy: 0.9483\n",
      "Epoch 189/200\n",
      "73/73 [==============================] - 0s 899us/step - loss: 0.1538 - accuracy: 0.9478\n",
      "Epoch 190/200\n",
      "73/73 [==============================] - 0s 898us/step - loss: 0.1540 - accuracy: 0.9474\n",
      "Epoch 191/200\n",
      "73/73 [==============================] - 0s 931us/step - loss: 0.1541 - accuracy: 0.9487\n",
      "Epoch 192/200\n",
      "73/73 [==============================] - 0s 883us/step - loss: 0.1537 - accuracy: 0.9465\n",
      "Epoch 193/200\n",
      "73/73 [==============================] - 0s 852us/step - loss: 0.1532 - accuracy: 0.9483\n",
      "Epoch 194/200\n",
      "73/73 [==============================] - 0s 682us/step - loss: 0.1536 - accuracy: 0.9474\n",
      "Epoch 195/200\n",
      "73/73 [==============================] - 0s 882us/step - loss: 0.1530 - accuracy: 0.9478\n",
      "Epoch 196/200\n",
      "73/73 [==============================] - 0s 942us/step - loss: 0.1531 - accuracy: 0.9474\n",
      "Epoch 197/200\n",
      "73/73 [==============================] - 0s 898us/step - loss: 0.1533 - accuracy: 0.9483\n",
      "Epoch 198/200\n",
      "73/73 [==============================] - 0s 871us/step - loss: 0.1519 - accuracy: 0.9487\n",
      "Epoch 199/200\n",
      "73/73 [==============================] - 0s 968us/step - loss: 0.1513 - accuracy: 0.9491\n",
      "Epoch 200/200\n",
      "73/73 [==============================] - 0s 884us/step - loss: 0.1521 - accuracy: 0.9487\n"
     ]
    },
    {
     "data": {
      "text/plain": [
       "<keras.src.callbacks.History at 0x2588ee71990>"
      ]
     },
     "execution_count": 100,
     "metadata": {},
     "output_type": "execute_result"
    }
   ],
   "source": [
    "# model trainning\n",
    "\n",
    "# To train our MLP model defined in earlier steps, let's call the fit function. Let's train our model for 200 iterations:\n",
    "# Train the model for 200 epochs\n",
    "model_ann.fit(X_train, y_train, epochs = 200, batch_size=32)"
   ]
  },
  {
   "cell_type": "code",
   "execution_count": 101,
   "id": "88d00c8a",
   "metadata": {},
   "outputs": [
    {
     "name": "stdout",
     "output_type": "stream",
     "text": [
      "73/73 [==============================] - 0s 664us/step - loss: 0.1492 - accuracy: 0.9487\n",
      "Training Accuracy: 94.87%\n",
      "\n",
      "9/9 [==============================] - 0s 998us/step - loss: 0.2213 - accuracy: 0.9186\n",
      "Testing Accuracy: 91.86%\n",
      "\n"
     ]
    }
   ],
   "source": [
    "# Testing ACCURACY\n",
    "\n",
    "scores = model_ann.evaluate(X_train, y_train)\n",
    "print(\"Training Accuracy: %.2f%%\\n\" % (scores[1]*100))\n",
    "\n",
    "scores = model_ann.evaluate(X_test, y_test)\n",
    "print(\"Testing Accuracy: %.2f%%\\n\" % (scores[1]*100))"
   ]
  },
  {
   "cell_type": "code",
   "execution_count": 102,
   "id": "3b4280cd",
   "metadata": {},
   "outputs": [
    {
     "name": "stdout",
     "output_type": "stream",
     "text": [
      "9/9 [==============================] - 0s 1ms/step\n"
     ]
    },
    {
     "data": {
      "text/plain": [
       "Text(50.722222222222214, 0.5, 'Actual')"
      ]
     },
     "execution_count": 102,
     "metadata": {},
     "output_type": "execute_result"
    },
    {
     "data": {
      "image/png": "[encoded data removed]",
      "text/plain": [
       "<Figure size 640x480 with 1 Axes>"
      ]
     },
     "metadata": {},
     "output_type": "display_data"
    }
   ],
   "source": [
    "from sklearn.metrics import confusion_matrix\n",
    "import seaborn as sns\n",
    "\n",
    "y_test_pred = model_ann.predict(X_test)\n",
    "y_test_pred = y_test_pred.flatten()\n",
    "y_test_pred_new = np.where(y_test_pred.round(2) > 0.5, 1, 0)\n",
    "c_matrix = confusion_matrix(y_test, y_test_pred_new)\n",
    "ax = sns.heatmap(c_matrix, annot=True,                  \n",
    "                 xticklabels=['Alive','Died'],                \n",
    "                 yticklabels=['Alive','Died'],                  \n",
    "                 cbar=False, cmap='Blues')\n",
    "ax.set_xlabel(\"Prediction\")\n",
    "ax.set_ylabel(\"Actual\")"
   ]
  },
  {
   "cell_type": "markdown",
   "id": "6f9643b9",
   "metadata": {},
   "source": [
    "### ROC Curve"
   ]
  },
  {
   "cell_type": "code",
   "execution_count": 103,
   "id": "bac3b107",
   "metadata": {
    "scrolled": false
   },
   "outputs": [
    {
     "name": "stdout",
     "output_type": "stream",
     "text": [
      "9/9 [==============================] - 0s 2ms/step\n"
     ]
    }
   ],
   "source": [
    "from sklearn.metrics import roc_curve\n",
    "import matplotlib.pyplot as plt\n",
    "y_test_pred_probs = model_ann.predict(X_test)"
   ]
  },
  {
   "cell_type": "code",
   "execution_count": 104,
   "id": "d230c100",
   "metadata": {},
   "outputs": [],
   "source": [
    "#Then, run the roc_curve function in order to get the corresponding false positive rate and true positive rate for the ROC curve:\n",
    "FPR, TPR, _ = roc_curve(y_test, y_test_pred_probs)"
   ]
  },
  {
   "cell_type": "code",
   "execution_count": 105,
   "id": "bdd9ea07",
   "metadata": {},
   "outputs": [],
   "source": [
    "FPR, TPR, _ = roc_curve(y_test, y_test_pred_probs)"
   ]
  },
  {
   "cell_type": "code",
   "execution_count": 106,
   "id": "1882a458",
   "metadata": {},
   "outputs": [
    {
     "data": {
      "text/plain": [
       "Text(0, 0.5, 'True Positive Rate')"
      ]
     },
     "execution_count": 106,
     "metadata": {},
     "output_type": "execute_result"
    },
    {
     "data": {
      "image/png": "[encoded data removed]",
      "text/plain": [
       "<Figure size 640x480 with 1 Axes>"
      ]
     },
     "metadata": {},
     "output_type": "display_data"
    }
   ],
   "source": [
    "plt.plot(FPR, TPR)\n",
    "plt.plot([0,1],[0,1],'--', color='black')\n",
    "plt.title('ROC Curve')\n",
    "plt.xlabel('False Positive Rate')\n",
    "plt.ylabel('True Positive Rate')"
   ]
  },
  {
   "cell_type": "markdown",
   "id": "0d3ed91d",
   "metadata": {},
   "source": [
    "### Model Evaluation: ANN"
   ]
  },
  {
   "cell_type": "code",
   "execution_count": 107,
   "id": "9652f22a",
   "metadata": {
    "scrolled": true
   },
   "outputs": [
    {
     "name": "stdout",
     "output_type": "stream",
     "text": [
      "+-------------------+-------+-------+-------+\n",
      "| Parameters        |   10% |   20% |   30% |\n",
      "+===================+=======+=======+=======+\n",
      "| Training Accuracy |  0.95 |  0.95 |  0.94 |\n",
      "+-------------------+-------+-------+-------+\n",
      "| Testing Accuracy  |  0.92 |  0.92 |  0.93 |\n",
      "+-------------------+-------+-------+-------+\n",
      "CV = Cross-Validation\n"
     ]
    }
   ],
   "source": [
    "from tabulate import tabulate\n",
    "data = [\n",
    "    [\"Training Accuracy\", 0.95, 0.95, 0.94],\n",
    "    [\"Testing Accuracy\", 0.92, 0.92, 0.93],\n",
    "]   \n",
    "headers = ['Parameters', \"10%\", \"20%\", \"30%\"]\n",
    "\n",
    "print(tabulate(data, headers=headers, tablefmt=\"grid\"))\n",
    "print(\"CV = Cross-Validation\")"
   ]
  },
  {
   "cell_type": "code",
   "execution_count": null,
   "id": "3023c262",
   "metadata": {},
   "outputs": [],
   "source": []
  },
  {
   "cell_type": "markdown",
   "id": "e65c12d6",
   "metadata": {},
   "source": [
    "### Reference"
   ]
  },
  {
   "cell_type": "markdown",
   "id": "41b773a8",
   "metadata": {},
   "source": [
    "Scikit-learn.org. (2012). 3.2. Tuning the hyper-parameters of an estimator — scikit-learn 0.22 documentation. [online] Available at: https://scikit-learn.org/stable/modules/grid_search.html [Accessed 19 Nov. 2023].\n",
    "\n",
    "Müller, A. C. and Guido, S. (2017). Introduction to machine learning with Python: a guide for data scientists. 1st ed. United States of America. O’reilly Media.\n",
    "\n"
   ]
  },
  {
   "cell_type": "code",
   "execution_count": null,
   "id": "032d999b",
   "metadata": {},
   "outputs": [],
   "source": []
  }
 ],
 "metadata": {
  "kernelspec": {
   "display_name": "Python 3 (ipykernel)",
   "language": "python",
   "name": "python3"
  },
  "language_info": {
   "codemirror_mode": {
    "name": "ipython",
    "version": 3
   },
   "file_extension": ".py",
   "mimetype": "text/x-python",
   "name": "python",
   "nbconvert_exporter": "python",
   "pygments_lexer": "ipython3",
   "version": "3.11.4"
  }
 },
 "nbformat": 4,
 "nbformat_minor": 5
}
